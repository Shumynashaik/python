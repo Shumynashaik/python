{
 "cells": [
  {
   "cell_type": "code",
   "execution_count": null,
   "id": "f92805b2-7ca8-4dc9-9998-84566d4a2731",
   "metadata": {},
   "outputs": [],
   "source": [
    "a=20\n",
    "b=10\n",
    "c=a+b# shift+enter for executing\n",
    "c"
   ]
  },
  {
   "cell_type": "markdown",
   "id": "74794362-8eb6-4bbf-a437-b56a36d02e64",
   "metadata": {},
   "source": [
    "don't click  on run name click on play symbol \n",
    "IN THE JUPYTER NOTE BOOK \r\n",
    "we have two types of notes\r\n",
    "1.codemode: is used to write the code,before the cell square bracket [] is visible\r\n",
    "2.markdown mode:is used to write the story ,befire story we dont have squre brackets\r\n"
   ]
  },
  {
   "cell_type": "markdown",
   "id": "57e54dda-4be8-4ed0-b9b4-84cf56683477",
   "metadata": {},
   "source": [
    "# python\n",
    "markdown:esc+m\n",
    "code mode:esc+y"
   ]
  },
  {
   "cell_type": "markdown",
   "id": "9c41f63a-23b8-42c8-b7b0-00a6ab11201b",
   "metadata": {},
   "source": [
    "# python\n",
    "## Python\n",
    "### python"
   ]
  },
  {
   "cell_type": "markdown",
   "id": "89f387b3-4154-4484-90b7-10b272bced81",
   "metadata": {},
   "source": [
    "- today i lernt how to use jupyter notebook\n",
    "\n",
    "- i created folder for python\n",
    "\n",
    "- tomorrow onwards i will open all my python notebboks in jupyter notebook \n",
    "\n",
    "- i understood about kernel\n",
    "\n",
    "- when kernel is busy i will not run other code cell\n",
    "\n",
    "- because python kernel will run step by step\n",
    "\n",
    "- i also learned how to run the code cell using shift+enter\n",
    "\n",
    "- i also learned how to write the story in jupyter note book\n",
    "\n",
    "- this is called markdown mode\n",
    "\n",
    "- esc+m is the shortcut to codemode to markdown mode\n",
    "\n",
    "- esc+y is the shortcut to markdown mode to codemode\n",
    "\n"
   ]
  },
  {
   "cell_type": "markdown",
   "id": "e4407164-6d6d-4b3d-91da-82248522e09f",
   "metadata": {},
   "source": [
    "<img src=\"https://encrypted-tbn0.gstatic.com/images?q=tbn:ANd9GcQe9UcsgVeuGoXRdLRXB5l0kGN5aSWJTbVoKA&amp;s\" jsaction=\"VQAsE\" class=\"sFlh5c ag2Pqd pT0Scc\" alt=\"Project Jupyter - Wikipedia\" jsname=\"JuXqh\" style=\"max-width: 1200px; position: absolute; visibility: hidden;\" data-ilt=\"1718681434631\">\n"
   ]
  },
  {
   "cell_type": "markdown",
   "id": "1a3d3a5c-ff53-4d9d-966b-bc205a334c3b",
   "metadata": {},
   "source": [
    "<img src=\"https://encrypted-tbn0.gstatic.com/images?q=tbn:ANd9GcQe9UcsgVeuGoXRdLRXB5l0kGN5aSWJTbVoKA&amp;s\" jsaction=\"VQAsE\" class=\"sFlh5c ag2Pqd pT0Scc\" alt=\"Project Jupyter - Wikipedia\" jsname=\"JuXqh\" style=\"max-width: 1200px; position: absolute; visibility: hidden;\" data-ilt=\"1718681434631\">"
   ]
  },
  {
   "cell_type": "markdown",
   "id": "5a655c27-0de3-40d0-be07-45b800a9b312",
   "metadata": {},
   "source": [
    "<img src=\"https://encrypted-tbn0.gstatic.com/images?q=tbn:ANd9GcQe9UcsgVeuGoXRdLRXB5l0kGN5aSWJTbVoKA&amp;s\" jsaction=\"VQAsE\" class=\"sFlh5c ag2Pqd pT0Scc\" alt=\"Project Jupyter - Wikipedia\" jsname=\"JuXqh\" style=\"max-width: 1200px; position: absolute; visibility: hidden;\" data-ilt=\"1718681434631\">m"
   ]
  },
  {
   "cell_type": "markdown",
   "id": "a7edb38e-3a6b-4978-9c51-ce8ba9865c3f",
   "metadata": {},
   "source": [
    "<img src=\"https://static.vecteezy.com/system/resources/previews/020/639/983/original/minimalist-floral-frame-with-hand-drawn-leaf-and-shape-simple-floral-border-free-png.png\" jsaction=\"VQAsE\" class=\"sFlh5c pT0Scc iPVvYb\" style=\"max-width: 1920px; height: 291px; margin: 0px; width: 321px;\" alt=\"Minimalist floral frame with hand drawn leaf and shape simple floral border  20639983 PNG\" jsname=\"kn3ccd\" aria-hidden=\"false\">"
   ]
  },
  {
   "cell_type": "markdown",
   "id": "0e42c867-0e65-4d91-a92f-e57a58929002",
   "metadata": {},
   "source": [
    "# steps to print photo\n",
    "- frist choose img from google\n",
    "- later right click and inspect the img\n",
    "- after again right click to copy the html code\n",
    "- come to jupyter note book and paste it \n",
    "- later change into markdown mode (esc+m)\n",
    "- click shift+enter for executing"
   ]
  },
  {
   "cell_type": "code",
   "execution_count": null,
   "id": "85aa722c-a6f8-4e59-9e70-a5377b4cff96",
   "metadata": {},
   "outputs": [],
   "source": []
  }
 ],
 "metadata": {
  "kernelspec": {
   "display_name": "Python 3 (ipykernel)",
   "language": "python",
   "name": "python3"
  },
  "language_info": {
   "codemirror_mode": {
    "name": "ipython",
    "version": 3
   },
   "file_extension": ".py",
   "mimetype": "text/x-python",
   "name": "python",
   "nbconvert_exporter": "python",
   "pygments_lexer": "ipython3",
   "version": "3.11.7"
  }
 },
 "nbformat": 4,
 "nbformat_minor": 5
}
