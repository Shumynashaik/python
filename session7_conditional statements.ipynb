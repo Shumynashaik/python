{
 "cells": [
  {
   "cell_type": "markdown",
   "id": "5e1826f8-48f6-42e8-b121-2314a6ec5d8f",
   "metadata": {},
   "source": [
    "**conditional statements**"
   ]
  },
  {
   "cell_type": "markdown",
   "id": "7425df7b-322a-4c94-a20d-7175ea5b4001",
   "metadata": {},
   "source": [
    "- conditional statements means we want to run the code lines based on condition\n",
    "-  if is a conditional statement,it will check the codition is True or False "
   ]
  },
  {
   "cell_type": "markdown",
   "id": "a05bbd71-2d5c-4cbd-8757-4f058f0d386a",
   "metadata": {},
   "source": [
    "### IF STATEMENT:"
   ]
  },
  {
   "cell_type": "code",
   "execution_count": null,
   "id": "51ebb979-0264-401b-a7e7-e6fd0040c9e6",
   "metadata": {},
   "outputs": [],
   "source": [
    "# syntax\n",
    "if <condition>:\n",
    "    <statements>\n",
    "    ....\n",
    "    "
   ]
  },
  {
   "cell_type": "markdown",
   "id": "25fe0285-9824-4d31-97d4-e9be6943c4a6",
   "metadata": {},
   "source": [
    "-  whenever any linestarts with keyword(green) at the end we have colon\n",
    "- whenever we have colon(:) the next line starts with some gap\n",
    "- and this gap is called **indentation**\n",
    "- how many lines are maintianing gap that all are under one area\n",
    "\n"
   ]
  },
  {
   "cell_type": "code",
   "execution_count": 5,
   "id": "eee72bb7-a5f4-45ec-91ea-982383cc0158",
   "metadata": {},
   "outputs": [
    {
     "name": "stdout",
     "output_type": "stream",
     "text": [
      "hello\n"
     ]
    }
   ],
   "source": [
    "if 100>10:\n",
    "    print(\"hello\")"
   ]
  },
  {
   "cell_type": "code",
   "execution_count": 10,
   "id": "e897def6-d01b-4f4e-b5f5-e1d9a8f49d63",
   "metadata": {},
   "outputs": [
    {
     "ename": "IndentationError",
     "evalue": "expected an indented block after 'if' statement on line 1 (3663483495.py, line 2)",
     "output_type": "error",
     "traceback": [
      "\u001b[1;36m  Cell \u001b[1;32mIn[10], line 2\u001b[1;36m\u001b[0m\n\u001b[1;33m    print(\"hello\")\u001b[0m\n\u001b[1;37m    ^\u001b[0m\n\u001b[1;31mIndentationError\u001b[0m\u001b[1;31m:\u001b[0m expected an indented block after 'if' statement on line 1\n"
     ]
    }
   ],
   "source": [
    "if 100>10:\n",
    "print(\"hello\")# use tab or backspace to give indentation"
   ]
  },
  {
   "cell_type": "markdown",
   "id": "6ecb37c6-3547-471f-926b-0d43cc9c9782",
   "metadata": {},
   "source": [
    "### INDENTATION REQUIRES 4 CHARACTER SPACES"
   ]
  },
  {
   "cell_type": "code",
   "execution_count": 28,
   "id": "a2e85aab-61fd-4123-9b03-2527bb621934",
   "metadata": {},
   "outputs": [
    {
     "name": "stdin",
     "output_type": "stream",
     "text": [
      "enter the number 12\n"
     ]
    },
    {
     "name": "stdout",
     "output_type": "stream",
     "text": [
      "the value is true\n"
     ]
    }
   ],
   "source": [
    "n1=eval(input(\"enter the number\"))\n",
    "if n1<=100:\n",
    "    print(\"the value is true\")\n",
    "else:\n",
    "    print(\"false\")"
   ]
  },
  {
   "cell_type": "markdown",
   "id": "862d705d-0083-4142-80ec-1e6ff2fe987d",
   "metadata": {},
   "source": [
    "- mistake1: **indentation**\n",
    "- mistake2: **colon(:)**\n",
    "- mistake3: **expect a condition**\n",
    "- mistake4: **missing brackets**\n",
    "- mistake5: **never assign [print as variable**\n",
    "  "
   ]
  },
  {
   "cell_type": "code",
   "execution_count": 25,
   "id": "ed5101d4-44b5-49a8-891a-117fbdd70b22",
   "metadata": {},
   "outputs": [
    {
     "name": "stdout",
     "output_type": "stream",
     "text": [
      "hello\n",
      "shumyna\n",
      "bye\n"
     ]
    }
   ],
   "source": [
    "if 100>10:\n",
    "    print(\"hello\")\n",
    "    print(\"shumyna\")\n",
    "print(\"bye\")"
   ]
  },
  {
   "cell_type": "code",
   "execution_count": 26,
   "id": "0f91af18-8d22-4847-9518-cbdf7449bef7",
   "metadata": {},
   "outputs": [
    {
     "name": "stdout",
     "output_type": "stream",
     "text": [
      "10\n",
      "20\n",
      "hello\n",
      "hello\n"
     ]
    }
   ],
   "source": [
    "print(10)\n",
    "print(20)\n",
    "if 100>10:\n",
    "    print(\"hello\")\n",
    "\n",
    "print(\"hello\")"
   ]
  },
  {
   "cell_type": "code",
   "execution_count": 29,
   "id": "3bf0c6d4-ac12-45b3-98a2-df9f22e0eadf",
   "metadata": {},
   "outputs": [
    {
     "name": "stdout",
     "output_type": "stream",
     "text": [
      "10\n",
      "20\n",
      "hello\n",
      "hello\n"
     ]
    }
   ],
   "source": [
    "print(10)\n",
    "print(20)\n",
    "if True:\n",
    "    print(\"hello\")\n",
    "print(\"hello\")"
   ]
  },
  {
   "cell_type": "code",
   "execution_count": 30,
   "id": "f96247c7-b30e-47c5-a05d-d80ecbcbd4a3",
   "metadata": {},
   "outputs": [
    {
     "name": "stdout",
     "output_type": "stream",
     "text": [
      "10\n",
      "20\n",
      "hello\n"
     ]
    }
   ],
   "source": [
    "print(10)\n",
    "print(20)\n",
    "if 100<10:\n",
    "    print(\"hello\")\n",
    "\n",
    "print(\"hello\")"
   ]
  },
  {
   "cell_type": "code",
   "execution_count": 35,
   "id": "0f6ba7fa-fb16-4928-b483-953e00d2d3ec",
   "metadata": {},
   "outputs": [
    {
     "name": "stdout",
     "output_type": "stream",
     "text": [
      "10\n",
      "20\n",
      "shummi\n"
     ]
    }
   ],
   "source": [
    "print(10)\n",
    "print(20)\n",
    "if False:\n",
    "    print(\"hello\")\n",
    "print(\"shummi\")"
   ]
  },
  {
   "cell_type": "code",
   "execution_count": 32,
   "id": "68a06b27-475f-4829-a75c-f1ec2832bdaa",
   "metadata": {},
   "outputs": [
    {
     "name": "stdout",
     "output_type": "stream",
     "text": [
      "10\n",
      "20\n",
      "hello\n",
      "hello\n"
     ]
    }
   ],
   "source": [
    "print(10)\n",
    "print(20)\n",
    "if 100:\n",
    "    print(\"hello\")\n",
    "\n",
    "print(\"hello\")"
   ]
  },
  {
   "cell_type": "code",
   "execution_count": 34,
   "id": "2497b6ea-7b5d-4248-b784-c48ad4ba830b",
   "metadata": {},
   "outputs": [
    {
     "name": "stdout",
     "output_type": "stream",
     "text": [
      "10\n",
      "20\n",
      "shummi\n"
     ]
    }
   ],
   "source": [
    "print(10)\n",
    "print(20)\n",
    "if 0:\n",
    "    print(\"hello\")\n",
    "\n",
    "print(\"shummi\")"
   ]
  },
  {
   "cell_type": "code",
   "execution_count": 36,
   "id": "e989503e-6821-4728-9200-d01dd0f7899a",
   "metadata": {},
   "outputs": [
    {
     "name": "stdout",
     "output_type": "stream",
     "text": [
      "10\n",
      "20\n",
      "shummi\n"
     ]
    }
   ],
   "source": [
    "print(10)\n",
    "print(20)\n",
    "if '':\n",
    "    print(\"hello\")\n",
    "\n",
    "print(\"shummi\")"
   ]
  },
  {
   "cell_type": "code",
   "execution_count": 37,
   "id": "5fc2adfb-8ca1-45a4-a299-125a4882085c",
   "metadata": {},
   "outputs": [
    {
     "name": "stdout",
     "output_type": "stream",
     "text": [
      "10\n",
      "20\n",
      "hello\n",
      "shummi\n"
     ]
    }
   ],
   "source": [
    "print(10)\n",
    "print(20)\n",
    "if 'hello':\n",
    "    print(\"hello\")\n",
    "\n",
    "print(\"shummi\")"
   ]
  },
  {
   "cell_type": "markdown",
   "id": "c3a4dc75-8d86-4095-ab99-bbeea7538864",
   "metadata": {},
   "source": [
    "### IF-ELSE STATEMENT\n",
    "- if requires condition\n",
    "- if that condition is true,thenit will execute if block\n",
    "- otherwise it can direct;y go to th else block\n",
    "- so else block does not requires condition "
   ]
  },
  {
   "cell_type": "code",
   "execution_count": null,
   "id": "65a937f9-0755-42f0-931f-68745d2d8c91",
   "metadata": {},
   "outputs": [],
   "source": [
    "# syntax\n",
    "if <condition>:\n",
    "    <statements>\n",
    "    \n",
    "else:\n",
    "    <statement>"
   ]
  },
  {
   "cell_type": "code",
   "execution_count": 38,
   "id": "80208aaa-1388-4309-b7e0-fcd1f6a013e8",
   "metadata": {},
   "outputs": [
    {
     "name": "stdin",
     "output_type": "stream",
     "text": [
      "enter the number 7\n"
     ]
    },
    {
     "name": "stdout",
     "output_type": "stream",
     "text": [
      "the value is true\n"
     ]
    }
   ],
   "source": [
    "n1=eval(input(\"enter the number\"))\n",
    "if n1<=100:\n",
    "    print(\"the value is true\")\n",
    "else:\n",
    "    print(\"false\")"
   ]
  },
  {
   "cell_type": "code",
   "execution_count": 39,
   "id": "ddc1e0e7-ffc8-4c34-a61d-32b366e3e810",
   "metadata": {},
   "outputs": [
    {
     "name": "stdout",
     "output_type": "stream",
     "text": [
      "the value is true\n"
     ]
    }
   ],
   "source": [
    "\n",
    "if 100:\n",
    "    print(\"the value is true\")\n",
    "else:\n",
    "    print(\"false\")"
   ]
  },
  {
   "cell_type": "code",
   "execution_count": 40,
   "id": "952efd9d-0025-40cb-81a5-bfcc73e61940",
   "metadata": {},
   "outputs": [
    {
     "name": "stdout",
     "output_type": "stream",
     "text": [
      "the value is true\n"
     ]
    }
   ],
   "source": [
    "if 100>10:\n",
    "    print(\"the value is true\")\n",
    "else:\n",
    "    print(\"false\")"
   ]
  },
  {
   "cell_type": "code",
   "execution_count": 41,
   "id": "8e118800-82e9-42eb-92eb-bb1bea46052a",
   "metadata": {},
   "outputs": [
    {
     "name": "stdout",
     "output_type": "stream",
     "text": [
      "the value is true\n"
     ]
    }
   ],
   "source": [
    "if \"shumyna\":\n",
    "    print(\"the value is true\")\n",
    "else:\n",
    "    print(\"false\")"
   ]
  },
  {
   "cell_type": "code",
   "execution_count": 42,
   "id": "8cd8a3e2-c815-46da-9cd5-8620b16482f4",
   "metadata": {},
   "outputs": [
    {
     "name": "stdout",
     "output_type": "stream",
     "text": [
      "false\n"
     ]
    }
   ],
   "source": [
    "if \"\":\n",
    "    print(\"the value is true\")\n",
    "else:\n",
    "    print(\"false\")"
   ]
  },
  {
   "cell_type": "code",
   "execution_count": 43,
   "id": "ecb5c547-38ee-487a-946c-ddbde636c086",
   "metadata": {},
   "outputs": [
    {
     "name": "stdout",
     "output_type": "stream",
     "text": [
      "false\n"
     ]
    }
   ],
   "source": [
    "if 0:\n",
    "    print(\"the value is true\")\n",
    "else:\n",
    "    print(\"false\")"
   ]
  },
  {
   "cell_type": "code",
   "execution_count": 44,
   "id": "5019f13a-1a76-40e1-a146-a8cc45d5e153",
   "metadata": {},
   "outputs": [
    {
     "ename": "SyntaxError",
     "evalue": "invalid syntax (518696091.py, line 5)",
     "output_type": "error",
     "traceback": [
      "\u001b[1;36m  Cell \u001b[1;32mIn[44], line 5\u001b[1;36m\u001b[0m\n\u001b[1;33m    else:\u001b[0m\n\u001b[1;37m    ^\u001b[0m\n\u001b[1;31mSyntaxError\u001b[0m\u001b[1;31m:\u001b[0m invalid syntax\n"
     ]
    }
   ],
   "source": [
    "print(\"shumyna\")\n",
    "if 100>10:\n",
    "    print(\"the value is true\")\n",
    "print(\"hello\")\n",
    "else:\n",
    "    print(\"false\")"
   ]
  },
  {
   "cell_type": "code",
   "execution_count": 45,
   "id": "0671ccbe-90a8-4c0e-aa65-0db3ed3e07e9",
   "metadata": {},
   "outputs": [
    {
     "name": "stdout",
     "output_type": "stream",
     "text": [
      "10\n",
      "0\n",
      "10\n",
      "0.0\n"
     ]
    },
    {
     "ename": "ZeroDivisionError",
     "evalue": "division by zero",
     "output_type": "error",
     "traceback": [
      "\u001b[1;31m---------------------------------------------------------------------------\u001b[0m",
      "\u001b[1;31mZeroDivisionError\u001b[0m                         Traceback (most recent call last)",
      "Cell \u001b[1;32mIn[45], line 10\u001b[0m\n\u001b[0;32m      8\u001b[0m d\u001b[38;5;241m=\u001b[39mb\u001b[38;5;241m/\u001b[39ma\n\u001b[0;32m      9\u001b[0m \u001b[38;5;28mprint\u001b[39m(d)\n\u001b[1;32m---> 10\u001b[0m e\u001b[38;5;241m=\u001b[39ma\u001b[38;5;241m/\u001b[39mb\n\u001b[0;32m     11\u001b[0m \u001b[38;5;28mprint\u001b[39m(e)\n",
      "\u001b[1;31mZeroDivisionError\u001b[0m: division by zero"
     ]
    }
   ],
   "source": [
    "if True:\n",
    "    a=10\n",
    "    b=0\n",
    "    print(a)\n",
    "    print(b)\n",
    "    c=a+b\n",
    "    print(c)\n",
    "    d=b/a\n",
    "    print(d)\n",
    "    e=a/b\n",
    "    print(e)"
   ]
  },
  {
   "cell_type": "markdown",
   "id": "9b07473c-18af-4d2a-b0c0-17c28cdc7ab3",
   "metadata": {},
   "source": [
    "- **// floor division (gives quotiont in output)**\n",
    "- **% modulus operator(GIVES REMINDER IN OUTPUT)**\n"
   ]
  },
  {
   "cell_type": "code",
   "execution_count": 50,
   "id": "d7b0588e-41ea-452f-8a00-87ee7c5666a9",
   "metadata": {},
   "outputs": [
    {
     "name": "stdin",
     "output_type": "stream",
     "text": [
      "enter the number 7\n"
     ]
    },
    {
     "name": "stdout",
     "output_type": "stream",
     "text": [
      "the value is odd \n"
     ]
    }
   ],
   "source": [
    "n1=eval(input(\"enter the number\"))\n",
    "if n1%2==0:\n",
    "    print(\"the value is even\")\n",
    "else:\n",
    "    print(\"the value is odd \")"
   ]
  },
  {
   "cell_type": "code",
   "execution_count": 4,
   "id": "11523973-7fdd-464f-8574-1c3bdbc74618",
   "metadata": {},
   "outputs": [
    {
     "name": "stdout",
     "output_type": "stream",
     "text": [
      "the value of 59 is odd \n"
     ]
    }
   ],
   "source": [
    "import random\n",
    "n1= random.randint(1,100)\n",
    "if n1%2==0:\n",
    "    print(f\"the value of {n1} is even\")\n",
    "else:\n",
    "    print(f\"the value of {n1} is odd \")"
   ]
  },
  {
   "cell_type": "code",
   "execution_count": 2,
   "id": "db08cbfa-1929-4996-9ba5-77f44ecf3003",
   "metadata": {},
   "outputs": [
    {
     "name": "stdin",
     "output_type": "stream",
     "text": [
      "enter start value: 3\n",
      "enter end value 4\n"
     ]
    },
    {
     "name": "stdout",
     "output_type": "stream",
     "text": [
      "the value of 4 is even\n"
     ]
    }
   ],
   "source": [
    "import random\n",
    "start=eval(input(\"enter start value:\"))\n",
    "end=eval(input(\"enter end value\"))\n",
    "n1=random.randint(start,end)\n",
    "if n1%2==0:\n",
    "    print(f\"the value of {n1} is even\")\n",
    "else:\n",
    "    print(f\"the value of {n1} is odd \")"
   ]
  },
  {
   "cell_type": "code",
   "execution_count": 3,
   "id": "f5211f6e-b642-4ea9-9531-5d034e03c076",
   "metadata": {},
   "outputs": [
    {
     "name": "stdin",
     "output_type": "stream",
     "text": [
      "enter the start value: 5\n",
      "enter the end value: 6\n"
     ]
    },
    {
     "name": "stdout",
     "output_type": "stream",
     "text": [
      "the 6 is even\n"
     ]
    }
   ],
   "source": [
    "import random \n",
    "start=eval(input(\"enter the start value:\")) \n",
    "end=eval(input(\"enter the end value:\")) \n",
    "num=random.randint(start,end) \n",
    "if num%2==0: \n",
    " print(f\"the {num} is even\") \n",
    "else: \n",
    " print(f\"the {num} is odd\") \n"
   ]
  },
  {
   "cell_type": "markdown",
   "id": "2f7e18db-6763-4bed-8713-233a0dff6ec0",
   "metadata": {},
   "source": [
    "- we are providing values means it is hard coded\n",
    "- code shouldbe always generic,without hard coding"
   ]
  },
  {
   "cell_type": "code",
   "execution_count": 3,
   "id": "b47d12db-dd12-49b4-9a22-eb4cdf0f6a29",
   "metadata": {},
   "outputs": [
    {
     "name": "stdin",
     "output_type": "stream",
     "text": [
      "enter distance 10\n"
     ]
    },
    {
     "name": "stdout",
     "output_type": "stream",
     "text": [
      "enjoy\n"
     ]
    }
   ],
   "source": [
    "n1=eval(input(\"enter distance\"))\n",
    "if n1>=25:\n",
    "    n2= eval(input(\"enter the cost\"))\n",
    "    n3= n1*n2\n",
    "    print(f'the total cost is {n3}')\n",
    "else:\n",
    "    print(\"enjoy\")\n",
    "\n",
    "\n",
    "    "
   ]
  },
  {
   "cell_type": "code",
   "execution_count": 5,
   "id": "addfef19-8970-4d7d-b1a5-47b0b8007d72",
   "metadata": {},
   "outputs": [
    {
     "name": "stdin",
     "output_type": "stream",
     "text": [
      "enter distance 45\n",
      "enter the cost 1000\n"
     ]
    },
    {
     "name": "stdout",
     "output_type": "stream",
     "text": [
      "the total cost is 20000\n"
     ]
    }
   ],
   "source": [
    "n1=eval(input(\"enter distance\"))\n",
    "if n1>=25:\n",
    "    n2= eval(input(\"enter the cost\"))\n",
    "    n3= (n1-25)*n2\n",
    "    print(f'the total cost is {n3}')\n",
    "else:\n",
    "    print(\"free ride\")\n",
    "\n",
    "    "
   ]
  },
  {
   "cell_type": "code",
   "execution_count": 16,
   "id": "4cf69f08-7edd-4501-b3e9-8152a159e759",
   "metadata": {},
   "outputs": [
    {
     "name": "stdin",
     "output_type": "stream",
     "text": [
      " data sience\n",
      " nareshit\n"
     ]
    },
    {
     "name": "stdout",
     "output_type": "stream",
     "text": [
      "your bad\n"
     ]
    }
   ],
   "source": [
    "course=input('')\n",
    "institute=input('')\n",
    "if course=='datascience' and institute=='nareshit':\n",
    "    print(\"you are good\") \n",
    "else:\n",
    "    print(\"your bad\")"
   ]
  },
  {
   "cell_type": "code",
   "execution_count": 18,
   "id": "c6c9de54-08f8-4c17-b591-11088400c8e6",
   "metadata": {},
   "outputs": [
    {
     "name": "stdin",
     "output_type": "stream",
     "text": [
      " datascience\n",
      " levelup\n"
     ]
    },
    {
     "name": "stdout",
     "output_type": "stream",
     "text": [
      "you are good\n"
     ]
    }
   ],
   "source": [
    "course=input('')\n",
    "institute=input('')\n",
    "if course=='datascience' or institute=='nareshit':\n",
    "    print(\"you are good\") \n",
    "else:\n",
    "    print(\"your bad\")"
   ]
  },
  {
   "cell_type": "markdown",
   "id": "599a5e35-8e0b-4182-ae9b-b7f96bae969a",
   "metadata": {},
   "source": [
    "- **and** means 2 conditions needs to satisfy\n",
    "- **or** means 1 condition is satisfied"
   ]
  },
  {
   "cell_type": "code",
   "execution_count": 24,
   "id": "2a18e54f-fb9b-4cf6-8134-8c2e75907f83",
   "metadata": {},
   "outputs": [
    {
     "name": "stdin",
     "output_type": "stream",
     "text": [
      " 6\n"
     ]
    },
    {
     "name": "stdout",
     "output_type": "stream",
     "text": [
      "lost\n",
      "8\n"
     ]
    }
   ],
   "source": [
    "import random\n",
    "n1= random.randint(1,10)\n",
    "n2= eval(input(\"\"))\n",
    "if n1==n2:\n",
    "    print(\"you won\")\n",
    "else:\n",
    "    print(\"lost\")\n",
    "print(n1)\n"
   ]
  },
  {
   "cell_type": "markdown",
   "id": "8666a128-cd63-4026-bf6d-00f70d81e257",
   "metadata": {},
   "source": [
    "### IF ELIF ELSE"
   ]
  },
  {
   "cell_type": "code",
   "execution_count": null,
   "id": "e485dbdb-835a-4e15-9dbc-31001b8660bd",
   "metadata": {},
   "outputs": [],
   "source": [
    "#syntax\n",
    "if<condition>:\n",
    "    //statements\n",
    "elif<condition>:\n",
    "    //statements\n",
    "    ..\n",
    "else:\n",
    "    //statements\n",
    "    "
   ]
  },
  {
   "cell_type": "code",
   "execution_count": 25,
   "id": "b36a1650-c1f4-4075-9dc2-4e4cfd3e8378",
   "metadata": {},
   "outputs": [
    {
     "name": "stdin",
     "output_type": "stream",
     "text": [
      "enter the number 59\n"
     ]
    },
    {
     "name": "stdout",
     "output_type": "stream",
     "text": [
      "the value is odd \n"
     ]
    }
   ],
   "source": [
    "n1=eval(input(\"enter the number\"))\n",
    "if n1%2==0:\n",
    "    print(\"the value is even\")\n",
    "elif n1%2!=0:\n",
    "    print(\"the value is odd \")\n",
    "else:\n",
    "    print(\"i don't know\")\n"
   ]
  },
  {
   "cell_type": "code",
   "execution_count": 26,
   "id": "9cad311c-da5e-4c44-ac32-6b5d845d512f",
   "metadata": {},
   "outputs": [
    {
     "name": "stdin",
     "output_type": "stream",
     "text": [
      "enter the number 8\n"
     ]
    },
    {
     "name": "stdout",
     "output_type": "stream",
     "text": [
      "i don't know\n"
     ]
    }
   ],
   "source": [
    "n1=eval(input(\"enter the number\"))\n",
    "if n1==1:\n",
    "    print(\"the value is 1\")\n",
    "elif n1==2:\n",
    "    print(\"the value is 2 \")\n",
    "elif n1==3:\n",
    "    print(\"the value is 3 \")\n",
    "else:\n",
    "    print(\"i don't know\")\n"
   ]
  },
  {
   "cell_type": "code",
   "execution_count": 27,
   "id": "90e1eaf2-9fd5-45bd-90b0-ddc80a592949",
   "metadata": {},
   "outputs": [
    {
     "name": "stdin",
     "output_type": "stream",
     "text": [
      "enter the number 3\n"
     ]
    },
    {
     "name": "stdout",
     "output_type": "stream",
     "text": [
      "the value is 3 \n"
     ]
    }
   ],
   "source": [
    "n1=eval(input(\"enter the number\"))\n",
    "if n1==1:print(\"the value is 1\")\n",
    "elif n1==2:print(\"the value is 2 \")\n",
    "elif n1==3:print(\"the value is 3 \")\n",
    "else:print(\"i don't know\")\n"
   ]
  },
  {
   "cell_type": "code",
   "execution_count": 29,
   "id": "73510efb-4a41-4846-915a-c0651b79c26d",
   "metadata": {},
   "outputs": [
    {
     "name": "stdin",
     "output_type": "stream",
     "text": [
      "enter the number 4\n"
     ]
    },
    {
     "name": "stdout",
     "output_type": "stream",
     "text": [
      "the number is positive\n"
     ]
    }
   ],
   "source": [
    "n1=eval(input(\"enter the number\"))\n",
    "if n1>0:\n",
    "    print(\"the number is positive\")\n",
    "elif n1<0:\n",
    "    print(\"the number is negative\")\n",
    "else:\n",
    "    print('0')"
   ]
  },
  {
   "cell_type": "code",
   "execution_count": 38,
   "id": "f95afd62-d054-4f5d-b1bf-7ed9e08e09ed",
   "metadata": {},
   "outputs": [
    {
     "name": "stdin",
     "output_type": "stream",
     "text": [
      "percentage: 100\n"
     ]
    },
    {
     "name": "stdout",
     "output_type": "stream",
     "text": [
      "A\n"
     ]
    }
   ],
   "source": [
    "n1=eval(input(\"percentage:\"))\n",
    "if n1>=90:\n",
    "    print('A')\n",
    "elif n1>=75:\n",
    "    print('B')\n",
    "elif n1>=50:\n",
    "    print('C')\n",
    "elif n1>=35:\n",
    "    print('D')\n",
    "else:\n",
    "    print('fail')\n"
   ]
  },
  {
   "cell_type": "code",
   "execution_count": 45,
   "id": "1b9813a1-c297-4dd6-ab65-61d83c45c5fb",
   "metadata": {},
   "outputs": [
    {
     "name": "stdin",
     "output_type": "stream",
     "text": [
      "age: 50\n"
     ]
    },
    {
     "name": "stdout",
     "output_type": "stream",
     "text": [
      "senior citizen\n"
     ]
    }
   ],
   "source": [
    "age=eval(input('age:'))\n",
    "if age>=75:\n",
    "    print(\"old age\")\n",
    "elif age>=50:\n",
    "    print(\"senior citizen\")\n",
    "elif age>=30:\n",
    "    print(\"middle age\")\n",
    "elif age>=15:\n",
    "    print(\"young age\")\n",
    "else:\n",
    "    print(\"kid\")"
   ]
  },
  {
   "cell_type": "code",
   "execution_count": 20,
   "id": "d1a8cf2b-ba3f-4bdb-96ce-1454de6a5ff8",
   "metadata": {},
   "outputs": [
    {
     "name": "stdin",
     "output_type": "stream",
     "text": [
      "num1: 3\n",
      "num2 4\n"
     ]
    },
    {
     "name": "stdout",
     "output_type": "stream",
     "text": [
      " enter operation1 for addition \n",
      "      enter operation2 for subraction\n",
      "enter operation3 for multiplication\n",
      "enter operation4 for division\n"
     ]
    },
    {
     "name": "stdin",
     "output_type": "stream",
     "text": [
      "enetr a choice of operation between 1 to 4 4\n"
     ]
    },
    {
     "name": "stdout",
     "output_type": "stream",
     "text": [
      "0.75\n"
     ]
    }
   ],
   "source": [
    "num1=eval(input(\"num1:\"))\n",
    "num2=eval(input(\"num2\"))\n",
    "print(\"\"\" enter operation1 for addition \n",
    "      enter operation2 for subraction\n",
    "enter operation3 for multiplication\n",
    "enter operation4 for division\"\"\")\n",
    "user_input=eval(input(\"enetr a choice of operation between 1 to 4\"))\n",
    "if user_input==1:\n",
    "    print(num1+num2)\n",
    "elif user_input2==2:\n",
    "    print(num1-num2)\n",
    "elif user_input3==3:\n",
    "    print(num1*num2)\n",
    "else:\n",
    "    print(num1/num2)\n",
    "\n",
    "    \n",
    "   \n",
    "\n",
    "    \n"
   ]
  },
  {
   "cell_type": "code",
   "execution_count": 24,
   "id": "0ead27d1-df4d-4039-9867-8955ef83a1fc",
   "metadata": {},
   "outputs": [
    {
     "name": "stdin",
     "output_type": "stream",
     "text": [
      "enter thegender: female\n",
      "age: 60\n"
     ]
    },
    {
     "name": "stdout",
     "output_type": "stream",
     "text": [
      "senior citizen\n"
     ]
    }
   ],
   "source": [
    "gender=input(\"enter thegender:\")\n",
    "if gender=='male':\n",
    "    user_input=eval(input(\"age:\"))\n",
    "    if user_input>=60:\n",
    "        print(\"senior citizen\")\n",
    "    elif user_input>=30: \n",
    "        print(\"ma man\")\n",
    "    elif user_input>=15:\n",
    "        print(\"young man\")\n",
    "    else:\n",
    "        print(\"boy\")\n",
    "elif gender=='female':\n",
    "    user_input=eval(input(\"age:\"))\n",
    "    if user_input>=60:\n",
    "        print(\"senior citizen\")\n",
    "    elif user_input>=30: \n",
    "        print(\"ma woman\")\n",
    "    elif user_input>=15:\n",
    "        print(\"young woman\")\n",
    "    else:\n",
    "        print(\"girl\")\n",
    "else:\n",
    "    print(\"valid gender\")"
   ]
  },
  {
   "cell_type": "code",
   "execution_count": 27,
   "id": "9c340e2f-e94d-4eb3-8884-978b1c79b85d",
   "metadata": {},
   "outputs": [
    {
     "name": "stdin",
     "output_type": "stream",
     "text": [
      "enter a number -1\n"
     ]
    },
    {
     "name": "stdout",
     "output_type": "stream",
     "text": [
      "negative\n"
     ]
    }
   ],
   "source": [
    "num=eval(input(\"enter a number\"))\n",
    "if num>=0:\n",
    "    if num==0:\n",
    "        print(\"zero\")\n",
    "    else:\n",
    "        print(\"positive\")\n",
    "else:\n",
    "    print(\"negative\")"
   ]
  },
  {
   "cell_type": "code",
   "execution_count": null,
   "id": "b1c2b4fa-d38b-42a5-91bb-fd9bdc85cfc2",
   "metadata": {},
   "outputs": [],
   "source": [
    "# take 3 nums\n",
    "#num1 num2 mun3\n",
    "# find the max value"
   ]
  },
  {
   "cell_type": "code",
   "execution_count": null,
   "id": "aa7883b2-36cd-4084-b936-8bbec7570d3d",
   "metadata": {},
   "outputs": [],
   "source": [
    "num1=eval(input(\"enter a number:\"))\n",
    "num2=eval(input(\"enter a number:\"))\n",
    "num3=eval(input(\"enter a number:\"))\n",
    "if num1>=num2 and num1>=num3:\n",
    "    print(f\"the max value is {num1}\")\n",
    "elif num2>=num1 and num2>=num3:\n",
    "    "
   ]
  },
  {
   "cell_type": "code",
   "execution_count": 1,
   "id": "aafe0175-6ac5-4df8-8308-25b8aa5177c5",
   "metadata": {},
   "outputs": [
    {
     "name": "stdin",
     "output_type": "stream",
     "text": [
      "enter the hour number 12\n",
      "am/pm 1\n",
      "enter the hour further you want to go 12\n"
     ]
    },
    {
     "name": "stdout",
     "output_type": "stream",
     "text": [
      "24\n",
      "12 pm\n"
     ]
    }
   ],
   "source": [
    "hour=eval(input(\"enter the hour number\"))\n",
    "time=input(\"am/pm\")\n",
    "future=eval(input(\"enter the hour further you want to go\"))\n",
    "future_time=hour+future\n",
    "print(future_time)\n",
    "if future_time > 12:\n",
    "    fut=future_time-12\n",
    "    print(fut,\"pm\")\n",
    "else:\n",
    "    print(future_time,'am')"
   ]
  },
  {
   "cell_type": "code",
   "execution_count": null,
   "id": "f7221a16-1bda-4153-ae18-3e12c94e7b10",
   "metadata": {},
   "outputs": [],
   "source": []
  }
 ],
 "metadata": {
  "kernelspec": {
   "display_name": "Python 3 (ipykernel)",
   "language": "python",
   "name": "python3"
  },
  "language_info": {
   "codemirror_mode": {
    "name": "ipython",
    "version": 3
   },
   "file_extension": ".py",
   "mimetype": "text/x-python",
   "name": "python",
   "nbconvert_exporter": "python",
   "pygments_lexer": "ipython3",
   "version": "3.11.7"
  }
 },
 "nbformat": 4,
 "nbformat_minor": 5
}
