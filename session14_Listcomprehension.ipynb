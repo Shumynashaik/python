{
 "cells": [
  {
   "cell_type": "markdown",
   "id": "1040ada1-dabf-4621-b263-ce8f118a0d0b",
   "metadata": {},
   "source": [
    "**ListComprehension**"
   ]
  },
  {
   "cell_type": "markdown",
   "id": "973ca1f7-5134-4b87-a85d-c8442ac9821e",
   "metadata": {},
   "source": [
    "- we can store the output values by using append operations\n",
    "- we are taking empty list\n",
    "- we are iterating elements from a given list\n",
    "- and the result we are appending in a new list"
   ]
  },
  {
   "cell_type": "code",
   "execution_count": 3,
   "id": "3d00d6f5-566d-4ed8-bec1-53a48ff9ad22",
   "metadata": {},
   "outputs": [
    {
     "data": {
      "text/plain": [
       "[0, 1, 4, 9, 16, 25, 36, 49, 64, 81]"
      ]
     },
     "execution_count": 3,
     "metadata": {},
     "output_type": "execute_result"
    }
   ],
   "source": [
    "square_list=[]\n",
    "for i in range(10):\n",
    "    square_list.append(i*i)\n",
    "square_list"
   ]
  },
  {
   "cell_type": "markdown",
   "id": "0ec66113-b565-4b30-87a9-69334fcb51de",
   "metadata": {},
   "source": [
    "- there are almost 3 lines are in the process\n",
    "- the 3 lines we can make into single line \n",
    "- this is called list comprehension"
   ]
  },
  {
   "cell_type": "markdown",
   "id": "b26bae73-3f63-46d0-a541-53091264bfb8",
   "metadata": {},
   "source": [
    "$pattren-1$"
   ]
  },
  {
   "cell_type": "markdown",
   "id": "6f634776-3070-48fb-bcba-9e99573bac79",
   "metadata": {},
   "source": [
    "**Only for loop**"
   ]
  },
  {
   "cell_type": "code",
   "execution_count": 5,
   "id": "b192e73b-a96a-4656-a393-91fad10930f8",
   "metadata": {},
   "outputs": [],
   "source": [
    "#syntax\n",
    "#[<output> <for loop>]"
   ]
  },
  {
   "cell_type": "code",
   "execution_count": 7,
   "id": "5b82c806-c4f6-4980-bed8-ccadeb1ae884",
   "metadata": {},
   "outputs": [
    {
     "data": {
      "text/plain": [
       "[0, 1, 4, 9, 16, 25, 36, 49, 64, 81]"
      ]
     },
     "execution_count": 7,
     "metadata": {},
     "output_type": "execute_result"
    }
   ],
   "source": [
    "square_list=[]\n",
    "for i in range(10):\n",
    "    square_list.append(i*i)\n",
    "square_list\n",
    "#q1)what is the output?i*i\n",
    "#q2) what is the output listname?square-list\n",
    "#q3) what is the for loop? for i in range(10)\n",
    "s_qlist=[i*i for i in range(10)]\n",
    "s_qlist"
   ]
  },
  {
   "cell_type": "code",
   "execution_count": 8,
   "id": "5d99ba59-a525-4130-abd7-4cdc91f16760",
   "metadata": {},
   "outputs": [],
   "source": [
    "#q2)l1=['hyd','mumbai','chennai','blr']\n",
    "     #ansl1=['HYD', 'MUMBAI', 'CHENNAI', 'BLR']"
   ]
  },
  {
   "cell_type": "code",
   "execution_count": 17,
   "id": "5933baa8-ef57-4c17-95e4-00ebb5312692",
   "metadata": {},
   "outputs": [
    {
     "data": {
      "text/plain": [
       "['HYD', 'MUMBAI', 'CHENNAI', 'BLR']"
      ]
     },
     "execution_count": 17,
     "metadata": {},
     "output_type": "execute_result"
    }
   ],
   "source": [
    "l1=['hyd','mumbai','chennai','blr']\n",
    "l2=[i.upper() for i in l1]\n",
    "l2"
   ]
  },
  {
   "cell_type": "code",
   "execution_count": 18,
   "id": "98f8620d-98a7-432a-987c-493b22c76740",
   "metadata": {},
   "outputs": [],
   "source": [
    "#q3)l1=['Hyd','Mumbai','Chennai','Blr']\n",
    "     #ansl1=['hyd','mumbai','chennai','blr']"
   ]
  },
  {
   "cell_type": "code",
   "execution_count": 19,
   "id": "2eefa760-40de-4b14-ae48-34ba22192cf5",
   "metadata": {},
   "outputs": [
    {
     "data": {
      "text/plain": [
       "['hyd', 'mumbai', 'chennai', 'blr']"
      ]
     },
     "execution_count": 19,
     "metadata": {},
     "output_type": "execute_result"
    }
   ],
   "source": [
    "l1=['Hyd','Mumbai','Chennai','Blr']\n",
    "l2=[i.lower() for i in l1]\n",
    "l2"
   ]
  },
  {
   "cell_type": "code",
   "execution_count": 20,
   "id": "fd3175b0-bf21-4b67-8b4a-94cc64d67f86",
   "metadata": {},
   "outputs": [],
   "source": [
    "#q3)l1=['Hyd','Mumbai','Chennai','Blr']\n",
    "    #ans sum of index"
   ]
  },
  {
   "cell_type": "code",
   "execution_count": 1,
   "id": "1d5d7a27-2c64-4900-9053-9818af341073",
   "metadata": {},
   "outputs": [
    {
     "data": {
      "text/plain": [
       "6"
      ]
     },
     "execution_count": 1,
     "metadata": {},
     "output_type": "execute_result"
    }
   ],
   "source": [
    "l1=['Hyd','Mumbai','Chennai','Blr']\n",
    "l2=[l1.index(i) for i in l1]\n",
    "sum(l2)"
   ]
  },
  {
   "cell_type": "markdown",
   "id": "c16bf46e-f981-4fcf-9694-a5cc8d52b30b",
   "metadata": {},
   "source": [
    "- making empty list will not work in list comprehension\n",
    "- intializations will not works in list comprehension\n",
    "- Assignment operations also not works"
   ]
  },
  {
   "cell_type": "markdown",
   "id": "ab0e9572-1444-48f5-bda8-1e36cd5078d3",
   "metadata": {},
   "source": [
    "$pattern-2$"
   ]
  },
  {
   "cell_type": "markdown",
   "id": "adc184da-2eb0-46e7-a6ea-e0f744c68e9f",
   "metadata": {},
   "source": [
    "**for loop and if condition**"
   ]
  },
  {
   "cell_type": "code",
   "execution_count": 2,
   "id": "60a8381e-c326-49fa-9043-748599cf985c",
   "metadata": {},
   "outputs": [],
   "source": [
    "#syntax\n",
    "#[<output> <for loop> <if condition>]"
   ]
  },
  {
   "cell_type": "code",
   "execution_count": 6,
   "id": "cc50bd09-2c89-43fb-89a0-0d0585ba3adc",
   "metadata": {},
   "outputs": [
    {
     "name": "stdout",
     "output_type": "stream",
     "text": [
      "Mumbai\n",
      "Chennai\n"
     ]
    }
   ],
   "source": [
    "l1=['Hyd','Mumbai','Chennai','Blr']\n",
    "for i in l1:\n",
    "    if len(i)>=4:\n",
    "        print(i)"
   ]
  },
  {
   "cell_type": "code",
   "execution_count": 7,
   "id": "e1eb042c-1429-45ec-b2be-162b3f61f78e",
   "metadata": {},
   "outputs": [
    {
     "data": {
      "text/plain": [
       "['Mumbai', 'Chennai']"
      ]
     },
     "execution_count": 7,
     "metadata": {},
     "output_type": "execute_result"
    }
   ],
   "source": [
    "l1=['Hyd','Mumbai','Chennai','Blr']\n",
    "l2=[i for i in l1 if len(i)>=4]\n",
    "l2"
   ]
  },
  {
   "cell_type": "code",
   "execution_count": 15,
   "id": "b261dbb3-4028-4745-a18c-e251cbb7f5ff",
   "metadata": {},
   "outputs": [
    {
     "data": {
      "text/plain": [
       "(['Mum#bai', 'Chen#nai'], ['Hyd', 'Blr'])"
      ]
     },
     "execution_count": 15,
     "metadata": {},
     "output_type": "execute_result"
    }
   ],
   "source": [
    "l1=['Hyd','Mum#bai','Chen#nai','Blr']\n",
    "l2=[i for i in l1 if \"#\" in i]\n",
    "l3=[i for i in l1 if \"#\" not in i]\n",
    "l2,l3"
   ]
  },
  {
   "cell_type": "code",
   "execution_count": 24,
   "id": "4124f9a6-7834-493c-a44f-f79aae143db3",
   "metadata": {},
   "outputs": [
    {
     "data": {
      "text/plain": [
       "['Hyd', 'Mumbai']"
      ]
     },
     "execution_count": 24,
     "metadata": {},
     "output_type": "execute_result"
    }
   ],
   "source": [
    "l1=['Hyd','Mumbai','chennai','blr']\n",
    "l2=[i for i in l1 if i.istitle()]\n",
    "l2"
   ]
  },
  {
   "cell_type": "code",
   "execution_count": 25,
   "id": "ee62806a-89d7-4fb2-a917-bcb35e7646d0",
   "metadata": {},
   "outputs": [
    {
     "data": {
      "text/plain": [
       "['Mum#bai', 'Chen#nai']"
      ]
     },
     "execution_count": 25,
     "metadata": {},
     "output_type": "execute_result"
    }
   ],
   "source": [
    "l1=['Hyd','Mum#bai','Chen#nai','Blr']\n",
    "l2=[i for i in l1 if \"#\" in i]\n",
    "l3=[i for i in l1 if \"#\" not in i]\n",
    "l2"
   ]
  },
  {
   "cell_type": "code",
   "execution_count": 26,
   "id": "1cbf138c-0330-4195-88c5-45a1ec6c40c9",
   "metadata": {},
   "outputs": [],
   "source": [
    "#str1='virat.kohli@rcb.com, Rohit.sharma@mi.co, KL.Rahul@lucknow.com'\n",
    "#Firstname=[] second name=[] cname =[]\n",
    "#append first name should be in first name list\n",
    "#second name shoul be in second name list\n",
    "#thirs name will be in thirs name list"
   ]
  },
  {
   "cell_type": "code",
   "execution_count": 10,
   "id": "59d1f525-fd47-4288-8e8d-cde2c46ab7a2",
   "metadata": {},
   "outputs": [
    {
     "ename": "TypeError",
     "evalue": "can only concatenate str (not \"int\") to str",
     "output_type": "error",
     "traceback": [
      "\u001b[1;31m---------------------------------------------------------------------------\u001b[0m",
      "\u001b[1;31mTypeError\u001b[0m                                 Traceback (most recent call last)",
      "Cell \u001b[1;32mIn[10], line 3\u001b[0m\n\u001b[0;32m      1\u001b[0m str1\u001b[38;5;241m=\u001b[39m\u001b[38;5;124m'\u001b[39m\u001b[38;5;124mvirat.kohli@rcb.com, Rohit.sharma@mi.co, KL.Rahul@lucknow.com\u001b[39m\u001b[38;5;124m'\u001b[39m\n\u001b[0;32m      2\u001b[0m lst1\u001b[38;5;241m=\u001b[39mstr1\u001b[38;5;241m.\u001b[39msplit(\u001b[38;5;124m\"\u001b[39m\u001b[38;5;124m,\u001b[39m\u001b[38;5;124m\"\u001b[39m)\n\u001b[1;32m----> 3\u001b[0m l2\u001b[38;5;241m=\u001b[39m[i[:i\u001b[38;5;241m.\u001b[39mindex(\u001b[38;5;124m'\u001b[39m\u001b[38;5;124m.\u001b[39m\u001b[38;5;124m'\u001b[39m) : i[:i\u001b[38;5;241m.\u001b[39mindex(\u001b[38;5;124m'\u001b[39m\u001b[38;5;124m.\u001b[39m\u001b[38;5;124m'\u001b[39m)]\u001b[38;5;241m+\u001b[39m\u001b[38;5;241m1\u001b[39m] \u001b[38;5;28;01mfor\u001b[39;00m i \u001b[38;5;129;01min\u001b[39;00m lst1]\n\u001b[0;32m      4\u001b[0m l3\u001b[38;5;241m=\u001b[39m[i[:i\u001b[38;5;241m.\u001b[39mindex(\u001b[38;5;124m'\u001b[39m\u001b[38;5;124m.\u001b[39m\u001b[38;5;124m'\u001b[39m)\u001b[38;5;241m+\u001b[39m\u001b[38;5;241m1\u001b[39m : i[:i\u001b[38;5;241m.\u001b[39mindex(\u001b[38;5;124m'\u001b[39m\u001b[38;5;124m@\u001b[39m\u001b[38;5;124m'\u001b[39m)]\u001b[38;5;241m+\u001b[39m\u001b[38;5;241m1\u001b[39m] \u001b[38;5;28;01mfor\u001b[39;00m i \u001b[38;5;129;01min\u001b[39;00m lst1]\n\u001b[0;32m      5\u001b[0m l2,l3\n",
      "Cell \u001b[1;32mIn[10], line 3\u001b[0m, in \u001b[0;36m<listcomp>\u001b[1;34m(.0)\u001b[0m\n\u001b[0;32m      1\u001b[0m str1\u001b[38;5;241m=\u001b[39m\u001b[38;5;124m'\u001b[39m\u001b[38;5;124mvirat.kohli@rcb.com, Rohit.sharma@mi.co, KL.Rahul@lucknow.com\u001b[39m\u001b[38;5;124m'\u001b[39m\n\u001b[0;32m      2\u001b[0m lst1\u001b[38;5;241m=\u001b[39mstr1\u001b[38;5;241m.\u001b[39msplit(\u001b[38;5;124m\"\u001b[39m\u001b[38;5;124m,\u001b[39m\u001b[38;5;124m\"\u001b[39m)\n\u001b[1;32m----> 3\u001b[0m l2\u001b[38;5;241m=\u001b[39m[i[:i\u001b[38;5;241m.\u001b[39mindex(\u001b[38;5;124m'\u001b[39m\u001b[38;5;124m.\u001b[39m\u001b[38;5;124m'\u001b[39m) : i[:i\u001b[38;5;241m.\u001b[39mindex(\u001b[38;5;124m'\u001b[39m\u001b[38;5;124m.\u001b[39m\u001b[38;5;124m'\u001b[39m)]\u001b[38;5;241m+\u001b[39m\u001b[38;5;241m1\u001b[39m] \u001b[38;5;28;01mfor\u001b[39;00m i \u001b[38;5;129;01min\u001b[39;00m lst1]\n\u001b[0;32m      4\u001b[0m l3\u001b[38;5;241m=\u001b[39m[i[:i\u001b[38;5;241m.\u001b[39mindex(\u001b[38;5;124m'\u001b[39m\u001b[38;5;124m.\u001b[39m\u001b[38;5;124m'\u001b[39m)\u001b[38;5;241m+\u001b[39m\u001b[38;5;241m1\u001b[39m : i[:i\u001b[38;5;241m.\u001b[39mindex(\u001b[38;5;124m'\u001b[39m\u001b[38;5;124m@\u001b[39m\u001b[38;5;124m'\u001b[39m)]\u001b[38;5;241m+\u001b[39m\u001b[38;5;241m1\u001b[39m] \u001b[38;5;28;01mfor\u001b[39;00m i \u001b[38;5;129;01min\u001b[39;00m lst1]\n\u001b[0;32m      5\u001b[0m l2,l3\n",
      "\u001b[1;31mTypeError\u001b[0m: can only concatenate str (not \"int\") to str"
     ]
    }
   ],
   "source": [
    "str1='virat.kohli@rcb.com, Rohit.sharma@mi.co, KL.Rahul@lucknow.com'\n",
    "lst1=str1.split(\",\")\n",
    "l2=[i[:i.index('.') : i[:i.index('.')]+1] for i in lst1]\n",
    "l3=[i[:i.index('.')+1 : i[:i.index('@')]+1] for i in lst1]\n",
    "l2,l3"
   ]
  },
  {
   "cell_type": "code",
   "execution_count": 14,
   "id": "56a514df-0601-491e-b70d-0041a6246921",
   "metadata": {},
   "outputs": [
    {
     "data": {
      "text/plain": [
       "'virat'"
      ]
     },
     "execution_count": 14,
     "metadata": {},
     "output_type": "execute_result"
    }
   ],
   "source": [
    "str1='virat.kohli@rcb.com, Rohit.sharma@mi.co, KL.Rahul@lucknow.com'\n",
    "lst1=str1.split(\",\")\n",
    "l1 = lst1[0][:lst1[0].index('.')]\n",
    "l1"
   ]
  },
  {
   "cell_type": "code",
   "execution_count": 19,
   "id": "df6288e5-d593-4bb6-8e7e-884ac280f38a",
   "metadata": {},
   "outputs": [
    {
     "ename": "TypeError",
     "evalue": "'list' object cannot be interpreted as an integer",
     "output_type": "error",
     "traceback": [
      "\u001b[1;31m---------------------------------------------------------------------------\u001b[0m",
      "\u001b[1;31mTypeError\u001b[0m                                 Traceback (most recent call last)",
      "Cell \u001b[1;32mIn[19], line 3\u001b[0m\n\u001b[0;32m      1\u001b[0m str1\u001b[38;5;241m=\u001b[39m\u001b[38;5;124m'\u001b[39m\u001b[38;5;124mvirat.kohli@rcb.com, Rohit.sharma@mi.co, KL.Rahul@lucknow.com\u001b[39m\u001b[38;5;124m'\u001b[39m\n\u001b[0;32m      2\u001b[0m lst1\u001b[38;5;241m=\u001b[39mstr1\u001b[38;5;241m.\u001b[39msplit(\u001b[38;5;124m\"\u001b[39m\u001b[38;5;124m,\u001b[39m\u001b[38;5;124m\"\u001b[39m)\n\u001b[1;32m----> 3\u001b[0m l1 \u001b[38;5;241m=\u001b[39m [lst1[i][:lst1[i]\u001b[38;5;241m.\u001b[39mindex(\u001b[38;5;124m'\u001b[39m\u001b[38;5;124m.\u001b[39m\u001b[38;5;124m'\u001b[39m) ]\u001b[38;5;28;01mfor\u001b[39;00m i \u001b[38;5;129;01min\u001b[39;00m \u001b[38;5;28mrange\u001b[39m(lst1)]\n\u001b[0;32m      4\u001b[0m l1\n",
      "\u001b[1;31mTypeError\u001b[0m: 'list' object cannot be interpreted as an integer"
     ]
    }
   ],
   "source": [
    "str1='virat.kohli@rcb.com, Rohit.sharma@mi.co, KL.Rahul@lucknow.com'\n",
    "lst1=str1.split(\",\")\n",
    "l1 = [lst1[i][:lst1[i].index('.') ]for i in range(lst1)]\n",
    "l1"
   ]
  },
  {
   "cell_type": "markdown",
   "id": "e5c8c32e-c046-4170-a651-88d6cd1a9cd8",
   "metadata": {},
   "source": [
    "**$pattren-3$**"
   ]
  },
  {
   "cell_type": "code",
   "execution_count": null,
   "id": "a072076e-80ec-4bad-9147-b11cd3c01336",
   "metadata": {},
   "outputs": [],
   "source": [
    "#[<output> <forloop>]: for loop\n",
    "#[<output> <forloop> <if condition>]: for-if\n",
    "#[<if_output><if><else><else_output><>for]: if-else"
   ]
  },
  {
   "cell_type": "code",
   "execution_count": 24,
   "id": "e32975b1-8042-45a8-855d-57e05c64cb3b",
   "metadata": {},
   "outputs": [
    {
     "data": {
      "text/plain": [
       "[1, 2, 3, 4, 5, 6, 7, 8, 9, 10, 11, 12, 13, 14, 15, 16, 17, 18, 19]"
      ]
     },
     "execution_count": 24,
     "metadata": {},
     "output_type": "execute_result"
    }
   ],
   "source": [
    "#even-odd\n",
    "o_plst=[]\n",
    "for i in range(1,20):\n",
    "    if i%2==0:\n",
    "        o_plst.append(i)\n",
    "    else:\n",
    "        o_plst.append(i)\n",
    "o_plst"
   ]
  },
  {
   "cell_type": "code",
   "execution_count": 35,
   "id": "04d16456-0259-4537-95d7-b507baa440b0",
   "metadata": {},
   "outputs": [
    {
     "data": {
      "text/plain": [
       "[1, 2, 3, 4, 5, 6, 7, 8, 9, 10, 11, 12, 13, 14, 15, 16, 17, 18, 19]"
      ]
     },
     "execution_count": 35,
     "metadata": {},
     "output_type": "execute_result"
    }
   ],
   "source": [
    "l1=[i if i%2==0  else i for i in range(1,20)] # there is no elif condition in list comprehension\n",
    "l1"
   ]
  },
  {
   "cell_type": "code",
   "execution_count": null,
   "id": "7a65a371-1d55-4617-b67a-1c3e4c4062da",
   "metadata": {},
   "outputs": [],
   "source": []
  }
 ],
 "metadata": {
  "kernelspec": {
   "display_name": "Python 3 (ipykernel)",
   "language": "python",
   "name": "python3"
  },
  "language_info": {
   "codemirror_mode": {
    "name": "ipython",
    "version": 3
   },
   "file_extension": ".py",
   "mimetype": "text/x-python",
   "name": "python",
   "nbconvert_exporter": "python",
   "pygments_lexer": "ipython3",
   "version": "3.11.7"
  }
 },
 "nbformat": 4,
 "nbformat_minor": 5
}
