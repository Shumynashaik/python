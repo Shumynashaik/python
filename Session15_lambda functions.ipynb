{
 "cells": [
  {
   "cell_type": "markdown",
   "id": "ef8ab222-4353-48d6-bdae-996a68657734",
   "metadata": {},
   "source": [
    "**lambda Functions**\n",
    "- lambda functions represents function concept only\n",
    "- but we can write in a single line\n",
    "- like list comprehension,lambda functions similar only\n",
    "- it will decrease  the time complexity\n",
    "- always remember if we use many for loops or many conditions using multiple line,the time complexity will increase"
   ]
  },
  {
   "cell_type": "markdown",
   "id": "1d8cdd05-5974-4e26-b24d-a606288fc9a4",
   "metadata": {},
   "source": [
    "**IT WILL USE KEYWORD LAMBDA**"
   ]
  },
  {
   "cell_type": "code",
   "execution_count": null,
   "id": "6ffd0eec-cf74-4d53-80d5-0eca739654c7",
   "metadata": {},
   "outputs": [],
   "source": [
    "# lambda <arguments>:<expression>"
   ]
  },
  {
   "cell_type": "code",
   "execution_count": 3,
   "id": "c2791d2d-d7bb-4035-9d04-2ce4396a4919",
   "metadata": {},
   "outputs": [
    {
     "data": {
      "text/plain": [
       "20"
      ]
     },
     "execution_count": 3,
     "metadata": {},
     "output_type": "execute_result"
    }
   ],
   "source": [
    "def summ(n):\n",
    "    return(n+10)\n",
    "summ(10)"
   ]
  },
  {
   "cell_type": "markdown",
   "id": "fc63c417-edf3-431a-89bb-b0eff6be42e7",
   "metadata": {},
   "source": [
    "$pattern-1$\n",
    "- function with only one argument\n",
    "    - function name\n",
    "    - argument name\n",
    "    - return output"
   ]
  },
  {
   "cell_type": "code",
   "execution_count": null,
   "id": "4e65532d-ac32-4669-bbb3-1fdf8d541630",
   "metadata": {},
   "outputs": [],
   "source": [
    "#syntax\n",
    "<function name>=lambda <argument>:<return output>"
   ]
  },
  {
   "cell_type": "code",
   "execution_count": 8,
   "id": "e696f57a-8dae-466f-bbed-428c5827c4fa",
   "metadata": {},
   "outputs": [
    {
     "data": {
      "text/plain": [
       "20"
      ]
     },
     "execution_count": 8,
     "metadata": {},
     "output_type": "execute_result"
    }
   ],
   "source": [
    "summ=lambda n:n+10\n",
    "summ(10)"
   ]
  },
  {
   "cell_type": "code",
   "execution_count": 10,
   "id": "5967cce3-88e3-4474-a2e3-86299fb65468",
   "metadata": {},
   "outputs": [
    {
     "data": {
      "text/plain": [
       "1000"
      ]
     },
     "execution_count": 10,
     "metadata": {},
     "output_type": "execute_result"
    }
   ],
   "source": [
    "def cube(n):\n",
    "    return(n**3)\n",
    "cube(10)"
   ]
  },
  {
   "cell_type": "code",
   "execution_count": 11,
   "id": "b1908f99-3ad3-4164-8ec4-5d7372cef8d1",
   "metadata": {},
   "outputs": [
    {
     "data": {
      "text/plain": [
       "1000"
      ]
     },
     "execution_count": 11,
     "metadata": {},
     "output_type": "execute_result"
    }
   ],
   "source": [
    "cube=lambda n:n**3\n",
    "cube(10)"
   ]
  },
  {
   "cell_type": "markdown",
   "id": "3fdea57b-4ea1-43d4-a2b5-3d72f6618913",
   "metadata": {},
   "source": [
    "$pattern-2$\n"
   ]
  },
  {
   "cell_type": "markdown",
   "id": "35c478d3-d145-4cd9-9f53-0c921289a0ef",
   "metadata": {},
   "source": [
    "**two arguments**"
   ]
  },
  {
   "cell_type": "code",
   "execution_count": null,
   "id": "747973d8-18b3-44b5-b577-772d0f69fd28",
   "metadata": {},
   "outputs": [],
   "source": [
    "#syntax:\n",
    "<function name>=lambda <arg1><arg2>:<return output>"
   ]
  },
  {
   "cell_type": "code",
   "execution_count": 13,
   "id": "c323b789-6c09-4566-b39a-6f380c4f73e7",
   "metadata": {},
   "outputs": [
    {
     "data": {
      "text/plain": [
       "30"
      ]
     },
     "execution_count": 13,
     "metadata": {},
     "output_type": "execute_result"
    }
   ],
   "source": [
    "def add(a,b):\n",
    "    return(a+b)\n",
    "add(10,20)"
   ]
  },
  {
   "cell_type": "code",
   "execution_count": 15,
   "id": "bcf4bc5a-9b4b-4796-87c3-a84d6f0e406d",
   "metadata": {},
   "outputs": [
    {
     "data": {
      "text/plain": [
       "30"
      ]
     },
     "execution_count": 15,
     "metadata": {},
     "output_type": "execute_result"
    }
   ],
   "source": [
    "add=lambda a,b:a+b\n",
    "add(10,20)"
   ]
  },
  {
   "cell_type": "code",
   "execution_count": 19,
   "id": "c1cccec8-f44c-4437-b80c-cf2eb042ecdb",
   "metadata": {},
   "outputs": [
    {
     "data": {
      "text/plain": [
       "20"
      ]
     },
     "execution_count": 19,
     "metadata": {},
     "output_type": "execute_result"
    }
   ],
   "source": [
    "#avg of 3 nums\n",
    "avg= lambda a,b,c:round((a+b+c)/3)\n",
    "avg(10,20,30)"
   ]
  },
  {
   "cell_type": "markdown",
   "id": "ed8b550d-7068-4183-b111-58c0a03cfe6e",
   "metadata": {},
   "source": [
    "$pattern-3$"
   ]
  },
  {
   "cell_type": "markdown",
   "id": "2552fc90-a9a2-42a3-8a3a-4554ccc6f219",
   "metadata": {},
   "source": [
    "**Default Arguments**\n"
   ]
  },
  {
   "cell_type": "code",
   "execution_count": 24,
   "id": "8a5b7f5f-c0e8-43e9-8460-92e14ef0c341",
   "metadata": {},
   "outputs": [
    {
     "data": {
      "text/plain": [
       "237.33"
      ]
     },
     "execution_count": 24,
     "metadata": {},
     "output_type": "execute_result"
    }
   ],
   "source": [
    "avg= lambda a,b,c=500:round((a+b+c)/3,2)\n",
    "avg(10,202)"
   ]
  },
  {
   "cell_type": "markdown",
   "id": "325d8037-ca2a-4b28-bb65-2c444a30f486",
   "metadata": {},
   "source": [
    "$pattern-4$"
   ]
  },
  {
   "cell_type": "markdown",
   "id": "4eacbfda-e3d5-4e17-99fc-2486d442574a",
   "metadata": {},
   "source": [
    "**if-else**"
   ]
  },
  {
   "cell_type": "code",
   "execution_count": 25,
   "id": "4d9f0a9b-0c1c-4c83-99f9-d52d668b17ac",
   "metadata": {},
   "outputs": [
    {
     "data": {
      "text/plain": [
       "20"
      ]
     },
     "execution_count": 25,
     "metadata": {},
     "output_type": "execute_result"
    }
   ],
   "source": [
    "def max(a,b):\n",
    "    if a>b:\n",
    "        return(a)\n",
    "    else:\n",
    "        return(b)\n",
    "max(10,20)"
   ]
  },
  {
   "cell_type": "code",
   "execution_count": null,
   "id": "e4c82076-6aae-414c-81a6-e0122cb92473",
   "metadata": {},
   "outputs": [],
   "source": [
    "#synatx\n",
    "function name= lambda<arg1><arg2>:<if_output> <if condition> <else> <else output>"
   ]
  },
  {
   "cell_type": "code",
   "execution_count": 26,
   "id": "6f732288-4e01-480c-aa5e-9e25ed682bb6",
   "metadata": {},
   "outputs": [
    {
     "data": {
      "text/plain": [
       "20"
      ]
     },
     "execution_count": 26,
     "metadata": {},
     "output_type": "execute_result"
    }
   ],
   "source": [
    "max=lambda a,b:a if a>b else b\n",
    "max(10,20)"
   ]
  },
  {
   "cell_type": "markdown",
   "id": "a54c7800-087f-4cd3-9cd3-e2cf3a708b5e",
   "metadata": {},
   "source": [
    "$pattern-5$"
   ]
  },
  {
   "cell_type": "markdown",
   "id": "71f2da74-a4da-48b6-86db-3c8889c447d1",
   "metadata": {},
   "source": [
    "**using list**"
   ]
  },
  {
   "cell_type": "code",
   "execution_count": null,
   "id": "b1f638db-3aa8-4c6f-8a50-6e5927661ead",
   "metadata": {},
   "outputs": [],
   "source": [
    "#syntax\n",
    "lambda <variable>:<output>,<iterator>"
   ]
  },
  {
   "cell_type": "code",
   "execution_count": 29,
   "id": "a856e517-d517-4a6a-afef-63cad978fb9c",
   "metadata": {},
   "outputs": [
    {
     "data": {
      "text/plain": [
       "['Hyd', 'Chennai', 'Mumbai']"
      ]
     },
     "execution_count": 29,
     "metadata": {},
     "output_type": "execute_result"
    }
   ],
   "source": [
    "l=['hyd','chennai','mumbai']\n",
    "op=[]\n",
    "for i in l:\n",
    "    op.append(i.capitalize())\n",
    "op"
   ]
  },
  {
   "cell_type": "code",
   "execution_count": 30,
   "id": "defb4929-3a5d-45c9-a32c-897ddc343ec0",
   "metadata": {},
   "outputs": [
    {
     "data": {
      "text/plain": [
       "(<function __main__.<lambda>(i)>, ['hyd', 'chennai', 'mumbai'])"
      ]
     },
     "execution_count": 30,
     "metadata": {},
     "output_type": "execute_result"
    }
   ],
   "source": [
    "l=['hyd','chennai','mumbai']\n",
    "lambda i:i.capitalize(),l"
   ]
  },
  {
   "cell_type": "markdown",
   "id": "b9799403-e705-4e60-8b2b-92e805d1726e",
   "metadata": {},
   "source": [
    "**MAP**\n",
    "- the function and iterator are avaiable now\n",
    "- we need to map both"
   ]
  },
  {
   "cell_type": "code",
   "execution_count": 33,
   "id": "27e68831-f46a-4eb6-aeb5-4ae602218c1d",
   "metadata": {},
   "outputs": [
    {
     "data": {
      "text/plain": [
       "['Hyd', 'Chennai', 'Mumbai']"
      ]
     },
     "execution_count": 33,
     "metadata": {},
     "output_type": "execute_result"
    }
   ],
   "source": [
    "l=['hyd','chennai','mumbai']\n",
    "list(map(lambda i:i.capitalize(),l))\n"
   ]
  },
  {
   "cell_type": "code",
   "execution_count": 34,
   "id": "36e7f687-8dca-4fe3-8246-481f3b05d450",
   "metadata": {},
   "outputs": [
    {
     "data": {
      "text/plain": [
       "('Hyd', 'Chennai', 'Mumbai')"
      ]
     },
     "execution_count": 34,
     "metadata": {},
     "output_type": "execute_result"
    }
   ],
   "source": [
    "l=['hyd','chennai','mumbai']\n",
    "tuple(map(lambda i:i.capitalize(),l))\n"
   ]
  },
  {
   "cell_type": "markdown",
   "id": "1ece1180-e8bb-4a36-b1f4-4d86b6deb001",
   "metadata": {},
   "source": [
    "- case1: function call with one argument<br>\n",
    "            - lambda arguments:Expression\n",
    "            - lambda variables:return output\n",
    "- case2: function call with two arguments\n",
    "            - lambda arg1,arg2:Expression\n",
    "            - lambda var1,var2:return output\n",
    "- case3: function call with default arguments\n",
    "            - lambda arg1,arg2=500:Expression\n",
    "            - lambda var1,var2=500:return output\n",
    "- case4: function call with two arguments and if-else statement\n",
    "            - lambda arg1,arg2():Expression\n",
    "            - lambda var1,var2:({if_output} if else else_output for loop)\n",
    "- case5: lambda operations using list\n",
    "            - lambda arg:expression,iterator"
   ]
  },
  {
   "cell_type": "code",
   "execution_count": 8,
   "id": "785317ec-f936-416e-809d-c8b587e1c28b",
   "metadata": {},
   "outputs": [
    {
     "data": {
      "text/plain": [
       "('HYD', 'MUMBAI', 'CHENNAI')"
      ]
     },
     "execution_count": 8,
     "metadata": {},
     "output_type": "execute_result"
    }
   ],
   "source": [
    "l=['hyd','mumbai','chennai']\n",
    "tuple(map(lambda i:i.upper(),l))\n",
    "    "
   ]
  },
  {
   "cell_type": "code",
   "execution_count": null,
   "id": "8189a74e-cabe-49b0-bef5-0e423ec72db8",
   "metadata": {},
   "outputs": [],
   "source": [
    "l=['hyd','mum#bai','chen#nai']\n",
    "tuple(map(lambda i:i.upper(),l))"
   ]
  },
  {
   "cell_type": "code",
   "execution_count": 10,
   "id": "8c2e0789-7c69-4e86-a3de-84241d43ba37",
   "metadata": {},
   "outputs": [
    {
     "name": "stdout",
     "output_type": "stream",
     "text": [
      "mum#bai\n",
      "chen#nai\n"
     ]
    }
   ],
   "source": [
    "l=['hyd','mum#bai','chen#nai']\n",
    "for i in l:\n",
    "    if '#' in i:\n",
    "        print(i)"
   ]
  },
  {
   "cell_type": "code",
   "execution_count": 13,
   "id": "0f7dc524-d13a-4534-9fa5-c80d6db64f82",
   "metadata": {},
   "outputs": [
    {
     "data": {
      "text/plain": [
       "(False, True, True)"
      ]
     },
     "execution_count": 13,
     "metadata": {},
     "output_type": "execute_result"
    }
   ],
   "source": [
    "l=['hyd','mum#bai','chen#nai']\n",
    "tuple(map(lambda i:'#' in i, l))"
   ]
  },
  {
   "cell_type": "code",
   "execution_count": null,
   "id": "21b6bd65-2b27-4478-81e7-c6fc926f2c80",
   "metadata": {},
   "outputs": [],
   "source": [
    "# msitake:tuple(map(lambda i: if'#' in i, l))lambda i:'#' in i, l"
   ]
  },
  {
   "cell_type": "markdown",
   "id": "5a772177-79bd-460f-9eff-5337cefe86d9",
   "metadata": {},
   "source": [
    "# filter\n",
    "- whenever if conditions are there use filter"
   ]
  },
  {
   "cell_type": "code",
   "execution_count": 14,
   "id": "107e8388-7ff7-497e-9284-a895dcefbc39",
   "metadata": {},
   "outputs": [
    {
     "data": {
      "text/plain": [
       "('mum#bai', 'chen#nai')"
      ]
     },
     "execution_count": 14,
     "metadata": {},
     "output_type": "execute_result"
    }
   ],
   "source": [
    "l=['hyd','mum#bai','chen#nai']\n",
    "tuple(filter(lambda i:'#' in i, l))"
   ]
  },
  {
   "cell_type": "code",
   "execution_count": 16,
   "id": "062d32e7-7db9-4227-a381-a3a6a53fa040",
   "metadata": {},
   "outputs": [
    {
     "data": {
      "text/plain": [
       "[2, 6]"
      ]
     },
     "execution_count": 16,
     "metadata": {},
     "output_type": "execute_result"
    }
   ],
   "source": [
    "num=[1,2,3,7,6]\n",
    "list(filter(lambda i:i%2==0, num))"
   ]
  },
  {
   "cell_type": "code",
   "execution_count": 20,
   "id": "56c66ee9-9c5d-4dfe-8c7c-800e35d4ac7a",
   "metadata": {},
   "outputs": [
    {
     "name": "stdout",
     "output_type": "stream",
     "text": [
      "15\n"
     ]
    }
   ],
   "source": [
    "num=[1,2,3,4,5]\n",
    "# i want sum of numbers\n",
    "#method1:\n",
    "sum(num)\n",
    "# method2:\n",
    "summ=0\n",
    "for i in num:\n",
    "    summ=summ+i\n",
    "print(summ)"
   ]
  },
  {
   "cell_type": "markdown",
   "id": "73680a0e-2d48-463d-b5ec-33f55de0339e",
   "metadata": {},
   "source": [
    "# Reduce"
   ]
  },
  {
   "cell_type": "markdown",
   "id": "4b57b5f0-6ade-47ca-8d38-280ef8e141b1",
   "metadata": {},
   "source": [
    "- all in-built functions can achive by reduce\n",
    "- reduce is avaliable from functools package\n",
    "- level1:reduce(lambda sum,i:sum+i,num)\n",
    "- level2:reduce(lambda sum,i:sum+i,num,initial_value)\n",
    "- for instance we want intilize summ=0 then choose level1\n",
    "- for instance we want start with other than zero we then choose level1"
   ]
  },
  {
   "cell_type": "code",
   "execution_count": 27,
   "id": "4a46e97c-8f1f-4859-91dd-ae6125955d91",
   "metadata": {},
   "outputs": [],
   "source": [
    "import functools"
   ]
  },
  {
   "cell_type": "code",
   "execution_count": 29,
   "id": "2bcb61cb-0dfa-43ba-932c-f7ba9b1d88a5",
   "metadata": {},
   "outputs": [
    {
     "data": {
      "text/plain": [
       "15"
      ]
     },
     "execution_count": 29,
     "metadata": {},
     "output_type": "execute_result"
    }
   ],
   "source": [
    "num=[1,2,3,4,5]\n",
    "functools.reduce(lambda sum,i:sum+i,num)"
   ]
  },
  {
   "cell_type": "code",
   "execution_count": 30,
   "id": "6a63a129-a974-4d9a-95af-55b7bece8b45",
   "metadata": {},
   "outputs": [
    {
     "data": {
      "text/plain": [
       "15"
      ]
     },
     "execution_count": 30,
     "metadata": {},
     "output_type": "execute_result"
    }
   ],
   "source": [
    "from functools import reduce\n",
    "num=[1,2,3,4,5]\n",
    "reduce(lambda sum,i:sum+i,num)"
   ]
  },
  {
   "cell_type": "code",
   "execution_count": 31,
   "id": "ec06fe52-9044-4b0d-bff1-cd5f6d7b5b80",
   "metadata": {},
   "outputs": [
    {
     "data": {
      "text/plain": [
       "15"
      ]
     },
     "execution_count": 31,
     "metadata": {},
     "output_type": "execute_result"
    }
   ],
   "source": [
    "import functools as ft\n",
    "num=[1,2,3,4,5]\n",
    "ft.reduce(lambda sum,i:sum+i,num)\n"
   ]
  },
  {
   "cell_type": "code",
   "execution_count": 32,
   "id": "32bd0140-18df-4aeb-ba7f-49933063f059",
   "metadata": {},
   "outputs": [
    {
     "data": {
      "text/plain": [
       "23"
      ]
     },
     "execution_count": 32,
     "metadata": {},
     "output_type": "execute_result"
    }
   ],
   "source": [
    "import functools as ft\n",
    "num=[1,2,3,4,5]\n",
    "ft.reduce(lambda sum,i:sum+i,num,8)"
   ]
  },
  {
   "cell_type": "code",
   "execution_count": 34,
   "id": "573599ac-73c5-425a-90b6-4349d12ba6a1",
   "metadata": {},
   "outputs": [
    {
     "data": {
      "text/plain": [
       "120"
      ]
     },
     "execution_count": 34,
     "metadata": {},
     "output_type": "execute_result"
    }
   ],
   "source": [
    "import functools as ft\n",
    "num=[1,2,3,4,5]\n",
    "ft.reduce(lambda mul,i:mul*i,num)"
   ]
  },
  {
   "cell_type": "code",
   "execution_count": 39,
   "id": "20245217-3087-4605-872a-82223acf6bdd",
   "metadata": {},
   "outputs": [
    {
     "data": {
      "text/plain": [
       "False"
      ]
     },
     "execution_count": 39,
     "metadata": {},
     "output_type": "execute_result"
    }
   ],
   "source": [
    "import functools as ft\n",
    "num=[1,2,3,4,5]\n",
    "ft.reduce(lambda x,y:x>y,num)"
   ]
  },
  {
   "cell_type": "code",
   "execution_count": 3,
   "id": "136ad523-35bb-4ad8-baa9-11c047ed238a",
   "metadata": {},
   "outputs": [
    {
     "ename": "TypeError",
     "evalue": "<lambda>() missing 1 required positional argument: 'y'",
     "output_type": "error",
     "traceback": [
      "\u001b[1;31m---------------------------------------------------------------------------\u001b[0m",
      "\u001b[1;31mTypeError\u001b[0m                                 Traceback (most recent call last)",
      "Cell \u001b[1;32mIn[3], line 2\u001b[0m\n\u001b[0;32m      1\u001b[0m num\u001b[38;5;241m=\u001b[39m[\u001b[38;5;241m1\u001b[39m,\u001b[38;5;241m2\u001b[39m,\u001b[38;5;241m3\u001b[39m,\u001b[38;5;241m4\u001b[39m,\u001b[38;5;241m5\u001b[39m]\n\u001b[1;32m----> 2\u001b[0m \u001b[38;5;28mlist\u001b[39m(\u001b[38;5;28mfilter\u001b[39m(\u001b[38;5;28;01mlambda\u001b[39;00m x,y:x\u001b[38;5;241m>\u001b[39my,num))\n",
      "\u001b[1;31mTypeError\u001b[0m: <lambda>() missing 1 required positional argument: 'y'"
     ]
    }
   ],
   "source": [
    "num=[1,2,3,4,5]\n",
    "list(filter(lambda x,y:x>y,num))"
   ]
  },
  {
   "cell_type": "code",
   "execution_count": 43,
   "id": "65ed78e0-ec8e-4396-a8fe-af3425edde53",
   "metadata": {},
   "outputs": [],
   "source": [
    "import functools\n"
   ]
  },
  {
   "cell_type": "code",
   "execution_count": 44,
   "id": "1965859b-80ec-47de-9504-6aaaf0629c74",
   "metadata": {},
   "outputs": [
    {
     "data": {
      "text/plain": [
       "<module 'functools' from 'C:\\\\Users\\\\india\\\\anaconda3\\\\Lib\\\\functools.py'>"
      ]
     },
     "execution_count": 44,
     "metadata": {},
     "output_type": "execute_result"
    }
   ],
   "source": [
    "functools\n"
   ]
  },
  {
   "cell_type": "code",
   "execution_count": 1,
   "id": "9a116fbf-58b2-4a9a-ba2b-1d28a36b96ff",
   "metadata": {},
   "outputs": [
    {
     "ename": "TypeError",
     "evalue": "can't multiply sequence by non-int of type 'str'",
     "output_type": "error",
     "traceback": [
      "\u001b[1;31m---------------------------------------------------------------------------\u001b[0m",
      "\u001b[1;31mTypeError\u001b[0m                                 Traceback (most recent call last)",
      "Cell \u001b[1;32mIn[1], line 3\u001b[0m\n\u001b[0;32m      1\u001b[0m \u001b[38;5;28;01mimport\u001b[39;00m \u001b[38;5;21;01mfunctools\u001b[39;00m \u001b[38;5;28;01mas\u001b[39;00m \u001b[38;5;21;01mft\u001b[39;00m\n\u001b[0;32m      2\u001b[0m num\u001b[38;5;241m=\u001b[39m[\u001b[38;5;124m'\u001b[39m\u001b[38;5;124m1\u001b[39m\u001b[38;5;124m'\u001b[39m,\u001b[38;5;124m'\u001b[39m\u001b[38;5;124m2\u001b[39m\u001b[38;5;124m'\u001b[39m,\u001b[38;5;124m'\u001b[39m\u001b[38;5;124m3\u001b[39m\u001b[38;5;124m'\u001b[39m,\u001b[38;5;124m'\u001b[39m\u001b[38;5;124m4\u001b[39m\u001b[38;5;124m'\u001b[39m,\u001b[38;5;124m'\u001b[39m\u001b[38;5;124m5\u001b[39m\u001b[38;5;124m'\u001b[39m]\n\u001b[1;32m----> 3\u001b[0m ft\u001b[38;5;241m.\u001b[39mreduce(\u001b[38;5;28;01mlambda\u001b[39;00m mul,i:mul\u001b[38;5;241m*\u001b[39mi,num)\n",
      "Cell \u001b[1;32mIn[1], line 3\u001b[0m, in \u001b[0;36m<lambda>\u001b[1;34m(mul, i)\u001b[0m\n\u001b[0;32m      1\u001b[0m \u001b[38;5;28;01mimport\u001b[39;00m \u001b[38;5;21;01mfunctools\u001b[39;00m \u001b[38;5;28;01mas\u001b[39;00m \u001b[38;5;21;01mft\u001b[39;00m\n\u001b[0;32m      2\u001b[0m num\u001b[38;5;241m=\u001b[39m[\u001b[38;5;124m'\u001b[39m\u001b[38;5;124m1\u001b[39m\u001b[38;5;124m'\u001b[39m,\u001b[38;5;124m'\u001b[39m\u001b[38;5;124m2\u001b[39m\u001b[38;5;124m'\u001b[39m,\u001b[38;5;124m'\u001b[39m\u001b[38;5;124m3\u001b[39m\u001b[38;5;124m'\u001b[39m,\u001b[38;5;124m'\u001b[39m\u001b[38;5;124m4\u001b[39m\u001b[38;5;124m'\u001b[39m,\u001b[38;5;124m'\u001b[39m\u001b[38;5;124m5\u001b[39m\u001b[38;5;124m'\u001b[39m]\n\u001b[1;32m----> 3\u001b[0m ft\u001b[38;5;241m.\u001b[39mreduce(\u001b[38;5;28;01mlambda\u001b[39;00m mul,i:mul\u001b[38;5;241m*\u001b[39mi,num)\n",
      "\u001b[1;31mTypeError\u001b[0m: can't multiply sequence by non-int of type 'str'"
     ]
    }
   ],
   "source": [
    "import functools as ft\n",
    "num=[1,'2','3','4','5']\n",
    "ft.reduce(lambda mul,i:mul*i,num)"
   ]
  },
  {
   "cell_type": "code",
   "execution_count": 6,
   "id": "f809da36-ce9d-45b4-8998-d328fb25beb5",
   "metadata": {},
   "outputs": [
    {
     "data": {
      "text/plain": [
       "'1026820430322628'"
      ]
     },
     "execution_count": 6,
     "metadata": {},
     "output_type": "execute_result"
    }
   ],
   "source": [
    "import functools as ft\n",
    "x=('10','2','6','8','20','4','30','32','26','28')  #lambda func using reduce\n",
    "u=lambda x,y: x+y\n",
    "ft.reduce(u,x)\n"
   ]
  },
  {
   "cell_type": "code",
   "execution_count": null,
   "id": "6b43deaa-0acc-4c4c-a9c9-ef7a8e93b213",
   "metadata": {},
   "outputs": [],
   "source": []
  }
 ],
 "metadata": {
  "kernelspec": {
   "display_name": "Python 3 (ipykernel)",
   "language": "python",
   "name": "python3"
  },
  "language_info": {
   "codemirror_mode": {
    "name": "ipython",
    "version": 3
   },
   "file_extension": ".py",
   "mimetype": "text/x-python",
   "name": "python",
   "nbconvert_exporter": "python",
   "pygments_lexer": "ipython3",
   "version": "3.11.7"
  }
 },
 "nbformat": 4,
 "nbformat_minor": 5
}
