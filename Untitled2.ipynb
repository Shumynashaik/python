{
 "cells": [
  {
   "cell_type": "markdown",
   "id": "c9ce51a5-ed80-42c7-8ba7-9b1aed6e67c0",
   "metadata": {},
   "source": [
    "**creating helloo folder with file test1.txt**"
   ]
  },
  {
   "cell_type": "code",
   "execution_count": 52,
   "id": "5e4ff5ce-eab0-4398-97f1-4ffe4d57de4a",
   "metadata": {},
   "outputs": [
    {
     "name": "stdout",
     "output_type": "stream",
     "text": [
      "C:\\Users\\india\\Documents\\Naresh IT\\python\\helloo\n"
     ]
    }
   ],
   "source": [
    "import os\n",
    "cwd=os.getcwd()\n",
    "folder_name='helloo'\n",
    "s=os.path.join(os.getcwd(),folder_name)\n",
    "os.makedirs(s)\n",
    "print(s)"
   ]
  },
  {
   "cell_type": "code",
   "execution_count": 56,
   "id": "abd5c8ee-d14c-4039-b033-e4ad7df42fc2",
   "metadata": {},
   "outputs": [],
   "source": [
    "os.chdir(s)"
   ]
  },
  {
   "cell_type": "code",
   "execution_count": 57,
   "id": "f3a27e57-d380-4255-8feb-ca1ac3abbcb1",
   "metadata": {},
   "outputs": [
    {
     "data": {
      "text/plain": [
       "'C:\\\\Users\\\\india\\\\Documents\\\\Naresh IT\\\\python\\\\helloo'"
      ]
     },
     "execution_count": 57,
     "metadata": {},
     "output_type": "execute_result"
    }
   ],
   "source": [
    "pwd()"
   ]
  },
  {
   "cell_type": "code",
   "execution_count": 58,
   "id": "a1d2cf39-2029-416b-bbae-3e0129dfea61",
   "metadata": {},
   "outputs": [
    {
     "name": "stdout",
     "output_type": "stream",
     "text": [
      "76\n"
     ]
    }
   ],
   "source": [
    "file_name='test1.txt'\n",
    "path=os.path.join(s,file_name)\n",
    "with open(path,mode='w') as  file:\n",
    "    data=file.write('hello how are you...the weather is treating me fine i hope the same with you')\n",
    "print(data)"
   ]
  },
  {
   "cell_type": "code",
   "execution_count": 59,
   "id": "ec6489e6-6190-468c-9bd0-2f3df233627e",
   "metadata": {},
   "outputs": [
    {
     "data": {
      "text/plain": [
       "'hello how are you...the weather is treating me fine i hope the same with you'"
      ]
     },
     "execution_count": 59,
     "metadata": {},
     "output_type": "execute_result"
    }
   ],
   "source": [
    "with open(path,mode='r') as  file:\n",
    "    data=file.read()\n",
    "data"
   ]
  },
  {
   "cell_type": "code",
   "execution_count": 61,
   "id": "392cd1d3-f7dd-47b6-a044-98f7db0c4cfb",
   "metadata": {},
   "outputs": [
    {
     "name": "stdout",
     "output_type": "stream",
     "text": [
      "hello how are you...the weather is treating me fine i hope the same with you\n"
     ]
    }
   ],
   "source": [
    "path='test1.txt'\n",
    "file=open(path)\n",
    "data=file.read()\n",
    "print(data)"
   ]
  },
  {
   "cell_type": "code",
   "execution_count": 63,
   "id": "92bd66d8-e4f1-4537-9813-18512f9fb54c",
   "metadata": {},
   "outputs": [
    {
     "data": {
      "text/plain": [
       "'test1.txt'"
      ]
     },
     "execution_count": 63,
     "metadata": {},
     "output_type": "execute_result"
    }
   ],
   "source": [
    "path=r'test1.txt'\n",
    "path"
   ]
  },
  {
   "cell_type": "markdown",
   "id": "514750b5-db31-4724-9536-dc47e2c17cb5",
   "metadata": {},
   "source": [
    "**in helloo folder creating hello folder with file test2**"
   ]
  },
  {
   "cell_type": "code",
   "execution_count": 66,
   "id": "6b77096b-44c3-4ce2-927d-220005379e2e",
   "metadata": {},
   "outputs": [
    {
     "name": "stdout",
     "output_type": "stream",
     "text": [
      "C:\\Users\\india\\Documents\\Naresh IT\\python\\helloo\\hello\n"
     ]
    }
   ],
   "source": [
    "folder_name='hello'\n",
    "n1=os.path.join(os.getcwd(),folder_name)\n",
    "os.makedirs(n1)\n",
    "print(n1)"
   ]
  },
  {
   "cell_type": "code",
   "execution_count": 68,
   "id": "21c366df-34b5-4cc0-85ad-510c9347c094",
   "metadata": {},
   "outputs": [
    {
     "name": "stdout",
     "output_type": "stream",
     "text": [
      "20\n"
     ]
    }
   ],
   "source": [
    "file_name='test2.txt'\n",
    "path=os.path.join(n1,file_name)\n",
    "with open(path,mode='w') as file:\n",
    "    data=file.write('hi tomm...hey jerryy')\n",
    "print(data)"
   ]
  },
  {
   "cell_type": "code",
   "execution_count": 69,
   "id": "d195c63b-2d17-4dcb-b29a-a4023f3f8232",
   "metadata": {},
   "outputs": [
    {
     "name": "stdout",
     "output_type": "stream",
     "text": [
      "hi tomm...hey jerryy\n"
     ]
    }
   ],
   "source": [
    "with open(path,mode='r') as file:\n",
    "    data=file.read()\n",
    "print(data)"
   ]
  },
  {
   "cell_type": "code",
   "execution_count": 72,
   "id": "2347bdf2-edb7-4f79-9e56-27d284a8696a",
   "metadata": {},
   "outputs": [
    {
     "name": "stdout",
     "output_type": "stream",
     "text": [
      "8\n"
     ]
    }
   ],
   "source": [
    "file_name='test2.txt'\n",
    "path=os.path.join(n1,file_name)\n",
    "with open(path,mode='a') as file:\n",
    "    data=file.write(' hellooo')\n",
    "print(data)"
   ]
  },
  {
   "cell_type": "code",
   "execution_count": 73,
   "id": "93117274-2dc0-4d9c-9902-bbc8954a0e76",
   "metadata": {},
   "outputs": [
    {
     "name": "stdout",
     "output_type": "stream",
     "text": [
      "hi tomm...hey jerryyhellooo hellooo\n"
     ]
    }
   ],
   "source": [
    "with open(path,mode='r') as file:\n",
    "    data=file.read()\n",
    "print(data)"
   ]
  },
  {
   "cell_type": "code",
   "execution_count": null,
   "id": "f203051c-b912-477a-af1e-5200dfb421af",
   "metadata": {},
   "outputs": [],
   "source": []
  },
  {
   "cell_type": "code",
   "execution_count": null,
   "id": "5bf39e8e-f2f9-46a2-bb8e-a748e0d398d6",
   "metadata": {},
   "outputs": [],
   "source": []
  },
  {
   "cell_type": "code",
   "execution_count": null,
   "id": "ac1d0a3f-9733-479f-a38d-6d3de1225348",
   "metadata": {},
   "outputs": [],
   "source": []
  }
 ],
 "metadata": {
  "kernelspec": {
   "display_name": "Python 3 (ipykernel)",
   "language": "python",
   "name": "python3"
  },
  "language_info": {
   "codemirror_mode": {
    "name": "ipython",
    "version": 3
   },
   "file_extension": ".py",
   "mimetype": "text/x-python",
   "name": "python",
   "nbconvert_exporter": "python",
   "pygments_lexer": "ipython3",
   "version": "3.11.7"
  }
 },
 "nbformat": 4,
 "nbformat_minor": 5
}
