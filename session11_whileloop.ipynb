{
 "cells": [
  {
   "cell_type": "markdown",
   "id": "e22e9218-6f4f-42ac-8647-2991b87bea1f",
   "metadata": {},
   "source": [
    "## WHILE LOOP"
   ]
  },
  {
   "cell_type": "markdown",
   "id": "b460d897-35b4-4240-bee5-bbbfd5290125",
   "metadata": {},
   "source": [
    "**LOOPS**\n",
    "- for loop\n",
    "- while loop:if you want to run an infinite iterations will choose while loop\n",
    "- every loop we need three things:\n",
    "   - initial point(starting point)\n",
    "   - increment or decrement\n",
    "   - condition(stop point)"
   ]
  },
  {
   "cell_type": "markdown",
   "id": "2dd8a64e-9ac3-4734-ac86-07544e8a5457",
   "metadata": {},
   "source": [
    "- in for loop all three things mentioned in a single line:range(start,stop,step)\n",
    "- in while loop we will use these three things,in as a three lines"
   ]
  },
  {
   "cell_type": "code",
   "execution_count": null,
   "id": "8a654049-5b21-4cbc-bbf2-af53694223f5",
   "metadata": {},
   "outputs": [],
   "source": [
    "#syntax\n",
    "<start point>\n",
    "while<how to stop>:\n",
    "    code line1\n",
    "    code line2\n",
    "    :\n",
    "    <increment or decrement>"
   ]
  },
  {
   "cell_type": "code",
   "execution_count": 2,
   "id": "5fa220c0-9f46-45bd-890e-7d3772d0bfdd",
   "metadata": {},
   "outputs": [
    {
     "name": "stdout",
     "output_type": "stream",
     "text": [
      "1\n"
     ]
    }
   ],
   "source": [
    "i=1\n",
    "while i<2:\n",
    "    print(i)\n",
    "    i=i+1"
   ]
  },
  {
   "cell_type": "code",
   "execution_count": 4,
   "id": "edea22bc-c748-42b9-a2ae-f53f9ed7818e",
   "metadata": {},
   "outputs": [
    {
     "name": "stdout",
     "output_type": "stream",
     "text": [
      "1  2  3  4  5  6  7  8  9  "
     ]
    }
   ],
   "source": [
    "i=1\n",
    "while i<10:\n",
    "    print(i,end=\"  \")\n",
    "    i=i+1"
   ]
  },
  {
   "cell_type": "code",
   "execution_count": 8,
   "id": "25b9640c-84b0-4d6e-82e5-0589b0fe5b29",
   "metadata": {},
   "outputs": [
    {
     "name": "stdout",
     "output_type": "stream",
     "text": [
      "1  2  3  4  5  6  7  8  9  10  "
     ]
    }
   ],
   "source": [
    "i=1\n",
    "while i<11:\n",
    "    print(i,end=\"  \")\n",
    "    i=i+1"
   ]
  },
  {
   "cell_type": "code",
   "execution_count": null,
   "id": "390f1347-84e8-475a-9ac8-86ef0d330ef8",
   "metadata": {},
   "outputs": [],
   "source": [
    "i=1\n",
    "while i==10:\n",
    "    print(i,end=\"  \")\n",
    "    i=i+1\n",
    "#no error no answer"
   ]
  },
  {
   "cell_type": "code",
   "execution_count": null,
   "id": "47360add-32f4-46fb-b554-2048a51c890d",
   "metadata": {},
   "outputs": [],
   "source": [
    "i=1\n",
    "while i<11:\n",
    "    print(i,end=\"  \")\n",
    "    i=i-1 \n",
    "#step-1: i=1 while 1<11 true print(i) i=1-1 i=0"
   ]
  },
  {
   "cell_type": "code",
   "execution_count": null,
   "id": "b264acab-ab5e-414e-bf87-6314477a944c",
   "metadata": {},
   "outputs": [],
   "source": [
    "i=1\n",
    "while i<11:\n",
    "    print(i,end=\"  \")\n",
    "    i=i-1 \n",
    "    if i==-10\n",
    "    break"
   ]
  },
  {
   "cell_type": "code",
   "execution_count": 5,
   "id": "2cb82043-1189-49bb-bf20-8e1e8be94d14",
   "metadata": {},
   "outputs": [
    {
     "name": "stdout",
     "output_type": "stream",
     "text": [
      "20 19 18 17 16 15 14 13 12 11 10 9 8 7 6 5 4 3 2 1 "
     ]
    }
   ],
   "source": [
    "i=20\n",
    "while i>=1:\n",
    "    print(i,end=\" \")\n",
    "    i=i-1"
   ]
  },
  {
   "cell_type": "code",
   "execution_count": 4,
   "id": "40902789-e9a2-4a67-ad80-82478e9de5a7",
   "metadata": {},
   "outputs": [
    {
     "name": "stdout",
     "output_type": "stream",
     "text": [
      "-20 -19 -18 -17 -16 -15 -14 -13 -12 -11 -10 -9 -8 -7 -6 -5 -4 -3 -2 -1 "
     ]
    }
   ],
   "source": [
    "i=-20\n",
    "while i<=-1:\n",
    "    print(i,end=\" \")\n",
    "    i=i+1"
   ]
  },
  {
   "cell_type": "markdown",
   "id": "4e887480-f08c-4814-a7a8-3f5b5ca18110",
   "metadata": {},
   "source": [
    "**True**\n",
    "- if you don't know aboutvalid condition to enter inside while loop\n",
    "- then use **True**\n",
    "- true will give entry pass irrespective of the condition\n",
    "- but if you want to come out we need to apply of condition and break inside while loop\n",
    "  "
   ]
  },
  {
   "cell_type": "code",
   "execution_count": 4,
   "id": "310f8ecd-021a-4a14-aa43-a55b9de48a40",
   "metadata": {},
   "outputs": [
    {
     "name": "stdout",
     "output_type": "stream",
     "text": [
      "1  2  3  4  5  6  7  8  9  10  "
     ]
    }
   ],
   "source": [
    "i=1\n",
    "while True:\n",
    "    print(i,end=\"  \")\n",
    "    i=i+1\n",
    "    if i==11:\n",
    "        break"
   ]
  },
  {
   "cell_type": "code",
   "execution_count": 2,
   "id": "5630611f-7567-4887-96d7-aa7dc152f87d",
   "metadata": {},
   "outputs": [
    {
     "name": "stdout",
     "output_type": "stream",
     "text": [
      "20  19  18  17  16  15  14  13  12  11  10  9  8  7  6  5  4  3  2  1  "
     ]
    }
   ],
   "source": [
    "i=20\n",
    "while True:\n",
    "    print(i,end=\"  \")\n",
    "    i=i-1\n",
    "    if i==0:\n",
    "        break"
   ]
  },
  {
   "cell_type": "code",
   "execution_count": 3,
   "id": "004ad0ca-00d9-4af5-86ea-80d927e1d644",
   "metadata": {},
   "outputs": [
    {
     "name": "stdout",
     "output_type": "stream",
     "text": [
      "-20  -19  -18  -17  -16  -15  -14  -13  -12  -11  -10  -9  -8  -7  -6  -5  -4  -3  -2  -1  "
     ]
    }
   ],
   "source": [
    "i=-20\n",
    "while True:\n",
    "    print(i,end=\"  \")\n",
    "    i=i+1\n",
    "    if i==0:\n",
    "        break"
   ]
  },
  {
   "cell_type": "code",
   "execution_count": 1,
   "id": "50e9c7e3-e948-4be0-ba1d-876e5b4271c1",
   "metadata": {},
   "outputs": [
    {
     "name": "stdout",
     "output_type": "stream",
     "text": [
      "-19  -18  -17  -16  -15  -14  -13  -12  -11  -10  -9  -8  -7  -6  -5  -4  -3  -2  -1  0  1  "
     ]
    }
   ],
   "source": [
    "i=-20\n",
    "while i<1:\n",
    "    i=i+1\n",
    "    print(i,end=\"  \") "
   ]
  },
  {
   "cell_type": "markdown",
   "id": "9ca82c89-4b23-4745-899c-8a801060e453",
   "metadata": {},
   "source": [
    "1.take a random number between 1 to 100 print it is a even number and odd number you need to generate 3 random number\n",
    "\n"
   ]
  },
  {
   "cell_type": "code",
   "execution_count": 7,
   "id": "97b30166-93f0-4ad5-9c37-e1e938b5d3f3",
   "metadata": {},
   "outputs": [
    {
     "name": "stdout",
     "output_type": "stream",
     "text": [
      "79-the number is odd\n",
      "83-the number is odd\n",
      "41-the number is odd\n"
     ]
    }
   ],
   "source": [
    "import random\n",
    "i=0\n",
    "while i<3:\n",
    "    n=random.randint(1,100)\n",
    "    if n%2==0:\n",
    "        print(f\"{n}-the number is even\")\n",
    "    else:\n",
    "        print(f\"{n}-the number is odd\")\n",
    "    i=i+1"
   ]
  },
  {
   "cell_type": "markdown",
   "id": "4fa27d54-dc2f-41da-b0bb-eda3edb5d00c",
   "metadata": {},
   "source": [
    "2.wap ask the user print the number is even or odd between 10 to 20"
   ]
  },
  {
   "cell_type": "code",
   "execution_count": 12,
   "id": "7a003ff9-439b-4f51-a806-881a8c872bbb",
   "metadata": {},
   "outputs": [
    {
     "name": "stdout",
     "output_type": "stream",
     "text": [
      "13-the number is odd\n",
      "10-the number is even\n",
      "18-the number is even\n"
     ]
    }
   ],
   "source": [
    "import random\n",
    "i=0\n",
    "while i<3:\n",
    "    n=random.randint(10,20)\n",
    "    if n%2==0:\n",
    "        print(f\"{n}-the number is even\")\n",
    "    else:\n",
    "        print(f\"{n}-the number is odd\")\n",
    "    i=i+1"
   ]
  },
  {
   "cell_type": "markdown",
   "id": "4ca9c5eb-7702-43c2-85fa-aac3baba1292",
   "metadata": {},
   "source": [
    "3.wap ask the user print the square of the number between 20 to 25"
   ]
  },
  {
   "cell_type": "code",
   "execution_count": 5,
   "id": "e29c9839-fc4d-44ca-8052-92bfd1801d88",
   "metadata": {},
   "outputs": [
    {
     "name": "stdin",
     "output_type": "stream",
     "text": [
      "enter the number 20-25 24\n"
     ]
    },
    {
     "name": "stdout",
     "output_type": "stream",
     "text": [
      "576\n"
     ]
    },
    {
     "name": "stdin",
     "output_type": "stream",
     "text": [
      "enter the number 20-25 23\n"
     ]
    },
    {
     "name": "stdout",
     "output_type": "stream",
     "text": [
      "529\n"
     ]
    },
    {
     "name": "stdin",
     "output_type": "stream",
     "text": [
      "enter the number 20-25 25\n"
     ]
    },
    {
     "name": "stdout",
     "output_type": "stream",
     "text": [
      "625\n"
     ]
    }
   ],
   "source": [
    "i=0\n",
    "while True:\n",
    "    n=eval(input(\"enter the number 20-25\"))\n",
    "    p=n*n\n",
    "    print(p)\n",
    "    i=i+1\n",
    "    if i==3:\n",
    "        break"
   ]
  },
  {
   "cell_type": "markdown",
   "id": "ad33914f-18c3-4a42-ab59-9e1365be125b",
   "metadata": {},
   "source": [
    "4.WAP ask the user enter number three times find the square of the number How many times loop should run"
   ]
  },
  {
   "cell_type": "code",
   "execution_count": null,
   "id": "375e4faa-f330-4e14-9f0b-d0ee86c23dfc",
   "metadata": {},
   "outputs": [],
   "source": [
    "for i in range(3):\n",
    "    user_input=eval(input(\"enter a number\"))\n",
    "    print(user_input**2,end=' ')"
   ]
  },
  {
   "cell_type": "code",
   "execution_count": 7,
   "id": "f77442c7-1abc-430c-ad01-9b583fa01c9a",
   "metadata": {},
   "outputs": [
    {
     "name": "stdin",
     "output_type": "stream",
     "text": [
      "enter a number 3\n"
     ]
    },
    {
     "name": "stdout",
     "output_type": "stream",
     "text": [
      "9\n"
     ]
    },
    {
     "name": "stdin",
     "output_type": "stream",
     "text": [
      "enter a number 4\n"
     ]
    },
    {
     "name": "stdout",
     "output_type": "stream",
     "text": [
      "16\n"
     ]
    },
    {
     "name": "stdin",
     "output_type": "stream",
     "text": [
      "enter a number 5\n"
     ]
    },
    {
     "name": "stdout",
     "output_type": "stream",
     "text": [
      "25\n"
     ]
    }
   ],
   "source": [
    "i=0\n",
    "while i<3:\n",
    "    n=eval(input(\"enter a number\"))\n",
    "    p=n*n\n",
    "    print(p)\n",
    "    i=i+1\n",
    "    if i==3:\n",
    "        break"
   ]
  },
  {
   "cell_type": "markdown",
   "id": "597f6b8d-1d84-4c4a-934e-dc8823bd0cad",
   "metadata": {},
   "source": [
    "5.print the 14th table"
   ]
  },
  {
   "cell_type": "code",
   "execution_count": 9,
   "id": "dd05dc8d-c759-4b7e-9ca2-d0aa135c15d0",
   "metadata": {},
   "outputs": [
    {
     "name": "stdin",
     "output_type": "stream",
     "text": [
      "enter a number 14\n"
     ]
    },
    {
     "name": "stdout",
     "output_type": "stream",
     "text": [
      "14x0=0\n",
      "14x1=14\n",
      "14x2=28\n",
      "14x3=42\n",
      "14x4=56\n",
      "14x5=70\n",
      "14x6=84\n",
      "14x7=98\n",
      "14x8=112\n",
      "14x9=126\n",
      "14x10=140\n"
     ]
    }
   ],
   "source": [
    "i=0\n",
    "user_input=eval(input(\"enter a number\"))\n",
    "while i<11:\n",
    "    p=user_input*i\n",
    "    print(f\"{user_input}x{i}={p}\")\n",
    "    i=i+1\n",
    "    "
   ]
  },
  {
   "cell_type": "markdown",
   "id": "5c3cf01b-087f-4c88-aca0-c2970c45716c",
   "metadata": {},
   "source": [
    "6.Find the factors of 75"
   ]
  },
  {
   "cell_type": "code",
   "execution_count": 5,
   "id": "904dea53-3ff3-44af-9e2a-46ba25e5492c",
   "metadata": {},
   "outputs": [
    {
     "name": "stdin",
     "output_type": "stream",
     "text": [
      "enter a number 75\n"
     ]
    },
    {
     "name": "stdout",
     "output_type": "stream",
     "text": [
      "1 3 5 15 25 75 "
     ]
    }
   ],
   "source": [
    "user_input=eval(input(\"enter a number\"))\n",
    "i=1\n",
    "while i<=user_input:\n",
    "    if user_input%i==0:\n",
    "        print(i,end=' ')\n",
    "    i=i+1  "
   ]
  },
  {
   "cell_type": "markdown",
   "id": "5075378c-fa6c-4ea2-996e-4de3e48ddd54",
   "metadata": {},
   "source": [
    "7.Write the sum of first 10 Natural numbers"
   ]
  },
  {
   "cell_type": "code",
   "execution_count": 15,
   "id": "26ad4625-dee3-47d7-85c4-b1e9cb6c6b78",
   "metadata": {},
   "outputs": [
    {
     "name": "stdout",
     "output_type": "stream",
     "text": [
      "55\n"
     ]
    }
   ],
   "source": [
    "summ=0\n",
    "i=1\n",
    "while i<=10:\n",
    "    summ=summ+i\n",
    "    i=i+1\n",
    "print(summ)"
   ]
  },
  {
   "cell_type": "markdown",
   "id": "81bdf545-0414-4d30-a73a-0cae0d09a39b",
   "metadata": {},
   "source": [
    "8.Average first 1 to 10 numbers"
   ]
  },
  {
   "cell_type": "code",
   "execution_count": 17,
   "id": "71bc3ff1-df8a-4c9e-be38-692e45945d32",
   "metadata": {},
   "outputs": [
    {
     "name": "stdin",
     "output_type": "stream",
     "text": [
      "enter a number 10\n"
     ]
    },
    {
     "name": "stdout",
     "output_type": "stream",
     "text": [
      "5.5\n"
     ]
    }
   ],
   "source": [
    "summ=0\n",
    "n=eval(input(\"enter a number:\"))\n",
    "i=1\n",
    "while i<=10:\n",
    "    summ=summ+i\n",
    "    i=i+1\n",
    "print(summ/n)"
   ]
  },
  {
   "cell_type": "markdown",
   "id": "ba69c337-dda4-4a6d-95fe-e54a80fbd955",
   "metadata": {},
   "source": [
    "9.Find the number of divisors of 75"
   ]
  },
  {
   "cell_type": "code",
   "execution_count": 18,
   "id": "659b6219-02dd-45c8-9e31-9cb38b1400bb",
   "metadata": {},
   "outputs": [
    {
     "name": "stdin",
     "output_type": "stream",
     "text": [
      "enter the number 75\n"
     ]
    },
    {
     "name": "stdout",
     "output_type": "stream",
     "text": [
      "6\n"
     ]
    }
   ],
   "source": [
    "count=0\n",
    "num=eval(input(\"enter the number\"))\n",
    "i=1\n",
    "while i<=num:\n",
    "    if num%i==0:\n",
    "        count=count+1\n",
    "    i=i+1\n",
    "print(count)    "
   ]
  },
  {
   "cell_type": "markdown",
   "id": "8dde18dc-3968-41f7-aff4-d56d6f7aaf49",
   "metadata": {},
   "source": [
    "10.Get a random number between 1 to 10 : num1 Ask the user enter a number : num2 if num1 == num2 then print won else print fail"
   ]
  },
  {
   "cell_type": "code",
   "execution_count": 21,
   "id": "3615347d-5964-4781-9b89-e8e52d292995",
   "metadata": {},
   "outputs": [
    {
     "name": "stdin",
     "output_type": "stream",
     "text": [
      "enter the number 45\n"
     ]
    },
    {
     "name": "stdout",
     "output_type": "stream",
     "text": [
      "lost\n"
     ]
    },
    {
     "name": "stdin",
     "output_type": "stream",
     "text": [
      "enter the number 78\n"
     ]
    },
    {
     "name": "stdout",
     "output_type": "stream",
     "text": [
      "lost\n"
     ]
    },
    {
     "name": "stdin",
     "output_type": "stream",
     "text": [
      "enter the number 98\n"
     ]
    },
    {
     "name": "stdout",
     "output_type": "stream",
     "text": [
      "lost\n"
     ]
    }
   ],
   "source": [
    "import random\n",
    "i=0\n",
    "while i<3:\n",
    "    num1=random.randint(1,100)\n",
    "    num2=eval(input(\"enter the number\"))\n",
    "    if num1==num2:\n",
    "        print(\"hurray!!\")\n",
    "    else:\n",
    "        print(\"lost\")\n",
    "    i=i+1\n",
    "    "
   ]
  },
  {
   "cell_type": "code",
   "execution_count": 22,
   "id": "85ef5bb2-1448-49b5-b413-c41cce3104a8",
   "metadata": {},
   "outputs": [
    {
     "name": "stdin",
     "output_type": "stream",
     "text": [
      "enter the number 34\n"
     ]
    },
    {
     "name": "stdout",
     "output_type": "stream",
     "text": [
      "lost\n"
     ]
    },
    {
     "name": "stdin",
     "output_type": "stream",
     "text": [
      "enter the number 54\n"
     ]
    },
    {
     "name": "stdout",
     "output_type": "stream",
     "text": [
      "lost\n"
     ]
    },
    {
     "name": "stdin",
     "output_type": "stream",
     "text": [
      "enter the number 67\n"
     ]
    },
    {
     "name": "stdout",
     "output_type": "stream",
     "text": [
      "lost\n"
     ]
    }
   ],
   "source": [
    "# Case-2: whenever you won the code should stop\n",
    "import random\n",
    "i=0\n",
    "while i<3:\n",
    "    num1=random.randint(1,100)\n",
    "    num2=eval(input(\"enter the number\"))\n",
    "    if num1==num2:\n",
    "        print(\"hurray!!\")\n",
    "        break\n",
    "    else:\n",
    "        print(\"lost\")\n",
    "    i=i+1\n",
    "    "
   ]
  },
  {
   "cell_type": "code",
   "execution_count": 49,
   "id": "e9592e24-f0f3-4a14-93ca-71a08880c646",
   "metadata": {},
   "outputs": [
    {
     "name": "stdin",
     "output_type": "stream",
     "text": [
      "enter the number 23\n"
     ]
    },
    {
     "name": "stdout",
     "output_type": "stream",
     "text": [
      "lost\n",
      "you have 2 more chances\n"
     ]
    },
    {
     "name": "stdin",
     "output_type": "stream",
     "text": [
      "enter the number 23\n"
     ]
    },
    {
     "name": "stdout",
     "output_type": "stream",
     "text": [
      "lost\n",
      "you have 1 more chances\n"
     ]
    },
    {
     "name": "stdin",
     "output_type": "stream",
     "text": [
      "enter the number 4\n"
     ]
    },
    {
     "name": "stdout",
     "output_type": "stream",
     "text": [
      "lost\n",
      "you have 0 more chances\n",
      "try after 24 hrs\n"
     ]
    }
   ],
   "source": [
    " #Case-3:\n",
    "# Suppose i want to give 4 chances\n",
    "# Every time you fail I want to display\n",
    "#  Number of chances left\n",
    " # Case-2: whenever you won the code should stop\n",
    "import random\n",
    "count=0\n",
    "i=0\n",
    "while i<3:\n",
    "    num1=random.randint(1,100)\n",
    "    num2=eval(input(\"enter the number\"))\n",
    "    if num1==num2:\n",
    "        print(\"hurray!!\")\n",
    "        break\n",
    "    else:\n",
    "        print(\"lost\")\n",
    "        count=count+1\n",
    "        print(f\"you have {3-count} more chances\")\n",
    "    i=i+1\n",
    "if count==3:    \n",
    "    print(\"try after 24 hrs\")\n",
    " "
   ]
  },
  {
   "cell_type": "markdown",
   "id": "791e4783-3824-4c44-8475-945dd40de440",
   "metadata": {},
   "source": [
    "11.wap ask the user get 5 random numbers Get it is an even number or odd number also count how many even numbers are there and count how many odd numbers are there\n"
   ]
  },
  {
   "cell_type": "code",
   "execution_count": 2,
   "id": "02b31a61-ed05-4631-83a1-a5b5fdd338dc",
   "metadata": {},
   "outputs": [
    {
     "name": "stdout",
     "output_type": "stream",
     "text": [
      "odd 5-1\n",
      "odd 17-2\n",
      "odd 9-3\n",
      "even 14-1\n",
      "even 18-2\n"
     ]
    }
   ],
   "source": [
    "import random\n",
    "even_count=0\n",
    "odd_count=0\n",
    "i=0\n",
    "while i<5:\n",
    "    num=random.randint(1,20)\n",
    "    if num%2==0: \n",
    "        even_count=even_count+1\n",
    "        print(f\"even {num}-{even_count}\")\n",
    "    else:\n",
    "        odd_count=odd_count+1\n",
    "        print(f\"odd {num}-{odd_count}\")\n",
    "    i=i+1"
   ]
  },
  {
   "cell_type": "code",
   "execution_count": 4,
   "id": "3fd099d7-4551-4e4a-a81d-6b35aebaa36b",
   "metadata": {},
   "outputs": [
    {
     "name": "stdout",
     "output_type": "stream",
     "text": [
      "the number is even 2\n",
      "1\n",
      "the number is even 20\n",
      "2\n",
      "the number is even 4\n",
      "3\n",
      "the number is even 16\n",
      "4\n",
      "the number is odd 11\n",
      "1\n"
     ]
    }
   ],
   "source": [
    "import random\n",
    "even_count=0\n",
    "odd_count=0\n",
    "i=0\n",
    "while i<5:\n",
    "    num=random.randint(1,20)\n",
    "    if num%2==0: \n",
    "        print(f\"the number is even {num}\")\n",
    "        even_count=even_count+1\n",
    "        print(even_count)\n",
    "    else:\n",
    "        print(f\"the number is odd {num}\")\n",
    "        odd_count=odd_count+1\n",
    "        print(odd_count)\n",
    "    i=i+1"
   ]
  },
  {
   "cell_type": "markdown",
   "id": "9781da3d-edda-4723-9250-39b541ec666f",
   "metadata": {},
   "source": [
    "12. wap ask the user get 5 random numbers Get it is an even number or odd number also count how many even numbers are there and count how many odd numbers are there I want summ even numbers I want summ odd numbers\n"
   ]
  },
  {
   "cell_type": "code",
   "execution_count": 13,
   "id": "a432806a-bcd8-4036-bbf5-32444d0068e3",
   "metadata": {},
   "outputs": [
    {
     "name": "stdout",
     "output_type": "stream",
     "text": [
      "6\n",
      "the sum of even numbers46\n",
      "4\n",
      "the sum of even numbers20\n"
     ]
    }
   ],
   "source": [
    "import random\n",
    "even_count=0\n",
    "odd_count=0\n",
    "even_summ=0\n",
    "odd_summ=0\n",
    "i=0  \n",
    "while i<4:\n",
    "    num=random.randint(1,10)\n",
    "    if num%2==0: \n",
    "        even_count=even_count+1\n",
    "        even_summ=even_summ+num\n",
    "    else:\n",
    "        odd_count=odd_count+1\n",
    "        odd_summ=odd_summ+num\n",
    "        i=i+1\n",
    "print(even_count)\n",
    "print(f\"the sum of even numbers{even_summ}\")\n",
    "print(odd_count)\n",
    "print(f\"the sum of even numbers{odd_summ}\")"
   ]
  },
  {
   "cell_type": "code",
   "execution_count": null,
   "id": "7bc57c6b-492c-4162-b67f-bde9da85e785",
   "metadata": {},
   "outputs": [],
   "source": [
    "#take a random number between  1 to 100\n",
    "# print it is a even number and odd number\n",
    "# you need to generate 3 random number\n"
   ]
  },
  {
   "cell_type": "code",
   "execution_count": null,
   "id": "6a59f2a3-c1cc-4e06-bbac-9d39480ff8f4",
   "metadata": {},
   "outputs": [],
   "source": []
  },
  {
   "cell_type": "code",
   "execution_count": null,
   "id": "a5bebea1-c4d2-4463-81e0-5f983cf8cc6d",
   "metadata": {},
   "outputs": [],
   "source": []
  },
  {
   "cell_type": "code",
   "execution_count": null,
   "id": "5b491d9c-2ce9-4a62-ab18-959cc0492685",
   "metadata": {},
   "outputs": [],
   "source": []
  },
  {
   "cell_type": "code",
   "execution_count": null,
   "id": "a5041a29-8c43-4895-a415-2466b0633df5",
   "metadata": {},
   "outputs": [],
   "source": []
  },
  {
   "cell_type": "code",
   "execution_count": null,
   "id": "7b6d27dd-8afb-4995-abbb-153814de3d73",
   "metadata": {},
   "outputs": [],
   "source": []
  }
 ],
 "metadata": {
  "kernelspec": {
   "display_name": "Python 3 (ipykernel)",
   "language": "python",
   "name": "python3"
  },
  "language_info": {
   "codemirror_mode": {
    "name": "ipython",
    "version": 3
   },
   "file_extension": ".py",
   "mimetype": "text/x-python",
   "name": "python",
   "nbconvert_exporter": "python",
   "pygments_lexer": "ipython3",
   "version": "3.11.7"
  }
 },
 "nbformat": 4,
 "nbformat_minor": 5
}
