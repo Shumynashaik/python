{
 "cells": [
  {
   "cell_type": "code",
   "execution_count": 1,
   "id": "ffa0afc5-8291-4799-ba14-877e2c00b27a",
   "metadata": {},
   "outputs": [
    {
     "data": {
      "text/plain": [
       "'True'"
      ]
     },
     "execution_count": 1,
     "metadata": {},
     "output_type": "execute_result"
    }
   ],
   "source": [
    "str('True')"
   ]
  },
  {
   "cell_type": "code",
   "execution_count": 2,
   "id": "8c4c40e5-4d52-446c-955a-b1946d45be6a",
   "metadata": {},
   "outputs": [
    {
     "data": {
      "text/plain": [
       "'100.5'"
      ]
     },
     "execution_count": 2,
     "metadata": {},
     "output_type": "execute_result"
    }
   ],
   "source": [
    "str('100.5')"
   ]
  },
  {
   "cell_type": "code",
   "execution_count": 1,
   "id": "90c0ec81-eb81-4f6d-bdcb-13c4697e2999",
   "metadata": {},
   "outputs": [
    {
     "name": "stdin",
     "output_type": "stream",
     "text": [
      "enter a number: 9\n"
     ]
    },
    {
     "name": "stdout",
     "output_type": "stream",
     "text": [
      "9\n",
      "9.0\n",
      "True\n",
      "9\n"
     ]
    }
   ],
   "source": [
    "n1=int(input(\"enter a number:\"))\n",
    "print(int(n1))\n",
    "print(float(n1))\n",
    "print(bool(n1))\n",
    "print(str(n1))"
   ]
  },
  {
   "cell_type": "code",
   "execution_count": null,
   "id": "988a8653-1684-4a97-802d-1363192175bd",
   "metadata": {},
   "outputs": [
    {
     "name": "stdin",
     "output_type": "stream",
     "text": [
      "enter a number: 8\n"
     ]
    },
    {
     "name": "stdout",
     "output_type": "stream",
     "text": [
      "8.0\n",
      "True\n",
      "8\n"
     ]
    },
    {
     "name": "stdin",
     "output_type": "stream",
     "text": [
      "enter a name: 9.0\n"
     ]
    },
    {
     "name": "stdout",
     "output_type": "stream",
     "text": [
      "True\n"
     ]
    },
    {
     "name": "stdin",
     "output_type": "stream",
     "text": [
      "enter a number: 99.00\n"
     ]
    },
    {
     "name": "stdout",
     "output_type": "stream",
     "text": [
      "99\n",
      "99.0\n",
      "True\n"
     ]
    }
   ],
   "source": [
    "# int to other data types\n",
    "n1=int(input(\"enter a number:\"))\n",
    "print(float(n1))\n",
    "print(bool(n1))\n",
    "print(str(n1))\n",
    "# str to other data types\n",
    "n1=input(\"enter a name:\")\n",
    "print(bool(n1))\n",
    "# float to other data types\n",
    "n1=float(input(\"enter a number:\"))\n",
    "print(int(n1))\n",
    "print(str(n1))\n",
    "print(bool(n1))\n",
    "#  boolto other data types\n",
    "n1=bool(input(\"enter a number:\"))\n",
    "print(int(n1))\n",
    "print(str(n1))\n",
    "print(float(n1))"
   ]
  },
  {
   "cell_type": "code",
   "execution_count": 16,
   "id": "2e4c6307-8870-4a8d-baae-7c3a847a673f",
   "metadata": {},
   "outputs": [
    {
     "name": "stdin",
     "output_type": "stream",
     "text": [
      "enter the number 4\n"
     ]
    },
    {
     "name": "stdout",
     "output_type": "stream",
     "text": [
      "lost\n",
      "you have 3 more chances\n"
     ]
    },
    {
     "name": "stdin",
     "output_type": "stream",
     "text": [
      "enter the number 9\n"
     ]
    },
    {
     "name": "stdout",
     "output_type": "stream",
     "text": [
      "lost\n",
      "you have 2 more chances\n"
     ]
    },
    {
     "name": "stdin",
     "output_type": "stream",
     "text": [
      "enter the number 9\n"
     ]
    },
    {
     "name": "stdout",
     "output_type": "stream",
     "text": [
      "lost\n",
      "you have 1 more chances\n"
     ]
    },
    {
     "name": "stdin",
     "output_type": "stream",
     "text": [
      "enter the number 9\n"
     ]
    },
    {
     "name": "stdout",
     "output_type": "stream",
     "text": [
      "lost\n",
      "you have 0 more chances\n",
      "try after 24 hrs\n"
     ]
    }
   ],
   "source": [
    "import random\n",
    "for i in range(4):\n",
    "    num1=random.randint(1,10)\n",
    "    num2=eval(input(\"enter the number\"))\n",
    "    if num1==num2:\n",
    "        print(\"hurray!!\")\n",
    "        break\n",
    "    else:\n",
    "        print(\"lost\")\n",
    "        print(f\"you have {3-i} more chances\")\n",
    "    if i==3:\n",
    "        print(\"try after 24 hrs\")"
   ]
  },
  {
   "cell_type": "code",
   "execution_count": 2,
   "id": "e4a39a53-c888-4aa9-818f-96ac92962269",
   "metadata": {},
   "outputs": [
    {
     "name": "stdout",
     "output_type": "stream",
     "text": [
      "5\n",
      "the sum of even numbers16\n",
      "0\n",
      "the sum of even numbers0\n"
     ]
    }
   ],
   "source": [
    "import random\n",
    "even_count=0\n",
    "odd_count=0\n",
    "even_summ=0\n",
    "odd_summ=0\n",
    "for i in range (5):\n",
    "    num=random.randint(1,10)\n",
    "    if num%2==0: \n",
    "        even_count=even_count+1\n",
    "        even_summ=even_summ+num\n",
    "    else:\n",
    "        odd_count=odd_count+1\n",
    "        odd_summ=odd_summ+num\n",
    "print(even_count)\n",
    "print(f\"the sum of even numbers{even_summ}\")\n",
    "print(odd_count)\n",
    "print(f\"the sum of even numbers{odd_summ}\")"
   ]
  },
  {
   "cell_type": "code",
   "execution_count": 1,
   "id": "59fbe99a-0ad9-4f44-9e35-deec5f9dbecf",
   "metadata": {},
   "outputs": [
    {
     "name": "stdout",
     "output_type": "stream",
     "text": [
      "20 19 18 17 16 15 14 13 12 11 10 9 8 7 6 5 4 3 2 1 "
     ]
    }
   ],
   "source": [
    "i=20\n",
    "while i>0:\n",
    "    print(i,end=\" \")\n",
    "    i=i-1"
   ]
  },
  {
   "cell_type": "code",
   "execution_count": 2,
   "id": "31805968-44fe-4334-a551-7a993dd28401",
   "metadata": {},
   "outputs": [
    {
     "name": "stdout",
     "output_type": "stream",
     "text": [
      "-20 -19 -18 -17 -16 -15 -14 -13 -12 -11 -10 -9 -8 -7 -6 -5 -4 -3 -2 -1 "
     ]
    }
   ],
   "source": [
    "i=-20\n",
    "while i<0:\n",
    "    print(i,end=\" \")\n",
    "    i=i+1"
   ]
  },
  {
   "cell_type": "code",
   "execution_count": 2,
   "id": "40392a89-5e61-4923-8335-cde38917dde1",
   "metadata": {},
   "outputs": [
    {
     "ename": "UnboundLocalError",
     "evalue": "cannot access local variable 's' where it is not associated with a value",
     "output_type": "error",
     "traceback": [
      "\u001b[1;31m---------------------------------------------------------------------------\u001b[0m",
      "\u001b[1;31mUnboundLocalError\u001b[0m                         Traceback (most recent call last)",
      "Cell \u001b[1;32mIn[2], line 6\u001b[0m\n\u001b[0;32m      4\u001b[0m     s\u001b[38;5;241m=\u001b[39mc\n\u001b[0;32m      5\u001b[0m     \u001b[38;5;28mprint\u001b[39m(c)\n\u001b[1;32m----> 6\u001b[0m add()\n",
      "Cell \u001b[1;32mIn[2], line 3\u001b[0m, in \u001b[0;36madd\u001b[1;34m()\u001b[0m\n\u001b[0;32m      2\u001b[0m \u001b[38;5;28;01mdef\u001b[39;00m \u001b[38;5;21madd\u001b[39m():\n\u001b[1;32m----> 3\u001b[0m     s\u001b[38;5;241m=\u001b[39ms\u001b[38;5;241m+\u001b[39m\u001b[38;5;241m10\u001b[39m\n\u001b[0;32m      4\u001b[0m     s\u001b[38;5;241m=\u001b[39mc\n\u001b[0;32m      5\u001b[0m     \u001b[38;5;28mprint\u001b[39m(c)\n",
      "\u001b[1;31mUnboundLocalError\u001b[0m: cannot access local variable 's' where it is not associated with a value"
     ]
    }
   ],
   "source": [
    "s=0\n",
    "def add():\n",
    "    s=s+10\n",
    "    s=c\n",
    "    print(c)\n",
    "add()\n"
   ]
  },
  {
   "cell_type": "code",
   "execution_count": 16,
   "id": "97c2fd96-757b-4225-9615-a31c2ff0515a",
   "metadata": {},
   "outputs": [
    {
     "ename": "UnboundLocalError",
     "evalue": "cannot access local variable 'num2' where it is not associated with a value",
     "output_type": "error",
     "traceback": [
      "\u001b[1;31m---------------------------------------------------------------------------\u001b[0m",
      "\u001b[1;31mUnboundLocalError\u001b[0m                         Traceback (most recent call last)",
      "Cell \u001b[1;32mIn[16], line 5\u001b[0m\n\u001b[0;32m      3\u001b[0m     \u001b[38;5;28mprint\u001b[39m(num2)\n\u001b[0;32m      4\u001b[0m     num2\u001b[38;5;241m=\u001b[39m\u001b[38;5;241m100\u001b[39m\n\u001b[1;32m----> 5\u001b[0m fun2()\n\u001b[0;32m      6\u001b[0m \u001b[38;5;66;03m##\u001b[39;00m\n\u001b[0;32m      7\u001b[0m num2\u001b[38;5;241m=\u001b[39m\u001b[38;5;241m10\u001b[39m\u001b[38;5;66;03m# gv\u001b[39;00m\n",
      "Cell \u001b[1;32mIn[16], line 3\u001b[0m, in \u001b[0;36mfun2\u001b[1;34m()\u001b[0m\n\u001b[0;32m      2\u001b[0m \u001b[38;5;28;01mdef\u001b[39;00m \u001b[38;5;21mfun2\u001b[39m():\n\u001b[1;32m----> 3\u001b[0m     \u001b[38;5;28mprint\u001b[39m(num2)\n\u001b[0;32m      4\u001b[0m     num2\u001b[38;5;241m=\u001b[39m\u001b[38;5;241m100\u001b[39m\n",
      "\u001b[1;31mUnboundLocalError\u001b[0m: cannot access local variable 'num2' where it is not associated with a value"
     ]
    }
   ],
   "source": [
    "num2=10\n",
    "def fun2():\n",
    "    print(num2)\n",
    "    num2=100\n",
    "fun2()\n",
    "##\n",
    "num2=10# gv\n",
    "def fun2():\n",
    "    print(num2)\n",
    "    num2=100 # lv\n",
    "fun2()"
   ]
  },
  {
   "cell_type": "code",
   "execution_count": 6,
   "id": "850f0290-923e-4910-bbec-e340d63826c5",
   "metadata": {},
   "outputs": [
    {
     "ename": "UnboundLocalError",
     "evalue": "cannot access local variable 'a1' where it is not associated with a value",
     "output_type": "error",
     "traceback": [
      "\u001b[1;31m---------------------------------------------------------------------------\u001b[0m",
      "\u001b[1;31mUnboundLocalError\u001b[0m                         Traceback (most recent call last)",
      "Cell \u001b[1;32mIn[6], line 8\u001b[0m\n\u001b[0;32m      6\u001b[0m     b1\u001b[38;5;241m=\u001b[39m\u001b[38;5;241m80\u001b[39m\n\u001b[0;32m      7\u001b[0m     \u001b[38;5;28mprint\u001b[39m(add1)\n\u001b[1;32m----> 8\u001b[0m add13()\n",
      "Cell \u001b[1;32mIn[6], line 4\u001b[0m, in \u001b[0;36madd13\u001b[1;34m()\u001b[0m\n\u001b[0;32m      3\u001b[0m \u001b[38;5;28;01mdef\u001b[39;00m \u001b[38;5;21madd13\u001b[39m():\n\u001b[1;32m----> 4\u001b[0m     add1\u001b[38;5;241m=\u001b[39ma1\u001b[38;5;241m+\u001b[39mb1\n\u001b[0;32m      5\u001b[0m     a1\u001b[38;5;241m=\u001b[39m\u001b[38;5;241m700\u001b[39m\n\u001b[0;32m      6\u001b[0m     b1\u001b[38;5;241m=\u001b[39m\u001b[38;5;241m80\u001b[39m\n",
      "\u001b[1;31mUnboundLocalError\u001b[0m: cannot access local variable 'a1' where it is not associated with a value"
     ]
    }
   ],
   "source": [
    "a1=100\n",
    "b1=200\n",
    "def add13():\n",
    "    add1=a1+b1\n",
    "    a1=700\n",
    "    b1=80\n",
    "    print(add1)\n",
    "add13()"
   ]
  },
  {
   "cell_type": "code",
   "execution_count": 7,
   "id": "136254ec-cea0-4c77-bb8c-88179a716d58",
   "metadata": {},
   "outputs": [
    {
     "ename": "UnboundLocalError",
     "evalue": "cannot access local variable 'b21' where it is not associated with a value",
     "output_type": "error",
     "traceback": [
      "\u001b[1;31m---------------------------------------------------------------------------\u001b[0m",
      "\u001b[1;31mUnboundLocalError\u001b[0m                         Traceback (most recent call last)",
      "Cell \u001b[1;32mIn[7], line 7\u001b[0m\n\u001b[0;32m      5\u001b[0m     b21\u001b[38;5;241m=\u001b[39m\u001b[38;5;241m2000\u001b[39m\n\u001b[0;32m      6\u001b[0m     \u001b[38;5;28mprint\u001b[39m(add1)\n\u001b[1;32m----> 7\u001b[0m add21()\n",
      "Cell \u001b[1;32mIn[7], line 4\u001b[0m, in \u001b[0;36madd21\u001b[1;34m()\u001b[0m\n\u001b[0;32m      2\u001b[0m \u001b[38;5;28;01mdef\u001b[39;00m \u001b[38;5;21madd21\u001b[39m():\n\u001b[0;32m      3\u001b[0m     a21\u001b[38;5;241m=\u001b[39m\u001b[38;5;241m1000\u001b[39m\n\u001b[1;32m----> 4\u001b[0m     add1\u001b[38;5;241m=\u001b[39ma21\u001b[38;5;241m+\u001b[39mb21\n\u001b[0;32m      5\u001b[0m     b21\u001b[38;5;241m=\u001b[39m\u001b[38;5;241m2000\u001b[39m\n\u001b[0;32m      6\u001b[0m     \u001b[38;5;28mprint\u001b[39m(add1)\n",
      "\u001b[1;31mUnboundLocalError\u001b[0m: cannot access local variable 'b21' where it is not associated with a value"
     ]
    }
   ],
   "source": [
    "b21=200\n",
    "def add21():\n",
    "    a21=1000\n",
    "    add1=a21+b21\n",
    "    b21=2000\n",
    "    print(add1)\n",
    "add21()"
   ]
  },
  {
   "cell_type": "code",
   "execution_count": 8,
   "id": "cdbabb0c-6d8b-4eb3-aa55-7d8e5dab919b",
   "metadata": {},
   "outputs": [],
   "source": [
    "i=1\n",
    "while i==10:\n",
    "    print(i,end='')\n",
    "    i=i+1\n",
    "    "
   ]
  },
  {
   "cell_type": "code",
   "execution_count": 9,
   "id": "5d4d88e9-7fe2-41ea-876e-e4d04a4b16e2",
   "metadata": {},
   "outputs": [
    {
     "name": "stdout",
     "output_type": "stream",
     "text": [
      "1500\n"
     ]
    }
   ],
   "source": [
    "a1=100\n",
    "b1=200\n",
    "def add12():\n",
    "    a1=700\n",
    "    b1=800\n",
    "    add1=a1+b1\n",
    "    print(add1)\n",
    "add12()"
   ]
  },
  {
   "cell_type": "code",
   "execution_count": 10,
   "id": "27004541-60aa-4617-8efd-4b9094f8d6cf",
   "metadata": {},
   "outputs": [
    {
     "data": {
      "text/plain": [
       "'y'"
      ]
     },
     "execution_count": 10,
     "metadata": {},
     "output_type": "execute_result"
    }
   ],
   "source": [
    "str1='python123'\n",
    "max(str1)"
   ]
  },
  {
   "cell_type": "code",
   "execution_count": 11,
   "id": "a4d929ea-c527-4bff-933b-f78efb87b843",
   "metadata": {},
   "outputs": [
    {
     "name": "stdout",
     "output_type": "stream",
     "text": [
      "0j\n"
     ]
    }
   ],
   "source": [
    "a=complex()\n",
    "print(a)"
   ]
  },
  {
   "cell_type": "code",
   "execution_count": 13,
   "id": "e23e5df7-ddf8-4714-ab76-46a5f8957954",
   "metadata": {},
   "outputs": [
    {
     "data": {
      "text/plain": [
       "True"
      ]
     },
     "execution_count": 13,
     "metadata": {},
     "output_type": "execute_result"
    }
   ],
   "source": [
    "a='p'>'P'\n",
    "a"
   ]
  },
  {
   "cell_type": "code",
   "execution_count": 15,
   "id": "ff76f90b-e5ae-4f52-99cc-d83660eb4d41",
   "metadata": {},
   "outputs": [
    {
     "name": "stdout",
     "output_type": "stream",
     "text": [
      "780\n"
     ]
    }
   ],
   "source": [
    "a1=100\n",
    "b1=200\n",
    "def add13():\n",
    "    a1=700\n",
    "    b1=80\n",
    "    add1=a1+b1\n",
    "    print(add1)\n",
    "add13()"
   ]
  },
  {
   "cell_type": "code",
   "execution_count": 5,
   "id": "0cb50d13-65bd-4ddf-ab8b-11ea85d01282",
   "metadata": {},
   "outputs": [
    {
     "name": "stdout",
     "output_type": "stream",
     "text": [
      "omkar.nallagoni@cognizant.com 5\n",
      "15\n",
      "25\n"
     ]
    },
    {
     "ename": "TypeError",
     "evalue": "type 'str' is not subscriptable",
     "output_type": "error",
     "traceback": [
      "\u001b[1;31m---------------------------------------------------------------------------\u001b[0m",
      "\u001b[1;31mTypeError\u001b[0m                                 Traceback (most recent call last)",
      "Cell \u001b[1;32mIn[5], line 8\u001b[0m\n\u001b[0;32m      6\u001b[0m i3\u001b[38;5;241m=\u001b[39mstr1\u001b[38;5;241m.\u001b[39mindex(\u001b[38;5;124m'\u001b[39m\u001b[38;5;124m.\u001b[39m\u001b[38;5;124m'\u001b[39m,i1\u001b[38;5;241m+\u001b[39m\u001b[38;5;241m1\u001b[39m)\n\u001b[0;32m      7\u001b[0m \u001b[38;5;28mprint\u001b[39m(i3)\n\u001b[1;32m----> 8\u001b[0m f_n\u001b[38;5;241m=\u001b[39m\u001b[38;5;28mstr\u001b[39m[:i1]\n\u001b[0;32m      9\u001b[0m \u001b[38;5;28mprint\u001b[39m(f_n)\n",
      "\u001b[1;31mTypeError\u001b[0m: type 'str' is not subscriptable"
     ]
    }
   ],
   "source": [
    "str1='omkar.nallagoni@cognizant.com'\n",
    "i1=str1.index('.')\n",
    "print(str1,i1)\n",
    "i2=str1.index('@')\n",
    "print(i2)\n",
    "i3=str1.index('.',i1+1)\n",
    "print(i3)\n",
    "f_n=str[:i1]\n",
    "print(f_n)"
   ]
  },
  {
   "cell_type": "code",
   "execution_count": null,
   "id": "c187be3b-9fb0-456a-a7c5-5d482b72db7c",
   "metadata": {},
   "outputs": [],
   "source": [
    "str2='virat.kholi@rcb.com'\n",
    "str3='rohitsharma@mi.com'"
   ]
  },
  {
   "cell_type": "code",
   "execution_count": 1,
   "id": "2db4b4b3-9490-4308-a0f2-4b75b1d03210",
   "metadata": {},
   "outputs": [
    {
     "data": {
      "text/plain": [
       "['mumbai', 'chennai']"
      ]
     },
     "execution_count": 1,
     "metadata": {},
     "output_type": "execute_result"
    }
   ],
   "source": [
    "l1=['hyd','mumbai','chennai','blr']\n",
    "l2=[]\n",
    "for i in l1:\n",
    "    if len(i)>4:\n",
    "        l2.append(i)\n",
    "l2\n",
    "\n",
    "\n",
    "\n",
    "\n",
    "\n"
   ]
  },
  {
   "cell_type": "code",
   "execution_count": 1,
   "id": "389bed92-9535-4509-ae55-7bd70d81c753",
   "metadata": {},
   "outputs": [
    {
     "ename": "SyntaxError",
     "evalue": "invalid syntax (2272442995.py, line 3)",
     "output_type": "error",
     "traceback": [
      "\u001b[1;36m  Cell \u001b[1;32mIn[1], line 3\u001b[1;36m\u001b[0m\n\u001b[1;33m    l1 = lst1[i][:lst1[i].index('.') for i in lst1]\u001b[0m\n\u001b[1;37m                                     ^\u001b[0m\n\u001b[1;31mSyntaxError\u001b[0m\u001b[1;31m:\u001b[0m invalid syntax\n"
     ]
    }
   ],
   "source": [
    "str1='virat.kohli@rcb.com, Rohit.sharma@mi.co, KL.Rahul@lucknow.com'\n",
    "lst1=str1.split(\",\")\n",
    "l1 = lst1[i][:lst1[i].index('.') for i in lst1]\n",
    "l1"
   ]
  },
  {
   "cell_type": "code",
   "execution_count": 7,
   "id": "5c7b6b5a-1d93-4606-bce6-188736f16576",
   "metadata": {},
   "outputs": [
    {
     "name": "stdin",
     "output_type": "stream",
     "text": [
      " 45\n"
     ]
    },
    {
     "name": "stdout",
     "output_type": "stream",
     "text": [
      "weird\n"
     ]
    }
   ],
   "source": [
    " n = int(input().strip())\n",
    "if n%2!=0:\n",
    "    print('weird')\n",
    "elif n%2==0 and n<=5:\n",
    "    print('not weird')\n",
    "elif n%2==0 and n>=6 and n<=20:\n",
    "    print('wired')\n",
    "else:\n",
    "    print('not wired')"
   ]
  },
  {
   "cell_type": "code",
   "execution_count": null,
   "id": "d84e185e-0e25-4913-b780-487d1c6771e1",
   "metadata": {},
   "outputs": [],
   "source": []
  }
 ],
 "metadata": {
  "kernelspec": {
   "display_name": "Python 3 (ipykernel)",
   "language": "python",
   "name": "python3"
  },
  "language_info": {
   "codemirror_mode": {
    "name": "ipython",
    "version": 3
   },
   "file_extension": ".py",
   "mimetype": "text/x-python",
   "name": "python",
   "nbconvert_exporter": "python",
   "pygments_lexer": "ipython3",
   "version": "3.11.7"
  }
 },
 "nbformat": 4,
 "nbformat_minor": 5
}
