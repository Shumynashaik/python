{
 "cells": [
  {
   "cell_type": "markdown",
   "id": "ecb738b4-b42f-42f0-8a93-17c86490c1f8",
   "metadata": {},
   "source": [
    "# TYPE CASTING\n",
    "- convert one datatype to another data type is called as typecasting which means we can convert int all other data types similarly we convert other data types as well"
   ]
  },
  {
   "cell_type": "markdown",
   "id": "c0419cfb-4436-4b1e-856b-f04654ae1b54",
   "metadata": {},
   "source": [
    "**INTEGER To OTHER DATA TYPES**"
   ]
  },
  {
   "cell_type": "markdown",
   "id": "9349bf75-c3e6-4295-aaea-2f2107934aa0",
   "metadata": {},
   "source": [
    "$int-float$"
   ]
  },
  {
   "cell_type": "code",
   "execution_count": 83,
   "id": "7ff2ee7c-8181-4d08-9785-726a5064472c",
   "metadata": {},
   "outputs": [
    {
     "data": {
      "text/plain": [
       "int"
      ]
     },
     "execution_count": 83,
     "metadata": {},
     "output_type": "execute_result"
    }
   ],
   "source": [
    "num=100\n",
    "type(num)"
   ]
  },
  {
   "cell_type": "code",
   "execution_count": 84,
   "id": "732201d7-fdc6-4510-aa92-71089b9389fd",
   "metadata": {},
   "outputs": [
    {
     "data": {
      "text/plain": [
       "float"
      ]
     },
     "execution_count": 84,
     "metadata": {},
     "output_type": "execute_result"
    }
   ],
   "source": [
    "float_num=float(num)\n",
    "type(float_num)"
   ]
  },
  {
   "cell_type": "code",
   "execution_count": 85,
   "id": "1a9e6ff5-9912-49d9-816a-e78e4504d230",
   "metadata": {},
   "outputs": [
    {
     "ename": "TypeError",
     "evalue": "'str' object is not callable",
     "output_type": "error",
     "traceback": [
      "\u001b[1;31m---------------------------------------------------------------------------\u001b[0m",
      "\u001b[1;31mTypeError\u001b[0m                                 Traceback (most recent call last)",
      "Cell \u001b[1;32mIn[85], line 1\u001b[0m\n\u001b[1;32m----> 1\u001b[0m str_num\u001b[38;5;241m=\u001b[39m\u001b[38;5;28mstr\u001b[39m(num)\n\u001b[0;32m      2\u001b[0m \u001b[38;5;28mtype\u001b[39m(str_num)\n",
      "\u001b[1;31mTypeError\u001b[0m: 'str' object is not callable"
     ]
    }
   ],
   "source": [
    "str_num=str(num)\n",
    "type(str_num)"
   ]
  },
  {
   "cell_type": "code",
   "execution_count": null,
   "id": "980f9fbd-f5d3-4ec5-a250-55d54d9adf5f",
   "metadata": {},
   "outputs": [],
   "source": [
    "bool_num=bool(num)\n",
    "type(bool_num)"
   ]
  },
  {
   "cell_type": "code",
   "execution_count": null,
   "id": "3f46293f-4d90-4fc8-9b1b-f0ab5d529a5c",
   "metadata": {},
   "outputs": [],
   "source": [
    "float(200),str(200),bool(200)"
   ]
  },
  {
   "cell_type": "code",
   "execution_count": null,
   "id": "46d37db3-ef1c-4f88-8f18-fcee0b76fa3c",
   "metadata": {},
   "outputs": [],
   "source": [
    "float(-200),str(-200),bool(-200)"
   ]
  },
  {
   "cell_type": "markdown",
   "id": "6ba2c3aa-0248-4086-80d8-07346069d52a",
   "metadata": {},
   "source": [
    "# when integer of boolean conversion becomes flase when its 0 or nun"
   ]
  },
  {
   "cell_type": "code",
   "execution_count": null,
   "id": "e840593c-22ea-4de9-b0cc-ba7f66fcb401",
   "metadata": {},
   "outputs": [],
   "source": [
    "bool(0)"
   ]
  },
  {
   "cell_type": "markdown",
   "id": "a3c7e7e8-2adb-4b01-9dd4-f4fb3651fc08",
   "metadata": {},
   "source": [
    "## note\n",
    "- integer=0 then only boolean conversion becomes false"
   ]
  },
  {
   "cell_type": "code",
   "execution_count": null,
   "id": "e8a7706a-fbbd-4fd2-8d29-bfe98d1bb9cf",
   "metadata": {},
   "outputs": [],
   "source": [
    "int(200.5)#200\n",
    "str(200.5)#'200.5'\n",
    "bool(200.5)# true"
   ]
  },
  {
   "cell_type": "code",
   "execution_count": null,
   "id": "d0184cda-019f-4ac8-a601-fd02ecf290e8",
   "metadata": {},
   "outputs": [],
   "source": [
    "bool(0.0)"
   ]
  },
  {
   "cell_type": "markdown",
   "id": "f82432fa-f3c0-4e76-a777-01286f497403",
   "metadata": {},
   "source": [
    "## string to other datatypes"
   ]
  },
  {
   "cell_type": "code",
   "execution_count": null,
   "id": "16d1d925-70a9-47b3-a3c9-2a0f06a3a5ba",
   "metadata": {},
   "outputs": [],
   "source": [
    "str='apple'"
   ]
  },
  {
   "cell_type": "code",
   "execution_count": null,
   "id": "9cc18fe9-bc2a-44bf-a2f6-d2f85dbc8294",
   "metadata": {},
   "outputs": [],
   "source": [
    "int('apple')"
   ]
  },
  {
   "cell_type": "code",
   "execution_count": null,
   "id": "3a631f37-45f1-4274-b47d-7c291471065d",
   "metadata": {},
   "outputs": [],
   "source": [
    "float('apple')"
   ]
  },
  {
   "cell_type": "code",
   "execution_count": null,
   "id": "9d8521ee-b1ff-47c8-9856-8967e9f6ef28",
   "metadata": {},
   "outputs": [],
   "source": [
    "bool('apple')"
   ]
  },
  {
   "cell_type": "code",
   "execution_count": null,
   "id": "ed3a35a0-bd8a-4d54-a525-0d4594b13f9c",
   "metadata": {},
   "outputs": [],
   "source": [
    "str='10'"
   ]
  },
  {
   "cell_type": "code",
   "execution_count": null,
   "id": "bae686ac-0c36-4336-a568-17e29bfd4412",
   "metadata": {},
   "outputs": [],
   "source": [
    "int(10)"
   ]
  },
  {
   "cell_type": "code",
   "execution_count": null,
   "id": "cf2a523b-c536-4cd2-ba3e-22ad8841db04",
   "metadata": {},
   "outputs": [],
   "source": [
    "float('10')"
   ]
  },
  {
   "cell_type": "code",
   "execution_count": null,
   "id": "1b1a1a6f-f2ea-4f2f-825b-9aa38f2be342",
   "metadata": {},
   "outputs": [],
   "source": [
    "bool('10')"
   ]
  },
  {
   "cell_type": "code",
   "execution_count": null,
   "id": "51fb33e8-c32f-459f-a452-4c5bb6a05af5",
   "metadata": {},
   "outputs": [],
   "source": [
    "str='10.5'"
   ]
  },
  {
   "cell_type": "code",
   "execution_count": null,
   "id": "c279f8fb-62c9-459e-a030-3016f881aaac",
   "metadata": {},
   "outputs": [],
   "source": [
    "int('10.5')"
   ]
  },
  {
   "cell_type": "code",
   "execution_count": null,
   "id": "88af40f7-8e49-464d-923d-487ba4345a6c",
   "metadata": {},
   "outputs": [],
   "source": [
    "float('10.5')"
   ]
  },
  {
   "cell_type": "code",
   "execution_count": null,
   "id": "72c4e10a-3cc1-4edb-a5ed-ff7b4a648bc7",
   "metadata": {},
   "outputs": [],
   "source": [
    "bool(10.5)"
   ]
  },
  {
   "cell_type": "markdown",
   "id": "75e4b8d6-a2ff-4baf-a4d8-e981138ac4c9",
   "metadata": {},
   "source": [
    "# NOTE:\n",
    "### - FLOAT IS THE BOSS WHICH MEANS FLOAT OF ANY VALUE EITHER ITS INTEGER IN STRING FORMAT OR \n",
    "### - FLOAT IN STRING FORMAT WILL WORKS \n",
    "### - BUT INTEGER WILL WORKS ONLY FOR INTEGER IN STRINGS FORMAT\n",
    "### - INTEGER TYPE CASTING WILL FAIL FOR FLOAT IN STRINGS FORMAT"
   ]
  },
  {
   "cell_type": "code",
   "execution_count": null,
   "id": "826d69d6-f65b-46c9-b089-1b163bb836e1",
   "metadata": {},
   "outputs": [],
   "source": [
    "bool('0')"
   ]
  },
  {
   "cell_type": "markdown",
   "id": "2bc0c96c-f59c-4119-8ed8-c2b8bfa2f3e5",
   "metadata": {},
   "source": [
    "- empty str of bool gives false \n",
    "- flase means nothing \n",
    "- flase means either 0 or empty str"
   ]
  },
  {
   "cell_type": "code",
   "execution_count": 1,
   "id": "6f21f73f-5a24-44c2-a85e-84d9145a54e0",
   "metadata": {},
   "outputs": [
    {
     "data": {
      "text/plain": [
       "True"
      ]
     },
     "execution_count": 1,
     "metadata": {},
     "output_type": "execute_result"
    }
   ],
   "source": [
    "num=10\n",
    "bool(num)"
   ]
  },
  {
   "cell_type": "code",
   "execution_count": 2,
   "id": "3bc2bebd-da4a-42be-8114-d8cd04e1e676",
   "metadata": {},
   "outputs": [
    {
     "data": {
      "text/plain": [
       "1"
      ]
     },
     "execution_count": 2,
     "metadata": {},
     "output_type": "execute_result"
    }
   ],
   "source": [
    "int(True)"
   ]
  },
  {
   "cell_type": "code",
   "execution_count": 3,
   "id": "7f4fd9d3-a5e0-43d6-92b9-288ffecb0ca5",
   "metadata": {},
   "outputs": [
    {
     "data": {
      "text/plain": [
       "1.0"
      ]
     },
     "execution_count": 3,
     "metadata": {},
     "output_type": "execute_result"
    }
   ],
   "source": [
    "float(True)"
   ]
  },
  {
   "cell_type": "markdown",
   "id": "01adcb54-e4f5-471e-8509-5fcd255a0f36",
   "metadata": {},
   "source": [
    "### FLOAT TO OTHER"
   ]
  },
  {
   "cell_type": "code",
   "execution_count": null,
   "id": "96d57088-86fd-4a05-9366-99b7ce0af9bb",
   "metadata": {},
   "outputs": [],
   "source": [
    "int(100.5)"
   ]
  },
  {
   "cell_type": "code",
   "execution_count": null,
   "id": "1f88d5e1-3e5d-41ed-831a-3df895e28edc",
   "metadata": {},
   "outputs": [],
   "source": [
    "num=str('100.5')\n",
    "num"
   ]
  },
  {
   "cell_type": "code",
   "execution_count": null,
   "id": "2092223b-abca-40c0-b3f8-77b4b4ec3ffe",
   "metadata": {},
   "outputs": [],
   "source": [
    "bool(100.5)"
   ]
  },
  {
   "cell_type": "code",
   "execution_count": null,
   "id": "751b9814-e2e9-4af3-8db1-4194a7e466c4",
   "metadata": {},
   "outputs": [],
   "source": []
  },
  {
   "cell_type": "code",
   "execution_count": null,
   "id": "d5f905ef-950f-45d6-b4ee-1bb2c41225e2",
   "metadata": {},
   "outputs": [],
   "source": []
  },
  {
   "cell_type": "code",
   "execution_count": null,
   "id": "e221bb16-3aad-46c6-96c6-519ff097dbfb",
   "metadata": {},
   "outputs": [],
   "source": []
  }
 ],
 "metadata": {
  "kernelspec": {
   "display_name": "Python 3 (ipykernel)",
   "language": "python",
   "name": "python3"
  },
  "language_info": {
   "codemirror_mode": {
    "name": "ipython",
    "version": 3
   },
   "file_extension": ".py",
   "mimetype": "text/x-python",
   "name": "python",
   "nbconvert_exporter": "python",
   "pygments_lexer": "ipython3",
   "version": "3.11.7"
  }
 },
 "nbformat": 4,
 "nbformat_minor": 5
}
