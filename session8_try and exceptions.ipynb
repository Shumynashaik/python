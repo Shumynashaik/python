{
 "cells": [
  {
   "cell_type": "markdown",
   "id": "1b44f233-d198-4338-9b67-637b1f64df36",
   "metadata": {},
   "source": [
    "**try-except**\n",
    "\n",
    "- generally in real time we will write n number of python lines\n",
    "- there is a situation we might get a error,that erroe might be unknown\n",
    "- this unknown error  does not cause any harm\n",
    "- even though we are getting error we need to proceed further\n",
    "- also we  need to catch that error\n",
    "- because we already know python is a sequential process\n",
    "- means the lines will execute step by step\n",
    "- suppose you have  an error at aparticular line, the code execution will stop at that line only\n",
    "- but you know that error is not harmful\n",
    "- so you want to continue the execution\n",
    "- \n",
    "then we required try-exception"
   ]
  },
  {
   "cell_type": "markdown",
   "id": "6fe7596a-a860-4fd9-9c9c-3107a3243a0e",
   "metadata": {},
   "source": [
    "- **try-except** has two blocks\n",
    "- **try** block  has actual code\n",
    "- **except** block will catch the error"
   ]
  },
  {
   "cell_type": "code",
   "execution_count": 1,
   "id": "69d7f8d9-53fa-4c15-ba1d-26bf0d4bdb97",
   "metadata": {},
   "outputs": [
    {
     "name": "stdin",
     "output_type": "stream",
     "text": [
      "enter the number 34\n",
      "enter the number ten\n"
     ]
    },
    {
     "name": "stdout",
     "output_type": "stream",
     "text": [
      "hello\n",
      "shumyna\n"
     ]
    }
   ],
   "source": [
    "try:\n",
    "    n1=eval(input(\"enter the number\"))\n",
    "    n2=eval(input(\"enter the number\"))\n",
    "    add=n1+n2\n",
    "    print(add)\n",
    "except:\n",
    "    print(\"hello\")\n",
    "    print(\"shumyna\")"
   ]
  },
  {
   "cell_type": "code",
   "execution_count": 2,
   "id": "fcabf9e6-4c06-4421-88c1-fab206e0dfa4",
   "metadata": {},
   "outputs": [
    {
     "name": "stdin",
     "output_type": "stream",
     "text": [
      "enter the number 10\n",
      "enter the number 20\n"
     ]
    },
    {
     "name": "stdout",
     "output_type": "stream",
     "text": [
      "30\n"
     ]
    }
   ],
   "source": [
    "try:\n",
    "    n1=eval(input(\"enter the number\"))\n",
    "    n2=eval(input(\"enter the number\"))\n",
    "    add=n1+n2\n",
    "    print(add)\n",
    "except:\n",
    "    print(\"hello\")\n",
    "    print(\"shumyna\")"
   ]
  },
  {
   "cell_type": "markdown",
   "id": "1c05373f-6b5e-4222-ba91-e83ff98e9499",
   "metadata": {},
   "source": [
    "**NOTE**\n",
    "- generally try except block will use to catch the error\n",
    "- syntax error is not takem by try and except"
   ]
  },
  {
   "cell_type": "code",
   "execution_count": 10,
   "id": "479c6c71-f9cf-4a20-8cc4-9a3c679864a7",
   "metadata": {},
   "outputs": [
    {
     "name": "stdin",
     "output_type": "stream",
     "text": [
      "enter the number 8\n",
      "enter the number ten\n"
     ]
    },
    {
     "name": "stdout",
     "output_type": "stream",
     "text": [
      "name 'ten' is not defined\n"
     ]
    }
   ],
   "source": [
    "try:\n",
    "    n1=eval(input(\"enter the number\"))\n",
    "    n2=eval(input(\"enter the number\"))\n",
    "    add=n1+n2\n",
    "    div=n1/n2\n",
    "    print(add)\n",
    "except Exception as e:\n",
    "    print(e)\n",
    "    "
   ]
  },
  {
   "cell_type": "code",
   "execution_count": 13,
   "id": "47cadcd6-ec31-495d-b466-f0c386e2b344",
   "metadata": {},
   "outputs": [
    {
     "name": "stdin",
     "output_type": "stream",
     "text": [
      "enter the number ten\n"
     ]
    },
    {
     "name": "stdout",
     "output_type": "stream",
     "text": [
      "name 'ten' is not defined\n"
     ]
    }
   ],
   "source": [
    "try:\n",
    "    num=eval(input(\"enter the number\"))\n",
    "    if num%2==0:\n",
    "        print(f\"the {num} is even\")\n",
    "    else:\n",
    "         print(f\"the {num} is odd\")\n",
    "except Exception as e:\n",
    "    print(e)\n",
    "            \n",
    "    "
   ]
  },
  {
   "cell_type": "code",
   "execution_count": 14,
   "id": "7884b487-fea5-47f4-a8dd-ca423ca0d083",
   "metadata": {},
   "outputs": [
    {
     "name": "stdout",
     "output_type": "stream",
     "text": [
      "the value of 59 is odd \n"
     ]
    }
   ],
   "source": [
    "try:\n",
    "    import random\n",
    "    n1= random.randint(1,100)\n",
    "    if n1%2==0:\n",
    "        print(f\"the value of {n1} is even\")\n",
    "    else:\n",
    "        print(f\"the value of {n1} is odd \")\n",
    "except Exception as e:\n",
    "    print(e)\n",
    "            "
   ]
  },
  {
   "cell_type": "code",
   "execution_count": null,
   "id": "b924825b-e04d-4957-b7da-17b6794d74da",
   "metadata": {},
   "outputs": [],
   "source": []
  },
  {
   "cell_type": "code",
   "execution_count": null,
   "id": "75e6f60b-5bd4-498c-9d01-5050de78656a",
   "metadata": {},
   "outputs": [],
   "source": []
  }
 ],
 "metadata": {
  "kernelspec": {
   "display_name": "Python 3 (ipykernel)",
   "language": "python",
   "name": "python3"
  },
  "language_info": {
   "codemirror_mode": {
    "name": "ipython",
    "version": 3
   },
   "file_extension": ".py",
   "mimetype": "text/x-python",
   "name": "python",
   "nbconvert_exporter": "python",
   "pygments_lexer": "ipython3",
   "version": "3.11.7"
  }
 },
 "nbformat": 4,
 "nbformat_minor": 5
}
