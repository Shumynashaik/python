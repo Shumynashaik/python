{
 "cells": [
  {
   "cell_type": "markdown",
   "id": "8dbfef22-d789-4888-9799-b61841a06e5a",
   "metadata": {},
   "source": [
    "**Dictionary**:"
   ]
  },
  {
   "cell_type": "markdown",
   "id": "a53ddf88-8ead-4b84-8578-29e3a87eea38",
   "metadata": {},
   "source": [
    "- we already seen many Data types\n",
    "- string\n",
    "- list\n",
    "- tuple\n",
    "- set\n",
    "- Dictionary\n",
    "- int float bool complex\n",
    "- range\n",
    "- bytes\n",
    "- eval is not a datatype"
   ]
  },
  {
   "cell_type": "code",
   "execution_count": 2,
   "id": "edb4b418-21b6-443e-b115-3079351bc22a",
   "metadata": {},
   "outputs": [],
   "source": [
    "# by using lambda list reduce\n",
    "str=b'hello'"
   ]
  },
  {
   "cell_type": "code",
   "execution_count": null,
   "id": "33135fd4-4372-4c95-b33f-99a70544a80f",
   "metadata": {},
   "outputs": [],
   "source": [
    "string=''\n",
    "list=[]\n",
    "tuple=()\n",
    "set={}\n",
    "dictionary={key:value}"
   ]
  },
  {
   "cell_type": "code",
   "execution_count": 3,
   "id": "5d5d6cb6-a4eb-45e6-9468-2561464c2be3",
   "metadata": {},
   "outputs": [],
   "source": [
    "names=['shumyna','sanika','sharmila']\n",
    "age=[20,20,35]"
   ]
  },
  {
   "cell_type": "code",
   "execution_count": 1,
   "id": "e4c010a0-b524-426e-869a-21584fbb60c8",
   "metadata": {},
   "outputs": [
    {
     "data": {
      "text/plain": [
       "20"
      ]
     },
     "execution_count": 1,
     "metadata": {},
     "output_type": "execute_result"
    }
   ],
   "source": [
    "d1={'shumyna':20,'nivurthi':18,'sanika':19}\n",
    "d1['shumyna']"
   ]
  },
  {
   "cell_type": "code",
   "execution_count": 4,
   "id": "be8a2801-2a60-4347-8db1-64b8916cb775",
   "metadata": {},
   "outputs": [
    {
     "name": "stdout",
     "output_type": "stream",
     "text": [
      "shumyna has age 20\n",
      "nivurthi has age 18\n",
      "sanika has age 19\n"
     ]
    }
   ],
   "source": [
    "d1={'shumyna':20,'nivurthi':18,'sanika':19}\n",
    "for i in d1:\n",
    "    print(f'{i} has age {d1[i]}')"
   ]
  },
  {
   "cell_type": "code",
   "execution_count": 6,
   "id": "bf430c4c-0fb1-4027-b291-d76848330c31",
   "metadata": {},
   "outputs": [
    {
     "name": "stdout",
     "output_type": "stream",
     "text": [
      "shumyna has age 20\n",
      "sanika has age 25\n",
      "nivruthi has age 30\n"
     ]
    }
   ],
   "source": [
    "names=['shumyna','sanika','nivruthi']\n",
    "age=[20,25,30]\n",
    "for i,j in zip(names,age):\n",
    "    print(f'{i} has age {j}')"
   ]
  },
  {
   "cell_type": "code",
   "execution_count": 14,
   "id": "462cd8bb-5b61-46b3-91c3-002d06699c70",
   "metadata": {},
   "outputs": [
    {
     "name": "stdout",
     "output_type": "stream",
     "text": [
      "['shumyna', 'nivurthi', 'sanika']\n",
      "[20, 18, 19]\n"
     ]
    }
   ],
   "source": [
    "d1={'shumyna':20,'nivurthi':18,'sanika':19}\n",
    "l1=[]\n",
    "l2=[]\n",
    "for i in d1:\n",
    "    l1.append(i)\n",
    "    l2.append(d1[i])\n",
    "print(l1)\n",
    "print(l2)"
   ]
  },
  {
   "cell_type": "code",
   "execution_count": 16,
   "id": "ffcc3052-ebcc-4108-ab94-53fffe12a7dc",
   "metadata": {},
   "outputs": [
    {
     "data": {
      "text/plain": [
       "['shumyna', 'nivurthi', 'sanika']"
      ]
     },
     "execution_count": 16,
     "metadata": {},
     "output_type": "execute_result"
    }
   ],
   "source": [
    "l1=[i for i in d1]\n",
    "l2=[d1[i] for i in d1]\n",
    "l1"
   ]
  },
  {
   "cell_type": "markdown",
   "id": "57369863-d368-4c08-904a-83f2b275c5ce",
   "metadata": {},
   "source": [
    "**Dictionary to List**"
   ]
  },
  {
   "cell_type": "code",
   "execution_count": 19,
   "id": "5af404b7-2e8e-4fdf-bb28-025fccb92851",
   "metadata": {},
   "outputs": [
    {
     "data": {
      "text/plain": [
       "[20]"
      ]
     },
     "execution_count": 19,
     "metadata": {},
     "output_type": "execute_result"
    }
   ],
   "source": [
    "#How to create empty list\n",
    "l1=[]\n",
    "l1.append(20)\n",
    "l1"
   ]
  },
  {
   "cell_type": "code",
   "execution_count": 21,
   "id": "c93cda37-7051-43b2-afd6-953b42c3e8f1",
   "metadata": {},
   "outputs": [
    {
     "data": {
      "text/plain": [
       "'a'"
      ]
     },
     "execution_count": 21,
     "metadata": {},
     "output_type": "execute_result"
    }
   ],
   "source": [
    "#How to create empty string\n",
    "s1=''\n",
    "s=s1+'a'\n",
    "s"
   ]
  },
  {
   "cell_type": "code",
   "execution_count": 23,
   "id": "7c2aee7a-9a4b-4a67-b074-f78f09ede468",
   "metadata": {},
   "outputs": [
    {
     "data": {
      "text/plain": [
       "{'shumyna': 20}"
      ]
     },
     "execution_count": 23,
     "metadata": {},
     "output_type": "execute_result"
    }
   ],
   "source": [
    "d={}\n",
    "d['shumyna']=20\n",
    "d"
   ]
  },
  {
   "cell_type": "code",
   "execution_count": 28,
   "id": "fadf019e-b78c-4ad2-8c42-e1dfd5c61a3a",
   "metadata": {},
   "outputs": [
    {
     "data": {
      "text/plain": [
       "{'shumyna': 20, 'sanika': 25, 'nivruthi': 30}"
      ]
     },
     "execution_count": 28,
     "metadata": {},
     "output_type": "execute_result"
    }
   ],
   "source": [
    "names=['shumyna','sanika','nivruthi']\n",
    "age=[20,25,30]\n",
    "d={}\n",
    "for i,j in zip(names,age):\n",
    "    d[i]=j\n",
    "d"
   ]
  },
  {
   "cell_type": "code",
   "execution_count": 29,
   "id": "9a22c302-a88b-4256-9cc4-200bcd716df5",
   "metadata": {},
   "outputs": [
    {
     "data": {
      "text/plain": [
       "['hello', 'how', 'are', 'you']"
      ]
     },
     "execution_count": 29,
     "metadata": {},
     "output_type": "execute_result"
    }
   ],
   "source": [
    "#string to list\n",
    "s1='hello  how are you'\n",
    "s1.split()"
   ]
  },
  {
   "cell_type": "markdown",
   "id": "8f3b1c2f-7ba4-48b0-bf24-b651539af473",
   "metadata": {},
   "source": [
    "**word frequency**"
   ]
  },
  {
   "cell_type": "code",
   "execution_count": 48,
   "id": "d081c1f2-da02-4751-a264-a28384c54784",
   "metadata": {},
   "outputs": [
    {
     "data": {
      "text/plain": [
       "{'hello': 2, 'how': 1, 'are': 2, 'you': 1}"
      ]
     },
     "execution_count": 48,
     "metadata": {},
     "output_type": "execute_result"
    }
   ],
   "source": [
    "count=0\n",
    "s1='hello hello  how are are you'\n",
    "l=list(s1.split())\n",
    "d={}\n",
    "for i in l:\n",
    "    d[i]=s1.count(i)\n",
    "d"
   ]
  },
  {
   "cell_type": "code",
   "execution_count": 55,
   "id": "a36882ed-f03d-4407-b258-47d03ca6c195",
   "metadata": {},
   "outputs": [
    {
     "data": {
      "text/plain": [
       "115"
      ]
     },
     "execution_count": 55,
     "metadata": {},
     "output_type": "execute_result"
    }
   ],
   "source": [
    "ord('s')"
   ]
  },
  {
   "cell_type": "code",
   "execution_count": null,
   "id": "501dc0f4-97ca-437a-a876-737696c42a35",
   "metadata": {},
   "outputs": [],
   "source": [
    "#task -1: in the above sentence you need to remove a,an,is,the\n",
    "# task-2: Data first letter Ascii value: 68\n",
    "#         scince first letter Ascii value : 115\n",
    "\n",
    "#{'Data science':68,'science':115}\n"
   ]
  },
  {
   "cell_type": "code",
   "execution_count": 24,
   "id": "e0f2d6d8-81b7-430d-8ec2-d36f35687528",
   "metadata": {},
   "outputs": [
    {
     "name": "stdout",
     "output_type": "stream",
     "text": [
      "Datascienceinterdisciplinaryacademicfieldthatusesstatistics,scientificcomputing,scientificmethods,processes,scientificvisualization,algorithmsandsystemstoextractorextrapolateknowledgeandinsightsfrompotentiallynoisy,structured,orunstructureddata.Datasciencealsointegratesdomainknowledgefromunderlyingapplicatin.Datasciencemultifacetedandcanbedescribedasscience,researchparadigm,researchmethod,discipline,workflow,andprofession.\n"
     ]
    },
    {
     "data": {
      "text/plain": [
       "{'Data': 68,\n",
       " 'science': 115,\n",
       " 'interdisciplinary': 105,\n",
       " 'academic': 97,\n",
       " 'field': 102,\n",
       " 'that': 116,\n",
       " 'uses': 117,\n",
       " 'statistics,': 115,\n",
       " 'scientific': 115,\n",
       " 'computing,': 99,\n",
       " 'methods,': 109,\n",
       " 'processes,': 112,\n",
       " 'visualization,': 118,\n",
       " 'algorithms': 97,\n",
       " 'and': 97,\n",
       " 'systems': 115,\n",
       " 'to': 116,\n",
       " 'extract': 101,\n",
       " 'or': 111,\n",
       " 'extrapolate': 101,\n",
       " 'knowledge': 107,\n",
       " 'insights': 105,\n",
       " 'from': 102,\n",
       " 'potentially': 112,\n",
       " 'noisy,': 110,\n",
       " 'structured,': 115,\n",
       " 'unstructured': 117,\n",
       " 'data.Data': 100,\n",
       " 'also': 97,\n",
       " 'integrates': 105,\n",
       " 'domain': 100,\n",
       " 'underlying': 117,\n",
       " 'applicatin.Data': 97,\n",
       " 'multifaceted': 109,\n",
       " 'can': 99,\n",
       " 'be': 98,\n",
       " 'described': 100,\n",
       " 'as': 97,\n",
       " 'science,': 115,\n",
       " 'research': 114,\n",
       " 'paradigm,': 112,\n",
       " 'method,': 109,\n",
       " 'discipline,': 100,\n",
       " 'workflow,': 119,\n",
       " 'profession.': 112}"
      ]
     },
     "execution_count": 24,
     "metadata": {},
     "output_type": "execute_result"
    }
   ],
   "source": [
    "s1=\"\"\"Data science is an interdisciplinary academic field that uses statistics,\n",
    "          scientific computing, scientific methods, processes, scientific visualization,\n",
    "          algorithms and systems to extract or extrapolate knowledge and insights from potentially noisy, \n",
    "          structured, or unstructured data.Data science also integrates domain knowledge \n",
    "          from the underlying applicatin.Data science is multifaceted and can be described as a science,\n",
    "         a research paradigm, a research method, a discipline, a workflow, and a profession.\"\"\"\n",
    "a=s1.split()\n",
    "b=['a','an','is','the']\n",
    "x=[]\n",
    "for i in a:\n",
    "    if i not in b:\n",
    "        x.append(i)\n",
    "print(\"\".join(x)) \n",
    "y=[]\n",
    "for i in x:\n",
    "    if i not in y:\n",
    "        y.append(i)\n",
    "y\n",
    "q=[i for i in y]\n",
    "a=[ord(i[0]) for i in y]\n",
    "dict={}\n",
    "for i,j in zip(q,a):\n",
    "    dict[i]=j\n",
    "dict"
   ]
  },
  {
   "cell_type": "markdown",
   "id": "61fe47b6-7e1a-4f61-a91c-d0938a3d1cba",
   "metadata": {},
   "source": [
    "**Mutable and Immutable**"
   ]
  },
  {
   "cell_type": "code",
   "execution_count": 56,
   "id": "cf63b12c-213a-4478-8aee-1ee675c6f83d",
   "metadata": {},
   "outputs": [
    {
     "data": {
      "text/plain": [
       "{'shumyna': 20, 'nivurthi': 18, 'sanika': 20}"
      ]
     },
     "execution_count": 56,
     "metadata": {},
     "output_type": "execute_result"
    }
   ],
   "source": [
    "d1={'shumyna':20,'nivurthi':18,'sanika':19}\n",
    "d1['sanika']=20\n",
    "d1"
   ]
  },
  {
   "cell_type": "markdown",
   "id": "74d9bc43-f99b-4920-9a15-c47f35ec4c82",
   "metadata": {},
   "source": [
    "- list and dictionary are mutable\n",
    "- tuple and strings are immutable\n",
    "- difference b/w list and tuples"
   ]
  },
  {
   "cell_type": "code",
   "execution_count": 57,
   "id": "b8ade823-1d20-4321-bf6f-42f08d55bfe3",
   "metadata": {},
   "outputs": [
    {
     "name": "stdout",
     "output_type": "stream",
     "text": [
      "['mango']\n"
     ]
    }
   ],
   "source": [
    "d={'fruits':['mango']}\n",
    "for i in d:\n",
    "    print(d[i])"
   ]
  },
  {
   "cell_type": "code",
   "execution_count": 60,
   "id": "5bb192e6-2c2b-4768-a9ef-3f5f90d379d4",
   "metadata": {},
   "outputs": [
    {
     "data": {
      "text/plain": [
       "'mango'"
      ]
     },
     "execution_count": 60,
     "metadata": {},
     "output_type": "execute_result"
    }
   ],
   "source": [
    "d={'fruits':['mango']}\n",
    "d['fruits'][0]"
   ]
  },
  {
   "cell_type": "code",
   "execution_count": 71,
   "id": "9605d70c-b706-44ac-9a3a-dfa9f4464149",
   "metadata": {},
   "outputs": [
    {
     "data": {
      "text/plain": [
       "'Kashmir'"
      ]
     },
     "execution_count": 71,
     "metadata": {},
     "output_type": "execute_result"
    }
   ],
   "source": [
    "d={'Fruits':[{'Apple':['Kashmir']}]}\n",
    "d['Fruits'][0]['Apple'][0]\n"
   ]
  },
  {
   "cell_type": "code",
   "execution_count": 81,
   "id": "5219856c-e1f1-4d93-a477-47674eb0d793",
   "metadata": {},
   "outputs": [
    {
     "data": {
      "text/plain": [
       "'India'"
      ]
     },
     "execution_count": 81,
     "metadata": {},
     "output_type": "execute_result"
    }
   ],
   "source": [
    "d={'Fruits':[\n",
    "    {'Apple':\n",
    "     {'Kashmir':\n",
    "      ['India']\n",
    "     }\n",
    "    }\n",
    "     ]\n",
    "  }\n",
    "d['Fruits'][0]['Apple']['Kashmir'][0]"
   ]
  },
  {
   "cell_type": "code",
   "execution_count": 92,
   "id": "1da1e448-2321-4dbf-adc9-e504cc6ca706",
   "metadata": {},
   "outputs": [
    {
     "data": {
      "text/plain": [
       "{'Shambaji'}"
      ]
     },
     "execution_count": 92,
     "metadata": {},
     "output_type": "execute_result"
    }
   ],
   "source": [
    "d={'Fruits':{'Benganapalli':{'Mango':{'Nagpur':{'MH':{'Shivaji':{'Shambaji'}}}}}}}\n",
    "d['Fruits']['Benganapalli']['Mango']['Nagpur']['MH']['Shivaji']"
   ]
  },
  {
   "cell_type": "code",
   "execution_count": null,
   "id": "4af04c28-e0d1-4f79-8bd5-13707da024a9",
   "metadata": {},
   "outputs": [],
   "source": [
    "**Dictionary Methods**"
   ]
  },
  {
   "cell_type": "code",
   "execution_count": 1,
   "id": "17a6d0c6-ca20-4574-8b28-32b13f5fcad0",
   "metadata": {},
   "outputs": [
    {
     "data": {
      "text/plain": [
       "['__class__',\n",
       " '__class_getitem__',\n",
       " '__contains__',\n",
       " '__delattr__',\n",
       " '__delitem__',\n",
       " '__dir__',\n",
       " '__doc__',\n",
       " '__eq__',\n",
       " '__format__',\n",
       " '__ge__',\n",
       " '__getattribute__',\n",
       " '__getitem__',\n",
       " '__getstate__',\n",
       " '__gt__',\n",
       " '__hash__',\n",
       " '__init__',\n",
       " '__init_subclass__',\n",
       " '__ior__',\n",
       " '__iter__',\n",
       " '__le__',\n",
       " '__len__',\n",
       " '__lt__',\n",
       " '__ne__',\n",
       " '__new__',\n",
       " '__or__',\n",
       " '__reduce__',\n",
       " '__reduce_ex__',\n",
       " '__repr__',\n",
       " '__reversed__',\n",
       " '__ror__',\n",
       " '__setattr__',\n",
       " '__setitem__',\n",
       " '__sizeof__',\n",
       " '__str__',\n",
       " '__subclasshook__',\n",
       " 'clear',\n",
       " 'copy',\n",
       " 'fromkeys',\n",
       " 'get',\n",
       " 'items',\n",
       " 'keys',\n",
       " 'pop',\n",
       " 'popitem',\n",
       " 'setdefault',\n",
       " 'update',\n",
       " 'values']"
      ]
     },
     "execution_count": 1,
     "metadata": {},
     "output_type": "execute_result"
    }
   ],
   "source": [
    "dir({})"
   ]
  },
  {
   "cell_type": "code",
   "execution_count": null,
   "id": "40bf608f-d504-4656-b994-d49a397c3c28",
   "metadata": {},
   "outputs": [],
   "source": [
    "'clear',\n",
    " 'copy',\n",
    " 'fromkeys',\n",
    " 'get',\n",
    " 'items',\n",
    " 'keys',\n",
    " 'pop',\n",
    " 'popitem',\n",
    " 'setdefault',\n",
    " 'update',\n",
    " 'values'"
   ]
  },
  {
   "cell_type": "code",
   "execution_count": 5,
   "id": "20a976ca-ce6b-444e-86da-5a968d9cca3a",
   "metadata": {},
   "outputs": [
    {
     "name": "stdout",
     "output_type": "stream",
     "text": [
      "shumyna\n",
      "glancy\n",
      "meghana\n"
     ]
    },
    {
     "data": {
      "text/plain": [
       "['shumyna', 'glancy', 'meghana']"
      ]
     },
     "execution_count": 5,
     "metadata": {},
     "output_type": "execute_result"
    }
   ],
   "source": [
    "d1={'shumyna':20,'glancy':21,'meghana':23}\n",
    "l1=[]\n",
    "for i in d1.keys():\n",
    "    print(i)\n",
    "    l1.append(i)\n",
    "l1"
   ]
  },
  {
   "cell_type": "markdown",
   "id": "54ccd17e-7d8a-4f59-a94f-e0405bc40e74",
   "metadata": {},
   "source": [
    "**clear**"
   ]
  },
  {
   "cell_type": "code",
   "execution_count": 6,
   "id": "ff456f6e-44c4-4a7b-99c1-b84578b66b2e",
   "metadata": {},
   "outputs": [],
   "source": [
    "d1={'shumyna':20,'nivruthi':19,'sanika':18}\n",
    "d1.clear()#removes all the values in the dictionary"
   ]
  },
  {
   "cell_type": "code",
   "execution_count": 7,
   "id": "bb12ae30-d5d7-4d9f-ae13-96b119c70766",
   "metadata": {},
   "outputs": [
    {
     "data": {
      "text/plain": [
       "{}"
      ]
     },
     "execution_count": 7,
     "metadata": {},
     "output_type": "execute_result"
    }
   ],
   "source": [
    "d1"
   ]
  },
  {
   "cell_type": "markdown",
   "id": "d38cee81-6062-4672-9fd7-7a76efed654f",
   "metadata": {},
   "source": [
    "**copy**"
   ]
  },
  {
   "cell_type": "code",
   "execution_count": 8,
   "id": "20aacd7f-f13b-4583-af74-c7ed6f614cc0",
   "metadata": {},
   "outputs": [
    {
     "data": {
      "text/plain": [
       "{'shumyna': 20, 'nivruthi': 19, 'sanika': 18}"
      ]
     },
     "execution_count": 8,
     "metadata": {},
     "output_type": "execute_result"
    }
   ],
   "source": [
    "d1={'shumyna':20,'nivruthi':19,'sanika':18}\n",
    "d1.copy()#copies the whole dictionary"
   ]
  },
  {
   "cell_type": "markdown",
   "id": "ec2b008e-0965-41c3-a968-4a1a311ffe1e",
   "metadata": {},
   "source": [
    "**fromkeys**"
   ]
  },
  {
   "cell_type": "code",
   "execution_count": 16,
   "id": "30c6627e-0143-4867-97c0-72a92f86617f",
   "metadata": {},
   "outputs": [
    {
     "data": {
      "text/plain": [
       "{'shumyna': 1, 'nivruthi': 1, 'sanika': 1}"
      ]
     },
     "execution_count": 16,
     "metadata": {},
     "output_type": "execute_result"
    }
   ],
   "source": [
    "d1={'shumyna':20,'nivruthi':19,'sanika':18}\n",
    "x=1\n",
    "d1.fromkeys(d1,x)#Create a new dictionary with keys from iterable and values set to value."
   ]
  },
  {
   "cell_type": "code",
   "execution_count": 1,
   "id": "904260b5-7c3c-486e-b601-995e27b4295a",
   "metadata": {},
   "outputs": [
    {
     "data": {
      "text/plain": [
       "{'a': 'vowel', 'e': 'vowel', 'i': 'vowel', 'o': 'vowel', 'u': 'vowel'}"
      ]
     },
     "execution_count": 1,
     "metadata": {},
     "output_type": "execute_result"
    }
   ],
   "source": [
    "d1={'a':1,'e':2,'i':3,'o':4,'u':5}\n",
    "x='vowel'\n",
    "d1.fromkeys(d1,x)"
   ]
  },
  {
   "cell_type": "code",
   "execution_count": 2,
   "id": "dec5f303-e1a1-4274-b244-611996266abc",
   "metadata": {},
   "outputs": [
    {
     "data": {
      "text/plain": [
       "{1: 'vowel', 2: 'vowel', 3: 'vowel', 4: 'vowel', 5: 'vowel'}"
      ]
     },
     "execution_count": 2,
     "metadata": {},
     "output_type": "execute_result"
    }
   ],
   "source": [
    "d1={1:1,2:2,3:3,4:4,5:5}\n",
    "x='vowel'\n",
    "d1.fromkeys(d1,x)"
   ]
  },
  {
   "cell_type": "code",
   "execution_count": 8,
   "id": "cfe8499c-0539-48de-afaf-4b1fa70ec48a",
   "metadata": {},
   "outputs": [
    {
     "data": {
      "text/plain": [
       "{1: None, 2: None, 3: None, 4: None, 5: None}"
      ]
     },
     "execution_count": 8,
     "metadata": {},
     "output_type": "execute_result"
    }
   ],
   "source": [
    "d1={1:1,2:2,3:3,4:4,5:5}\n",
    "\n",
    "d1.fromkeys(d1)"
   ]
  },
  {
   "cell_type": "code",
   "execution_count": 2,
   "id": "5cb7ff97-21eb-48de-b7ef-1e452e03ecdc",
   "metadata": {},
   "outputs": [
    {
     "name": "stdout",
     "output_type": "stream",
     "text": [
      "shumyna 20\n",
      "nivruthi 25\n",
      "sanika 30\n"
     ]
    },
    {
     "data": {
      "text/plain": [
       "(['shumyna', 'nivruthi', 'sanika'], [20, 25, 30])"
      ]
     },
     "execution_count": 2,
     "metadata": {},
     "output_type": "execute_result"
    }
   ],
   "source": [
    "d={'shumyna': 20, 'nivruthi': 25, 'sanika': 30}\n",
    "keys,values=[],[]\n",
    "for i in d:\n",
    "    print(i,d[i])\n",
    "    keys.append(i)\n",
    "    values.append(d[i])\n",
    "keys,values"
   ]
  },
  {
   "cell_type": "markdown",
   "id": "e8dd4183-a837-4f4a-919c-05732e26f8bc",
   "metadata": {},
   "source": [
    "**get**"
   ]
  },
  {
   "cell_type": "code",
   "execution_count": 5,
   "id": "7c5d7574-23ef-45ee-8fa1-24a916b22fe1",
   "metadata": {},
   "outputs": [
    {
     "data": {
      "text/plain": [
       "19"
      ]
     },
     "execution_count": 5,
     "metadata": {},
     "output_type": "execute_result"
    }
   ],
   "source": [
    "d1={'shumyna':20,'nivruthi':19,'sanika':18}\n",
    "d1.get('nivruthi')#Return the value for key if key is in the dictionary, else default."
   ]
  },
  {
   "cell_type": "code",
   "execution_count": 7,
   "id": "40d0848a-2cc7-4cf3-a9ef-361794bb08a4",
   "metadata": {},
   "outputs": [],
   "source": [
    "d1={'shumyna':20,'nivruthi':19,'sanika':18}\n",
    "d1.get(19)#it takes only keys not the values"
   ]
  },
  {
   "cell_type": "code",
   "execution_count": 9,
   "id": "252f10fc-260c-4dfa-839c-95ed9ca7577b",
   "metadata": {},
   "outputs": [
    {
     "data": {
      "text/plain": [
       "dict_items([('shumyna', 20), ('nivruthi', 19), ('sanika', 18)])"
      ]
     },
     "execution_count": 9,
     "metadata": {},
     "output_type": "execute_result"
    }
   ],
   "source": [
    "d1={'shumyna':20,'nivruthi':19,'sanika':18}\n",
    "d1.items()"
   ]
  },
  {
   "cell_type": "code",
   "execution_count": 3,
   "id": "132bb3f9-3a10-4e6d-8b38-55dfd13e16d1",
   "metadata": {},
   "outputs": [
    {
     "data": {
      "text/plain": [
       "dict_keys(['shumyna', 'nivruthi', 'sanika'])"
      ]
     },
     "execution_count": 3,
     "metadata": {},
     "output_type": "execute_result"
    }
   ],
   "source": [
    "d.keys()"
   ]
  },
  {
   "cell_type": "markdown",
   "id": "5009b28b-7581-4c1f-8afb-95ccc4aa0df0",
   "metadata": {},
   "source": [
    "- Dictionary keys will give dictionary keys items in a list\n",
    "- It looks like a list , but it is not a list\n",
    "- Whcih means we can not apply list methods\n",
    "- So we need to convert into list type, by using list type casting"
   ]
  },
  {
   "cell_type": "code",
   "execution_count": 6,
   "id": "04f4f4aa-7409-48fa-9f4e-87e29fbbdfcd",
   "metadata": {},
   "outputs": [
    {
     "data": {
      "text/plain": [
       "['shumyna', 'glancy', 'meghana']"
      ]
     },
     "execution_count": 6,
     "metadata": {},
     "output_type": "execute_result"
    }
   ],
   "source": [
    "d1={'shumyna':20,'glancy':21,'meghana':23}\n",
    "list(d1.keys())"
   ]
  },
  {
   "cell_type": "code",
   "execution_count": 27,
   "id": "4b3ecc40-2a8e-45e7-961d-96ca0219c33c",
   "metadata": {},
   "outputs": [
    {
     "data": {
      "text/plain": [
       "(20, 21, 23)"
      ]
     },
     "execution_count": 27,
     "metadata": {},
     "output_type": "execute_result"
    }
   ],
   "source": [
    "d1={'shumyna':20,'glancy':21,'meghana':23}\n",
    "tuple(d1.values())"
   ]
  },
  {
   "cell_type": "code",
   "execution_count": 8,
   "id": "dd372d02-d499-4ca0-98bd-5bbcfcc274cc",
   "metadata": {},
   "outputs": [
    {
     "data": {
      "text/plain": [
       "{'glancy', 'meghana', 'shumyna'}"
      ]
     },
     "execution_count": 8,
     "metadata": {},
     "output_type": "execute_result"
    }
   ],
   "source": [
    "d1={'shumyna':20,'glancy':21,'meghana':23}\n",
    "set(d1.keys())"
   ]
  },
  {
   "cell_type": "code",
   "execution_count": null,
   "id": "f68b48e0-d6d7-4f5a-a779-8a767c1a9a98",
   "metadata": {},
   "outputs": [],
   "source": [
    "a=10,20#WORKS\n",
    "a,b=10,20#WORKS\n",
    "a,b=10#FAILS"
   ]
  },
  {
   "cell_type": "code",
   "execution_count": 11,
   "id": "f9ab455d-b1ff-4284-abb1-cb14dd456061",
   "metadata": {},
   "outputs": [
    {
     "data": {
      "text/plain": [
       "{'shumyna': 20, 'meghana': 22}"
      ]
     },
     "execution_count": 11,
     "metadata": {},
     "output_type": "execute_result"
    }
   ],
   "source": [
    "d1={'shumyna':20,'glancy':21,'meghana':22}\n",
    "d1.pop('glancy')#removes the key and value\n",
    "d1"
   ]
  },
  {
   "cell_type": "code",
   "execution_count": 18,
   "id": "70a8ad06-d00c-4cda-9d37-85d0fc067d80",
   "metadata": {},
   "outputs": [
    {
     "ename": "KeyError",
     "evalue": "21",
     "output_type": "error",
     "traceback": [
      "\u001b[1;31m---------------------------------------------------------------------------\u001b[0m",
      "\u001b[1;31mKeyError\u001b[0m                                  Traceback (most recent call last)",
      "Cell \u001b[1;32mIn[18], line 2\u001b[0m\n\u001b[0;32m      1\u001b[0m d1\u001b[38;5;241m=\u001b[39m{\u001b[38;5;124m'\u001b[39m\u001b[38;5;124mshumyna\u001b[39m\u001b[38;5;124m'\u001b[39m:\u001b[38;5;241m20\u001b[39m,\u001b[38;5;124m'\u001b[39m\u001b[38;5;124mglancy\u001b[39m\u001b[38;5;124m'\u001b[39m:\u001b[38;5;241m21\u001b[39m,\u001b[38;5;124m'\u001b[39m\u001b[38;5;124mmeghana\u001b[39m\u001b[38;5;124m'\u001b[39m:\u001b[38;5;241m22\u001b[39m}\n\u001b[1;32m----> 2\u001b[0m d1\u001b[38;5;241m.\u001b[39mpop(\u001b[38;5;241m21\u001b[39m) \u001b[38;5;66;03m#error we cannot give value to pop\u001b[39;00m\n\u001b[0;32m      3\u001b[0m d1\n",
      "\u001b[1;31mKeyError\u001b[0m: 21"
     ]
    }
   ],
   "source": [
    "d1={'shumyna':20,'glancy':21,'meghana':22}\n",
    "d1.pop(21) #error we cannot give value to pop\n",
    "d1"
   ]
  },
  {
   "cell_type": "code",
   "execution_count": 19,
   "id": "ce1e7074-c6b5-464c-9122-df28915fd757",
   "metadata": {},
   "outputs": [
    {
     "data": {
      "text/plain": [
       "{'shumyna': 20, 'glancy': 21}"
      ]
     },
     "execution_count": 19,
     "metadata": {},
     "output_type": "execute_result"
    }
   ],
   "source": [
    "d1={'shumyna':20,'glancy':21,'meghana':22}\n",
    "d1.popitem()#by default removes the last key and value[LIFO-last in first out]\n",
    "d1"
   ]
  },
  {
   "cell_type": "code",
   "execution_count": 20,
   "id": "e8df3e8f-6181-46e5-8c71-4c6ff0ebedc2",
   "metadata": {},
   "outputs": [
    {
     "data": {
      "text/plain": [
       "('meghana', 22)"
      ]
     },
     "execution_count": 20,
     "metadata": {},
     "output_type": "execute_result"
    }
   ],
   "source": [
    "d1={'shumyna':20,'glancy':21,'meghana':22}\n",
    "x=d1.popitem()#by default removes the last key and value[LIFO-last in first out]\n",
    "x"
   ]
  },
  {
   "cell_type": "markdown",
   "id": "08b77e23-128c-4511-93a0-c443d0af1b33",
   "metadata": {},
   "source": [
    "**setdefault**"
   ]
  },
  {
   "cell_type": "code",
   "execution_count": 8,
   "id": "2b347287-0a63-4245-9656-73605f27c80d",
   "metadata": {},
   "outputs": [
    {
     "data": {
      "text/plain": [
       "20"
      ]
     },
     "execution_count": 8,
     "metadata": {},
     "output_type": "execute_result"
    }
   ],
   "source": [
    "d1={'shumyna':20,'glancy':21,'meghana':22}\n",
    "x=d1.setdefault('shumyna',20)\n",
    "x"
   ]
  },
  {
   "cell_type": "code",
   "execution_count": null,
   "id": "001c6142-e8d6-4e47-8f1b-52cd4ac9dc6e",
   "metadata": {},
   "outputs": [],
   "source": []
  }
 ],
 "metadata": {
  "kernelspec": {
   "display_name": "Python 3 (ipykernel)",
   "language": "python",
   "name": "python3"
  },
  "language_info": {
   "codemirror_mode": {
    "name": "ipython",
    "version": 3
   },
   "file_extension": ".py",
   "mimetype": "text/x-python",
   "name": "python",
   "nbconvert_exporter": "python",
   "pygments_lexer": "ipython3",
   "version": "3.11.7"
  }
 },
 "nbformat": 4,
 "nbformat_minor": 5
}
