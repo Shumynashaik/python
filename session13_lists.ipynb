{
 "cells": [
  {
   "cell_type": "code",
   "execution_count": null,
   "id": "a62a2b7b-7c83-44a2-aa86-c3a149780b4b",
   "metadata": {},
   "outputs": [],
   "source": [
    "**Representaions**"
   ]
  },
  {
   "cell_type": "markdown",
   "id": "c2128e2c-e7d3-4822-be7e-7bdf533e27ff",
   "metadata": {},
   "source": [
    "- list representation with square brackets[]"
   ]
  },
  {
   "cell_type": "code",
   "execution_count": 1,
   "id": "641668a0-17d3-4d5a-8dec-9287b03556e2",
   "metadata": {},
   "outputs": [
    {
     "data": {
      "text/plain": [
       "[1, 2, 3, 4]"
      ]
     },
     "execution_count": 1,
     "metadata": {},
     "output_type": "execute_result"
    }
   ],
   "source": [
    "l1=[1,2,3,4]\n",
    "l1"
   ]
  },
  {
   "cell_type": "code",
   "execution_count": 2,
   "id": "9aca364c-39dd-46c7-9380-c2f9b1fb0664",
   "metadata": {},
   "outputs": [
    {
     "data": {
      "text/plain": [
       "list"
      ]
     },
     "execution_count": 2,
     "metadata": {},
     "output_type": "execute_result"
    }
   ],
   "source": [
    "type(l1)"
   ]
  },
  {
   "cell_type": "code",
   "execution_count": 3,
   "id": "d438f610-6fc7-47c7-99d4-e035b114ba13",
   "metadata": {},
   "outputs": [
    {
     "data": {
      "text/plain": [
       "['a', b'', 'c', 'd']"
      ]
     },
     "execution_count": 3,
     "metadata": {},
     "output_type": "execute_result"
    }
   ],
   "source": [
    "l2=['a',b'','c','d']\n",
    "l2"
   ]
  },
  {
   "cell_type": "code",
   "execution_count": 5,
   "id": "09853195-25d3-4b4e-9be7-cc55c6673ca7",
   "metadata": {},
   "outputs": [
    {
     "data": {
      "text/plain": [
       "[1, 2, 3, 4, 'a', b'', 'c', 'd']"
      ]
     },
     "execution_count": 5,
     "metadata": {},
     "output_type": "execute_result"
    }
   ],
   "source": [
    "l3=[1,2,3,4,'a',b'','c','d']\n",
    "l3"
   ]
  },
  {
   "cell_type": "code",
   "execution_count": 7,
   "id": "c87f3f14-8fa6-4ec7-a5e8-ecdf8825d079",
   "metadata": {},
   "outputs": [
    {
     "data": {
      "text/plain": [
       "[1, 2, 3, 4, 'apple', 'ball', 'cat', True, False]"
      ]
     },
     "execution_count": 7,
     "metadata": {},
     "output_type": "execute_result"
    }
   ],
   "source": [
    "l4=[1,2,3,4,'apple','ball','cat',True,False]\n",
    "l4"
   ]
  },
  {
   "cell_type": "code",
   "execution_count": 36,
   "id": "6eacdfdc-6ec7-414f-a983-5d227e792d4f",
   "metadata": {},
   "outputs": [
    {
     "name": "stdout",
     "output_type": "stream",
     "text": [
      "nareshit\n"
     ]
    }
   ],
   "source": [
    "name='nareshit'\n",
    "l5=[name]\n",
    "print(max(l5))"
   ]
  },
  {
   "cell_type": "code",
   "execution_count": 9,
   "id": "d4909e08-35b2-4bf8-a129-a9c74c248885",
   "metadata": {},
   "outputs": [
    {
     "data": {
      "text/plain": [
       "[100, 100, 100]"
      ]
     },
     "execution_count": 9,
     "metadata": {},
     "output_type": "execute_result"
    }
   ],
   "source": [
    "l6=[100,100,100]\n",
    "l6"
   ]
  },
  {
   "cell_type": "code",
   "execution_count": 11,
   "id": "29235604-775b-4da6-9498-9e7521fd8824",
   "metadata": {},
   "outputs": [
    {
     "data": {
      "text/plain": [
       "[0.02, 0.003, 4.09]"
      ]
     },
     "execution_count": 11,
     "metadata": {},
     "output_type": "execute_result"
    }
   ],
   "source": [
    "l7=[0.02,0.003,4.09]\n",
    "l7"
   ]
  },
  {
   "cell_type": "code",
   "execution_count": 13,
   "id": "f14f8def-be0e-47db-a1c1-4e7415e40576",
   "metadata": {},
   "outputs": [
    {
     "data": {
      "text/plain": [
       "[100, 'apple', ['a', 2]]"
      ]
     },
     "execution_count": 13,
     "metadata": {},
     "output_type": "execute_result"
    }
   ],
   "source": [
    "l8=[100,'apple',['a',2]]\n",
    "l8"
   ]
  },
  {
   "cell_type": "code",
   "execution_count": 14,
   "id": "72cf0810-f84f-466c-b715-e0d1bc996f63",
   "metadata": {},
   "outputs": [
    {
     "data": {
      "text/plain": [
       "[-0.02, 0.003, -4.09]"
      ]
     },
     "execution_count": 14,
     "metadata": {},
     "output_type": "execute_result"
    }
   ],
   "source": [
    "l9=[-0.02,0.003,-4.09]\n",
    "l9"
   ]
  },
  {
   "cell_type": "markdown",
   "id": "0333708a-a8e2-4f78-99f3-c40a4ef35da3",
   "metadata": {},
   "source": [
    "- lists are array of elements\n",
    "- lists are heterogeneous all the data types we can represent in a list\n",
    "- list elements are allowed duplicates\n",
    "- list in list is possible\n",
    "- variable assignment also possible in the list"
   ]
  },
  {
   "cell_type": "code",
   "execution_count": 16,
   "id": "406d8bd7-2409-4796-8cbf-aad44de8e588",
   "metadata": {},
   "outputs": [
    {
     "data": {
      "text/plain": [
       "4"
      ]
     },
     "execution_count": 16,
     "metadata": {},
     "output_type": "execute_result"
    }
   ],
   "source": [
    "l1=[1,2,3,4]\n",
    "len(l1)"
   ]
  },
  {
   "cell_type": "code",
   "execution_count": 17,
   "id": "fb065ed9-7155-463c-9424-f39a123113b9",
   "metadata": {},
   "outputs": [
    {
     "data": {
      "text/plain": [
       "4"
      ]
     },
     "execution_count": 17,
     "metadata": {},
     "output_type": "execute_result"
    }
   ],
   "source": [
    "l2=['a',b'','c','d']\n",
    "len(l2)"
   ]
  },
  {
   "cell_type": "code",
   "execution_count": 49,
   "id": "0a22557e-6e5a-4dd8-a662-177d55039143",
   "metadata": {},
   "outputs": [
    {
     "name": "stdout",
     "output_type": "stream",
     "text": [
      "4\n",
      "4\n",
      "8\n",
      "9\n",
      "1\n",
      "3\n"
     ]
    }
   ],
   "source": [
    "l1=[1,2,3,4]\n",
    "l2=['a',b'','c','d']\n",
    "l3=[1,2,3,4,'a',b'','c','d']\n",
    "l4=[1,2,3,4,'apple','ball','cat',True,False]\n",
    "name='nareshit'\n",
    "l5=[name]\n",
    "l6=[100,100,100]\n",
    "print(len(l1))\n",
    "print(len(l2))\n",
    "print(len(l3))\n",
    "print(len(l4))\n",
    "print(len(l5))\n",
    "print(len(l6))"
   ]
  },
  {
   "cell_type": "code",
   "execution_count": 50,
   "id": "15dd4724-9141-4146-8aae-4d6184809d0f",
   "metadata": {},
   "outputs": [
    {
     "name": "stdout",
     "output_type": "stream",
     "text": [
      "4\n",
      "nareshit\n",
      "100\n"
     ]
    }
   ],
   "source": [
    "l1=[1,2,3,4]\n",
    "l2=['a',b'','c','d']\n",
    "l3=[1,2,3,4,'a',b'','c','d']\n",
    "l4=[1,2,3,4,'apple','ball','cat',True,False]\n",
    "name='nareshit'\n",
    "l5=[name]\n",
    "l6=[100,100,100]\n",
    "print(max(l1))\n",
    "#print(max(l2))#doesn't work\n",
    "#print(max(l3))#doesn't work\n",
    "#print(max(l4))#doesn't work\n",
    "print(max(l5))\n",
    "print(max(l6))"
   ]
  },
  {
   "cell_type": "code",
   "execution_count": 51,
   "id": "62047e44-aef6-4d43-8de1-dbc8cf07ef07",
   "metadata": {},
   "outputs": [
    {
     "name": "stdout",
     "output_type": "stream",
     "text": [
      "1\n",
      "nareshit\n",
      "100\n"
     ]
    }
   ],
   "source": [
    "l1=[1,2,3,4]\n",
    "l2=['a',b'','c','d']\n",
    "l3=[1,2,3,4,'a',b'','c','d']\n",
    "l4=[1,2,3,4,'apple','ball','cat',True,False]\n",
    "name='nareshit'\n",
    "l5=[name]\n",
    "l6=[100,100,100]\n",
    "print(min(l1))\n",
    "#print(min(l2))#doesn't work\n",
    "#print(min(l3))#doesn't work\n",
    "#print(min(l4))#doesn't work\n",
    "print(min(l5))\n",
    "print(min(l6))"
   ]
  },
  {
   "cell_type": "code",
   "execution_count": 41,
   "id": "93be54eb-bc37-4ffc-8217-a997d9fc8481",
   "metadata": {},
   "outputs": [
    {
     "name": "stdout",
     "output_type": "stream",
     "text": [
      "[1, 2, 3, 4]\n",
      "['nareshit']\n",
      "[100, 100, 100]\n"
     ]
    }
   ],
   "source": [
    "print(sorted(l1))\n",
    "#print(sorted(l2))#doesn't work\n",
    "#print(sorted(l3))#doesn't work\n",
    "#print(sorted(l4))#doesn't work\n",
    "print(sorted(l5))\n",
    "print(sorted(l6))"
   ]
  },
  {
   "cell_type": "code",
   "execution_count": 45,
   "id": "23c00f0d-3ef3-433d-9eab-8837a9538937",
   "metadata": {},
   "outputs": [
    {
     "name": "stdout",
     "output_type": "stream",
     "text": [
      "d\n",
      "c\n",
      "b\n",
      "a\n"
     ]
    }
   ],
   "source": [
    "l2=['a','b','c','d']\n",
    "for i in reversed(l2):\n",
    "    print(i)"
   ]
  },
  {
   "cell_type": "code",
   "execution_count": 48,
   "id": "10aba77a-2ac0-4373-b159-933592fb5c70",
   "metadata": {},
   "outputs": [
    {
     "name": "stdout",
     "output_type": "stream",
     "text": [
      "['nareshit']\n"
     ]
    }
   ],
   "source": [
    "name='nareshit'\n",
    "l5=[name]\n",
    "for i in reversed(l5):\n",
    "    print(l5)"
   ]
  },
  {
   "cell_type": "code",
   "execution_count": 56,
   "id": "5847eca6-f3f3-4229-a1a5-d4341d82e044",
   "metadata": {},
   "outputs": [
    {
     "name": "stdout",
     "output_type": "stream",
     "text": [
      "[4, 3, 2, 1]\n",
      "['d', 'c', b'', 'a']\n",
      "['d', 'c', b'', 'a', 4, 3, 2, 1]\n",
      "[False, True, 'cat', 'ball', 'apple', 4, 3, 2, 1]\n",
      "['nareshit']\n",
      "[100, 100, 100]\n"
     ]
    }
   ],
   "source": [
    "l1=[1,2,3,4]\n",
    "l2=['a',b'','c','d']\n",
    "l3=[1,2,3,4,'a',b'','c','d']\n",
    "l4=[1,2,3,4,'apple','ball','cat',True,False]\n",
    "name='nareshit'\n",
    "l5=[name]\n",
    "l6=[100,100,100]\n",
    "print(list(reversed(l1)))\n",
    "print(list(reversed(l2)))\n",
    "print(list(reversed(l3)))\n",
    "print(list(reversed(l4)))\n",
    "print(list(reversed(l5)))\n",
    "print(list(reversed(l6)))"
   ]
  },
  {
   "cell_type": "code",
   "execution_count": 59,
   "id": "e6933046-4f2a-4798-96a6-f9907cde6b05",
   "metadata": {},
   "outputs": [
    {
     "name": "stdout",
     "output_type": "stream",
     "text": [
      "sshumyna\n",
      "sanika\n"
     ]
    }
   ],
   "source": [
    "name=['shumyna','sshumyna','sanika']\n",
    "print(max(name))\n",
    "print(min(name))"
   ]
  },
  {
   "cell_type": "code",
   "execution_count": 61,
   "id": "c38f2e05-4dc3-475f-9b8b-d29b9ccf0817",
   "metadata": {},
   "outputs": [
    {
     "data": {
      "text/plain": [
       "3"
      ]
     },
     "execution_count": 61,
     "metadata": {},
     "output_type": "execute_result"
    }
   ],
   "source": [
    "list1=['apple',2,['a',2]]\n",
    "len(list1)"
   ]
  },
  {
   "cell_type": "code",
   "execution_count": 64,
   "id": "15b2d968-dd07-4d98-8c6b-c0300feadee9",
   "metadata": {},
   "outputs": [
    {
     "data": {
      "text/plain": [
       "[2, 3, 4, 'apple', 'ball']"
      ]
     },
     "execution_count": 64,
     "metadata": {},
     "output_type": "execute_result"
    }
   ],
   "source": [
    "#0  1  2  3   4      5     6   7    8\n",
    "#1  2  3  4 'apple''ball''cat'True,False\n",
    "#\n",
    "l4=[1,2,3,4,'apple','ball','cat',True,False]\n",
    "l4[1:6]"
   ]
  },
  {
   "cell_type": "code",
   "execution_count": 67,
   "id": "190bbdae-45f4-4099-9531-e0bc3d32f4a1",
   "metadata": {},
   "outputs": [
    {
     "name": "stdout",
     "output_type": "stream",
     "text": [
      "2\n",
      "2\n"
     ]
    }
   ],
   "source": [
    "l1=[1,[2]]\n",
    "new=l1[1]#[2] will come again\n",
    "print(new[0])\n",
    "##\n",
    "print(l1[1][0])"
   ]
  },
  {
   "cell_type": "code",
   "execution_count": 68,
   "id": "bcef8bec-b352-4a55-9d2b-06c42f664a6d",
   "metadata": {},
   "outputs": [
    {
     "data": {
      "text/plain": [
       "'A'"
      ]
     },
     "execution_count": 68,
     "metadata": {},
     "output_type": "execute_result"
    }
   ],
   "source": [
    "l1=[1,[2,'A']]\n",
    "l1[1][1]\n",
    "#'A' is presented at index1\n",
    "# so we given l1[1]:[2,'A']it is also list\n",
    "# the list has two arguments\n",
    "#'A'at 1st index\n",
    "# l1[1][1]"
   ]
  },
  {
   "cell_type": "code",
   "execution_count": 71,
   "id": "282a96dc-3970-45d8-90c0-58bb16571e97",
   "metadata": {},
   "outputs": [
    {
     "data": {
      "text/plain": [
       "'B'"
      ]
     },
     "execution_count": 71,
     "metadata": {},
     "output_type": "execute_result"
    }
   ],
   "source": [
    "l1=[1,[2,['A','B']]]\n",
    "l1[1][1][1]"
   ]
  },
  {
   "cell_type": "code",
   "execution_count": 4,
   "id": "b5eeaa27-bf04-4351-8bf7-c7f84cdfbdb3",
   "metadata": {},
   "outputs": [
    {
     "data": {
      "text/plain": [
       "'Apple'"
      ]
     },
     "execution_count": 4,
     "metadata": {},
     "output_type": "execute_result"
    }
   ],
   "source": [
    "l1=[1,2,\n",
    "    [3,[4,[5,\n",
    "       ['Apple']\n",
    "      ]\n",
    "     ]\n",
    "    ]\n",
    "   ]\n",
    "l1[2][1][1][1][0]"
   ]
  },
  {
   "cell_type": "code",
   "execution_count": 85,
   "id": "a3150af8-1a35-491c-bdbb-48408974265e",
   "metadata": {},
   "outputs": [
    {
     "data": {
      "text/plain": [
       "'Banana'"
      ]
     },
     "execution_count": 85,
     "metadata": {},
     "output_type": "execute_result"
    }
   ],
   "source": [
    "l1=['Apple',1,'Solapur',['cherry','papaya',70,[123,'Banana'],'tomato'],'python']\n",
    "l1[3][3][1]"
   ]
  },
  {
   "cell_type": "code",
   "execution_count": 86,
   "id": "cb013ca7-2db1-48be-bd2d-a4e75cfa934f",
   "metadata": {},
   "outputs": [
    {
     "data": {
      "text/plain": [
       "'Cherry'"
      ]
     },
     "execution_count": 86,
     "metadata": {},
     "output_type": "execute_result"
    }
   ],
   "source": [
    "list1=[[[[[[[1 ,'Cherry']]]]]]]\n",
    "list1[0][0][0][0][0][0][1]"
   ]
  },
  {
   "cell_type": "code",
   "execution_count": 93,
   "id": "caeded45-5df5-4ce2-b180-4103971c32cf",
   "metadata": {},
   "outputs": [
    {
     "data": {
      "text/plain": [
       "'shmbaji'"
      ]
     },
     "execution_count": 93,
     "metadata": {},
     "output_type": "execute_result"
    }
   ],
   "source": [
    "list1=['MH',\n",
    "       ['Nagpur',['Orange',['likes',['king'],['shivaji',['Son',['shmbaji']]]]]\n",
    "       ]]\n",
    "list1[1][1][1][2][1][1][0]"
   ]
  },
  {
   "cell_type": "markdown",
   "id": "3beba52c-50d9-402a-9f31-5bca4b13433e",
   "metadata": {},
   "source": [
    "### LIST METHODS"
   ]
  },
  {
   "cell_type": "code",
   "execution_count": 1,
   "id": "7dd6bf00-ec6d-49b2-934d-2624436787bb",
   "metadata": {},
   "outputs": [
    {
     "data": {
      "text/plain": [
       "['__add__',\n",
       " '__class__',\n",
       " '__class_getitem__',\n",
       " '__contains__',\n",
       " '__delattr__',\n",
       " '__delitem__',\n",
       " '__dir__',\n",
       " '__doc__',\n",
       " '__eq__',\n",
       " '__format__',\n",
       " '__ge__',\n",
       " '__getattribute__',\n",
       " '__getitem__',\n",
       " '__getstate__',\n",
       " '__gt__',\n",
       " '__hash__',\n",
       " '__iadd__',\n",
       " '__imul__',\n",
       " '__init__',\n",
       " '__init_subclass__',\n",
       " '__iter__',\n",
       " '__le__',\n",
       " '__len__',\n",
       " '__lt__',\n",
       " '__mul__',\n",
       " '__ne__',\n",
       " '__new__',\n",
       " '__reduce__',\n",
       " '__reduce_ex__',\n",
       " '__repr__',\n",
       " '__reversed__',\n",
       " '__rmul__',\n",
       " '__setattr__',\n",
       " '__setitem__',\n",
       " '__sizeof__',\n",
       " '__str__',\n",
       " '__subclasshook__',\n",
       " 'append',\n",
       " 'clear',\n",
       " 'copy',\n",
       " 'count',\n",
       " 'extend',\n",
       " 'index',\n",
       " 'insert',\n",
       " 'pop',\n",
       " 'remove',\n",
       " 'reverse',\n",
       " 'sort']"
      ]
     },
     "execution_count": 1,
     "metadata": {},
     "output_type": "execute_result"
    }
   ],
   "source": [
    "dir(list)"
   ]
  },
  {
   "cell_type": "code",
   "execution_count": null,
   "id": "2cc9ee63-e096-4403-a040-311ff5bbb932",
   "metadata": {},
   "outputs": [],
   "source": [
    "\n",
    "'append',\n",
    " 'clear',\n",
    " 'copy',\n",
    " 'count',\n",
    " 'extend',\n",
    " 'index',\n",
    " 'insert',\n",
    " 'pop',\n",
    " 'remove',\n",
    " 'reverse',\n",
    " 'sort'"
   ]
  },
  {
   "cell_type": "markdown",
   "id": "5e2481f2-ac10-4f6d-abb6-0bd2a37a7ed4",
   "metadata": {},
   "source": [
    "### Append\n",
    "- adding elements in a list at last index\n",
    "- append method is very important\n",
    "- most of the time we will use append in the real time\n",
    "- when you add the value,the original list will be overwrite"
   ]
  },
  {
   "cell_type": "code",
   "execution_count": 3,
   "id": "489c4f60-2022-4a9a-8b30-435fbf3fe0ee",
   "metadata": {},
   "outputs": [
    {
     "data": {
      "text/plain": [
       "[1, 2, 3, 4, 5, 'a', 'd', 'e']"
      ]
     },
     "execution_count": 3,
     "metadata": {},
     "output_type": "execute_result"
    }
   ],
   "source": [
    "l1=[1,2,3,4,5,'a','d']\n",
    "l1.append('e')\n",
    "l1"
   ]
  },
  {
   "cell_type": "code",
   "execution_count": 5,
   "id": "0723d8f1-9621-4692-b505-5015cfbe3c78",
   "metadata": {},
   "outputs": [
    {
     "data": {
      "text/plain": [
       "[1, 2, 3, 4, 5, 'a', 'd', 'shumyna']"
      ]
     },
     "execution_count": 5,
     "metadata": {},
     "output_type": "execute_result"
    }
   ],
   "source": [
    "l1=[1,2,3,4,5,'a','d']\n",
    "l1.append('shumyna')\n",
    "l1"
   ]
  },
  {
   "cell_type": "code",
   "execution_count": null,
   "id": "1a8bfaa1-0372-4a6d-9b3a-096c26673c07",
   "metadata": {},
   "outputs": [],
   "source": [
    "l1=[1,2,3,4,5,'a','d']\n",
    "l1.append()\n",
    "l1"
   ]
  },
  {
   "cell_type": "code",
   "execution_count": 7,
   "id": "5ececc0b-525a-4e6d-b218-51a580c32f20",
   "metadata": {},
   "outputs": [
    {
     "data": {
      "text/plain": [
       "[1, 2, 3, 4, 100]"
      ]
     },
     "execution_count": 7,
     "metadata": {},
     "output_type": "execute_result"
    }
   ],
   "source": [
    "l1=[1,2,3,4]\n",
    "l1.append(100)\n",
    "l1"
   ]
  },
  {
   "cell_type": "code",
   "execution_count": 8,
   "id": "d61246a7-d105-40d0-93ff-465fee7d5141",
   "metadata": {},
   "outputs": [
    {
     "data": {
      "text/plain": [
       "[1, 2, 3, 4, 100]"
      ]
     },
     "execution_count": 8,
     "metadata": {},
     "output_type": "execute_result"
    }
   ],
   "source": [
    "l1"
   ]
  },
  {
   "cell_type": "code",
   "execution_count": 10,
   "id": "5c3f4c92-492c-4cfb-8781-63f80dddd40e",
   "metadata": {},
   "outputs": [
    {
     "data": {
      "text/plain": [
       "[10, 20, 'shumyna', ['a', 2], True]"
      ]
     },
     "execution_count": 10,
     "metadata": {},
     "output_type": "execute_result"
    }
   ],
   "source": [
    "l2=[]\n",
    "l2.append(10)\n",
    "l2.append(20)\n",
    "l2.append('shumyna')\n",
    "l2.append(['a',2])\n",
    "l2.append(True)\n",
    "l2"
   ]
  },
  {
   "cell_type": "code",
   "execution_count": 11,
   "id": "9b1023e2-2515-4978-bec5-cc73047dfbb7",
   "metadata": {},
   "outputs": [
    {
     "data": {
      "text/plain": [
       "[10, 'sharmila', 'shumyna', ['a', 2], True]"
      ]
     },
     "execution_count": 11,
     "metadata": {},
     "output_type": "execute_result"
    }
   ],
   "source": [
    "l1=[]\n",
    "l1.append(10)\n",
    "l1.append('sharmila')\n",
    "l1.append('shumyna')\n",
    "l1.append(['a',2])\n",
    "l1.append(True)\n",
    "l1"
   ]
  },
  {
   "cell_type": "code",
   "execution_count": 14,
   "id": "35204d0b-a0cb-4ac7-8e99-bd447100f8ce",
   "metadata": {},
   "outputs": [
    {
     "data": {
      "text/plain": [
       "[1, 4, 9, 16, 25]"
      ]
     },
     "execution_count": 14,
     "metadata": {},
     "output_type": "execute_result"
    }
   ],
   "source": [
    "square_list=[]\n",
    "for i in range(1,6):\n",
    "    square_list.append(i*i)\n",
    "square_list"
   ]
  },
  {
   "cell_type": "code",
   "execution_count": 22,
   "id": "2ad2df6e-985d-423d-966c-572d2063aa39",
   "metadata": {},
   "outputs": [
    {
     "data": {
      "text/plain": [
       "[1, 5, 9]"
      ]
     },
     "execution_count": 22,
     "metadata": {},
     "output_type": "execute_result"
    }
   ],
   "source": [
    "s=\"hai hai hai\"\n",
    "s1=[]\n",
    "for i in range(len(s)):\n",
    "    if s[i]=='a':\n",
    "        s1.append(i)\n",
    "s1"
   ]
  },
  {
   "cell_type": "code",
   "execution_count": 11,
   "id": "5d7cf979-9039-411a-bb2a-ccb8cbda0100",
   "metadata": {},
   "outputs": [
    {
     "name": "stdout",
     "output_type": "stream",
     "text": [
      "[1, 5, 9]\n",
      "15\n"
     ]
    },
    {
     "data": {
      "text/plain": [
       "([1, 5, 9], 15)"
      ]
     },
     "execution_count": 11,
     "metadata": {},
     "output_type": "execute_result"
    }
   ],
   "source": [
    "summ=0\n",
    "s=\"hai hai hai\"\n",
    "s1=[]\n",
    "for i in range(len(s)):\n",
    "    if s[i]=='a':\n",
    "        summ=summ+i\n",
    "        s1.append(i)\n",
    "print(s1)\n",
    "print(summ)\n",
    "s1,summ"
   ]
  },
  {
   "cell_type": "code",
   "execution_count": 12,
   "id": "a2ff1a56-7621-4c23-a500-8ae402f9e3e4",
   "metadata": {},
   "outputs": [
    {
     "data": {
      "text/plain": [
       "['mumbai', 'chennai']"
      ]
     },
     "execution_count": 12,
     "metadata": {},
     "output_type": "execute_result"
    }
   ],
   "source": [
    "l1=['hyd','mumbai','chennai','blr']\n",
    "l2=[]\n",
    "for i in l1:\n",
    "    if len(i)>4:\n",
    "        l2.append(i)\n",
    "l2"
   ]
  },
  {
   "cell_type": "code",
   "execution_count": null,
   "id": "89398976-bacc-4d51-a859-7d84895f0667",
   "metadata": {},
   "outputs": [],
   "source": [
    "'nadeem'in \"#\"# 'nadeem' is available in '#''\n",
    "'#'in 'nadeem' # is '#'' available in 'nadeeem'\n",
    "'nad##m' in '#'# is 'nad##m' available in '#'\n",
    "'#' in 'nad##m'# is '#' available in 'nad##m'"
   ]
  },
  {
   "cell_type": "code",
   "execution_count": 6,
   "id": "72b3197e-c5ab-4782-a590-bc5dec21c9eb",
   "metadata": {},
   "outputs": [
    {
     "data": {
      "text/plain": [
       "'Hello #  Im #  Learing #  Python'"
      ]
     },
     "execution_count": 6,
     "metadata": {},
     "output_type": "execute_result"
    }
   ],
   "source": [
    "str1='hello im learing python'\n",
    "s1=str1.split()\n",
    "s2=[]\n",
    "for i in s1:\n",
    "    s2.append(i.capitalize())\n",
    "' #  '.join(s2)"
   ]
  },
  {
   "cell_type": "markdown",
   "id": "fc6323af-bc17-4ce0-a0a3-560333620cc5",
   "metadata": {},
   "source": [
    "**split-join**\n",
    "- split will apply for strings,to divide the words or characters\n",
    "- when we split the elements will be sorted in a list format\n",
    "- join is used to combain the elements of a list in a string format\n",
    "- **split-strings**\n",
    "- **join-lists**"
   ]
  },
  {
   "cell_type": "code",
   "execution_count": 14,
   "id": "d79ed6a1-100c-4c7a-9f0d-45cb1028adb4",
   "metadata": {},
   "outputs": [
    {
     "data": {
      "text/plain": [
       "4.242640687119285"
      ]
     },
     "execution_count": 14,
     "metadata": {},
     "output_type": "execute_result"
    }
   ],
   "source": [
    "import math\n",
    "a=[1,2]\n",
    "b=[4,5]\n",
    "v1=b[0]-a[0]\n",
    "v2=b[1]-a[1]\n",
    "v3=v1*v1\n",
    "v4=v2*v2\n",
    "v5=v3+v4\n",
    "math.sqrt(v5)"
   ]
  },
  {
   "cell_type": "code",
   "execution_count": 36,
   "id": "c3219f87-17f4-4321-8d28-64a13e40d231",
   "metadata": {},
   "outputs": [
    {
     "name": "stdout",
     "output_type": "stream",
     "text": [
      "1 2\n",
      "2 3\n",
      ".... 1 1\n",
      "========\n",
      "2 3\n",
      "2 3\n",
      ".... 0 0\n",
      "========\n",
      "3 4\n",
      "2 3\n",
      ".... -1 -1\n",
      "========\n"
     ]
    }
   ],
   "source": [
    "import math\n",
    "p=[[1,2],[2,3],[3,4]]\n",
    "val=[2,3]\n",
    "for i in p:\n",
    "    print(i[0],i[1])\n",
    "    print(val[0],val[1])\n",
    "    v1=val[0]-i[0]\n",
    "    v2=val[1]-i[1]\n",
    "    print('....',v1,v2)\n",
    "    v3=v1*v1\n",
    "    v4=v2*v2\n",
    "    v5=v3+v4\n",
    "    math.sqrt(v5)\n",
    "    print('========')"
   ]
  },
  {
   "cell_type": "markdown",
   "id": "49423508-d3de-4833-81e9-4ddc19e185b0",
   "metadata": {},
   "source": [
    "**clear**"
   ]
  },
  {
   "cell_type": "code",
   "execution_count": 2,
   "id": "7e23f2f7-8846-40a6-9c73-3015f1221c2d",
   "metadata": {},
   "outputs": [
    {
     "data": {
      "text/plain": [
       "[]"
      ]
     },
     "execution_count": 2,
     "metadata": {},
     "output_type": "execute_result"
    }
   ],
   "source": [
    "lst=[1,2,3,'shumyna','apple']\n",
    "lst.clear()#gives the empty list by removing values\n",
    "lst"
   ]
  },
  {
   "cell_type": "markdown",
   "id": "6263320a-5c50-4784-835a-a6b59713ab2d",
   "metadata": {},
   "source": [
    "**copy**"
   ]
  },
  {
   "cell_type": "code",
   "execution_count": 4,
   "id": "7f9bef9d-ccdd-4a0b-9c4d-081213c5520b",
   "metadata": {},
   "outputs": [
    {
     "name": "stdout",
     "output_type": "stream",
     "text": [
      "[1, 2, 3, 'shumyna', 'apple']\n",
      "[1, 2, 3, 'shumyna', 'apple']\n"
     ]
    }
   ],
   "source": [
    "lst=[1,2,3,'shumyna','apple']\n",
    "lst2=lst.copy()#copies the whole list\n",
    "print(lst2)\n",
    "print(lst)"
   ]
  },
  {
   "cell_type": "code",
   "execution_count": 6,
   "id": "49936d8a-e6eb-42e2-9765-8317127d0377",
   "metadata": {},
   "outputs": [
    {
     "data": {
      "text/plain": [
       "['shumyna', 'sharmila', 1.4, 's', 'h', 'a', 'i', 'k']"
      ]
     },
     "execution_count": 6,
     "metadata": {},
     "output_type": "execute_result"
    }
   ],
   "source": [
    "l1=['shumyna','sharmila',1.4]\n",
    "l1.extend('shaik')# it assigns value in each index(it seperates each letter)\n",
    "l1"
   ]
  },
  {
   "cell_type": "code",
   "execution_count": 56,
   "id": "e35749a7-b1a0-4674-bc32-6db7e049097d",
   "metadata": {},
   "outputs": [
    {
     "data": {
      "text/plain": [
       "['shumyna', 'sharmila', 1.4, 10, 20]"
      ]
     },
     "execution_count": 56,
     "metadata": {},
     "output_type": "execute_result"
    }
   ],
   "source": [
    "l1=['shumyna','sharmila',1.4]\n",
    "l1.extend([10,20])#if value is give in list it takes\n",
    "l1"
   ]
  },
  {
   "cell_type": "code",
   "execution_count": 57,
   "id": "5235e48c-2694-48ed-8004-6a363f11e32a",
   "metadata": {},
   "outputs": [
    {
     "data": {
      "text/plain": [
       "['shumyna', 'sharmila', 1.4, 10, 20]"
      ]
     },
     "execution_count": 57,
     "metadata": {},
     "output_type": "execute_result"
    }
   ],
   "source": [
    "l1=['shumyna','sharmila',1.4]\n",
    "l1.extend((10,20))#if value is give in tuple it takes\n",
    "l1"
   ]
  },
  {
   "cell_type": "code",
   "execution_count": 48,
   "id": "c50663b0-d45f-4f15-90d5-32caf29fb310",
   "metadata": {},
   "outputs": [
    {
     "data": {
      "text/plain": [
       "[1, 2, 3, 'shumyna', 'sharmila', 1.4]"
      ]
     },
     "execution_count": 48,
     "metadata": {},
     "output_type": "execute_result"
    }
   ],
   "source": [
    "l1=['shumyna','sharmila',1.4]\n",
    "l2=[1,2,3]\n",
    "l2.extend(l1)\n",
    "l2\n",
    "# extend takes the new value into each index sperated by letters"
   ]
  },
  {
   "cell_type": "markdown",
   "id": "7715605a-b40a-46e3-8a30-06ba9caab02c",
   "metadata": {},
   "source": [
    "**Append-Extend-Concatenation:**\n",
    "- append just append the value with base value\n",
    "- extend is concatenate the value,and the list will be overwrite with newvalues\n",
    "- extend can take any iterable format type i.e string,list,tuple\n",
    "- extend and concatenation both are same\n",
    "- the lsit will not overwrite in concatenation"
   ]
  },
  {
   "cell_type": "code",
   "execution_count": 16,
   "id": "e39e952f-af66-452d-9d16-752210a40214",
   "metadata": {},
   "outputs": [
    {
     "data": {
      "text/plain": [
       "['shumyna', 'sharmila', 1.4, 'shaik']"
      ]
     },
     "execution_count": 16,
     "metadata": {},
     "output_type": "execute_result"
    }
   ],
   "source": [
    "lst1=['shumyna','sharmila',1.4]\n",
    "lst1.append(\"shaik\")\n",
    "lst1\n",
    "# append adds the new value at last"
   ]
  },
  {
   "cell_type": "code",
   "execution_count": 54,
   "id": "f5da3bce-7a34-4355-a49c-6a2ee3930710",
   "metadata": {},
   "outputs": [
    {
     "name": "stdout",
     "output_type": "stream",
     "text": [
      "['shaik', 'apple', 2.4, 'shumyna', 'sharmila', 1.4]\n",
      "['shaik', 'apple', 2.4]\n"
     ]
    }
   ],
   "source": [
    "lst1=['shumyna','sharmila',1.4]\n",
    "lst2=['shaik','apple',2.4]\n",
    "print(lst2+lst1)\n",
    "print(lst2)\n",
    "#combines 2 lists  "
   ]
  },
  {
   "cell_type": "markdown",
   "id": "0c272d6c-3fe7-4999-9ab0-5f9beeba66c9",
   "metadata": {},
   "source": [
    "**insert**\n",
    "- insert will insert the element based on index"
   ]
  },
  {
   "cell_type": "code",
   "execution_count": 69,
   "id": "acb65606-0839-4f4a-b1a5-baf146839d0c",
   "metadata": {},
   "outputs": [
    {
     "data": {
      "text/plain": [
       "4"
      ]
     },
     "execution_count": 69,
     "metadata": {},
     "output_type": "execute_result"
    }
   ],
   "source": [
    "lst1=[1,2,3,4,'shumyna','sharmila',1.4]\n",
    "lst1.index('shumyna')\n"
   ]
  },
  {
   "cell_type": "code",
   "execution_count": 5,
   "id": "e8894198-5d8b-47e1-ae35-36b97ffbb2c5",
   "metadata": {},
   "outputs": [
    {
     "data": {
      "text/plain": [
       "['shumyna', 'sharmila', 'karim', 1.4]"
      ]
     },
     "execution_count": 5,
     "metadata": {},
     "output_type": "execute_result"
    }
   ],
   "source": [
    "lst1=['shumyna','sharmila',1.4]\n",
    "lst1.insert(-1,'karim')\n",
    "lst1`"
   ]
  },
  {
   "cell_type": "code",
   "execution_count": 6,
   "id": "da11eab5-848b-4bdd-93dc-77f4cd472b32",
   "metadata": {},
   "outputs": [
    {
     "data": {
      "text/plain": [
       "['shumyna', 'sharmila', 'karim', 1.4]"
      ]
     },
     "execution_count": 6,
     "metadata": {},
     "output_type": "execute_result"
    }
   ],
   "source": [
    "lst1=['shumyna','sharmila',1.4]\n",
    "lst1.insert(2,'karim')\n",
    "lst1"
   ]
  },
  {
   "cell_type": "code",
   "execution_count": 21,
   "id": "63aed9e1-f639-492f-bbb6-975cda10da8e",
   "metadata": {},
   "outputs": [
    {
     "data": {
      "text/plain": [
       "['shumyna', 'sharmila', 'cherry', 'shumyna', 1.4]"
      ]
     },
     "execution_count": 21,
     "metadata": {},
     "output_type": "execute_result"
    }
   ],
   "source": [
    "lst1=['shumyna','sharmila','shumyna',1.4]\n",
    "i1=lst1.index('shumyna')\n",
    "i2=lst1.index('shumyna',i1+1)\n",
    "lst1.insert(2,'cherry')\n",
    "lst1"
   ]
  },
  {
   "cell_type": "markdown",
   "id": "00245d5f-5a14-4c3d-b7df-f97e6f80597d",
   "metadata": {},
   "source": [
    "**pop and remove**\n",
    "- Pop will remove the item\n",
    "- pop also display the item which is removing\n",
    "- pop will take one argument index\n",
    "- pop will remove the item based on index\n",
    "- if you dont provide any index by default it will remove last value\n",
    "- because the default index value is -1"
   ]
  },
  {
   "cell_type": "code",
   "execution_count": 24,
   "id": "700bea73-2986-4fc2-8724-919941f824f2",
   "metadata": {},
   "outputs": [
    {
     "data": {
      "text/plain": [
       "['shumyna', 'sharmila', 1.4, 1, 2]"
      ]
     },
     "execution_count": 24,
     "metadata": {},
     "output_type": "execute_result"
    }
   ],
   "source": [
    "lst1=['shumyna','sharmila',1.4,1,2,3]\n",
    "lst1.pop()\n",
    "lst1"
   ]
  },
  {
   "cell_type": "code",
   "execution_count": 23,
   "id": "a8cf0da8-eeaa-49fd-a519-29d5cb314449",
   "metadata": {},
   "outputs": [
    {
     "data": {
      "text/plain": [
       "['shumyna', 'sharmila', 1, 2, 3]"
      ]
     },
     "execution_count": 23,
     "metadata": {},
     "output_type": "execute_result"
    }
   ],
   "source": [
    "lst1=['shumyna','sharmila',1.4,1,2,3]\n",
    "lst1.pop(2)\n",
    "lst1\n",
    "#removes the value by taking index"
   ]
  },
  {
   "cell_type": "code",
   "execution_count": 38,
   "id": "0a11423c-2a6e-4b0b-87d4-e31172771a4c",
   "metadata": {},
   "outputs": [
    {
     "data": {
      "text/plain": [
       "['shumyna', 1.4, 1, 2, 3]"
      ]
     },
     "execution_count": 38,
     "metadata": {},
     "output_type": "execute_result"
    }
   ],
   "source": [
    "lst1=['shumyna','sharmila','shumyna',1.4,1,2,3]\n",
    "i1=lst1.index('shumyna')\n",
    "i2=lst1.index('shumyna')\n",
    "lst1.pop(i1) and lst1.pop(i2)\n",
    "lst1\n"
   ]
  },
  {
   "cell_type": "code",
   "execution_count": 39,
   "id": "7564099d-5312-428d-bad0-5f90a28ea45b",
   "metadata": {},
   "outputs": [
    {
     "data": {
      "text/plain": [
       "['sharmila', 1.4, 1, 2, 3]"
      ]
     },
     "execution_count": 39,
     "metadata": {},
     "output_type": "execute_result"
    }
   ],
   "source": [
    "lst1=['shumyna','sharmila','shumyna',1.4,1,2,3]\n",
    "i1=lst1.index('shumyna')\n",
    "lst1.pop(i1)\n",
    "i2=lst1.index('shumyna')\n",
    "lst1.pop(i2)\n",
    "lst1\n",
    "# list gets updated each time we pop"
   ]
  },
  {
   "cell_type": "markdown",
   "id": "2d5aa19e-d3a2-4d3c-b0a0-d8639db6125f",
   "metadata": {},
   "source": [
    "- pop will take the index\n",
    "- remove will take the value\n",
    "- remove will delete the first occurence element"
   ]
  },
  {
   "cell_type": "code",
   "execution_count": 57,
   "id": "62a09d47-0274-4da5-b62a-9719d99661e7",
   "metadata": {},
   "outputs": [
    {
     "data": {
      "text/plain": [
       "['sharmila', 'shumyna', 1.4, 1, 2, 3]"
      ]
     },
     "execution_count": 57,
     "metadata": {},
     "output_type": "execute_result"
    }
   ],
   "source": [
    "lst1=['shumyna','sharmila','shumyna',1.4,1,2,3]\n",
    "lst1.remove('shumyna')\n",
    "lst1"
   ]
  },
  {
   "cell_type": "code",
   "execution_count": 23,
   "id": "8f5cee25-5613-4eaf-8ed9-24672f4031d1",
   "metadata": {},
   "outputs": [
    {
     "data": {
      "text/plain": [
       "['shumyna', 'sharmila', 1, 2, 3]"
      ]
     },
     "execution_count": 23,
     "metadata": {},
     "output_type": "execute_result"
    }
   ],
   "source": [
    "lst1=['shumyna','sharmila',1.4,1,2,3]\n",
    "lst1.remove(1.4)\n",
    "lst1\n",
    "#"
   ]
  },
  {
   "cell_type": "code",
   "execution_count": 59,
   "id": "7a3feca8-073e-47b6-83cf-a6c9f0772440",
   "metadata": {},
   "outputs": [
    {
     "data": {
      "text/plain": [
       "'hai how are you i am good thank you'"
      ]
     },
     "execution_count": 59,
     "metadata": {},
     "output_type": "execute_result"
    }
   ],
   "source": [
    "str='hai apple how are you apple i am good apple thank you apple'\n",
    "l1=str.split()\n",
    "for i in range(4):\n",
    "    l1.remove('apple')\n",
    "' '.join(l1)"
   ]
  },
  {
   "cell_type": "markdown",
   "id": "511762dd-7a58-4182-b645-8cda93b0b5d8",
   "metadata": {},
   "source": [
    "**del**"
   ]
  },
  {
   "cell_type": "code",
   "execution_count": 60,
   "id": "96db3942-cfce-453c-82ae-ed17d9fe0268",
   "metadata": {},
   "outputs": [
    {
     "data": {
      "text/plain": [
       "[1, 2, 3, 10, 20, 'apple', 40]"
      ]
     },
     "execution_count": 60,
     "metadata": {},
     "output_type": "execute_result"
    }
   ],
   "source": [
    "l1=[1,2,3,'apple',10,20,'apple',40]\n",
    "del(l1[3])\n",
    "l1"
   ]
  },
  {
   "cell_type": "code",
   "execution_count": 22,
   "id": "62f9bcd7-d536-4743-824b-3bd35f907709",
   "metadata": {},
   "outputs": [
    {
     "data": {
      "text/plain": [
       "[3, 2, 1, 1.4, 'sharmila', 'shumyna']"
      ]
     },
     "execution_count": 22,
     "metadata": {},
     "output_type": "execute_result"
    }
   ],
   "source": [
    "lst1=['shumyna','sharmila',1.4,1,2,3]\n",
    "lst1.reverse()\n",
    "lst1"
   ]
  },
  {
   "cell_type": "code",
   "execution_count": null,
   "id": "505d0894-2eba-4e98-93b7-7047239a8fef",
   "metadata": {},
   "outputs": [],
   "source": []
  },
  {
   "cell_type": "code",
   "execution_count": 38,
   "id": "bcf02e39-112a-460c-8740-43b3df0c0211",
   "metadata": {},
   "outputs": [
    {
     "data": {
      "text/plain": [
       "['shumyna', 1.4, 1]"
      ]
     },
     "execution_count": 38,
     "metadata": {},
     "output_type": "execute_result"
    }
   ],
   "source": [
    "list(reversed([1,1.4,'shumyna']))"
   ]
  },
  {
   "cell_type": "code",
   "execution_count": 31,
   "id": "b3c39234-2c75-4181-8cb9-facc1b9718c4",
   "metadata": {},
   "outputs": [
    {
     "data": {
      "text/plain": [
       "['A', 'B', 'C', 'D']"
      ]
     },
     "execution_count": 31,
     "metadata": {},
     "output_type": "execute_result"
    }
   ],
   "source": [
    "lst1=['A','B','D','C']\n",
    "lst1.sort()\n",
    "lst1"
   ]
  },
  {
   "cell_type": "code",
   "execution_count": 30,
   "id": "c15f9cf0-0234-48ac-8934-4d788764b444",
   "metadata": {},
   "outputs": [
    {
     "data": {
      "text/plain": [
       "[1, 2, 3, 4, 5, 6]"
      ]
     },
     "execution_count": 30,
     "metadata": {},
     "output_type": "execute_result"
    }
   ],
   "source": [
    "lst1=[2,3,5,6,1,4]\n",
    "lst1.sort()\n",
    "lst1"
   ]
  },
  {
   "cell_type": "code",
   "execution_count": 41,
   "id": "ec185f08-5d5d-4c0b-a91c-da3266b25df2",
   "metadata": {},
   "outputs": [
    {
     "data": {
      "text/plain": [
       "[1, 2, 3, 4]"
      ]
     },
     "execution_count": 41,
     "metadata": {},
     "output_type": "execute_result"
    }
   ],
   "source": [
    "list(sorted([2,1,4,3]))"
   ]
  },
  {
   "cell_type": "code",
   "execution_count": 53,
   "id": "65c7e05e-30f3-42d8-94f6-6cfc8c6dc6ae",
   "metadata": {},
   "outputs": [
    {
     "data": {
      "text/plain": [
       "1"
      ]
     },
     "execution_count": 53,
     "metadata": {},
     "output_type": "execute_result"
    }
   ],
   "source": [
    "lst1=['shumyna','sharmila',[1,2,3],1.4,'shumyna']\n",
    "lst1.count([1,2,3])#gives the count of the value"
   ]
  },
  {
   "cell_type": "code",
   "execution_count": 56,
   "id": "e29fc2f5-a1d7-404f-ab42-664375798393",
   "metadata": {},
   "outputs": [
    {
     "data": {
      "text/plain": [
       "'hai how are you i am good thank you'"
      ]
     },
     "execution_count": 56,
     "metadata": {},
     "output_type": "execute_result"
    }
   ],
   "source": [
    "str='hai apple how are you apple i am good apple thank you apple'\n",
    "l1=str.split()\n",
    "for i in range(4):\n",
    "    i1=l1.index(\"apple\")\n",
    "    l1.pop(i1)\n",
    "' '.join(l1)"
   ]
  },
  {
   "cell_type": "markdown",
   "id": "0d677915-028e-45c0-877a-d3a5ce42c528",
   "metadata": {},
   "source": [
    "- append/extend/insert/concatention\n",
    "- pop/remove/del\n",
    "- sort/sorted\n",
    "- reverse/reversed\n",
    "- count and index"
   ]
  },
  {
   "cell_type": "code",
   "execution_count": null,
   "id": "64f73163-2f91-47f9-b0d8-0ae217f013f6",
   "metadata": {},
   "outputs": [],
   "source": []
  },
  {
   "cell_type": "code",
   "execution_count": null,
   "id": "14499381-3262-4307-b8e4-acd1d4e9a54b",
   "metadata": {},
   "outputs": [],
   "source": []
  },
  {
   "cell_type": "code",
   "execution_count": null,
   "id": "0adaeeb8-f09a-4433-ae0c-930d34de31ac",
   "metadata": {},
   "outputs": [],
   "source": []
  },
  {
   "cell_type": "code",
   "execution_count": null,
   "id": "cf365deb-1ebe-4207-96d8-7ca4816ec52e",
   "metadata": {},
   "outputs": [],
   "source": []
  },
  {
   "cell_type": "code",
   "execution_count": null,
   "id": "27ef0e86-8ecd-423a-b83f-99a1602cb7a8",
   "metadata": {},
   "outputs": [],
   "source": []
  },
  {
   "cell_type": "code",
   "execution_count": null,
   "id": "38ad6278-1d52-4e94-a3e3-0365515822fa",
   "metadata": {},
   "outputs": [],
   "source": []
  },
  {
   "cell_type": "code",
   "execution_count": null,
   "id": "7b32546f-c249-48a0-8b7e-3b8100a3f094",
   "metadata": {},
   "outputs": [],
   "source": []
  }
 ],
 "metadata": {
  "kernelspec": {
   "display_name": "Python 3 (ipykernel)",
   "language": "python",
   "name": "python3"
  },
  "language_info": {
   "codemirror_mode": {
    "name": "ipython",
    "version": 3
   },
   "file_extension": ".py",
   "mimetype": "text/x-python",
   "name": "python",
   "nbconvert_exporter": "python",
   "pygments_lexer": "ipython3",
   "version": "3.11.7"
  }
 },
 "nbformat": 4,
 "nbformat_minor": 5
}
