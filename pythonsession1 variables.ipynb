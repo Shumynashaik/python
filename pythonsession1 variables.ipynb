{
 "cells": [
  {
   "cell_type": "markdown",
   "id": "7536ea14-4e2d-4efc-926b-615b3d275196",
   "metadata": {},
   "source": [
    "##variable:\n",
    "is used to store the value and the values can be changed\n"
   ]
  },
  {
   "cell_type": "code",
   "execution_count": 2,
   "id": "6552e80c-c0fc-43e4-86f9-7dc76bb242a5",
   "metadata": {},
   "outputs": [
    {
     "data": {
      "text/plain": [
       "100"
      ]
     },
     "execution_count": 2,
     "metadata": {},
     "output_type": "execute_result"
    }
   ],
   "source": [
    "num=100# value 100 stored in a variable name called num\n",
    "num"
   ]
  },
  {
   "cell_type": "code",
   "execution_count": 4,
   "id": "69e769b1-f47f-4fa1-b4ff-7816af4fd381",
   "metadata": {},
   "outputs": [
    {
     "data": {
      "text/plain": [
       "200"
      ]
     },
     "execution_count": 4,
     "metadata": {},
     "output_type": "execute_result"
    }
   ],
   "source": [
    "\n",
    "num=200\n",
    "num"
   ]
  },
  {
   "cell_type": "markdown",
   "id": "d33c75f3-9045-433d-9abd-8451108911b6",
   "metadata": {},
   "source": [
    "**note**\n",
    "- python is a step by step process\n",
    "- python will take last outut as the latest value\n",
    "- in above code we are using  same variable :number\n",
    "- but number value changed two times\n",
    "- first time 100\n",
    "- second tim its 200\n",
    "-latest value is 200\n"
   ]
  },
  {
   "cell_type": "code",
   "execution_count": 5,
   "id": "67110510-46cb-4b6e-a2c3-0308051f220c",
   "metadata": {},
   "outputs": [
    {
     "data": {
      "text/plain": [
       "(200, 200)"
      ]
     },
     "execution_count": 5,
     "metadata": {},
     "output_type": "execute_result"
    }
   ],
   "source": [
    "num=200\n",
    "num,num"
   ]
  },
  {
   "cell_type": "code",
   "execution_count": 6,
   "id": "2a393241-fdbc-4567-a0f2-25644e76ef4a",
   "metadata": {},
   "outputs": [
    {
     "data": {
      "text/plain": [
       "300"
      ]
     },
     "execution_count": 6,
     "metadata": {},
     "output_type": "execute_result"
    }
   ],
   "source": [
    "NUMber=300\n",
    "NUMber"
   ]
  },
  {
   "cell_type": "code",
   "execution_count": 7,
   "id": "15d3bf29-d3dd-4000-a998-1de70ce329b3",
   "metadata": {},
   "outputs": [
    {
     "data": {
      "text/plain": [
       "400"
      ]
     },
     "execution_count": 7,
     "metadata": {},
     "output_type": "execute_result"
    }
   ],
   "source": [
    "number123=400\n",
    "number123"
   ]
  },
  {
   "cell_type": "code",
   "execution_count": 8,
   "id": "19e831df-7240-4f64-a311-fbbc234b39b5",
   "metadata": {},
   "outputs": [
    {
     "ename": "SyntaxError",
     "evalue": "invalid decimal literal (1949320300.py, line 1)",
     "output_type": "error",
     "traceback": [
      "\u001b[1;36m  Cell \u001b[1;32mIn[8], line 1\u001b[1;36m\u001b[0m\n\u001b[1;33m    123numbes=500\u001b[0m\n\u001b[1;37m      ^\u001b[0m\n\u001b[1;31mSyntaxError\u001b[0m\u001b[1;31m:\u001b[0m invalid decimal literal\n"
     ]
    }
   ],
   "source": [
    "123numbes=500\n",
    "123number"
   ]
  },
  {
   "cell_type": "code",
   "execution_count": 9,
   "id": "f802086f-d89e-44f5-9ce0-935415acd968",
   "metadata": {},
   "outputs": [
    {
     "ename": "SyntaxError",
     "evalue": "cannot assign to expression here. Maybe you meant '==' instead of '='? (357410957.py, line 1)",
     "output_type": "error",
     "traceback": [
      "\u001b[1;36m  Cell \u001b[1;32mIn[9], line 1\u001b[1;36m\u001b[0m\n\u001b[1;33m    num%er=50\u001b[0m\n\u001b[1;37m    ^\u001b[0m\n\u001b[1;31mSyntaxError\u001b[0m\u001b[1;31m:\u001b[0m cannot assign to expression here. Maybe you meant '==' instead of '='?\n"
     ]
    }
   ],
   "source": [
    "num%er=50\n",
    "num%er"
   ]
  },
  {
   "cell_type": "markdown",
   "id": "a55fe6e0-e8b1-4619-81dd-7d6ee5dbd009",
   "metadata": {},
   "source": [
    "nuber one=800\n",
    "number one"
   ]
  },
  {
   "cell_type": "code",
   "execution_count": 11,
   "id": "c8d7b4ab-c2c0-4b86-a312-b0484801a8ce",
   "metadata": {},
   "outputs": [
    {
     "data": {
      "text/plain": [
       "88"
      ]
     },
     "execution_count": 11,
     "metadata": {},
     "output_type": "execute_result"
    }
   ],
   "source": [
    "number_one=88\n",
    "number_one"
   ]
  },
  {
   "cell_type": "code",
   "execution_count": 12,
   "id": "b889923f-634b-451b-885f-5ba31f58db1a",
   "metadata": {},
   "outputs": [
    {
     "data": {
      "text/plain": [
       "100"
      ]
     },
     "execution_count": 12,
     "metadata": {},
     "output_type": "execute_result"
    }
   ],
   "source": [
    "_=100\n",
    "_"
   ]
  },
  {
   "cell_type": "code",
   "execution_count": 13,
   "id": "6c5c6e9b-dcac-4725-b728-ac461ff97dae",
   "metadata": {},
   "outputs": [
    {
     "data": {
      "text/plain": [
       "(100, 200)"
      ]
     },
     "execution_count": 13,
     "metadata": {},
     "output_type": "execute_result"
    }
   ],
   "source": [
    "n1=100,200\n",
    "n1"
   ]
  },
  {
   "cell_type": "code",
   "execution_count": 15,
   "id": "f37e252d-018a-4ef2-a82e-66633fc877e6",
   "metadata": {},
   "outputs": [
    {
     "ename": "TypeError",
     "evalue": "cannot unpack non-iterable int object",
     "output_type": "error",
     "traceback": [
      "\u001b[1;31m---------------------------------------------------------------------------\u001b[0m",
      "\u001b[1;31mTypeError\u001b[0m                                 Traceback (most recent call last)",
      "Cell \u001b[1;32mIn[15], line 1\u001b[0m\n\u001b[1;32m----> 1\u001b[0m n1,n2\u001b[38;5;241m=\u001b[39m\u001b[38;5;241m100\u001b[39m\n",
      "\u001b[1;31mTypeError\u001b[0m: cannot unpack non-iterable int object"
     ]
    }
   ],
   "source": [
    "n1,n2=100"
   ]
  },
  {
   "cell_type": "raw",
   "id": "f828a2bf-fc02-46fe-bfaf-e581d51c116e",
   "metadata": {},
   "source": []
  },
  {
   "cell_type": "code",
   "execution_count": 18,
   "id": "b35c2176-b0e3-46b5-97be-f3fef4044c48",
   "metadata": {},
   "outputs": [
    {
     "name": "stdout",
     "output_type": "stream",
     "text": [
      "100\n",
      "200\n"
     ]
    }
   ],
   "source": [
    "n1,n2=100,200\n",
    "print(n1)\n",
    "print(n2)"
   ]
  },
  {
   "cell_type": "code",
   "execution_count": 19,
   "id": "4ae809d0-2763-4b0c-a633-c5b82a69d2d8",
   "metadata": {},
   "outputs": [
    {
     "ename": "TypeError",
     "evalue": "cannot unpack non-iterable int object",
     "output_type": "error",
     "traceback": [
      "\u001b[1;31m---------------------------------------------------------------------------\u001b[0m",
      "\u001b[1;31mTypeError\u001b[0m                                 Traceback (most recent call last)",
      "Cell \u001b[1;32mIn[19], line 1\u001b[0m\n\u001b[1;32m----> 1\u001b[0m n1,n2\u001b[38;5;241m=\u001b[39m\u001b[38;5;241m100\u001b[39m\n\u001b[0;32m      2\u001b[0m n1\n\u001b[0;32m      3\u001b[0m n2\n",
      "\u001b[1;31mTypeError\u001b[0m: cannot unpack non-iterable int object"
     ]
    }
   ],
   "source": [
    "n1,n2=100\n",
    "n1\n",
    "n2"
   ]
  },
  {
   "cell_type": "markdown",
   "id": "dce8c29c-5fa8-41aa-b9c6-e14ec379973b",
   "metadata": {},
   "source": [
    "## variables key points\n",
    "- pyton variables are case sensitive\n",
    "- variables cannot start with numbers(123number) or any other special characters expect undersore\"_\"\n",
    "- variables should not contain spaces between names\n",
    "- keywords or reserved words cannot be use as vaiables like (if,ifelse,elseif,while,for,true,false etc)\n",
    "- twq values can be assign to asingle variable\n",
    "- on va;ue cannot be assigned to two variables"
   ]
  },
  {
   "cell_type": "code",
   "execution_count": null,
   "id": "611f66e7-940d-490b-8e59-6d12b153655d",
   "metadata": {},
   "outputs": [],
   "source": []
  }
 ],
 "metadata": {
  "kernelspec": {
   "display_name": "Python 3 (ipykernel)",
   "language": "python",
   "name": "python3"
  },
  "language_info": {
   "codemirror_mode": {
    "name": "ipython",
    "version": 3
   },
   "file_extension": ".py",
   "mimetype": "text/x-python",
   "name": "python",
   "nbconvert_exporter": "python",
   "pygments_lexer": "ipython3",
   "version": "3.11.7"
  }
 },
 "nbformat": 4,
 "nbformat_minor": 5
}
