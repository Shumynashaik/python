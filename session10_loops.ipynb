{
 "cells": [
  {
   "cell_type": "markdown",
   "id": "5c191810-5040-4e95-81c6-d86f58d32a4e",
   "metadata": {},
   "source": [
    "# **LOOPS**\n",
    "- iterate a piece of code until the condition is satisfied\n",
    "- we can run a code normally\n",
    "- we can run a code by using function wrapper(functions)\n",
    "- we can run a code multiple times(loops)\n",
    "- we can run a code by using conditions also(conditions)"
   ]
  },
  {
   "cell_type": "markdown",
   "id": "d3bcc8aa-bca4-461e-a0d5-04703d7b20f2",
   "metadata": {},
   "source": [
    "**types**\n",
    "- for loop\n",
    "- while loop\n",
    "- any loop\n",
    "  - initializing\n",
    "  - increment or decrement\n",
    "  - condition"
   ]
  },
  {
   "cell_type": "markdown",
   "id": "e2db9e57-1d4c-4d51-b299-2cc16eb66dcc",
   "metadata": {},
   "source": [
    "## **FOR LOOP**"
   ]
  },
  {
   "cell_type": "markdown",
   "id": "066a4728-6c97-498d-b710-999e528e64db",
   "metadata": {},
   "source": [
    "**pattern1**\n",
    "### RANGE(STOP)"
   ]
  },
  {
   "cell_type": "code",
   "execution_count": null,
   "id": "22fd8683-fd2a-4a02-b7a6-2310eac76c84",
   "metadata": {},
   "outputs": [],
   "source": [
    "#syntax\n",
    "for i in range(<value>):\n",
    "    //statements#"
   ]
  },
  {
   "cell_type": "markdown",
   "id": "8fdfb010-bc33-4069-995d-541ce3bbc7c1",
   "metadata": {},
   "source": [
    "- whwenever you see he word range it belongs to math family\n",
    "- inside range we need to provide one value ex:range(3)\n",
    "- if you provide only one value\n",
    "      - start value=0\n",
    "      - increment=+1\n",
    "      - last=stop-1\n",
    "- range(3)\n",
    "    - start value=0\n",
    "    - increment=1last=3-1=2"
   ]
  },
  {
   "cell_type": "code",
   "execution_count": 3,
   "id": "a518ede9-a5a4-441e-a209-57579f7e2c0b",
   "metadata": {},
   "outputs": [
    {
     "name": "stdout",
     "output_type": "stream",
     "text": [
      "0\n",
      "1\n",
      "2\n"
     ]
    }
   ],
   "source": [
    "for i in range(3):\n",
    "    print(i)"
   ]
  },
  {
   "cell_type": "code",
   "execution_count": 5,
   "id": "b5742684-137e-409c-a3f6-318d7b1d7a83",
   "metadata": {},
   "outputs": [
    {
     "name": "stdout",
     "output_type": "stream",
     "text": [
      "hello\n",
      "hello\n",
      "hello\n",
      "hello\n",
      "hello\n"
     ]
    }
   ],
   "source": [
    "for i in range(5):\n",
    "    print(\"hello\")"
   ]
  },
  {
   "cell_type": "code",
   "execution_count": 10,
   "id": "4ace329c-cf03-4356-946e-1664dcb859b4",
   "metadata": {},
   "outputs": [
    {
     "name": "stdout",
     "output_type": "stream",
     "text": [
      "the number is even: 26\n",
      "the number is even: 14\n",
      "the number is even: 100\n"
     ]
    }
   ],
   "source": [
    "import random\n",
    "for i in range (3):\n",
    "    n1=random.randint(1,100)\n",
    "    if n1%2==0:\n",
    "        print(\"the number is even:\",n1)\n",
    "    else:\n",
    "        print(\"the number is odd:\",n1)\n",
    "        "
   ]
  },
  {
   "cell_type": "code",
   "execution_count": 12,
   "id": "8e862b22-b24c-4466-ab00-ee4cd17e1165",
   "metadata": {},
   "outputs": [
    {
     "name": "stdout",
     "output_type": "stream",
     "text": [
      "0\n",
      "1\n",
      "2\n",
      "3\n",
      "4\n",
      "5\n",
      "6\n",
      "7\n",
      "8\n",
      "9\n"
     ]
    }
   ],
   "source": [
    "for i in range(10):\n",
    "    print(i)\n"
   ]
  },
  {
   "cell_type": "code",
   "execution_count": 14,
   "id": "b96b0903-c47a-439a-bf42-cc76622259ea",
   "metadata": {},
   "outputs": [
    {
     "name": "stdout",
     "output_type": "stream",
     "text": [
      "0 1 2 3 4 5 6 7 8 9 10 "
     ]
    }
   ],
   "source": [
    "for i in range(11):\n",
    "    print(i,end=\" \")\n"
   ]
  },
  {
   "cell_type": "markdown",
   "id": "0d17a71a-4cf2-4359-9f41-71d87d4ae91a",
   "metadata": {},
   "source": [
    "### $Pattern2$\n",
    "**range(start,stop)**\n"
   ]
  },
  {
   "cell_type": "code",
   "execution_count": 17,
   "id": "4f3e90c4-53f2-4c15-b8b9-8019a9c71bda",
   "metadata": {},
   "outputs": [
    {
     "name": "stdout",
     "output_type": "stream",
     "text": [
      "10 11 12 13 14 15 16 17 18 19 "
     ]
    }
   ],
   "source": [
    "for i in range (10,20):\n",
    "    print(i,end=\" \")"
   ]
  },
  {
   "cell_type": "code",
   "execution_count": 19,
   "id": "886e6909-d94d-4372-acc8-6663cec427f4",
   "metadata": {},
   "outputs": [
    {
     "name": "stdout",
     "output_type": "stream",
     "text": [
      "400 441 484 529 576 "
     ]
    }
   ],
   "source": [
    "for i in range(20,25):\n",
    "    print(i**2,end=' ')"
   ]
  },
  {
   "cell_type": "code",
   "execution_count": 23,
   "id": "ac0c7661-c93f-4d4b-a04a-0b3a96268b5e",
   "metadata": {},
   "outputs": [
    {
     "name": "stdout",
     "output_type": "stream",
     "text": [
      "even: 10\n",
      "odd: 11\n",
      "even: 12\n",
      "odd: 13\n",
      "even: 14\n",
      "odd: 15\n",
      "even: 16\n",
      "odd: 17\n",
      "even: 18\n",
      "odd: 19\n"
     ]
    }
   ],
   "source": [
    "for i in range (10,20):\n",
    "    if i%2==0:\n",
    "        print(\"even:\",i)\n",
    "    else:\n",
    "        print(\"odd:\",i)\n",
    "        "
   ]
  },
  {
   "cell_type": "markdown",
   "id": "2a1389fb-3b2d-4199-97ee-a303a463c58f",
   "metadata": {},
   "source": [
    "### $pattern3$"
   ]
  },
  {
   "cell_type": "markdown",
   "id": "d5505dc7-fc1d-457e-b9a6-1d1ca23698d6",
   "metadata": {},
   "source": [
    "**range(start,stop,step)**"
   ]
  },
  {
   "cell_type": "code",
   "execution_count": 25,
   "id": "373830de-ac88-4781-8397-b9a301f60ca1",
   "metadata": {},
   "outputs": [
    {
     "name": "stdout",
     "output_type": "stream",
     "text": [
      "2 4 6 8 10 12 14 16 18 "
     ]
    }
   ],
   "source": [
    "#case-1\n",
    "for i in range(2,20,2):\n",
    "    print(i,end=\" \") \n",
    "#start=2\n",
    "#step=2\n",
    "#last= stop-1=20-1=19"
   ]
  },
  {
   "cell_type": "code",
   "execution_count": 32,
   "id": "cccb7254-bfb3-400e-afe8-15a47179ca24",
   "metadata": {},
   "outputs": [],
   "source": [
    "#case-2\n",
    "for i in range(2,20,-2):\n",
    "    print(i,end=\" \")\n",
    "#start=2\n",
    "#step=-2\n",
    "#last=stop+1:20+1=21\n",
    "# NO-RUN---NO-ERROR"
   ]
  },
  {
   "cell_type": "code",
   "execution_count": 33,
   "id": "70070e88-b383-4c1a-bccf-9f71e9ab25c8",
   "metadata": {},
   "outputs": [
    {
     "name": "stdout",
     "output_type": "stream",
     "text": [
      "20 18 16 14 12 10 8 6 4 "
     ]
    }
   ],
   "source": [
    "#case3\n",
    "for i in range(20,2,-2):\n",
    "    print(i,end=\" \")\n",
    "#start=20\n",
    "#step=-2\n",
    "#last=stop+1:2+1=3"
   ]
  },
  {
   "cell_type": "code",
   "execution_count": 35,
   "id": "0d499664-2e04-44c3-b748-70c6a92c43c5",
   "metadata": {},
   "outputs": [],
   "source": [
    "#case4\n",
    "for i in range(-20,2,-2):\n",
    "    print(i,end=\" \")\n",
    "#start=-20\n",
    "#step=-2\n",
    "#last=stop+1:2+1=3\n",
    "#no run no error"
   ]
  },
  {
   "cell_type": "code",
   "execution_count": 2,
   "id": "d4a52682-b895-4b55-88fd-bd3f9d6cda17",
   "metadata": {},
   "outputs": [
    {
     "name": "stdin",
     "output_type": "stream",
     "text": [
      "enter a number 4\n"
     ]
    },
    {
     "name": "stdout",
     "output_type": "stream",
     "text": [
      "16 "
     ]
    },
    {
     "name": "stdin",
     "output_type": "stream",
     "text": [
      "enter a number 5\n"
     ]
    },
    {
     "name": "stdout",
     "output_type": "stream",
     "text": [
      "25 "
     ]
    },
    {
     "name": "stdin",
     "output_type": "stream",
     "text": [
      "enter a number 6\n"
     ]
    },
    {
     "name": "stdout",
     "output_type": "stream",
     "text": [
      "36 "
     ]
    }
   ],
   "source": [
    "for i in range(3):\n",
    "    user_input=eval(input(\"enter a number\"))\n",
    "    print(user_input**2,end=' ')"
   ]
  },
  {
   "cell_type": "code",
   "execution_count": 15,
   "id": "aba5edd5-39a3-4d71-9c1d-f2101ff1b97f",
   "metadata": {},
   "outputs": [
    {
     "name": "stdin",
     "output_type": "stream",
     "text": [
      "enter a number 2\n"
     ]
    },
    {
     "name": "stdout",
     "output_type": "stream",
     "text": [
      "2x1=2\n",
      "2x2=4\n",
      "2x3=6\n",
      "2x4=8\n",
      "2x5=10\n",
      "2x6=12\n",
      "2x7=14\n",
      "2x8=16\n",
      "2x9=18\n",
      "2x10=20\n"
     ]
    }
   ],
   "source": [
    "user_input=eval(input(\"enter a number\"))\n",
    "for i in range(1,11):\n",
    "    print(f\"{user_input}x{i}={user_input*i}\")"
   ]
  },
  {
   "cell_type": "code",
   "execution_count": 16,
   "id": "9b9a06eb-e161-4150-aae1-8bc105e37709",
   "metadata": {},
   "outputs": [
    {
     "name": "stdin",
     "output_type": "stream",
     "text": [
      "enter a number 5\n"
     ]
    },
    {
     "name": "stdout",
     "output_type": "stream",
     "text": [
      "5x0=0\n",
      "5x1=5\n",
      "5x2=10\n",
      "5x3=15\n",
      "5x4=20\n",
      "5x5=25\n",
      "5x6=30\n",
      "5x7=35\n",
      "5x8=40\n",
      "5x9=45\n",
      "5x10=50\n"
     ]
    }
   ],
   "source": [
    "user_input=eval(input(\"enter a number\"))\n",
    "for i in range(11):\n",
    "    print(f\"{user_input}x{i}={user_input*i}\")"
   ]
  },
  {
   "cell_type": "code",
   "execution_count": 27,
   "id": "1cd1b0bd-79e4-4d9e-8a5d-178fe75664ff",
   "metadata": {},
   "outputs": [
    {
     "name": "stdin",
     "output_type": "stream",
     "text": [
      "enter a number 4\n"
     ]
    },
    {
     "name": "stdout",
     "output_type": "stream",
     "text": [
      "1 2 4 "
     ]
    }
   ],
   "source": [
    "user_input=eval(input(\"enter a number\"))\n",
    "for i in range(1,user_input+1):\n",
    "    if user_input%i==0:\n",
    "        print(i,end=' ')"
   ]
  },
  {
   "cell_type": "code",
   "execution_count": null,
   "id": "6e114eca-58e3-464c-a681-e599521cac41",
   "metadata": {},
   "outputs": [],
   "source": [
    "Summation wrapper:\n",
    "- intially we need to keep summ==0\n",
    "- make sure that do not provide sum\n",
    "- because sum is a keyword\n",
    "- inside for loop: summ=sum+i\n",
    "for i in range(11):\n",
    "    "
   ]
  },
  {
   "cell_type": "code",
   "execution_count": 58,
   "id": "444dd22a-698c-4837-913a-08636091b411",
   "metadata": {},
   "outputs": [
    {
     "name": "stdout",
     "output_type": "stream",
     "text": [
      "55\n"
     ]
    }
   ],
   "source": [
    "summ=0\n",
    "for i in range(1,11):\n",
    "    summ=summ+i\n",
    "print(summ)"
   ]
  },
  {
   "cell_type": "markdown",
   "id": "191ee1f7-08c7-4649-ad61-23043f58f798",
   "metadata": {},
   "source": [
    "**NOTE**\n",
    "- if we print answer from out of for loop,last answer will print"
   ]
  },
  {
   "cell_type": "code",
   "execution_count": 69,
   "id": "0e4f96ef-3f54-41cd-81d0-7f6309adb314",
   "metadata": {},
   "outputs": [
    {
     "name": "stdin",
     "output_type": "stream",
     "text": [
      " 10\n"
     ]
    },
    {
     "name": "stdout",
     "output_type": "stream",
     "text": [
      "5.5\n"
     ]
    }
   ],
   "source": [
    "summ=0\n",
    "n=eval(input(\"\"))\n",
    "for i in range(1,n+1):\n",
    "      summ=summ+i\n",
    "print(summ/n)"
   ]
  },
  {
   "cell_type": "code",
   "execution_count": 1,
   "id": "6269e097-61a3-4b5c-9f05-d30ca6703192",
   "metadata": {},
   "outputs": [
    {
     "name": "stdin",
     "output_type": "stream",
     "text": [
      "enter the number 75\n"
     ]
    },
    {
     "name": "stdout",
     "output_type": "stream",
     "text": [
      "6\n"
     ]
    }
   ],
   "source": [
    "count=0\n",
    "num=eval(input(\"enter the number\"))\n",
    "for i in range(1,num+1):\n",
    "    if num%i==0:\n",
    "        count=count+1\n",
    "print(count)"
   ]
  },
  {
   "cell_type": "markdown",
   "id": "6f324912-37b6-43c8-9339-71066532ae58",
   "metadata": {},
   "source": [
    "** COUNTER WRAPPER**\n",
    "- before for loop initilaise with count=0\n",
    "                            \n",
    "                        "
   ]
  },
  {
   "cell_type": "code",
   "execution_count": 91,
   "id": "6cc388c1-64ed-41d5-86a1-473af2f160f5",
   "metadata": {},
   "outputs": [
    {
     "name": "stdin",
     "output_type": "stream",
     "text": [
      "enter the number 4\n"
     ]
    },
    {
     "name": "stdout",
     "output_type": "stream",
     "text": [
      "lost\n"
     ]
    },
    {
     "name": "stdin",
     "output_type": "stream",
     "text": [
      "enter the number 76\n"
     ]
    },
    {
     "name": "stdout",
     "output_type": "stream",
     "text": [
      "lost\n"
     ]
    },
    {
     "name": "stdin",
     "output_type": "stream",
     "text": [
      "enter the number 100\n"
     ]
    },
    {
     "name": "stdout",
     "output_type": "stream",
     "text": [
      "lost\n"
     ]
    }
   ],
   "source": [
    "import random\n",
    "for i in range(3):\n",
    "    num1=random.randint(1,100)\n",
    "    num2=eval(input(\"enter the number\"))\n",
    "    if num1==num2:\n",
    "        print(\"hurray!!\")\n",
    "    else:\n",
    "        print(\"lost\")"
   ]
  },
  {
   "cell_type": "code",
   "execution_count": 3,
   "id": "55345f96-420d-4f71-8967-04951184e29f",
   "metadata": {},
   "outputs": [
    {
     "name": "stdin",
     "output_type": "stream",
     "text": [
      "enter the number 6\n"
     ]
    },
    {
     "name": "stdout",
     "output_type": "stream",
     "text": [
      "lost\n",
      "you have 2 more chances\n"
     ]
    },
    {
     "name": "stdin",
     "output_type": "stream",
     "text": [
      "enter the number 7\n"
     ]
    },
    {
     "name": "stdout",
     "output_type": "stream",
     "text": [
      "lost\n",
      "you have 1 more chances\n"
     ]
    },
    {
     "name": "stdin",
     "output_type": "stream",
     "text": [
      "enter the number 8\n"
     ]
    },
    {
     "name": "stdout",
     "output_type": "stream",
     "text": [
      "lost\n",
      "you have 0 more chances\n",
      "try after 24 hrs\n"
     ]
    }
   ],
   "source": [
    "#### Case-3:\n",
    "# Suppose i want to give 4 chances\n",
    "# Every time you fail I want to display\n",
    "# Number of chances left\n",
    "# If all the chances you are used\n",
    "# Try again after 24 hours\n",
    "# If you are win\n",
    "import random\n",
    "for i in range(3):\n",
    "    num1=random.randint(1,10)\n",
    "    num2=eval(input(\"enter the number\"))\n",
    "    if num1==num2:\n",
    "        print(\"hurray!!\")\n",
    "        break\n",
    "    else:\n",
    "        print(\"lost\")\n",
    "        print(f\"you have {2-i} more chances\")\n",
    "print(\"try after 24 hrs\")"
   ]
  },
  {
   "cell_type": "code",
   "execution_count": 13,
   "id": "b62e1def-57c4-40da-b4a6-127e8fc88ab6",
   "metadata": {},
   "outputs": [
    {
     "name": "stdout",
     "output_type": "stream",
     "text": [
      "the number is odd 7\n",
      "1\n",
      "the number is odd 3\n",
      "2\n",
      "the number is odd 11\n",
      "3\n",
      "the number is even 2\n",
      "1\n",
      "the number is odd 3\n",
      "4\n"
     ]
    }
   ],
   "source": [
    "import random\n",
    "even_count=0\n",
    "odd_count=0\n",
    "for i in range (5):\n",
    "    num=random.randint(1,20)\n",
    "    if num%2==0: \n",
    "        print(f\"the number is even {num}\")\n",
    "        even_count=even_count+1\n",
    "        print(even_count)\n",
    "    else:\n",
    "        print(f\"the number is odd {num}\")\n",
    "        odd_count=odd_count+1\n",
    "        print(_count)"
   ]
  },
  {
   "cell_type": "code",
   "execution_count": 22,
   "id": "8997986c-0181-40a5-bed2-a9f54c0fb635",
   "metadata": {},
   "outputs": [
    {
     "name": "stdout",
     "output_type": "stream",
     "text": [
      "3\n",
      "the sum of even numbers20\n",
      "2\n",
      "the sum of even numbers4\n"
     ]
    }
   ],
   "source": [
    "import random\n",
    "even_count=0\n",
    "odd_count=0\n",
    "even_summ=0\n",
    "odd_summ=0\n",
    "for i in range (5):\n",
    "    num=random.randint(1,10)\n",
    "    if num%2==0: \n",
    "        even_count=even_count+1\n",
    "        even_summ=even_summ+num\n",
    "    else:\n",
    "        odd_count=odd_count+1\n",
    "        odd_summ=odd_summ+num\n",
    "print(even_count)\n",
    "print(f\"the sum of even numbers{even_summ}\")\n",
    "print(odd_count)\n",
    "print(f\"the sum of even numbers{odd_summ}\")"
   ]
  },
  {
   "cell_type": "code",
   "execution_count": 26,
   "id": "0b6bbf7a-b65d-488e-bee0-fff40cf9e391",
   "metadata": {},
   "outputs": [],
   "source": [
    "import random\n",
    "def eve_odd():\n",
    "    even_count=0\n",
    "    odd_count=0\n",
    "    even_summ=0\n",
    "    odd_summ=0\n",
    "    for i in range (5):\n",
    "        num=random.randint(1,10)\n",
    "        if num%2==0: \n",
    "            even_count=even_count+1\n",
    "            even_summ=even_summ+num \n",
    "        else:\n",
    "            odd_count=odd_count+1\n",
    "            odd_summ=odd_summ+num\n",
    "    return(even_count,even_summ,odd_count,odd_summ)"
   ]
  },
  {
   "cell_type": "code",
   "execution_count": 28,
   "id": "93bdea72-447f-476a-9f2a-07762f2fcbda",
   "metadata": {},
   "outputs": [
    {
     "name": "stdout",
     "output_type": "stream",
     "text": [
      "3\n",
      "the sum of even numbers20\n",
      "2\n",
      "the sum of even numbers8\n"
     ]
    }
   ],
   "source": [
    "even_count,even_summ,odd_count,odd_summ=eve_odd()\n",
    "print(even_count)\n",
    "print(f\"the sum of even numbers{even_summ}\")\n",
    "print(odd_count)\n",
    "print(f\"the sum of even numbers{odd_summ}\")"
   ]
  },
  {
   "cell_type": "markdown",
   "id": "9dbb9b59-e65a-483f-b11e-464cad9a6182",
   "metadata": {},
   "source": [
    "## IN OPERATOR"
   ]
  },
  {
   "cell_type": "code",
   "execution_count": 33,
   "id": "342fb30f-db62-4cbd-ae57-a16244023902",
   "metadata": {},
   "outputs": [
    {
     "name": "stdout",
     "output_type": "stream",
     "text": [
      "p     y     t     h     o     n     "
     ]
    }
   ],
   "source": [
    "string1=\"python\"\n",
    "for i in string1:\n",
    "    print(i,end=\"     \")"
   ]
  },
  {
   "cell_type": "markdown",
   "id": "4ea1472e-4586-4b06-84d1-7c1e7212bc86",
   "metadata": {},
   "source": [
    "#### DIffERENCE B/W IN OPERATOR AND RANGE OPERATOR\n",
    "- $in$ is used for strings whereas $range$ is used for numbers"
   ]
  },
  {
   "cell_type": "code",
   "execution_count": 34,
   "id": "13af673f-47ad-4206-813b-dd9ad84d5c2e",
   "metadata": {},
   "outputs": [
    {
     "data": {
      "text/plain": [
       "True"
      ]
     },
     "execution_count": 34,
     "metadata": {},
     "output_type": "execute_result"
    }
   ],
   "source": [
    "'p'>'P' #112>80"
   ]
  },
  {
   "cell_type": "markdown",
   "id": "0f8197c5-2ded-4552-b255-32ce2040dbdf",
   "metadata": {},
   "source": [
    "- every english letter\n",
    "- every special charactes how  machine will understand\n",
    "- machine language always cosider as numbers\n",
    "- every non numric assign number\n",
    "- ASCII:American Standard code for Information Interchange\n",
    "- a:97 and A:65"
   ]
  },
  {
   "cell_type": "markdown",
   "id": "ec9ec553-b2ad-4392-b599-eb7edca5726e",
   "metadata": {},
   "source": [
    "**$ord-chr$**"
   ]
  },
  {
   "cell_type": "code",
   "execution_count": null,
   "id": "a3dc3fa9-2e83-45cf-84da-035922987c9e",
   "metadata": {},
   "outputs": [],
   "source": [
    "A===65====0b1000001"
   ]
  },
  {
   "cell_type": "code",
   "execution_count": 36,
   "id": "83596648-3ec8-4cc4-9f77-c83732d0529c",
   "metadata": {},
   "outputs": [
    {
     "data": {
      "text/plain": [
       "(65, 97)"
      ]
     },
     "execution_count": 36,
     "metadata": {},
     "output_type": "execute_result"
    }
   ],
   "source": [
    "ord('A'),ord('a')"
   ]
  },
  {
   "cell_type": "code",
   "execution_count": 38,
   "id": "f5a02950-2ec3-4845-aeb4-2cf3e4f12f56",
   "metadata": {},
   "outputs": [
    {
     "data": {
      "text/plain": [
       "(66, 98)"
      ]
     },
     "execution_count": 38,
     "metadata": {},
     "output_type": "execute_result"
    }
   ],
   "source": [
    "ord('B'),ord('b')"
   ]
  },
  {
   "cell_type": "code",
   "execution_count": 39,
   "id": "2cf41a56-f9f2-4efe-9d7b-0c65fa3d0728",
   "metadata": {},
   "outputs": [
    {
     "data": {
      "text/plain": [
       "(80, 112)"
      ]
     },
     "execution_count": 39,
     "metadata": {},
     "output_type": "execute_result"
    }
   ],
   "source": [
    "ord('P'),ord('p')"
   ]
  },
  {
   "cell_type": "code",
   "execution_count": 40,
   "id": "1ea3190b-66a5-430d-af4e-9f79aa578196",
   "metadata": {},
   "outputs": [
    {
     "data": {
      "text/plain": [
       "'p'"
      ]
     },
     "execution_count": 40,
     "metadata": {},
     "output_type": "execute_result"
    }
   ],
   "source": [
    "chr(112)"
   ]
  },
  {
   "cell_type": "code",
   "execution_count": 41,
   "id": "8da1a23f-9544-4ef1-98af-2b819ce4885f",
   "metadata": {},
   "outputs": [
    {
     "data": {
      "text/plain": [
       "'d'"
      ]
     },
     "execution_count": 41,
     "metadata": {},
     "output_type": "execute_result"
    }
   ],
   "source": [
    "chr(100)"
   ]
  },
  {
   "cell_type": "code",
   "execution_count": 52,
   "id": "272be78d-142c-450b-8ec7-1cad57691fb6",
   "metadata": {},
   "outputs": [
    {
     "name": "stdout",
     "output_type": "stream",
     "text": [
      "the ASCII numbers for p is 112\n",
      "the ASCII numbers for y is 121\n",
      "the ASCII numbers for t is 116\n",
      "the ASCII numbers for h is 104\n",
      "the ASCII numbers for o is 111\n",
      "the ASCII numbers for n is 110\n",
      "the sum of ascii is 674\n"
     ]
    }
   ],
   "source": [
    "ascii_summ=0\n",
    "string1:'python'\n",
    "for i in 'python':\n",
    "    print(f\"the ASCII numbers for {i} is {ord(i)}\")\n",
    "    ascii_summ=ascii_summ+ord(i)\n",
    "print(f\"the sum of ascii is {ascii_summ}\")"
   ]
  },
  {
   "cell_type": "code",
   "execution_count": 54,
   "id": "48ab0654-194d-4e41-8cb9-728d7ef0d1f9",
   "metadata": {},
   "outputs": [],
   "source": [
    "import string"
   ]
  },
  {
   "cell_type": "code",
   "execution_count": 55,
   "id": "0b27e85a-95ef-4c60-ac78-5590900a47db",
   "metadata": {},
   "outputs": [
    {
     "data": {
      "text/plain": [
       "['Formatter',\n",
       " 'Template',\n",
       " '_ChainMap',\n",
       " '__all__',\n",
       " '__builtins__',\n",
       " '__cached__',\n",
       " '__doc__',\n",
       " '__file__',\n",
       " '__loader__',\n",
       " '__name__',\n",
       " '__package__',\n",
       " '__spec__',\n",
       " '_re',\n",
       " '_sentinel_dict',\n",
       " '_string',\n",
       " 'ascii_letters',\n",
       " 'ascii_lowercase',\n",
       " 'ascii_uppercase',\n",
       " 'capwords',\n",
       " 'digits',\n",
       " 'hexdigits',\n",
       " 'octdigits',\n",
       " 'printable',\n",
       " 'punctuation',\n",
       " 'whitespace']"
      ]
     },
     "execution_count": 55,
     "metadata": {},
     "output_type": "execute_result"
    }
   ],
   "source": [
    "dir(string)"
   ]
  },
  {
   "cell_type": "code",
   "execution_count": 62,
   "id": "cbcddd28-bcbc-480d-a228-aa8839e686de",
   "metadata": {},
   "outputs": [
    {
     "name": "stdout",
     "output_type": "stream",
     "text": [
      "A-65 B-66 C-67 D-68 E-69 F-70 G-71 H-72 I-73 J-74 K-75 L-76 M-77 N-78 O-79 P-80 Q-81 R-82 S-83 T-84 U-85 V-86 W-87 X-88 Y-89 Z-90 "
     ]
    }
   ],
   "source": [
    "for i in string.ascii_uppercase:\n",
    "    ord(i)\n",
    "    print(f\"{i}-{ord(i)}\",end=' ')"
   ]
  },
  {
   "cell_type": "code",
   "execution_count": 63,
   "id": "9cd90c2d-925b-4af7-8c25-4e52e6ff57a4",
   "metadata": {},
   "outputs": [
    {
     "name": "stdout",
     "output_type": "stream",
     "text": [
      "a-97 b-98 c-99 d-100 e-101 f-102 g-103 h-104 i-105 j-106 k-107 l-108 m-109 n-110 o-111 p-112 q-113 r-114 s-115 t-116 u-117 v-118 w-119 x-120 y-121 z-122 A-65 B-66 C-67 D-68 E-69 F-70 G-71 H-72 I-73 J-74 K-75 L-76 M-77 N-78 O-79 P-80 Q-81 R-82 S-83 T-84 U-85 V-86 W-87 X-88 Y-89 Z-90 "
     ]
    }
   ],
   "source": [
    "for i in string.ascii_letters:\n",
    "    ord(i)\n",
    "    print(f\"{i}-{ord(i)}\",end=' ')"
   ]
  },
  {
   "cell_type": "code",
   "execution_count": 65,
   "id": "9382eb8e-2a3b-4a89-b4ca-b64dc14daac8",
   "metadata": {},
   "outputs": [
    {
     "name": "stdout",
     "output_type": "stream",
     "text": [
      "a-97 b-98 c-99 d-100 e-101 f-102 g-103 h-104 i-105 j-106 k-107 l-108 m-109 n-110 o-111 p-112 q-113 r-114 s-115 t-116 u-117 v-118 w-119 x-120 y-121 z-122 "
     ]
    }
   ],
   "source": [
    "for i in string.ascii_lowercase:\n",
    "    ord(i)\n",
    "    print(f\"{i}-{ord(i)}\",end=' ')"
   ]
  },
  {
   "cell_type": "code",
   "execution_count": 66,
   "id": "030a3c98-d1fb-4b4b-8f2d-fff16bc1855a",
   "metadata": {},
   "outputs": [
    {
     "data": {
      "text/plain": [
       "'!\"#$%&\\'()*+,-./:;<=>?@[\\\\]^_`{|}~'"
      ]
     },
     "execution_count": 66,
     "metadata": {},
     "output_type": "execute_result"
    }
   ],
   "source": [
    "string.punctuation"
   ]
  },
  {
   "cell_type": "code",
   "execution_count": 70,
   "id": "485ac25c-d6eb-4abb-bc08-11093be297b3",
   "metadata": {},
   "outputs": [
    {
     "name": "stdout",
     "output_type": "stream",
     "text": [
      "!==>33\n",
      "\"==>34\n",
      "#==>35\n",
      "$==>36\n",
      "%==>37\n",
      "&==>38\n",
      "'==>39\n",
      "(==>40\n",
      ")==>41\n",
      "*==>42\n",
      "+==>43\n",
      ",==>44\n",
      "-==>45\n",
      ".==>46\n",
      "/==>47\n",
      ":==>58\n",
      ";==>59\n",
      "<==>60\n",
      "===>61\n",
      ">==>62\n",
      "?==>63\n",
      "@==>64\n",
      "[==>91\n",
      "\\==>92\n",
      "]==>93\n",
      "^==>94\n",
      "_==>95\n",
      "`==>96\n",
      "{==>123\n",
      "|==>124\n",
      "}==>125\n",
      "~==>126\n"
     ]
    }
   ],
   "source": [
    "for i in string.punctuation:\n",
    "    ord(i)\n",
    "    print(f\"{i}==>{ord(i)}\")"
   ]
  },
  {
   "cell_type": "code",
   "execution_count": 71,
   "id": "170e637c-43af-449c-af32-a1990f98d1d1",
   "metadata": {},
   "outputs": [
    {
     "name": "stdout",
     "output_type": "stream",
     "text": [
      "33 !\n",
      "34 \"\n",
      "35 #\n",
      "36 $\n",
      "37 %\n",
      "38 &\n",
      "39 '\n",
      "40 (\n",
      "41 )\n",
      "42 *\n",
      "43 +\n",
      "44 ,\n",
      "45 -\n",
      "46 .\n",
      "47 /\n",
      "48 0\n",
      "49 1\n",
      "50 2\n",
      "51 3\n",
      "52 4\n",
      "53 5\n",
      "54 6\n",
      "55 7\n",
      "56 8\n",
      "57 9\n",
      "58 :\n",
      "59 ;\n",
      "60 <\n",
      "61 =\n",
      "62 >\n",
      "63 ?\n",
      "64 @\n",
      "65 A\n",
      "66 B\n",
      "67 C\n",
      "68 D\n",
      "69 E\n",
      "70 F\n",
      "71 G\n",
      "72 H\n",
      "73 I\n",
      "74 J\n",
      "75 K\n",
      "76 L\n",
      "77 M\n",
      "78 N\n",
      "79 O\n",
      "80 P\n",
      "81 Q\n",
      "82 R\n",
      "83 S\n",
      "84 T\n",
      "85 U\n",
      "86 V\n",
      "87 W\n",
      "88 X\n",
      "89 Y\n",
      "90 Z\n",
      "91 [\n",
      "92 \\\n",
      "93 ]\n",
      "94 ^\n",
      "95 _\n",
      "96 `\n",
      "97 a\n",
      "98 b\n",
      "99 c\n",
      "100 d\n",
      "101 e\n",
      "102 f\n",
      "103 g\n",
      "104 h\n",
      "105 i\n",
      "106 j\n",
      "107 k\n",
      "108 l\n",
      "109 m\n",
      "110 n\n",
      "111 o\n",
      "112 p\n",
      "113 q\n",
      "114 r\n",
      "115 s\n",
      "116 t\n",
      "117 u\n",
      "118 v\n",
      "119 w\n",
      "120 x\n",
      "121 y\n",
      "122 z\n",
      "123 {\n",
      "124 |\n",
      "125 }\n"
     ]
    }
   ],
   "source": [
    "for i in range(33,126):\n",
    "    print(i,chr(i))\n"
   ]
  },
  {
   "cell_type": "code",
   "execution_count": 77,
   "id": "5792cfa0-1426-4a3a-8870-f1794d5bd1af",
   "metadata": {},
   "outputs": [
    {
     "name": "stdout",
     "output_type": "stream",
     "text": [
      "900 ΄\n",
      "901 ΅\n",
      "902 Ά\n",
      "903 ·\n",
      "904 Έ\n",
      "905 Ή\n",
      "906 Ί\n",
      "907 ΋\n",
      "908 Ό\n",
      "909 ΍\n",
      "910 Ύ\n",
      "911 Ώ\n",
      "912 ΐ\n",
      "913 Α\n",
      "914 Β\n",
      "915 Γ\n",
      "916 Δ\n",
      "917 Ε\n",
      "918 Ζ\n",
      "919 Η\n",
      "920 Θ\n",
      "921 Ι\n",
      "922 Κ\n",
      "923 Λ\n",
      "924 Μ\n",
      "925 Ν\n",
      "926 Ξ\n",
      "927 Ο\n",
      "928 Π\n",
      "929 Ρ\n",
      "930 ΢\n",
      "931 Σ\n",
      "932 Τ\n",
      "933 Υ\n",
      "934 Φ\n",
      "935 Χ\n",
      "936 Ψ\n",
      "937 Ω\n",
      "938 Ϊ\n",
      "939 Ϋ\n",
      "940 ά\n",
      "941 έ\n",
      "942 ή\n",
      "943 ί\n",
      "944 ΰ\n",
      "945 α\n",
      "946 β\n",
      "947 γ\n",
      "948 δ\n",
      "949 ε\n",
      "950 ζ\n",
      "951 η\n",
      "952 θ\n",
      "953 ι\n",
      "954 κ\n",
      "955 λ\n",
      "956 μ\n",
      "957 ν\n",
      "958 ξ\n",
      "959 ο\n",
      "960 π\n",
      "961 ρ\n",
      "962 ς\n",
      "963 σ\n",
      "964 τ\n",
      "965 υ\n",
      "966 φ\n",
      "967 χ\n",
      "968 ψ\n",
      "969 ω\n",
      "970 ϊ\n",
      "971 ϋ\n",
      "972 ό\n",
      "973 ύ\n",
      "974 ώ\n",
      "975 Ϗ\n",
      "976 ϐ\n",
      "977 ϑ\n",
      "978 ϒ\n",
      "979 ϓ\n",
      "980 ϔ\n",
      "981 ϕ\n",
      "982 ϖ\n",
      "983 ϗ\n",
      "984 Ϙ\n",
      "985 ϙ\n",
      "986 Ϛ\n",
      "987 ϛ\n",
      "988 Ϝ\n",
      "989 ϝ\n",
      "990 Ϟ\n",
      "991 ϟ\n",
      "992 Ϡ\n",
      "993 ϡ\n",
      "994 Ϣ\n",
      "995 ϣ\n",
      "996 Ϥ\n",
      "997 ϥ\n",
      "998 Ϧ\n",
      "999 ϧ\n"
     ]
    }
   ],
   "source": [
    "for i in range(900,1000):\n",
    "    print(i,chr(i))"
   ]
  },
  {
   "cell_type": "code",
   "execution_count": null,
   "id": "1811fddf-69a8-4b00-b95b-ccd351f00b05",
   "metadata": {},
   "outputs": [],
   "source": []
  },
  {
   "cell_type": "code",
   "execution_count": null,
   "id": "c3708b55-8120-41c8-b22c-0232e5954247",
   "metadata": {},
   "outputs": [],
   "source": []
  },
  {
   "cell_type": "code",
   "execution_count": null,
   "id": "8c489ff0-709e-426c-8f77-4123abfa38f7",
   "metadata": {},
   "outputs": [],
   "source": []
  },
  {
   "cell_type": "code",
   "execution_count": null,
   "id": "4e59a548-7b02-4390-a59c-aae2c59043c6",
   "metadata": {},
   "outputs": [],
   "source": []
  },
  {
   "cell_type": "code",
   "execution_count": null,
   "id": "1ce7b1b9-f84e-4423-9b57-d5098599a9ca",
   "metadata": {},
   "outputs": [],
   "source": []
  },
  {
   "cell_type": "code",
   "execution_count": null,
   "id": "c66239c7-c396-4e7d-a114-e2e4e7613207",
   "metadata": {},
   "outputs": [],
   "source": []
  },
  {
   "cell_type": "code",
   "execution_count": null,
   "id": "942956e2-9096-49a6-9082-0aaae63b6239",
   "metadata": {},
   "outputs": [],
   "source": []
  },
  {
   "cell_type": "code",
   "execution_count": null,
   "id": "9f578e31-a56a-4e8e-ae45-ea1914c6c292",
   "metadata": {},
   "outputs": [],
   "source": []
  },
  {
   "cell_type": "code",
   "execution_count": null,
   "id": "08111861-eb58-4919-9b5b-cce756992efd",
   "metadata": {},
   "outputs": [],
   "source": []
  },
  {
   "cell_type": "code",
   "execution_count": null,
   "id": "730812fe-0e77-4095-9bfa-172d03b2b19f",
   "metadata": {},
   "outputs": [],
   "source": []
  },
  {
   "cell_type": "code",
   "execution_count": null,
   "id": "363c698c-745f-4c73-8b07-d8de377132fb",
   "metadata": {},
   "outputs": [],
   "source": []
  },
  {
   "cell_type": "code",
   "execution_count": null,
   "id": "483b17d3-1ea2-42c6-a547-6e27ae28826f",
   "metadata": {},
   "outputs": [],
   "source": []
  },
  {
   "cell_type": "code",
   "execution_count": null,
   "id": "2d709056-cc15-4e13-9e39-8b3cdc876e2a",
   "metadata": {},
   "outputs": [],
   "source": []
  },
  {
   "cell_type": "code",
   "execution_count": null,
   "id": "b4ccd3a7-7936-49d2-98bf-b702b965a3e8",
   "metadata": {},
   "outputs": [],
   "source": []
  },
  {
   "cell_type": "code",
   "execution_count": null,
   "id": "3996e235-0640-4e48-97af-bf278cb3c248",
   "metadata": {},
   "outputs": [],
   "source": []
  },
  {
   "cell_type": "code",
   "execution_count": null,
   "id": "85a6846e-2e53-42e6-a012-8967799258d0",
   "metadata": {},
   "outputs": [],
   "source": []
  },
  {
   "cell_type": "code",
   "execution_count": null,
   "id": "f82193f6-b25b-4db7-a659-9d0c178a7e45",
   "metadata": {},
   "outputs": [],
   "source": []
  }
 ],
 "metadata": {
  "kernelspec": {
   "display_name": "Python 3 (ipykernel)",
   "language": "python",
   "name": "python3"
  },
  "language_info": {
   "codemirror_mode": {
    "name": "ipython",
    "version": 3
   },
   "file_extension": ".py",
   "mimetype": "text/x-python",
   "name": "python",
   "nbconvert_exporter": "python",
   "pygments_lexer": "ipython3",
   "version": "3.11.7"
  }
 },
 "nbformat": 4,
 "nbformat_minor": 5
}
