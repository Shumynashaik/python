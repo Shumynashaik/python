{
 "cells": [
  {
   "cell_type": "markdown",
   "id": "f3e3d29d-f3b9-4e70-abef-8591c2f16ea6",
   "metadata": {},
   "source": [
    "# print statements"
   ]
  },
  {
   "cell_type": "code",
   "execution_count": 1,
   "id": "6aa7b369-a0a4-4e30-bf53-408a0c317fd2",
   "metadata": {},
   "outputs": [
    {
     "name": "stdout",
     "output_type": "stream",
     "text": [
      "10\n"
     ]
    }
   ],
   "source": [
    "print(10)"
   ]
  },
  {
   "cell_type": "code",
   "execution_count": 2,
   "id": "f76806c5-b804-4fdc-ab67-f1f6ae5e270c",
   "metadata": {},
   "outputs": [
    {
     "name": "stdout",
     "output_type": "stream",
     "text": [
      "python\n"
     ]
    }
   ],
   "source": [
    "print('python')"
   ]
  },
  {
   "cell_type": "code",
   "execution_count": 3,
   "id": "117725b2-683c-4657-94fd-62a5c44fc47c",
   "metadata": {},
   "outputs": [
    {
     "name": "stdout",
     "output_type": "stream",
     "text": [
      "10 20 30\n"
     ]
    }
   ],
   "source": [
    "print(10,20,30)"
   ]
  },
  {
   "cell_type": "code",
   "execution_count": 4,
   "id": "d87d5da1-4ac5-4246-ac89-f72bf98e3888",
   "metadata": {},
   "outputs": [
    {
     "name": "stdout",
     "output_type": "stream",
     "text": [
      "10 10.5 shumyna True\n"
     ]
    }
   ],
   "source": [
    "print(10,10.5,'shumyna',True)"
   ]
  },
  {
   "cell_type": "code",
   "execution_count": 5,
   "id": "5949c355-f81a-4ce6-938e-a399630e31bc",
   "metadata": {},
   "outputs": [
    {
     "name": "stdout",
     "output_type": "stream",
     "text": [
      "10\n"
     ]
    }
   ],
   "source": [
    "num=10\n",
    "print(num)"
   ]
  },
  {
   "cell_type": "code",
   "execution_count": 6,
   "id": "44c9e6c1-9f36-4a8a-8b85-c8b9e7204f7a",
   "metadata": {},
   "outputs": [
    {
     "name": "stdout",
     "output_type": "stream",
     "text": [
      "10 10\n"
     ]
    }
   ],
   "source": [
    "n1=10\n",
    "n2=10\n",
    "print(n1,n2)"
   ]
  },
  {
   "cell_type": "code",
   "execution_count": 8,
   "id": "9eeb356b-adda-478d-921d-74cac1ea6039",
   "metadata": {},
   "outputs": [
    {
     "name": "stdout",
     "output_type": "stream",
     "text": [
      "the addition of a and b is 20\n"
     ]
    }
   ],
   "source": [
    "a=10\n",
    "b=10\n",
    "c=a+b\n",
    "print(\"the addition of a and b is\",c)"
   ]
  },
  {
   "cell_type": "markdown",
   "id": "125284c4-443c-406b-8f66-218d2e2eabf3",
   "metadata": {},
   "source": [
    "## FORMAT METHOD (.format)"
   ]
  },
  {
   "cell_type": "code",
   "execution_count": 11,
   "id": "17769b9d-7ae3-40cd-a071-f672b6f6fd92",
   "metadata": {},
   "outputs": [
    {
     "name": "stdout",
     "output_type": "stream",
     "text": [
      "the addition of 100 and 100 is200\n"
     ]
    }
   ],
   "source": [
    "a=100\n",
    "b=100\n",
    "c=a+b\n",
    "print(\"the addition of {} and {} is{}\".format(a,b,c))"
   ]
  },
  {
   "cell_type": "code",
   "execution_count": 17,
   "id": "f51a22c4-5d9c-4a2d-aec3-af862dbfedea",
   "metadata": {},
   "outputs": [
    {
     "name": "stdout",
     "output_type": "stream",
     "text": [
      "my name is python,i am 10 and i am from hyd\n"
     ]
    }
   ],
   "source": [
    "name='python'\n",
    "age=10\n",
    "city='hyd'\n",
    "print(\"my name is {},i am {} and i am from {}\".format(name,age,city))"
   ]
  },
  {
   "cell_type": "code",
   "execution_count": 18,
   "id": "a5368ee5-793c-4516-98c8-fbf6aba4c982",
   "metadata": {},
   "outputs": [
    {
     "name": "stdout",
     "output_type": "stream",
     "text": [
      "i am shumyna,i work at accenture and i am manger\n"
     ]
    }
   ],
   "source": [
    "empnm='shumyna'\n",
    "des='manger'\n",
    "com='accenture'\n",
    "print(\"i am {},i work at {} and i am {}\".format(empnm,com,des))"
   ]
  },
  {
   "cell_type": "code",
   "execution_count": 22,
   "id": "ec9e7e9d-0b9a-4ad5-8d59-d9e677974381",
   "metadata": {},
   "outputs": [
    {
     "name": "stdout",
     "output_type": "stream",
     "text": [
      "the addition of 100 and 100 is 200\n"
     ]
    }
   ],
   "source": [
    "#F-string\n",
    "a=100\n",
    "b=100\n",
    "c=a+b\n",
    "print(f\"the addition of {a} and {b} is {c}\")"
   ]
  },
  {
   "cell_type": "code",
   "execution_count": 21,
   "id": "ea63b9ac-9088-4ac8-b7cb-5c3bc8ca2789",
   "metadata": {},
   "outputs": [
    {
     "name": "stdout",
     "output_type": "stream",
     "text": [
      "i am shumyna,i work at accenture and i am manger\n"
     ]
    }
   ],
   "source": [
    "empnm='shumyna'\n",
    "des='manger'\n",
    "com='accenture'\n",
    "print(f\"i am {empnm},i work at {com} and i am {des}\")"
   ]
  },
  {
   "cell_type": "code",
   "execution_count": 2,
   "id": "9685ff4a-ae79-4de5-976b-11f68ef4224c",
   "metadata": {},
   "outputs": [
    {
     "name": "stdout",
     "output_type": "stream",
     "text": [
      "the average of 100 and 200 is : 150.0 \n"
     ]
    }
   ],
   "source": [
    "n1=100\n",
    "n2=200\n",
    "average=(n1+n2)/2\n",
    "print(f\"the average of {n1} and {n2} is : {average} \")"
   ]
  },
  {
   "cell_type": "code",
   "execution_count": 3,
   "id": "bb8aa23b-279e-4eed-8acd-640bea68a0e4",
   "metadata": {},
   "outputs": [
    {
     "name": "stdout",
     "output_type": "stream",
     "text": [
      "the average of 100 and 200 is : 150.0 \n"
     ]
    }
   ],
   "source": [
    "n1=100\n",
    "n2=200\n",
    "average=(n1+n2)/2\n",
    "print(\"the average of {} and {} is : {} \".format(n1,n2,average))"
   ]
  },
  {
   "cell_type": "code",
   "execution_count": 6,
   "id": "ad054bc7-998b-4078-8fff-f39be49dbc53",
   "metadata": {},
   "outputs": [
    {
     "name": "stdout",
     "output_type": "stream",
     "text": [
      "the area of cirlce : 314.0 \n"
     ]
    }
   ],
   "source": [
    "n1=10\n",
    "pi=3.14\n",
    "aoc=pi*n1*n1\n",
    "print(f\"the area of cirlce : {aoc} \")"
   ]
  },
  {
   "cell_type": "code",
   "execution_count": 7,
   "id": "271d8785-a6ba-433a-92fb-e50cf81c19ff",
   "metadata": {},
   "outputs": [
    {
     "name": "stdout",
     "output_type": "stream",
     "text": [
      "the area of cirlce : 314.0 \n"
     ]
    }
   ],
   "source": [
    "n1=10\n",
    "pi=3.14\n",
    "aoc=pi*n1*n1\n",
    "print(\"the area of cirlce : {} \".format(aoc))"
   ]
  },
  {
   "cell_type": "code",
   "execution_count": 8,
   "id": "b0052c52-5f30-4b0c-9e1a-29974ae82dc2",
   "metadata": {},
   "outputs": [
    {
     "name": "stdout",
     "output_type": "stream",
     "text": [
      "the area of triangle is31.5\n"
     ]
    }
   ],
   "source": [
    "b=9\n",
    "h=7\n",
    "aot=1/2*b*h\n",
    "print(\"the area of triangle is{}\".format(aot))"
   ]
  },
  {
   "cell_type": "code",
   "execution_count": 10,
   "id": "6e249a7e-f69e-4386-bdb9-0c1c6fdfd5bc",
   "metadata": {},
   "outputs": [
    {
     "name": "stdout",
     "output_type": "stream",
     "text": [
      "the area of triangle is 31.5\n"
     ]
    }
   ],
   "source": [
    "b=9\n",
    "h=7\n",
    "aot=1/2*b*h\n",
    "print(f\"the area of triangle is {aot}\")"
   ]
  },
  {
   "cell_type": "code",
   "execution_count": 11,
   "id": "ba4ac3bf-e80b-4c1b-9b19-f92429242d72",
   "metadata": {},
   "outputs": [
    {
     "name": "stdout",
     "output_type": "stream",
     "text": [
      "the area of triangle is 31.5\n"
     ]
    }
   ],
   "source": [
    "b=9\n",
    "h=7\n",
    "aot=0.5*b*h\n",
    "print(f\"the area of triangle is {aot}\")"
   ]
  },
  {
   "cell_type": "code",
   "execution_count": 18,
   "id": "42a97d30-6b23-4543-8220-61b164cd5083",
   "metadata": {},
   "outputs": [
    {
     "name": "stdout",
     "output_type": "stream",
     "text": [
      "the total bill is 1100.0\n"
     ]
    }
   ],
   "source": [
    "rb=1000\n",
    "tip=10/100\n",
    "ta=1000*10/100\n",
    "total=rb+ta\n",
    "print(\"the total bill is {}\".format(total))\n"
   ]
  },
  {
   "cell_type": "code",
   "execution_count": 21,
   "id": "1b659f51-cc6d-4929-9cf0-62dd52ce5a2d",
   "metadata": {},
   "outputs": [
    {
     "name": "stdout",
     "output_type": "stream",
     "text": [
      "the total bill is1100.0\n"
     ]
    }
   ],
   "source": [
    "rb=1000\n",
    "tip=10/100\n",
    "ta=1000*10/100\n",
    "total=rb+ta\n",
    "print(f\"the total bill is{total}\")\n"
   ]
  },
  {
   "cell_type": "code",
   "execution_count": 23,
   "id": "c07f9db2-6a75-4aa1-af81-d0e72a0a8099",
   "metadata": {},
   "outputs": [
    {
     "name": "stdout",
     "output_type": "stream",
     "text": [
      "the total bill is 1100.0\n"
     ]
    }
   ],
   "source": [
    "rb=1000\n",
    "tip=10/100\n",
    "ta=rb*tip\n",
    "total=rb+ta\n",
    "print(f\"the total bill is {total}\")"
   ]
  },
  {
   "cell_type": "markdown",
   "id": "e0d9f6b7-0fb3-4c36-8812-4de13cba513d",
   "metadata": {},
   "source": [
    "# end operator\n",
    "- combining multiple print statement"
   ]
  },
  {
   "cell_type": "code",
   "execution_count": 27,
   "id": "a3b2efbe-1931-4da0-9677-306a0e00b53e",
   "metadata": {},
   "outputs": [
    {
     "name": "stdout",
     "output_type": "stream",
     "text": [
      "10 shumyna  20\n"
     ]
    }
   ],
   "source": [
    "print(10, end=' shumyna  ')\n",
    "print(20)"
   ]
  },
  {
   "cell_type": "code",
   "execution_count": 28,
   "id": "c50e3daf-0823-4f11-81a2-10c8912b372a",
   "metadata": {},
   "outputs": [
    {
     "name": "stdout",
     "output_type": "stream",
     "text": [
      "10  20  30\n"
     ]
    }
   ],
   "source": [
    "print(10, end='  ')\n",
    "print(20, end='  ')\n",
    "print(30)"
   ]
  },
  {
   "cell_type": "markdown",
   "id": "0da112fb-2286-40d8-87e9-17ff716395c2",
   "metadata": {},
   "source": [
    "# sep operator\n",
    "- seperate the multiple values in a single print statement"
   ]
  },
  {
   "cell_type": "code",
   "execution_count": 29,
   "id": "dc9bbacf-6b58-4829-90ff-848079444d1b",
   "metadata": {},
   "outputs": [
    {
     "name": "stdout",
     "output_type": "stream",
     "text": [
      "10 20 30\n"
     ]
    }
   ],
   "source": [
    "print(10,20,30)"
   ]
  },
  {
   "cell_type": "code",
   "execution_count": 30,
   "id": "9b3f0aed-2318-40b5-aada-9ba18ac441fb",
   "metadata": {},
   "outputs": [
    {
     "name": "stdout",
     "output_type": "stream",
     "text": [
      "10->20->30\n"
     ]
    }
   ],
   "source": [
    "print(10,20,30,sep='->')"
   ]
  },
  {
   "cell_type": "code",
   "execution_count": null,
   "id": "25ca5434-fe28-4998-8107-4c14f878df33",
   "metadata": {},
   "outputs": [],
   "source": []
  }
 ],
 "metadata": {
  "kernelspec": {
   "display_name": "Python 3 (ipykernel)",
   "language": "python",
   "name": "python3"
  },
  "language_info": {
   "codemirror_mode": {
    "name": "ipython",
    "version": 3
   },
   "file_extension": ".py",
   "mimetype": "text/x-python",
   "name": "python",
   "nbconvert_exporter": "python",
   "pygments_lexer": "ipython3",
   "version": "3.11.7"
  }
 },
 "nbformat": 4,
 "nbformat_minor": 5
}
