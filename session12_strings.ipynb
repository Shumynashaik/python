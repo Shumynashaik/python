{
 "cells": [
  {
   "cell_type": "code",
   "execution_count": 1,
   "id": "4b0f7627-ab79-4e19-86ee-722ec71cc012",
   "metadata": {},
   "outputs": [
    {
     "ename": "TypeError",
     "evalue": "sorted expected 1 argument, got 2",
     "output_type": "error",
     "traceback": [
      "\u001b[1;31m---------------------------------------------------------------------------\u001b[0m",
      "\u001b[1;31mTypeError\u001b[0m                                 Traceback (most recent call last)",
      "Cell \u001b[1;32mIn[1], line 1\u001b[0m\n\u001b[1;32m----> 1\u001b[0m \u001b[38;5;28msorted\u001b[39m(\u001b[38;5;124m'\u001b[39m\u001b[38;5;124mnaresh\u001b[39m\u001b[38;5;124m'\u001b[39m,\u001b[38;5;28;01mTrue\u001b[39;00m)\n",
      "\u001b[1;31mTypeError\u001b[0m: sorted expected 1 argument, got 2"
     ]
    }
   ],
   "source": [
    "sorted('naresh',True)"
   ]
  },
  {
   "cell_type": "code",
   "execution_count": 3,
   "id": "304202e9-7c7b-429d-909b-e8c53aed4d1f",
   "metadata": {},
   "outputs": [
    {
     "data": {
      "text/plain": [
       "['s', 'r', 'n', 'h', 'e', 'a']"
      ]
     },
     "execution_count": 3,
     "metadata": {},
     "output_type": "execute_result"
    }
   ],
   "source": [
    "sorted('naresh',reverse=True)"
   ]
  },
  {
   "cell_type": "code",
   "execution_count": 4,
   "id": "0e5d864a-dd49-443a-aa2f-77bc2c67d6c6",
   "metadata": {},
   "outputs": [
    {
     "data": {
      "text/plain": [
       "['a', 'e', 'h', 'n', 'r', 's']"
      ]
     },
     "execution_count": 4,
     "metadata": {},
     "output_type": "execute_result"
    }
   ],
   "source": [
    "sorted('naresh',reverse=False)"
   ]
  },
  {
   "cell_type": "code",
   "execution_count": 5,
   "id": "1e6dbdd7-cde7-4192-b5da-59f77702bb7e",
   "metadata": {},
   "outputs": [
    {
     "data": {
      "text/plain": [
       "<reversed at 0x1ae591a44c0>"
      ]
     },
     "execution_count": 5,
     "metadata": {},
     "output_type": "execute_result"
    }
   ],
   "source": [
    "reversed('naresh')"
   ]
  },
  {
   "cell_type": "code",
   "execution_count": 8,
   "id": "3ba0a478-19fb-42c5-9736-8503ea69153f",
   "metadata": {},
   "outputs": [
    {
     "name": "stdout",
     "output_type": "stream",
     "text": [
      "h\n",
      "s\n",
      "e\n",
      "r\n",
      "a\n",
      "n\n"
     ]
    }
   ],
   "source": [
    "for i in reversed('naresh'):\n",
    "    print(i)"
   ]
  },
  {
   "cell_type": "markdown",
   "id": "8c149ed5-cf8b-44e1-becb-c86e92440a4e",
   "metadata": {},
   "source": [
    "# **in operator**"
   ]
  },
  {
   "cell_type": "code",
   "execution_count": 10,
   "id": "d8b81d0d-d719-4766-bf80-f4662ad4b817",
   "metadata": {},
   "outputs": [
    {
     "data": {
      "text/plain": [
       "True"
      ]
     },
     "execution_count": 10,
     "metadata": {},
     "output_type": "execute_result"
    }
   ],
   "source": [
    "str1='naresh'\n",
    "'n' in str1"
   ]
  },
  {
   "cell_type": "code",
   "execution_count": 11,
   "id": "356f0ce4-6631-4891-a7f9-9a7da66eca37",
   "metadata": {},
   "outputs": [
    {
     "data": {
      "text/plain": [
       "False"
      ]
     },
     "execution_count": 11,
     "metadata": {},
     "output_type": "execute_result"
    }
   ],
   "source": [
    "str1='naresh'\n",
    "'n' not in str1"
   ]
  },
  {
   "cell_type": "markdown",
   "id": "a57c0f32-7f70-43ae-9a2e-2ed4ccacb09f",
   "metadata": {},
   "source": [
    "**NOTE**\n",
    "- in operator directly access the letters"
   ]
  },
  {
   "cell_type": "code",
   "execution_count": 15,
   "id": "d26ff0c4-38d0-4b10-9405-8f0eb5a313b7",
   "metadata": {},
   "outputs": [
    {
     "name": "stdout",
     "output_type": "stream",
     "text": [
      "3\n"
     ]
    }
   ],
   "source": [
    "count=0\n",
    "str2='hai naresh how are you'\n",
    "for i in str2:\n",
    "    if i=='a':\n",
    "        count=count+1\n",
    "print(count)\n"
   ]
  },
  {
   "cell_type": "code",
   "execution_count": 19,
   "id": "f780db83-5997-4668-a2b1-c6b02f9d0f79",
   "metadata": {},
   "outputs": [
    {
     "name": "stdin",
     "output_type": "stream",
     "text": [
      " shaik shumyna\n"
     ]
    },
    {
     "name": "stdout",
     "output_type": "stream",
     "text": [
      "2\n"
     ]
    }
   ],
   "source": [
    "count=0\n",
    "str2=input(\"\")\n",
    "for i in str2:\n",
    "    if i=='a':\n",
    "        count=count+1\n",
    "print(count)"
   ]
  },
  {
   "cell_type": "code",
   "execution_count": 29,
   "id": "155cba8d-4bf7-48e2-a980-4eb369301183",
   "metadata": {},
   "outputs": [
    {
     "name": "stdin",
     "output_type": "stream",
     "text": [
      " hi i am shaik shumyna\n"
     ]
    },
    {
     "name": "stdout",
     "output_type": "stream",
     "text": [
      "7\n"
     ]
    }
   ],
   "source": [
    "count=0\n",
    "str2=input(\"\")\n",
    "for i in str2:\n",
    "    if i=='a'or i=='e'or i=='i'or i=='o'or i=='u':\n",
    "        count=count+1\n",
    "print(count)\n"
   ]
  },
  {
   "cell_type": "code",
   "execution_count": 35,
   "id": "7b073d7e-6a26-4a53-981a-f68e6227b393",
   "metadata": {},
   "outputs": [
    {
     "name": "stdin",
     "output_type": "stream",
     "text": [
      " hi i am shaik \n"
     ]
    },
    {
     "name": "stdout",
     "output_type": "stream",
     "text": [
      "0\n"
     ]
    }
   ],
   "source": [
    "count=0\n",
    "str2=input(\"\")\n",
    "str3=['a','e','i','o','u']\n",
    "for i in str2:\n",
    "    if i==str3:\n",
    "        count=count+1\n",
    "print(count)"
   ]
  },
  {
   "cell_type": "code",
   "execution_count": 36,
   "id": "f2b333f6-bfb9-4997-82e5-eccd0ea32352",
   "metadata": {},
   "outputs": [
    {
     "name": "stdin",
     "output_type": "stream",
     "text": [
      " hi i am shumyna\n"
     ]
    },
    {
     "name": "stdout",
     "output_type": "stream",
     "text": [
      "5\n"
     ]
    }
   ],
   "source": [
    "str2=input(\"\")\n",
    "count=0\n",
    "for i in str2:\n",
    "    if i in \"aeiou\":\n",
    "        count=count+1\n",
    "print(count)"
   ]
  },
  {
   "cell_type": "markdown",
   "id": "06370b61-ce13-41c0-b0cc-366a6f466c70",
   "metadata": {},
   "source": [
    "## how to update empty str"
   ]
  },
  {
   "cell_type": "code",
   "execution_count": 38,
   "id": "c56165d4-f9fc-4098-86fb-7d21643a6e34",
   "metadata": {},
   "outputs": [
    {
     "data": {
      "text/plain": [
       "'python'"
      ]
     },
     "execution_count": 38,
     "metadata": {},
     "output_type": "execute_result"
    }
   ],
   "source": [
    "s1='python'\n",
    "s2=''\n",
    "for i in s1:\n",
    "    s2=s2+i\n",
    "s2"
   ]
  },
  {
   "cell_type": "code",
   "execution_count": 39,
   "id": "878bb8e0-4076-4cf6-a8ee-4c495eb2679b",
   "metadata": {},
   "outputs": [
    {
     "data": {
      "text/plain": [
       "'python'"
      ]
     },
     "execution_count": 39,
     "metadata": {},
     "output_type": "execute_result"
    }
   ],
   "source": [
    "s2"
   ]
  },
  {
   "cell_type": "markdown",
   "id": "bb15de69-1391-44b2-bd36-d8a3edf02353",
   "metadata": {},
   "source": [
    "**CONCATENATION**"
   ]
  },
  {
   "cell_type": "code",
   "execution_count": 44,
   "id": "cf655f1c-21f5-48dc-b90b-817f3a4359d5",
   "metadata": {},
   "outputs": [
    {
     "data": {
      "text/plain": [
       "'hello shumyna'"
      ]
     },
     "execution_count": 44,
     "metadata": {},
     "output_type": "execute_result"
    }
   ],
   "source": [
    "str1='hello'\n",
    "str2=' shumyna'\n",
    "str1+str2"
   ]
  },
  {
   "cell_type": "code",
   "execution_count": 45,
   "id": "35dfc67d-43e4-4dcd-89c4-f49df86d783f",
   "metadata": {},
   "outputs": [
    {
     "data": {
      "text/plain": [
       "'helloshumyna'"
      ]
     },
     "execution_count": 45,
     "metadata": {},
     "output_type": "execute_result"
    }
   ],
   "source": [
    "str1='hello'\n",
    "str2='shumyna'\n",
    "str1+str2"
   ]
  },
  {
   "cell_type": "code",
   "execution_count": 46,
   "id": "d7264802-96cf-47e7-9594-d6d6fecf51d0",
   "metadata": {},
   "outputs": [
    {
     "data": {
      "text/plain": [
       "'hello shumyna'"
      ]
     },
     "execution_count": 46,
     "metadata": {},
     "output_type": "execute_result"
    }
   ],
   "source": [
    "str1='hello'\n",
    "str=\" \"\n",
    "str2='shumyna'\n",
    "str1+str+str2"
   ]
  },
  {
   "cell_type": "code",
   "execution_count": 50,
   "id": "877c2af0-3df1-41fe-9ca7-92867d8ea9ef",
   "metadata": {},
   "outputs": [
    {
     "ename": "TypeError",
     "evalue": "can't multiply sequence by non-int of type 'str'",
     "output_type": "error",
     "traceback": [
      "\u001b[1;31m---------------------------------------------------------------------------\u001b[0m",
      "\u001b[1;31mTypeError\u001b[0m                                 Traceback (most recent call last)",
      "Cell \u001b[1;32mIn[50], line 3\u001b[0m\n\u001b[0;32m      1\u001b[0m str1\u001b[38;5;241m=\u001b[39m\u001b[38;5;124m'\u001b[39m\u001b[38;5;124mhello\u001b[39m\u001b[38;5;124m'\u001b[39m\n\u001b[0;32m      2\u001b[0m str2\u001b[38;5;241m=\u001b[39m\u001b[38;5;124m'\u001b[39m\u001b[38;5;124mshumyna\u001b[39m\u001b[38;5;124m'\u001b[39m\n\u001b[1;32m----> 3\u001b[0m str1\u001b[38;5;241m*\u001b[39mstr2\n",
      "\u001b[1;31mTypeError\u001b[0m: can't multiply sequence by non-int of type 'str'"
     ]
    }
   ],
   "source": [
    "str1='hello'\n",
    "str2='shumyna'\n",
    "str1*str2"
   ]
  },
  {
   "cell_type": "code",
   "execution_count": 51,
   "id": "c0b5ea23-0945-4001-a0dd-d4c7430b2ecc",
   "metadata": {},
   "outputs": [
    {
     "ename": "TypeError",
     "evalue": "unsupported operand type(s) for /: 'str' and 'str'",
     "output_type": "error",
     "traceback": [
      "\u001b[1;31m---------------------------------------------------------------------------\u001b[0m",
      "\u001b[1;31mTypeError\u001b[0m                                 Traceback (most recent call last)",
      "Cell \u001b[1;32mIn[51], line 3\u001b[0m\n\u001b[0;32m      1\u001b[0m str1\u001b[38;5;241m=\u001b[39m\u001b[38;5;124m'\u001b[39m\u001b[38;5;124mhello\u001b[39m\u001b[38;5;124m'\u001b[39m\n\u001b[0;32m      2\u001b[0m str2\u001b[38;5;241m=\u001b[39m\u001b[38;5;124m'\u001b[39m\u001b[38;5;124mshumyna\u001b[39m\u001b[38;5;124m'\u001b[39m\n\u001b[1;32m----> 3\u001b[0m str1\u001b[38;5;241m/\u001b[39mstr2\n",
      "\u001b[1;31mTypeError\u001b[0m: unsupported operand type(s) for /: 'str' and 'str'"
     ]
    }
   ],
   "source": [
    "str1='hello'\n",
    "str2='shumyna'\n",
    "str1/str2"
   ]
  },
  {
   "cell_type": "code",
   "execution_count": 52,
   "id": "1a8141dc-4002-48e2-a59e-7cd3b46ecff2",
   "metadata": {},
   "outputs": [
    {
     "ename": "TypeError",
     "evalue": "unsupported operand type(s) for -: 'str' and 'str'",
     "output_type": "error",
     "traceback": [
      "\u001b[1;31m---------------------------------------------------------------------------\u001b[0m",
      "\u001b[1;31mTypeError\u001b[0m                                 Traceback (most recent call last)",
      "Cell \u001b[1;32mIn[52], line 3\u001b[0m\n\u001b[0;32m      1\u001b[0m str1\u001b[38;5;241m=\u001b[39m\u001b[38;5;124m'\u001b[39m\u001b[38;5;124mhello\u001b[39m\u001b[38;5;124m'\u001b[39m\n\u001b[0;32m      2\u001b[0m str2\u001b[38;5;241m=\u001b[39m\u001b[38;5;124m'\u001b[39m\u001b[38;5;124mshumyna\u001b[39m\u001b[38;5;124m'\u001b[39m\n\u001b[1;32m----> 3\u001b[0m str1\u001b[38;5;241m-\u001b[39mstr2\n",
      "\u001b[1;31mTypeError\u001b[0m: unsupported operand type(s) for -: 'str' and 'str'"
     ]
    }
   ],
   "source": [
    "str1='hello'\n",
    "str2='shumyna'\n",
    "str1-str2"
   ]
  },
  {
   "cell_type": "code",
   "execution_count": 56,
   "id": "f867dfba-4768-4ace-8c32-b68537212e57",
   "metadata": {},
   "outputs": [
    {
     "data": {
      "text/plain": [
       "' hello hello'"
      ]
     },
     "execution_count": 56,
     "metadata": {},
     "output_type": "execute_result"
    }
   ],
   "source": [
    "str1=' hello'\n",
    "str2= 2\n",
    "str1*str2"
   ]
  },
  {
   "cell_type": "markdown",
   "id": "7c59c5d5-ce92-4365-abf3-7ef7da838a08",
   "metadata": {},
   "source": [
    "## INDEX\n",
    "- in python index meaning a number attached to a letter\n",
    "- in python index starts with 0\n",
    "- we have two directions\n",
    "   - postive direction\n",
    "      - starts with 0\n",
    "   - negative direction\n",
    "      - strats with-1"
   ]
  },
  {
   "cell_type": "code",
   "execution_count": 70,
   "id": "2cb6e0ca-6186-42bc-be6f-8a03de19a3ea",
   "metadata": {},
   "outputs": [
    {
     "data": {
      "text/plain": [
       "('s', 'h', 's')"
      ]
     },
     "execution_count": 70,
     "metadata": {},
     "output_type": "execute_result"
    }
   ],
   "source": [
    "s1='shumyna'\n",
    "s1[0],s1[1],s1[-7]"
   ]
  },
  {
   "cell_type": "code",
   "execution_count": null,
   "id": "6015d9ec-b83e-4e22-8982-ed7acb6a0cbc",
   "metadata": {},
   "outputs": [],
   "source": [
    "Home work qn\n",
    "# str1='hai naresh how are you'\n",
    "# Repetaed vowels are there\n",
    "# We dont want repetaed vowels\n",
    "# Count the vowels avoid the repeatition: Unique vowels\n",
    "# Step-1: Count=0\n",
    "# Step-2: take one more empty string: ex= s2=''\n",
    "s2=''\n",
    "# Step-3: using for loop in operator iterate through given string\n",
    "# step-4: condition-1: That letter shoud not avaialble in s2\n",
    "# step-5 condition-2: vowel check condition\n",
    "# step-6 count=count+1\n",
    "# step-7: update the s2= s2=s2+<letter>"
   ]
  },
  {
   "cell_type": "code",
   "execution_count": 5,
   "id": "26973808-82db-458e-b3e1-7f6320fd8c65",
   "metadata": {},
   "outputs": [
    {
     "name": "stdin",
     "output_type": "stream",
     "text": [
      " hai naresh how are you\n"
     ]
    },
    {
     "name": "stdout",
     "output_type": "stream",
     "text": [
      "aieou\n",
      "5\n"
     ]
    }
   ],
   "source": [
    "str1=input(\"\")\n",
    "count=0\n",
    "str2=\"\"\n",
    "for i in str1:\n",
    "        if i in \"a,e,i,o,u\" and i not in str2:\n",
    "                count=count+1\n",
    "                str2=str2+i\n",
    "print(str2) \n",
    "print(count)\n"
   ]
  },
  {
   "cell_type": "markdown",
   "id": "9e22c9cc-b6e1-418c-991d-5cde354e8593",
   "metadata": {},
   "source": [
    " ## **MUTABLE-IMMUTABLE:**\n",
    "- mutable: it can change\n",
    "    - we can change using indexing\n",
    "- immutable:cannot change\n",
    "    - we cannot change using indexing\n",
    "# **strings are immutable**"
   ]
  },
  {
   "cell_type": "code",
   "execution_count": 8,
   "id": "4af740e9-faf2-4331-b282-3350f09822a5",
   "metadata": {},
   "outputs": [
    {
     "ename": "TypeError",
     "evalue": "'str' object does not support item assignment",
     "output_type": "error",
     "traceback": [
      "\u001b[1;31m---------------------------------------------------------------------------\u001b[0m",
      "\u001b[1;31mTypeError\u001b[0m                                 Traceback (most recent call last)",
      "Cell \u001b[1;32mIn[8], line 2\u001b[0m\n\u001b[0;32m      1\u001b[0m s\u001b[38;5;241m=\u001b[39m\u001b[38;5;124m'\u001b[39m\u001b[38;5;124mwelcome\u001b[39m\u001b[38;5;124m'\u001b[39m\n\u001b[1;32m----> 2\u001b[0m s[\u001b[38;5;241m2\u001b[39m]\u001b[38;5;241m=\u001b[39m\u001b[38;5;124m'\u001b[39m\u001b[38;5;124mL\u001b[39m\u001b[38;5;124m'\u001b[39m\n",
      "\u001b[1;31mTypeError\u001b[0m: 'str' object does not support item assignment"
     ]
    }
   ],
   "source": [
    "s='welcome'\n",
    "s[2]='L'"
   ]
  },
  {
   "cell_type": "code",
   "execution_count": 9,
   "id": "28f9dd2d-8525-4922-b8b9-0605ecd3de2f",
   "metadata": {},
   "outputs": [
    {
     "data": {
      "text/plain": [
       "[1, 200, 3, 4]"
      ]
     },
     "execution_count": 9,
     "metadata": {},
     "output_type": "execute_result"
    }
   ],
   "source": [
    "l=[1,2,3,4]\n",
    "l[1]=200\n",
    "l"
   ]
  },
  {
   "cell_type": "code",
   "execution_count": null,
   "id": "69b54c26-d617-4a29-8091-fefd4bf9eb9f",
   "metadata": {},
   "outputs": [],
   "source": [
    "s='welcome'\n",
    "s[2]='L'\n",
    "#####################################################################################\n",
    "l=[1,2,3,4]\n",
    "l[1]=200\n",
    "l"
   ]
  },
  {
   "cell_type": "code",
   "execution_count": 21,
   "id": "6a233564-e1b7-487f-b053-88cd64b37165",
   "metadata": {},
   "outputs": [
    {
     "name": "stdout",
     "output_type": "stream",
     "text": [
      "s h u m y n a "
     ]
    }
   ],
   "source": [
    "str= 'shumyna'\n",
    "for i in range(7):\n",
    "    print(str[i],end=\" \")"
   ]
  },
  {
   "cell_type": "code",
   "execution_count": 20,
   "id": "0a39e66b-e132-4c35-bf12-16d74abbe52a",
   "metadata": {},
   "outputs": [
    {
     "name": "stdout",
     "output_type": "stream",
     "text": [
      "s h u m y n a "
     ]
    }
   ],
   "source": [
    "str1= 'shumyna'\n",
    "for i in str1:\n",
    "    print(i,end=' ')"
   ]
  },
  {
   "cell_type": "markdown",
   "id": "c226ba22-2a03-4e7d-91bb-93463c081431",
   "metadata": {},
   "source": [
    "- range belongs which family\n",
    "   - maths family\n",
    "- inside range bracket what we need to provide\n",
    "   - number\n",
    "- how many numbers we need to provide\n",
    "   - number of letters:len(string)\n",
    "- how to access the letter using number\n",
    "   - by using index"
   ]
  },
  {
   "cell_type": "code",
   "execution_count": 1,
   "id": "6fac3be4-03ad-41fd-9dd9-4755aaf15a60",
   "metadata": {},
   "outputs": [
    {
     "name": "stdout",
     "output_type": "stream",
     "text": [
      "h e l l o   s h u m y n a "
     ]
    }
   ],
   "source": [
    "str1= 'hello shumyna'\n",
    "n=len(str1)\n",
    "for i in range(n):\n",
    "    print(str1[i],end=\" \")"
   ]
  },
  {
   "cell_type": "markdown",
   "id": "ec8ee984-2e9a-49c1-93e1-14f44a9ec3ce",
   "metadata": {},
   "source": [
    "## **forloop-in operator directly access the letter**\n",
    "## **forloop-range will access using index**"
   ]
  },
  {
   "cell_type": "code",
   "execution_count": 25,
   "id": "c44f7705-a5af-4835-bcdd-4b950df36bee",
   "metadata": {},
   "outputs": [
    {
     "name": "stdout",
     "output_type": "stream",
     "text": [
      "s h u m m i "
     ]
    }
   ],
   "source": [
    "str2=\"shummi\"\n",
    "for i in str2:\n",
    "    print(i,end=\" \")"
   ]
  },
  {
   "cell_type": "code",
   "execution_count": 27,
   "id": "82a19248-a6e0-4d4b-a6c5-3aa793ed5fe6",
   "metadata": {},
   "outputs": [
    {
     "name": "stdout",
     "output_type": "stream",
     "text": [
      "s h u m m i "
     ]
    }
   ],
   "source": [
    "str2=\"shummi\"\n",
    "for i in range (6):\n",
    "    print(str2[i],end=\" \")"
   ]
  },
  {
   "cell_type": "code",
   "execution_count": 28,
   "id": "8a4e638f-c6fe-45a5-b62e-44541a9d80e9",
   "metadata": {},
   "outputs": [
    {
     "name": "stdout",
     "output_type": "stream",
     "text": [
      " the positive index s is 0\n",
      " the positive index h is 1\n",
      " the positive index u is 2\n",
      " the positive index m is 3\n",
      " the positive index m is 4\n",
      " the positive index i is 5\n"
     ]
    }
   ],
   "source": [
    "str2=\"shummi\"\n",
    "for i in range (6):\n",
    "    print(f\" the positive index {str2[i]} is {i}\")"
   ]
  },
  {
   "cell_type": "code",
   "execution_count": 57,
   "id": "8360f3d7-070d-4388-ab23-2c0db3c7139c",
   "metadata": {},
   "outputs": [
    {
     "name": "stdout",
     "output_type": "stream",
     "text": [
      " the negative index s is -6 whereas the povisitve index is 0\n",
      " the negative index h is -5 whereas the povisitve index is 1\n",
      " the negative index u is -4 whereas the povisitve index is 2\n",
      " the negative index m is -3 whereas the povisitve index is 3\n",
      " the negative index m is -2 whereas the povisitve index is 4\n",
      " the negative index i is -1 whereas the povisitve index is 5\n"
     ]
    }
   ],
   "source": [
    "str2=\"shummi\"\n",
    "s=len(str2)\n",
    "for i in range (s):\n",
    "   print(f\" the negative index {str2[i]} is {i-s} whereas the povisitve index is {i}\")"
   ]
  },
  {
   "cell_type": "code",
   "execution_count": 50,
   "id": "a69bd1e8-3479-4483-9f7b-036fa9c8b559",
   "metadata": {},
   "outputs": [
    {
     "name": "stdout",
     "output_type": "stream",
     "text": [
      " the negative index s is -6\n",
      " the negative index h is -5\n",
      " the negative index u is -4\n",
      " the negative index m is -3\n",
      " the negative index m is -2\n",
      " the negative index i is -1\n"
     ]
    }
   ],
   "source": [
    "str2=\"shummi\"\n",
    "s=len(str2)\n",
    "for i in range (s):\n",
    "    print(f\" the negative index {str2[i]} is {i-s}\")"
   ]
  },
  {
   "cell_type": "code",
   "execution_count": 78,
   "id": "94698065-643f-4ba9-8cd5-b680a6b491ec",
   "metadata": {},
   "outputs": [
    {
     "name": "stdout",
     "output_type": "stream",
     "text": [
      "the index of a is 1\n",
      "the index of a is 8\n",
      "the index of a is 18\n"
     ]
    }
   ],
   "source": [
    "str1=\"hai how are you i am good\"\n",
    "for i in range(len(str1)):\n",
    "    if (str1[i]=='a'):\n",
    "        print(f\"the index of a is {i}\")"
   ]
  },
  {
   "cell_type": "code",
   "execution_count": 80,
   "id": "afb0ae20-5fb1-416e-8ae9-288b6b25b92a",
   "metadata": {},
   "outputs": [
    {
     "name": "stdout",
     "output_type": "stream",
     "text": [
      "the index of a is 1\n",
      "the index of a is 8\n",
      "the index of a is 18\n",
      "3\n"
     ]
    }
   ],
   "source": [
    "str1=\"hai how are you i am good\"\n",
    "count=0\n",
    "for i in range(len(str1)):\n",
    "    if (str1[i]=='a'):\n",
    "        count=count+1\n",
    "        print(f\"the index of a is {i}\")\n",
    "print(count)\n",
    "        "
   ]
  },
  {
   "cell_type": "code",
   "execution_count": 81,
   "id": "1820bdfa-90d8-4d54-9da5-5b3f45a6edcd",
   "metadata": {},
   "outputs": [
    {
     "name": "stdout",
     "output_type": "stream",
     "text": [
      "the index of a is 1\n",
      "the index of a is 8\n",
      "the index of a is 18\n",
      "3\n",
      "27\n"
     ]
    }
   ],
   "source": [
    "str1=\"hai how are you i am good\"\n",
    "count=0\n",
    "summ=0\n",
    "for i in range(len(str1)):\n",
    "    if (str1[i]=='a'):\n",
    "        count=count+1\n",
    "        summ=summ+i\n",
    "        print(f\"the index of a is {i}\")\n",
    "print(count)\n",
    "print(summ)"
   ]
  },
  {
   "cell_type": "code",
   "execution_count": 89,
   "id": "0a4c5bee-7963-4d2f-a1c2-f87084f43753",
   "metadata": {},
   "outputs": [
    {
     "name": "stdout",
     "output_type": "stream",
     "text": [
      "a i o a e o u i a o o 11\n"
     ]
    }
   ],
   "source": [
    "count=0\n",
    "s=\"hai how are you i am good\"\n",
    "for i in range(len(s)):\n",
    "    if s[i] in 'aeiou':\n",
    "        count=count+1\n",
    "        print( s[i],end=\" \")\n",
    "print(count)"
   ]
  },
  {
   "cell_type": "code",
   "execution_count": 107,
   "id": "88b52062-5a1b-4383-b54e-a9ddc4b16ac3",
   "metadata": {},
   "outputs": [
    {
     "name": "stdout",
     "output_type": "stream",
     "text": [
      "i o a e u the no of vowels are 5\n"
     ]
    }
   ],
   "source": [
    "s=\"hi how are you i am good\"\n",
    "h=\" \"\n",
    "count=0\n",
    "for i in range(len(s)):\n",
    "    if s[i] not in h and s[i] in'aeiou':\n",
    "        print(s[i],end=' ')\n",
    "        h=h+s[i]\n",
    "        count=count+1\n",
    "\n",
    "print(\"the no of vowels are\",count)"
   ]
  },
  {
   "cell_type": "code",
   "execution_count": 122,
   "id": "1b49f26e-2721-41f7-aaa7-89e2bc02aff4",
   "metadata": {},
   "outputs": [
    {
     "name": "stdout",
     "output_type": "stream",
     "text": [
      "3\n"
     ]
    }
   ],
   "source": [
    "s1='ola ola ola'\n",
    "s2=s1.count('ola')\n",
    "print(s2)"
   ]
  },
  {
   "cell_type": "code",
   "execution_count": 125,
   "id": "fea41c92-cb61-42e0-9f77-fbf9db1aa30c",
   "metadata": {},
   "outputs": [
    {
     "ename": "TypeError",
     "evalue": "must be str, not range",
     "output_type": "error",
     "traceback": [
      "\u001b[1;31m---------------------------------------------------------------------------\u001b[0m",
      "\u001b[1;31mTypeError\u001b[0m                                 Traceback (most recent call last)",
      "Cell \u001b[1;32mIn[125], line 2\u001b[0m\n\u001b[0;32m      1\u001b[0m s1\u001b[38;5;241m=\u001b[39m\u001b[38;5;124m'\u001b[39m\u001b[38;5;124mhello hello how how how how are you\u001b[39m\u001b[38;5;124m'\u001b[39m\n\u001b[1;32m----> 2\u001b[0m s2\u001b[38;5;241m=\u001b[39ms1\u001b[38;5;241m.\u001b[39mcount(\u001b[38;5;28mrange\u001b[39m(\u001b[38;5;241m3\u001b[39m,\u001b[38;5;241m9\u001b[39m))\n\u001b[0;32m      3\u001b[0m \u001b[38;5;28mprint\u001b[39m(s2)\n",
      "\u001b[1;31mTypeError\u001b[0m: must be str, not range"
     ]
    }
   ],
   "source": [
    "s1='hello hello how how how how are you'\n",
    "s2=s1.count('how')\n",
    "print(s2)\n",
    "# What is the most repeated word : how"
   ]
  },
  {
   "cell_type": "code",
   "execution_count": null,
   "id": "18af4a54-7909-45cc-a246-8f202886f230",
   "metadata": {},
   "outputs": [],
   "source": [
    "str1='helloooo how are u'\n",
    "what is the max len of word : helloooo\n",
    "what is the min len of word : u\n"
   ]
  },
  {
   "cell_type": "code",
   "execution_count": 108,
   "id": "098a14f9-36db-4971-9d1d-fec41f838818",
   "metadata": {},
   "outputs": [
    {
     "data": {
      "text/plain": [
       "['e', 'h', 'l', 'l', 'o']"
      ]
     },
     "execution_count": 108,
     "metadata": {},
     "output_type": "execute_result"
    }
   ],
   "source": [
    "sorted('hello')"
   ]
  },
  {
   "cell_type": "code",
   "execution_count": 12,
   "id": "e562c852-8c08-44d3-b777-fee20c5b2e6f",
   "metadata": {},
   "outputs": [
    {
     "name": "stdout",
     "output_type": "stream",
     "text": [
      "3\n"
     ]
    }
   ],
   "source": [
    "count=0\n",
    "str2='ola ola ola'.split()\n",
    "for i in str2:\n",
    "    if i in 'ola':\n",
    "        count=count+1\n",
    "print(count)"
   ]
  },
  {
   "cell_type": "markdown",
   "id": "2957ca6c-7ba8-466b-9ea1-bbaa1f87ff16",
   "metadata": {},
   "source": [
    "**SLICE**\n",
    "- we can cut in to pieces\n",
    "- similar to rnage concept\n",
    "- start,stop,step here also"
   ]
  },
  {
   "cell_type": "code",
   "execution_count": null,
   "id": "9a038039-5fb0-49f1-84cf-6fa4b57acdff",
   "metadata": {},
   "outputs": [],
   "source": [
    "str1='hai how are you'"
   ]
  },
  {
   "cell_type": "code",
   "execution_count": null,
   "id": "4dac0828-50ae-4616-86f7-f162c3ea1f90",
   "metadata": {},
   "outputs": [],
   "source": [
    "-15  -14  -13 -12\n",
    "h    a     i       h   o   w     a    r   e       y   o   u\n",
    "0    1     2   3   4   5   6  7  8    9   10  11  12  13  14"
   ]
  },
  {
   "cell_type": "code",
   "execution_count": null,
   "id": "e00015c0-dca7-41ab-9d14-806acea333f9",
   "metadata": {},
   "outputs": [],
   "source": [
    "str1[start:stop:step]"
   ]
  },
  {
   "cell_type": "markdown",
   "id": "d0a27f9e-25cc-4a8c-b7e4-4e2748c70a9f",
   "metadata": {},
   "source": [
    "$pattern-1$\n",
    "**str1[start:]**\n",
    "- by default start value is = startonly\n",
    "- last value is = last only\n",
    "- step nothing mentioned means,it is postive direction and increment by1"
   ]
  },
  {
   "cell_type": "code",
   "execution_count": 25,
   "id": "c379f560-e02c-4442-85b2-9131ef184244",
   "metadata": {},
   "outputs": [
    {
     "data": {
      "text/plain": [
       "'how are you'"
      ]
     },
     "execution_count": 25,
     "metadata": {},
     "output_type": "execute_result"
    }
   ],
   "source": [
    "str1='hai how are you'\n",
    "str1[4:]"
   ]
  },
  {
   "cell_type": "code",
   "execution_count": 26,
   "id": "e396b522-260e-4dd6-9b07-ec253d110058",
   "metadata": {},
   "outputs": [
    {
     "data": {
      "text/plain": [
       "'you'"
      ]
     },
     "execution_count": 26,
     "metadata": {},
     "output_type": "execute_result"
    }
   ],
   "source": [
    "str1='hai how are you'\n",
    "str1[-3:]"
   ]
  },
  {
   "cell_type": "markdown",
   "id": "9da74db6-246d-472f-9518-0b5357154b27",
   "metadata": {},
   "source": [
    "$pattern-2$\n",
    "**str1[start:stop]**\n",
    "- start means by default start only\n",
    "- step nothing mentioned means,it is postive direction and increment by 1"
   ]
  },
  {
   "cell_type": "code",
   "execution_count": 36,
   "id": "e38b1dd1-b0b1-4121-8078-e0fc8f4227e2",
   "metadata": {},
   "outputs": [
    {
     "data": {
      "text/plain": [
       "'how are you'"
      ]
     },
     "execution_count": 36,
     "metadata": {},
     "output_type": "execute_result"
    }
   ],
   "source": [
    "str1='hai how are you'\n",
    "str1[4:15]\n",
    "#last value=lastvalue-1(15-1=14)"
   ]
  },
  {
   "cell_type": "code",
   "execution_count": 40,
   "id": "f5a15174-fd6a-458b-a1d1-b362a18c5280",
   "metadata": {},
   "outputs": [
    {
     "data": {
      "text/plain": [
       "'e yo'"
      ]
     },
     "execution_count": 40,
     "metadata": {},
     "output_type": "execute_result"
    }
   ],
   "source": [
    "str1='hai how are you'\n",
    "str1[-5:14]"
   ]
  },
  {
   "cell_type": "code",
   "execution_count": 41,
   "id": "1774c6b6-03a1-4e19-90b5-67c3d3017af2",
   "metadata": {},
   "outputs": [
    {
     "data": {
      "text/plain": [
       "''"
      ]
     },
     "execution_count": 41,
     "metadata": {},
     "output_type": "execute_result"
    }
   ],
   "source": [
    "str1='hai how are you'\n",
    "str1[5:-14]"
   ]
  },
  {
   "cell_type": "code",
   "execution_count": 42,
   "id": "91701bc2-96db-49af-83bf-7cb30eb6c846",
   "metadata": {},
   "outputs": [
    {
     "data": {
      "text/plain": [
       "'how are'"
      ]
     },
     "execution_count": 42,
     "metadata": {},
     "output_type": "execute_result"
    }
   ],
   "source": [
    "str1='hai how are you'\n",
    "str1[4:-4]"
   ]
  },
  {
   "cell_type": "code",
   "execution_count": 50,
   "id": "02ccb4ed-1258-4b4c-b396-92aa74e66d21",
   "metadata": {},
   "outputs": [
    {
     "data": {
      "text/plain": [
       "''"
      ]
     },
     "execution_count": 50,
     "metadata": {},
     "output_type": "execute_result"
    }
   ],
   "source": [
    "str1='hai how are you'\n",
    "str1[-5:-3]"
   ]
  },
  {
   "cell_type": "code",
   "execution_count": 53,
   "id": "2aeeb134-722c-4143-8732-3a260a71a034",
   "metadata": {},
   "outputs": [
    {
     "data": {
      "text/plain": [
       "''"
      ]
     },
     "execution_count": 53,
     "metadata": {},
     "output_type": "execute_result"
    }
   ],
   "source": [
    "str1='hai how are you'\n",
    "str1[-5:-14]\n",
    "#because -14 is going back in negative direction"
   ]
  },
  {
   "cell_type": "code",
   "execution_count": 52,
   "id": "b23f3e8f-dfc9-487f-83be-52495529a103",
   "metadata": {},
   "outputs": [
    {
     "data": {
      "text/plain": [
       "'e yo'"
      ]
     },
     "execution_count": 52,
     "metadata": {},
     "output_type": "execute_result"
    }
   ],
   "source": [
    "str1='hai how are you'\n",
    "str1[-5:14]"
   ]
  },
  {
   "cell_type": "markdown",
   "id": "25acad82-50da-4857-a00c-883765774ed8",
   "metadata": {},
   "source": [
    "**Truncation behaviour**\n",
    "- when ever string range is limited,but we provided unlimited number\n",
    "- string will consider till the range we have\n",
    "- in the above example our range only 15 letters\n",
    "- we provided 500,hten 500 will truncate to till 15 letters only"
   ]
  },
  {
   "cell_type": "code",
   "execution_count": 54,
   "id": "5c7ba114-6479-4417-b5e5-c52c1fff5840",
   "metadata": {},
   "outputs": [
    {
     "data": {
      "text/plain": [
       "'ow are you'"
      ]
     },
     "execution_count": 54,
     "metadata": {},
     "output_type": "execute_result"
    }
   ],
   "source": [
    "str1='hai how are you'\n",
    "str1[5:500]"
   ]
  },
  {
   "cell_type": "code",
   "execution_count": 55,
   "id": "0832fb8a-82d0-4c1c-8bb2-1e357b0c73f7",
   "metadata": {},
   "outputs": [
    {
     "data": {
      "text/plain": [
       "'hai how are you'"
      ]
     },
     "execution_count": 55,
     "metadata": {},
     "output_type": "execute_result"
    }
   ],
   "source": [
    "str1='hai how are you'\n",
    "str1[-500:500]"
   ]
  },
  {
   "cell_type": "code",
   "execution_count": 56,
   "id": "d76b3599-7a2d-414d-87c1-2e59715d408e",
   "metadata": {},
   "outputs": [
    {
     "data": {
      "text/plain": [
       "'u'"
      ]
     },
     "execution_count": 56,
     "metadata": {},
     "output_type": "execute_result"
    }
   ],
   "source": [
    "str1='hai how are you'\n",
    "str1[-1:500]"
   ]
  },
  {
   "cell_type": "code",
   "execution_count": 57,
   "id": "9eed36b2-27a2-4427-b063-22a664512428",
   "metadata": {},
   "outputs": [
    {
     "data": {
      "text/plain": [
       "''"
      ]
     },
     "execution_count": 57,
     "metadata": {},
     "output_type": "execute_result"
    }
   ],
   "source": [
    "str1='hai how are you'\n",
    "str1[500:]"
   ]
  },
  {
   "cell_type": "code",
   "execution_count": 59,
   "id": "77ab917a-17eb-469d-b2f2-d3b2d1d83b4f",
   "metadata": {},
   "outputs": [
    {
     "data": {
      "text/plain": [
       "''"
      ]
     },
     "execution_count": 59,
     "metadata": {},
     "output_type": "execute_result"
    }
   ],
   "source": [
    "str1='hai how are you'\n",
    "str1[-500:-100]"
   ]
  },
  {
   "cell_type": "markdown",
   "id": "099af4a6-8189-44e7-ba4d-52c96b128589",
   "metadata": {},
   "source": [
    "$pattern-3$\n",
    "**Str1[start:stop:step]**\n",
    "- start value means start only\n",
    "- if step value is positive\n",
    "  - "
   ]
  },
  {
   "cell_type": "code",
   "execution_count": 60,
   "id": "30df65d8-317f-4b5e-8b3d-88cbfebb0aa7",
   "metadata": {},
   "outputs": [
    {
     "data": {
      "text/plain": [
       "'ihwaey'"
      ]
     },
     "execution_count": 60,
     "metadata": {},
     "output_type": "execute_result"
    }
   ],
   "source": [
    "str1[2:13:2]"
   ]
  },
  {
   "cell_type": "code",
   "execution_count": 61,
   "id": "bdb2b754-9852-40e9-9433-0e5ea98e0e2c",
   "metadata": {},
   "outputs": [
    {
     "data": {
      "text/plain": [
       "''"
      ]
     },
     "execution_count": 61,
     "metadata": {},
     "output_type": "execute_result"
    }
   ],
   "source": [
    "str1[2:13:-2]"
   ]
  },
  {
   "cell_type": "code",
   "execution_count": 62,
   "id": "fc5d60e1-b613-4d4b-8e94-81ccf323f4ad",
   "metadata": {},
   "outputs": [
    {
     "data": {
      "text/plain": [
       "''"
      ]
     },
     "execution_count": 62,
     "metadata": {},
     "output_type": "execute_result"
    }
   ],
   "source": [
    "str1[2:-13:2]"
   ]
  },
  {
   "cell_type": "code",
   "execution_count": 63,
   "id": "273b31a3-07b6-43d6-a4d0-17717380271e",
   "metadata": {},
   "outputs": [
    {
     "data": {
      "text/plain": [
       "''"
      ]
     },
     "execution_count": 63,
     "metadata": {},
     "output_type": "execute_result"
    }
   ],
   "source": [
    "str1[-2:13:2]"
   ]
  },
  {
   "cell_type": "code",
   "execution_count": 64,
   "id": "14ffcb24-b259-4b2f-bd89-208ea590a437",
   "metadata": {},
   "outputs": [
    {
     "data": {
      "text/plain": [
       "''"
      ]
     },
     "execution_count": 64,
     "metadata": {},
     "output_type": "execute_result"
    }
   ],
   "source": [
    "str1[-2:-13:2]"
   ]
  },
  {
   "cell_type": "code",
   "execution_count": 65,
   "id": "5ac70906-1ab9-4ee1-a24f-5d6a4f7d802a",
   "metadata": {},
   "outputs": [
    {
     "data": {
      "text/plain": [
       "'o r o '"
      ]
     },
     "execution_count": 65,
     "metadata": {},
     "output_type": "execute_result"
    }
   ],
   "source": [
    "str1[-2:-13:-2]"
   ]
  },
  {
   "cell_type": "code",
   "execution_count": 66,
   "id": "967e11f5-8c54-42b2-ba96-5c355eec2589",
   "metadata": {},
   "outputs": [
    {
     "data": {
      "text/plain": [
       "''"
      ]
     },
     "execution_count": 66,
     "metadata": {},
     "output_type": "execute_result"
    }
   ],
   "source": [
    "str1[13:2:2]"
   ]
  },
  {
   "cell_type": "code",
   "execution_count": 67,
   "id": "d8457529-e94b-4478-851c-228aa0961544",
   "metadata": {},
   "outputs": [
    {
     "data": {
      "text/plain": [
       "''"
      ]
     },
     "execution_count": 67,
     "metadata": {},
     "output_type": "execute_result"
    }
   ],
   "source": [
    "str1[-13:2:-2]"
   ]
  },
  {
   "cell_type": "code",
   "execution_count": 69,
   "id": "f53b2c85-fead-46c9-9dc9-783f5d646b0f",
   "metadata": {},
   "outputs": [
    {
     "data": {
      "text/plain": [
       "'o r o '"
      ]
     },
     "execution_count": 69,
     "metadata": {},
     "output_type": "execute_result"
    }
   ],
   "source": [
    "str1[-2:-13:-2]"
   ]
  },
  {
   "cell_type": "code",
   "execution_count": 71,
   "id": "80468b79-32f1-4437-af1f-8b2f4b74bcf3",
   "metadata": {},
   "outputs": [
    {
     "data": {
      "text/plain": [
       "'ihwaey'"
      ]
     },
     "execution_count": 71,
     "metadata": {},
     "output_type": "execute_result"
    }
   ],
   "source": [
    "str1[-13:-2:2]"
   ]
  },
  {
   "cell_type": "code",
   "execution_count": 72,
   "id": "86065d4b-b973-446c-8855-a0648d2688d9",
   "metadata": {},
   "outputs": [
    {
     "data": {
      "text/plain": [
       "''"
      ]
     },
     "execution_count": 72,
     "metadata": {},
     "output_type": "execute_result"
    }
   ],
   "source": [
    "str1[2:-13]"
   ]
  },
  {
   "cell_type": "code",
   "execution_count": 73,
   "id": "f1c7c544-a05e-4287-80d4-38c0e7bcbd05",
   "metadata": {},
   "outputs": [
    {
     "data": {
      "text/plain": [
       "'i'"
      ]
     },
     "execution_count": 73,
     "metadata": {},
     "output_type": "execute_result"
    }
   ],
   "source": [
    "str1[2:3:2]"
   ]
  },
  {
   "cell_type": "code",
   "execution_count": 75,
   "id": "41499512-43d0-4c38-8a21-b0954cea321e",
   "metadata": {},
   "outputs": [
    {
     "data": {
      "text/plain": [
       "''"
      ]
     },
     "execution_count": 75,
     "metadata": {},
     "output_type": "execute_result"
    }
   ],
   "source": [
    "str1[2:2]"
   ]
  },
  {
   "cell_type": "code",
   "execution_count": null,
   "id": "1648b3f3-7ead-4d69-8309-572ca5feacdb",
   "metadata": {},
   "outputs": [],
   "source": [
    "str1[:]#complete string\n",
    "str1[::]#complete string\n",
    "str1[<start>::-1]#reverse start value =-1\n",
    "str1[<start>:5:-2]"
   ]
  },
  {
   "cell_type": "markdown",
   "id": "84fa9c91-5f92-4d2e-adc2-95b78b3e28b9",
   "metadata": {},
   "source": [
    "# METHODS"
   ]
  },
  {
   "cell_type": "code",
   "execution_count": 76,
   "id": "e8aef497-c8a3-4513-b4fe-781302df7385",
   "metadata": {},
   "outputs": [
    {
     "data": {
      "text/plain": [
       "['__add__',\n",
       " '__class__',\n",
       " '__contains__',\n",
       " '__delattr__',\n",
       " '__dir__',\n",
       " '__doc__',\n",
       " '__eq__',\n",
       " '__format__',\n",
       " '__ge__',\n",
       " '__getattribute__',\n",
       " '__getitem__',\n",
       " '__getnewargs__',\n",
       " '__getstate__',\n",
       " '__gt__',\n",
       " '__hash__',\n",
       " '__init__',\n",
       " '__init_subclass__',\n",
       " '__iter__',\n",
       " '__le__',\n",
       " '__len__',\n",
       " '__lt__',\n",
       " '__mod__',\n",
       " '__mul__',\n",
       " '__ne__',\n",
       " '__new__',\n",
       " '__reduce__',\n",
       " '__reduce_ex__',\n",
       " '__repr__',\n",
       " '__rmod__',\n",
       " '__rmul__',\n",
       " '__setattr__',\n",
       " '__sizeof__',\n",
       " '__str__',\n",
       " '__subclasshook__',\n",
       " 'capitalize',\n",
       " 'casefold',\n",
       " 'center',\n",
       " 'count',\n",
       " 'encode',\n",
       " 'endswith',\n",
       " 'expandtabs',\n",
       " 'find',\n",
       " 'format',\n",
       " 'format_map',\n",
       " 'index',\n",
       " 'isalnum',\n",
       " 'isalpha',\n",
       " 'isascii',\n",
       " 'isdecimal',\n",
       " 'isdigit',\n",
       " 'isidentifier',\n",
       " 'islower',\n",
       " 'isnumeric',\n",
       " 'isprintable',\n",
       " 'isspace',\n",
       " 'istitle',\n",
       " 'isupper',\n",
       " 'join',\n",
       " 'ljust',\n",
       " 'lower',\n",
       " 'lstrip',\n",
       " 'maketrans',\n",
       " 'partition',\n",
       " 'removeprefix',\n",
       " 'removesuffix',\n",
       " 'replace',\n",
       " 'rfind',\n",
       " 'rindex',\n",
       " 'rjust',\n",
       " 'rpartition',\n",
       " 'rsplit',\n",
       " 'rstrip',\n",
       " 'split',\n",
       " 'splitlines',\n",
       " 'startswith',\n",
       " 'strip',\n",
       " 'swapcase',\n",
       " 'title',\n",
       " 'translate',\n",
       " 'upper',\n",
       " 'zfill']"
      ]
     },
     "execution_count": 76,
     "metadata": {},
     "output_type": "execute_result"
    }
   ],
   "source": [
    "dir('')"
   ]
  },
  {
   "cell_type": "markdown",
   "id": "db1d9240-591f-4e0c-83f2-0beab4ab0a3f",
   "metadata": {},
   "source": [
    "**upper**"
   ]
  },
  {
   "cell_type": "code",
   "execution_count": 81,
   "id": "3c2f96e3-1ffd-4a53-9e45-bd6e4771820e",
   "metadata": {},
   "outputs": [
    {
     "data": {
      "text/plain": [
       "'SHUMYNA'"
      ]
     },
     "execution_count": 81,
     "metadata": {},
     "output_type": "execute_result"
    }
   ],
   "source": [
    "str2=\"shumyna\"\n",
    "str2.upper()"
   ]
  },
  {
   "cell_type": "code",
   "execution_count": 85,
   "id": "2ed6c0dd-80d8-4cdb-b1b1-2bfa5b768e9f",
   "metadata": {},
   "outputs": [
    {
     "data": {
      "text/plain": [
       "'shumyna'"
      ]
     },
     "execution_count": 85,
     "metadata": {},
     "output_type": "execute_result"
    }
   ],
   "source": [
    "str3='SHUMYNA'\n",
    "str3.lower()"
   ]
  },
  {
   "cell_type": "code",
   "execution_count": 83,
   "id": "0f77b8ac-b937-4312-98e0-3161d5f5469b",
   "metadata": {},
   "outputs": [
    {
     "data": {
      "text/plain": [
       "'shumyna'"
      ]
     },
     "execution_count": 83,
     "metadata": {},
     "output_type": "execute_result"
    }
   ],
   "source": [
    "str2.casefold()"
   ]
  },
  {
   "cell_type": "code",
   "execution_count": 86,
   "id": "9aef8ac5-bc0b-4b8e-9076-5a29c23e8361",
   "metadata": {},
   "outputs": [
    {
     "data": {
      "text/plain": [
       "'shumyna'"
      ]
     },
     "execution_count": 86,
     "metadata": {},
     "output_type": "execute_result"
    }
   ],
   "source": [
    "str3.casefold()"
   ]
  },
  {
   "cell_type": "code",
   "execution_count": 84,
   "id": "242c5859-9e12-4139-a055-e4356238fe0d",
   "metadata": {},
   "outputs": [
    {
     "data": {
      "text/plain": [
       "'Shumyna'"
      ]
     },
     "execution_count": 84,
     "metadata": {},
     "output_type": "execute_result"
    }
   ],
   "source": [
    "str2.capitalize()"
   ]
  },
  {
   "cell_type": "code",
   "execution_count": 87,
   "id": "c321c6a6-a9eb-43cf-8298-ce5a0b0487cd",
   "metadata": {},
   "outputs": [
    {
     "data": {
      "text/plain": [
       "'Shumyna'"
      ]
     },
     "execution_count": 87,
     "metadata": {},
     "output_type": "execute_result"
    }
   ],
   "source": [
    "str3.capitalize()"
   ]
  },
  {
   "cell_type": "code",
   "execution_count": 88,
   "id": "d5b88f05-91a6-4d9e-b824-e52030656eaf",
   "metadata": {},
   "outputs": [
    {
     "data": {
      "text/plain": [
       "'Shumyna'"
      ]
     },
     "execution_count": 88,
     "metadata": {},
     "output_type": "execute_result"
    }
   ],
   "source": [
    "str2.title()"
   ]
  },
  {
   "cell_type": "code",
   "execution_count": 91,
   "id": "30ba73a3-3d2a-45f5-b319-7c11e4c00f67",
   "metadata": {},
   "outputs": [
    {
     "data": {
      "text/plain": [
       "'      SHUMYNA       '"
      ]
     },
     "execution_count": 91,
     "metadata": {},
     "output_type": "execute_result"
    }
   ],
   "source": [
    "str3.center(20)\n"
   ]
  },
  {
   "cell_type": "code",
   "execution_count": 92,
   "id": "acca0298-2f77-44b3-890d-102a74ec6324",
   "metadata": {},
   "outputs": [
    {
     "data": {
      "text/plain": [
       "20"
      ]
     },
     "execution_count": 92,
     "metadata": {},
     "output_type": "execute_result"
    }
   ],
   "source": [
    "len(str3.center(20))"
   ]
  },
  {
   "cell_type": "code",
   "execution_count": 96,
   "id": "c1ce75a4-a3a2-469f-af31-2e900a1ac18a",
   "metadata": {},
   "outputs": [
    {
     "data": {
      "text/plain": [
       "'======SHUMYNA======='"
      ]
     },
     "execution_count": 96,
     "metadata": {},
     "output_type": "execute_result"
    }
   ],
   "source": [
    "str3.center(20,'=')\n"
   ]
  },
  {
   "cell_type": "code",
   "execution_count": 18,
   "id": "80192ad1-2c0a-49dd-af25-beb4e2e1cc63",
   "metadata": {},
   "outputs": [
    {
     "name": "stdout",
     "output_type": "stream",
     "text": [
      "[104, 101, 108, 108, 111]\n"
     ]
    }
   ],
   "source": [
    "s1=\"hello\"\n",
    "s2=[]\n",
    "for i in s1:\n",
    "    i=ord(i)\n",
    "    s2.append(i)\n",
    "print(s2)\n"
   ]
  },
  {
   "cell_type": "markdown",
   "id": "e1c1a2a3-59f8-4207-ba7a-abcd0f44fff6",
   "metadata": {},
   "source": [
    "# COUNT"
   ]
  },
  {
   "cell_type": "code",
   "execution_count": 14,
   "id": "0e329be1-b9b5-406f-8b42-88e4e232c76e",
   "metadata": {},
   "outputs": [
    {
     "name": "stdout",
     "output_type": "stream",
     "text": [
      "2\n"
     ]
    }
   ],
   "source": [
    "count=0\n",
    "str1='hai how are you'\n",
    "for i in str1:\n",
    "    if i=='a':\n",
    "        count=count+1\n",
    "print(count)"
   ]
  },
  {
   "cell_type": "code",
   "execution_count": 16,
   "id": "12682aa8-b653-4c88-b93b-072a76ea6691",
   "metadata": {},
   "outputs": [
    {
     "data": {
      "text/plain": [
       "2"
      ]
     },
     "execution_count": 16,
     "metadata": {},
     "output_type": "execute_result"
    }
   ],
   "source": [
    "str1.count('a')"
   ]
  },
  {
   "cell_type": "code",
   "execution_count": null,
   "id": "7c726d5f-ccaa-4179-81b9-15e783f10034",
   "metadata": {},
   "outputs": [],
   "source": [
    "h  a   i     h   a   i     h   a  i\n",
    "0  1   2  3  4   5   6  7  8   9  10\n",
    "str2=\"hai hai hai\"\n",
    "str2.count('a')#all the 'a'\n",
    "str2.count('a',5)#we are searching number of "
   ]
  },
  {
   "cell_type": "code",
   "execution_count": 19,
   "id": "bb563bc8-cd3c-44f3-91dd-17841ee6a08a",
   "metadata": {},
   "outputs": [
    {
     "data": {
      "text/plain": [
       "1"
      ]
     },
     "execution_count": 19,
     "metadata": {},
     "output_type": "execute_result"
    }
   ],
   "source": [
    "str1='hai how are you'\n",
    "str1.count('h',3)"
   ]
  },
  {
   "cell_type": "code",
   "execution_count": 20,
   "id": "11770cc5-66be-4ac9-8cbd-96bce8eb844b",
   "metadata": {},
   "outputs": [
    {
     "data": {
      "text/plain": [
       "0"
      ]
     },
     "execution_count": 20,
     "metadata": {},
     "output_type": "execute_result"
    }
   ],
   "source": [
    "str1='hai how are you'\n",
    "str1.count('h',5)"
   ]
  },
  {
   "cell_type": "code",
   "execution_count": 22,
   "id": "44e63209-5448-4ced-9896-8396bc01a4bc",
   "metadata": {},
   "outputs": [
    {
     "data": {
      "text/plain": [
       "1"
      ]
     },
     "execution_count": 22,
     "metadata": {},
     "output_type": "execute_result"
    }
   ],
   "source": [
    "str1='hai how are you'\n",
    "str1.count('h',3,5)"
   ]
  },
  {
   "cell_type": "code",
   "execution_count": 27,
   "id": "bb4a01f8-f3a4-44b9-a165-1bfa95cf183f",
   "metadata": {},
   "outputs": [
    {
     "data": {
      "text/plain": [
       "0"
      ]
     },
     "execution_count": 27,
     "metadata": {},
     "output_type": "execute_result"
    }
   ],
   "source": [
    "str1='hai how are you'\n",
    "str1.count('y',-1)"
   ]
  },
  {
   "cell_type": "markdown",
   "id": "f9a6681a-09df-4606-b471-a6e018e1b9f1",
   "metadata": {},
   "source": [
    "**WINDOW METHOD:**"
   ]
  },
  {
   "cell_type": "code",
   "execution_count": 33,
   "id": "c8048f02-e154-4195-b455-cbf5c5efd0fa",
   "metadata": {},
   "outputs": [
    {
     "name": "stdout",
     "output_type": "stream",
     "text": [
      "3\n"
     ]
    }
   ],
   "source": [
    "s1='ola ola ola'\n",
    "count=0\n",
    "for i in range (len(s1)):\n",
    "    if s1[i:i+3]==\"ola\":\n",
    "        count=count+1\n",
    "print(count)\n",
    "#step1=count=0 i=0 str1[0:3]=='ola' true count=1\n",
    "#step2=count=0 i=1 str[1:4]=='ola' false count=1"
   ]
  },
  {
   "cell_type": "code",
   "execution_count": 34,
   "id": "2695b222-5bdd-49c8-9f0d-55983866bf60",
   "metadata": {},
   "outputs": [
    {
     "data": {
      "text/plain": [
       "3"
      ]
     },
     "execution_count": 34,
     "metadata": {},
     "output_type": "execute_result"
    }
   ],
   "source": [
    "s1.count('ola')"
   ]
  },
  {
   "cell_type": "code",
   "execution_count": 35,
   "id": "52a0c8b5-1e7a-4a82-8ab4-5c928515197a",
   "metadata": {},
   "outputs": [
    {
     "data": {
      "text/plain": [
       "1"
      ]
     },
     "execution_count": 35,
     "metadata": {},
     "output_type": "execute_result"
    }
   ],
   "source": [
    "s1.count('ola ola')"
   ]
  },
  {
   "cell_type": "code",
   "execution_count": 36,
   "id": "ff1ee04b-0ec4-492f-b5a9-b4d12f2d4881",
   "metadata": {},
   "outputs": [
    {
     "data": {
      "text/plain": [
       "1"
      ]
     },
     "execution_count": 36,
     "metadata": {},
     "output_type": "execute_result"
    }
   ],
   "source": [
    "s1.count('ola ola ola')"
   ]
  },
  {
   "cell_type": "code",
   "execution_count": 37,
   "id": "f69394f7-1e34-4d0e-9119-5d120a677ef5",
   "metadata": {},
   "outputs": [
    {
     "data": {
      "text/plain": [
       "1"
      ]
     },
     "execution_count": 37,
     "metadata": {},
     "output_type": "execute_result"
    }
   ],
   "source": [
    "s1.count(s1)"
   ]
  },
  {
   "cell_type": "code",
   "execution_count": 38,
   "id": "2a272057-d64b-43db-86bc-7b8f203e30a6",
   "metadata": {},
   "outputs": [
    {
     "data": {
      "text/plain": [
       "0"
      ]
     },
     "execution_count": 38,
     "metadata": {},
     "output_type": "execute_result"
    }
   ],
   "source": [
    "s1.count('z')"
   ]
  },
  {
   "cell_type": "markdown",
   "id": "82d3f173-12fb-46eb-8d9a-eb9c95f05779",
   "metadata": {},
   "source": [
    "**REPLACE**"
   ]
  },
  {
   "cell_type": "code",
   "execution_count": 48,
   "id": "ac4bc1c1-6c7f-4d82-8477-1dc4fd8ada8b",
   "metadata": {},
   "outputs": [
    {
     "name": "stdout",
     "output_type": "stream",
     "text": [
      "weLcome\n"
     ]
    }
   ],
   "source": [
    "s1='welcome'\n",
    "s2=s1[0:2]\n",
    "s3=s1[3:7]\n",
    "n=s2+\"L\"+s3\n",
    "print(n)\n"
   ]
  },
  {
   "cell_type": "code",
   "execution_count": null,
   "id": "9b1a002a-40f9-40dc-bef9-46b2febf99bf",
   "metadata": {},
   "outputs": [],
   "source": [
    "chr(ord('l')-32)"
   ]
  },
  {
   "cell_type": "code",
   "execution_count": 50,
   "id": "b28d7441-2e5d-4c75-b9a9-9dd25f54b455",
   "metadata": {},
   "outputs": [
    {
     "data": {
      "text/plain": [
       "'weLLcome'"
      ]
     },
     "execution_count": 50,
     "metadata": {},
     "output_type": "execute_result"
    }
   ],
   "source": [
    "s1.replace('l','L')"
   ]
  },
  {
   "cell_type": "code",
   "execution_count": 51,
   "id": "392bf965-b22c-421e-be90-4013c1ea6f9c",
   "metadata": {},
   "outputs": [
    {
     "data": {
      "text/plain": [
       "'weLLcome'"
      ]
     },
     "execution_count": 51,
     "metadata": {},
     "output_type": "execute_result"
    }
   ],
   "source": [
    "s1='wellcome'\n",
    "s1.replace('l','L')"
   ]
  },
  {
   "cell_type": "code",
   "execution_count": 52,
   "id": "9037ca38-1312-4ca0-8f9c-b92667642c5a",
   "metadata": {},
   "outputs": [
    {
     "data": {
      "text/plain": [
       "'weLllcome'"
      ]
     },
     "execution_count": 52,
     "metadata": {},
     "output_type": "execute_result"
    }
   ],
   "source": [
    "s1='welllcome'\n",
    "s1.replace('l','L',1)\n",
    "#when we write count=1 \n",
    "#it will change only one letter \n",
    "#that too first occurence only"
   ]
  },
  {
   "cell_type": "code",
   "execution_count": 53,
   "id": "67b26d9f-648f-4f52-91c5-6221a1641fd5",
   "metadata": {},
   "outputs": [
    {
     "data": {
      "text/plain": [
       "'weLLlcome'"
      ]
     },
     "execution_count": 53,
     "metadata": {},
     "output_type": "execute_result"
    }
   ],
   "source": [
    "s1='welllcome'\n",
    "s1.replace('l','L',2)"
   ]
  },
  {
   "cell_type": "code",
   "execution_count": 56,
   "id": "626a3df5-102c-4862-bafc-7d280fcb99ca",
   "metadata": {},
   "outputs": [
    {
     "data": {
      "text/plain": [
       "'weLLLcome'"
      ]
     },
     "execution_count": 56,
     "metadata": {},
     "output_type": "execute_result"
    }
   ],
   "source": [
    "s1='welllcome'\n",
    "s1.replace('l','L',3)"
   ]
  },
  {
   "cell_type": "code",
   "execution_count": 62,
   "id": "e9c6f5c6-0ebf-43fe-860e-a04466d7f11a",
   "metadata": {},
   "outputs": [
    {
     "data": {
      "text/plain": [
       "'$esta$t'"
      ]
     },
     "execution_count": 62,
     "metadata": {},
     "output_type": "execute_result"
    }
   ],
   "source": [
    "str1='restart'\n",
    "str1.replace('r','$',)"
   ]
  },
  {
   "cell_type": "code",
   "execution_count": 69,
   "id": "342b699a-fe6e-46c4-86cf-652c15875951",
   "metadata": {},
   "outputs": [
    {
     "data": {
      "text/plain": [
       "'resta$t'"
      ]
     },
     "execution_count": 69,
     "metadata": {},
     "output_type": "execute_result"
    }
   ],
   "source": [
    "str1='restart'\n",
    "s1=str1[0:3]\n",
    "s2=str1[3:]\n",
    "s1+s2.replace('r','$')"
   ]
  },
  {
   "cell_type": "code",
   "execution_count": 70,
   "id": "e5a32c47-ca39-45ce-98bb-b97c799d7156",
   "metadata": {},
   "outputs": [
    {
     "data": {
      "text/plain": [
       "'resta$t'"
      ]
     },
     "execution_count": 70,
     "metadata": {},
     "output_type": "execute_result"
    }
   ],
   "source": [
    "str1='restart'#this case\n",
    "str1[::-1].replace('r','$',1)[::-1]"
   ]
  },
  {
   "cell_type": "markdown",
   "id": "df91dd55-8729-480d-886b-4be1c76112ad",
   "metadata": {},
   "source": [
    "**index-find**"
   ]
  },
  {
   "cell_type": "code",
   "execution_count": 71,
   "id": "e34e4931-94d5-4d60-a466-8d9a17493c04",
   "metadata": {},
   "outputs": [
    {
     "data": {
      "text/plain": [
       "['__add__',\n",
       " '__class__',\n",
       " '__contains__',\n",
       " '__delattr__',\n",
       " '__dir__',\n",
       " '__doc__',\n",
       " '__eq__',\n",
       " '__format__',\n",
       " '__ge__',\n",
       " '__getattribute__',\n",
       " '__getitem__',\n",
       " '__getnewargs__',\n",
       " '__getstate__',\n",
       " '__gt__',\n",
       " '__hash__',\n",
       " '__init__',\n",
       " '__init_subclass__',\n",
       " '__iter__',\n",
       " '__le__',\n",
       " '__len__',\n",
       " '__lt__',\n",
       " '__mod__',\n",
       " '__mul__',\n",
       " '__ne__',\n",
       " '__new__',\n",
       " '__reduce__',\n",
       " '__reduce_ex__',\n",
       " '__repr__',\n",
       " '__rmod__',\n",
       " '__rmul__',\n",
       " '__setattr__',\n",
       " '__sizeof__',\n",
       " '__str__',\n",
       " '__subclasshook__',\n",
       " 'capitalize',\n",
       " 'casefold',\n",
       " 'center',\n",
       " 'count',\n",
       " 'encode',\n",
       " 'endswith',\n",
       " 'expandtabs',\n",
       " 'find',\n",
       " 'format',\n",
       " 'format_map',\n",
       " 'index',\n",
       " 'isalnum',\n",
       " 'isalpha',\n",
       " 'isascii',\n",
       " 'isdecimal',\n",
       " 'isdigit',\n",
       " 'isidentifier',\n",
       " 'islower',\n",
       " 'isnumeric',\n",
       " 'isprintable',\n",
       " 'isspace',\n",
       " 'istitle',\n",
       " 'isupper',\n",
       " 'join',\n",
       " 'ljust',\n",
       " 'lower',\n",
       " 'lstrip',\n",
       " 'maketrans',\n",
       " 'partition',\n",
       " 'removeprefix',\n",
       " 'removesuffix',\n",
       " 'replace',\n",
       " 'rfind',\n",
       " 'rindex',\n",
       " 'rjust',\n",
       " 'rpartition',\n",
       " 'rsplit',\n",
       " 'rstrip',\n",
       " 'split',\n",
       " 'splitlines',\n",
       " 'startswith',\n",
       " 'strip',\n",
       " 'swapcase',\n",
       " 'title',\n",
       " 'translate',\n",
       " 'upper',\n",
       " 'zfill']"
      ]
     },
     "execution_count": 71,
     "metadata": {},
     "output_type": "execute_result"
    }
   ],
   "source": [
    "dir(str)"
   ]
  },
  {
   "cell_type": "code",
   "execution_count": null,
   "id": "8c526b9e-e472-427c-b796-8a1a84059be1",
   "metadata": {},
   "outputs": [],
   "source": [
    " #'isalnum',\n",
    " 'isalpha',\n",
    " 'isascii',\n",
    " 'isdecimal',\n",
    " 'isdigit',\n",
    " 'isidentifier',\n",
    " 'islower',\n",
    " 'isnumeric',\n",
    " 'isprintable',\n",
    " 'isspace',\n",
    " 'istitle',\n",
    " 'isupper',#"
   ]
  },
  {
   "cell_type": "markdown",
   "id": "a45a1994-330f-4ec4-9cdf-53191cbeb04e",
   "metadata": {},
   "source": [
    "**INDEX-FIND**"
   ]
  },
  {
   "cell_type": "markdown",
   "id": "451e8273-091f-4e5c-a531-781a7f3bb166",
   "metadata": {},
   "source": [
    "**Index**\n",
    "- index says that it will give the index of any letters given in a string\n",
    "- we already seen about count:count will give how many letters are there in a string\n",
    "      - at what index you want to count\n",
    "      - between indexes also we can count the letters\n",
    "- index meaning  it will provide the index\n",
    "- how can we find index"
   ]
  },
  {
   "cell_type": "code",
   "execution_count": 2,
   "id": "5eb303e5-7dc0-46e6-94b0-3035f9f0f166",
   "metadata": {},
   "outputs": [
    {
     "data": {
      "text/plain": [
       "1"
      ]
     },
     "execution_count": 2,
     "metadata": {},
     "output_type": "execute_result"
    }
   ],
   "source": [
    "# -11 -10  -9  -8  -7 -6 -5  -4  -3 -2 -1\n",
    "# h    a    i       h  a  i      h  a  i \n",
    "# 0    1    2   3   4  5  6   7   8 9  10\n",
    "='hai hai hai'\n",
    "str1.index('a')#among all the indexes the lowest index is '1'\n",
    "# return the lowest index in s where subtracting sub is found"
   ]
  },
  {
   "cell_type": "code",
   "execution_count": 3,
   "id": "30508e24-f49e-492c-97de-6a5d9c5cb2ae",
   "metadata": {},
   "outputs": [
    {
     "data": {
      "text/plain": [
       "5"
      ]
     },
     "execution_count": 3,
     "metadata": {},
     "output_type": "execute_result"
    }
   ],
   "source": [
    "str1.index('a',3)#among all the indexes the lowest index is '5'"
   ]
  },
  {
   "cell_type": "code",
   "execution_count": 4,
   "id": "4833f358-9d7c-4897-907c-2f40ab5e3968",
   "metadata": {},
   "outputs": [
    {
     "data": {
      "text/plain": [
       "5"
      ]
     },
     "execution_count": 4,
     "metadata": {},
     "output_type": "execute_result"
    }
   ],
   "source": [
    "str1.index('a',3,7)#among all the indexes the lowest index is '5'"
   ]
  },
  {
   "cell_type": "code",
   "execution_count": 5,
   "id": "6fa230bc-3d94-4772-9801-386a3f974e78",
   "metadata": {},
   "outputs": [
    {
     "data": {
      "text/plain": [
       "5"
      ]
     },
     "execution_count": 5,
     "metadata": {},
     "output_type": "execute_result"
    }
   ],
   "source": [
    "str1.index('a',3,10)#among all the indexes the lowest index is '1'"
   ]
  },
  {
   "cell_type": "code",
   "execution_count": 13,
   "id": "1638eb60-a62d-4182-9fdb-be65f82faf91",
   "metadata": {},
   "outputs": [
    {
     "ename": "ValueError",
     "evalue": "substring not found",
     "output_type": "error",
     "traceback": [
      "\u001b[1;31m---------------------------------------------------------------------------\u001b[0m",
      "\u001b[1;31mValueError\u001b[0m                                Traceback (most recent call last)",
      "Cell \u001b[1;32mIn[13], line 1\u001b[0m\n\u001b[1;32m----> 1\u001b[0m str1\u001b[38;5;241m.\u001b[39mindex(\u001b[38;5;124m'\u001b[39m\u001b[38;5;124ma\u001b[39m\u001b[38;5;124m'\u001b[39m,\u001b[38;5;241m-\u001b[39m\u001b[38;5;241m9\u001b[39m,\u001b[38;5;241m-\u001b[39m\u001b[38;5;241m6\u001b[39m)\n",
      "\u001b[1;31mValueError\u001b[0m: substring not found"
     ]
    }
   ],
   "source": [
    "str1.index('a',-9,-6)\n",
    "# positive direction\n",
    "#start= start=-9\n",
    "# last=end-1=-6-1=-7\n",
    "#i  h\n",
    "# there is no 'a'"
   ]
  },
  {
   "cell_type": "code",
   "execution_count": 16,
   "id": "db6f3764-b9ad-4633-98f3-5a17784f1728",
   "metadata": {},
   "outputs": [
    {
     "data": {
      "text/plain": [
       "1"
      ]
     },
     "execution_count": 16,
     "metadata": {},
     "output_type": "execute_result"
    }
   ],
   "source": [
    "str1.count('a',-9,-4)\n"
   ]
  },
  {
   "cell_type": "code",
   "execution_count": null,
   "id": "51c6d1a8-3fe4-4ab5-b116-168861103537",
   "metadata": {},
   "outputs": [],
   "source": [
    "COMPARING index and count"
   ]
  },
  {
   "cell_type": "code",
   "execution_count": 18,
   "id": "520b10ca-c848-496f-8c9b-0317d59f5d41",
   "metadata": {},
   "outputs": [
    {
     "name": "stdout",
     "output_type": "stream",
     "text": [
      "1\n",
      "5\n",
      "5\n"
     ]
    }
   ],
   "source": [
    "print(str1.index('a'))\n",
    "print(str1.index('a',3))\n",
    "print(str1.index('a',3,7))"
   ]
  },
  {
   "cell_type": "code",
   "execution_count": 19,
   "id": "acac31aa-b1ad-4419-a36b-000ed4c70e36",
   "metadata": {},
   "outputs": [
    {
     "name": "stdout",
     "output_type": "stream",
     "text": [
      "3\n",
      "2\n",
      "1\n"
     ]
    }
   ],
   "source": [
    "print(str1.count('a'))\n",
    "print(str1.count('a',3))\n",
    "print(str1.count('a',3,7))"
   ]
  },
  {
   "cell_type": "code",
   "execution_count": 20,
   "id": "a121d624-9dac-4b3f-ac4e-04a3a96f824d",
   "metadata": {},
   "outputs": [
    {
     "name": "stdout",
     "output_type": "stream",
     "text": [
      "1\n",
      "5\n",
      "9\n"
     ]
    }
   ],
   "source": [
    "str1='hai hai hai'\n",
    "for i in range(len(str1)):\n",
    "    if str1[i]==\"a\":\n",
    "        print(i)"
   ]
  },
  {
   "cell_type": "code",
   "execution_count": 25,
   "id": "1c231efc-5986-4ff0-b7b1-f1e643b67eff",
   "metadata": {},
   "outputs": [
    {
     "name": "stdout",
     "output_type": "stream",
     "text": [
      "1\n",
      "5\n",
      "9\n",
      "13\n"
     ]
    }
   ],
   "source": [
    "str1='hai hai hai hai'\n",
    "i1=str1.index('a')\n",
    "print(i1)\n",
    "i2=str1.index('a',i1+1)\n",
    "print(i2)\n",
    "i3=str1.index('a',i2+1)\n",
    "print(i3)\n",
    "i4=str1.index('a',i3+1)\n",
    "print(i4)\n",
    "#implement using for loop"
   ]
  },
  {
   "cell_type": "markdown",
   "id": "47674ceb-9095-4f15-8351-adf4be95b3cd",
   "metadata": {},
   "source": [
    "**Find**"
   ]
  },
  {
   "cell_type": "code",
   "execution_count": 26,
   "id": "b5f1fb7d-eebe-439c-9d64-8dc0604a48e9",
   "metadata": {},
   "outputs": [
    {
     "data": {
      "text/plain": [
       "1"
      ]
     },
     "execution_count": 26,
     "metadata": {},
     "output_type": "execute_result"
    }
   ],
   "source": [
    "str1='hai hai hai'\n",
    "str1.find('a')"
   ]
  },
  {
   "cell_type": "code",
   "execution_count": 28,
   "id": "b7b090e0-82c7-42ec-977c-f53933ccf6d8",
   "metadata": {},
   "outputs": [
    {
     "data": {
      "text/plain": [
       "9"
      ]
     },
     "execution_count": 28,
     "metadata": {},
     "output_type": "execute_result"
    }
   ],
   "source": [
    "str1='hai hai hai'\n",
    "str1.find('a',-2)"
   ]
  },
  {
   "cell_type": "code",
   "execution_count": 29,
   "id": "8f4ff699-1d73-49b9-81fc-511f89130a6e",
   "metadata": {},
   "outputs": [
    {
     "data": {
      "text/plain": [
       "-1"
      ]
     },
     "execution_count": 29,
     "metadata": {},
     "output_type": "execute_result"
    }
   ],
   "source": [
    "str1='hai hai hai'\n",
    "str1.find('a',-1)"
   ]
  },
  {
   "cell_type": "code",
   "execution_count": 31,
   "id": "f826eac5-92bf-46a3-9f5d-cf78467c16f1",
   "metadata": {},
   "outputs": [
    {
     "data": {
      "text/plain": [
       "-1"
      ]
     },
     "execution_count": 31,
     "metadata": {},
     "output_type": "execute_result"
    }
   ],
   "source": [
    "str1='hai hai hai'\n",
    "str1.find('a',-9,-6)# returns -1 when the  condition fails"
   ]
  },
  {
   "cell_type": "code",
   "execution_count": 32,
   "id": "548d0b01-53ab-4ea8-a069-22da92b5d0b0",
   "metadata": {},
   "outputs": [
    {
     "name": "stdout",
     "output_type": "stream",
     "text": [
      "1\n",
      "5\n",
      "9\n",
      "-1\n"
     ]
    }
   ],
   "source": [
    "str1='hai hai hai'\n",
    "i1=str1.find('a')\n",
    "print(i1)\n",
    "i2=str1.find('a',i1+1)\n",
    "print(i2)\n",
    "i3=str1.find('a',i2+1)\n",
    "print(i3)\n",
    "i4=str1.find('a',i3+1)\n",
    "print(i4)"
   ]
  },
  {
   "cell_type": "code",
   "execution_count": 33,
   "id": "40dbd1ad-c05f-40b8-83e2-58d310e4ead3",
   "metadata": {},
   "outputs": [
    {
     "data": {
      "text/plain": [
       "'hai hai hai'"
      ]
     },
     "execution_count": 33,
     "metadata": {},
     "output_type": "execute_result"
    }
   ],
   "source": [
    "str1.replace('z',\"Z\")#prints the same string"
   ]
  },
  {
   "cell_type": "code",
   "execution_count": 34,
   "id": "0a63b48c-9dd0-4a58-9860-708e77e095ae",
   "metadata": {},
   "outputs": [
    {
     "data": {
      "text/plain": [
       "0"
      ]
     },
     "execution_count": 34,
     "metadata": {},
     "output_type": "execute_result"
    }
   ],
   "source": [
    "str1.count(\"z\")"
   ]
  },
  {
   "cell_type": "markdown",
   "id": "9d5f4296-4a1f-4d54-8d61-e6c2b97713de",
   "metadata": {},
   "source": [
    "- if sub string not found \n",
    "- count method  will give zero\n",
    "- replaced method will give orginal string\n",
    "- index will give **sub string not found error**\n",
    "- find will give -1"
   ]
  },
  {
   "cell_type": "code",
   "execution_count": 56,
   "id": "65032cd2-3748-4e80-9a7f-4dc571d474e3",
   "metadata": {},
   "outputs": [
    {
     "name": "stdout",
     "output_type": "stream",
     "text": [
      "15\n",
      "25\n"
     ]
    },
    {
     "data": {
      "text/plain": [
       "('omkar', 'nallagoni', 'cognizant')"
      ]
     },
     "execution_count": 56,
     "metadata": {},
     "output_type": "execute_result"
    }
   ],
   "source": [
    "str1='omkar.nallagoni@cognizant.com'\n",
    "str2='virat.kholi@rcb.com'\n",
    "str3='rohitsharma@mi.com'\n",
    "str1='omkar.nallagoni@cognizant.com'\n",
    "i1=str1.index('.')\n",
    "i2=str1.index('@')\n",
    "print(i2)\n",
    "i3=str1.index('.',i1+1)\n",
    "print(i3)\n",
    "fn=str1[:i1]\n",
    "sn=str1[i1+1:i2]\n",
    "cn=str1[i2+1:i3]\n",
    "fn,sn,cn"
   ]
  },
  {
   "cell_type": "code",
   "execution_count": null,
   "id": "859a71a1-c57b-4c34-b693-3e34ed200e5b",
   "metadata": {},
   "outputs": [],
   "source": [
    "-split\n",
    "-strip/lstrip/rstrip\n",
    "-startswith/endswith"
   ]
  },
  {
   "cell_type": "code",
   "execution_count": 3,
   "id": "0e01cba5-cb39-4881-929d-c908245d922c",
   "metadata": {},
   "outputs": [
    {
     "name": "stdout",
     "output_type": "stream",
     "text": [
      "123***hello    I am python \n"
     ]
    }
   ],
   "source": [
    "str1= '   123***hello   '\n",
    "s1=str1.lstrip()\n",
    "print(s1,\"I am python \")"
   ]
  },
  {
   "cell_type": "code",
   "execution_count": null,
   "id": "468d8492-e2b6-4a17-8a75-173e1a3d8666",
   "metadata": {},
   "outputs": [],
   "source": []
  },
  {
   "cell_type": "code",
   "execution_count": null,
   "id": "c9e9f511-eda8-4b99-a0e0-4e3ca7647b90",
   "metadata": {},
   "outputs": [],
   "source": []
  },
  {
   "cell_type": "code",
   "execution_count": null,
   "id": "197f6bb9-9ca9-4604-a7fe-13ff3351e859",
   "metadata": {},
   "outputs": [],
   "source": []
  },
  {
   "cell_type": "code",
   "execution_count": null,
   "id": "d4391c5d-b589-4020-aa20-ee570d941cf4",
   "metadata": {},
   "outputs": [],
   "source": []
  },
  {
   "cell_type": "code",
   "execution_count": null,
   "id": "60941f4b-b379-44a0-945c-9791ef5869a9",
   "metadata": {},
   "outputs": [],
   "source": []
  },
  {
   "cell_type": "code",
   "execution_count": null,
   "id": "4d4bed15-b314-4d1c-9831-7e6a80733670",
   "metadata": {},
   "outputs": [],
   "source": []
  },
  {
   "cell_type": "code",
   "execution_count": null,
   "id": "6be448c8-1c5c-4925-a0fc-c7be5bf4dcb3",
   "metadata": {},
   "outputs": [],
   "source": []
  },
  {
   "cell_type": "code",
   "execution_count": null,
   "id": "6e577fa5-80c5-4efe-8989-2816c045d8ae",
   "metadata": {},
   "outputs": [],
   "source": []
  },
  {
   "cell_type": "code",
   "execution_count": null,
   "id": "1d705299-57f3-47dd-b289-affb59223369",
   "metadata": {},
   "outputs": [],
   "source": []
  }
 ],
 "metadata": {
  "kernelspec": {
   "display_name": "Python 3 (ipykernel)",
   "language": "python",
   "name": "python3"
  },
  "language_info": {
   "codemirror_mode": {
    "name": "ipython",
    "version": 3
   },
   "file_extension": ".py",
   "mimetype": "text/x-python",
   "name": "python",
   "nbconvert_exporter": "python",
   "pygments_lexer": "ipython3",
   "version": "3.11.7"
  }
 },
 "nbformat": 4,
 "nbformat_minor": 5
}
