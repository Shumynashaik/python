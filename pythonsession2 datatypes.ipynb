{
 "cells": [
  {
   "cell_type": "markdown",
   "id": "a0c51261-6212-491a-bc3b-7eb1bc62978e",
   "metadata": {},
   "source": [
    "### DATA TYPES\n",
    "- in python tye declare not required\n",
    "- python will automatically tahes that type based on provided value\n",
    "- we have many datatypes\n",
    "- the main data types are\n",
    "  - integer\n",
    "  - float\n",
    "  - boolean\n",
    "  - strings\n",
    "  - list\n",
    "  - dictonary\n",
    "  - tuples\n",
    "  - complex"
   ]
  },
  {
   "cell_type": "markdown",
   "id": "c8f4e28b-7676-4524-a71c-219c11600c5c",
   "metadata": {},
   "source": [
    "# integer dataype"
   ]
  },
  {
   "cell_type": "code",
   "execution_count": 1,
   "id": "eb4c4b34-6157-477e-9866-a580ed7a904e",
   "metadata": {},
   "outputs": [
    {
     "data": {
      "text/plain": [
       "int"
      ]
     },
     "execution_count": 1,
     "metadata": {},
     "output_type": "execute_result"
    }
   ],
   "source": [
    "n=100\n",
    "type(n)"
   ]
  },
  {
   "cell_type": "markdown",
   "id": "3e849554-12a1-45cd-9771-93c953201013",
   "metadata": {},
   "source": [
    "- binary representation\n",
    "- octa representation\n",
    "- hexarepresentation"
   ]
  },
  {
   "cell_type": "markdown",
   "id": "ad57a226-392a-45b8-b346-f3171054c742",
   "metadata": {},
   "source": [
    "# binary representation\n",
    "-  bi means 2\n",
    "-  so it requires 2 digits\n",
    "-  generally we have 0,1,2,3,4,5,6,7,8,9\n",
    "-  so it will represent with only 0,1\n",
    "-  correct representation is 0b10,0b01111,0B111\n",
    "-  wrong representation is 0b102,0b003"
   ]
  },
  {
   "cell_type": "code",
   "execution_count": 2,
   "id": "d6ee7836-2520-46e8-baac-04a6c0f626ed",
   "metadata": {},
   "outputs": [
    {
     "data": {
      "text/plain": [
       "5"
      ]
     },
     "execution_count": 2,
     "metadata": {},
     "output_type": "execute_result"
    }
   ],
   "source": [
    "0b101"
   ]
  },
  {
   "cell_type": "code",
   "execution_count": 3,
   "id": "ba02a32a-47c3-4435-8d74-bb42b01a2253",
   "metadata": {},
   "outputs": [
    {
     "data": {
      "text/plain": [
       "9"
      ]
     },
     "execution_count": 3,
     "metadata": {},
     "output_type": "execute_result"
    }
   ],
   "source": [
    "0b1001"
   ]
  },
  {
   "cell_type": "code",
   "execution_count": 2,
   "id": "9ca4efa7-5af5-4b25-b67a-fd7cc08deaff",
   "metadata": {},
   "outputs": [],
   "source": [
    "import os"
   ]
  },
  {
   "cell_type": "code",
   "execution_count": 6,
   "id": "da8f8b02-6ee7-4387-bbf1-618536d95c70",
   "metadata": {},
   "outputs": [
    {
     "data": {
      "text/plain": [
       "'C:\\\\Users\\\\india\\\\Documents\\\\Naresh IT\\\\python'"
      ]
     },
     "execution_count": 6,
     "metadata": {},
     "output_type": "execute_result"
    }
   ],
   "source": [
    "os.getcwd()\n",
    "#get current working directory\n",
    "#it will give path\n",
    "#where python file is presented"
   ]
  },
  {
   "cell_type": "code",
   "execution_count": null,
   "id": "b78c3163-1bd6-4b15-867e-3c3f0eeb4eec",
   "metadata": {},
   "outputs": [],
   "source": [
    "8 4 2 1 num\n",
    "0 0 0 0 0\n",
    "0 0 0 1 1\n",
    "0 0 1 0 2\n",
    "0 0 1 1 3\n",
    "0 1 0 0 4\n",
    "0 1 0 1 5\n",
    "0 1 1 0 6\n",
    "0 1 1 1 7\n",
    "1 0 0 0 8\n",
    "1 0 0 1 9\n",
    "1 0 1 0 10\n",
    "1 0 1 1 11\n",
    "1 1 0 0 12\n",
    "1 1 0 1 13\n",
    "1 1 1 0 14\n",
    "1 1 1 1 15\n",
    "8 4 2 1"
   ]
  },
  {
   "cell_type": "code",
   "execution_count": 7,
   "id": "c159a263-ca14-4f8c-8858-3c37c8d3b784",
   "metadata": {},
   "outputs": [
    {
     "data": {
      "text/plain": [
       "15"
      ]
     },
     "execution_count": 7,
     "metadata": {},
     "output_type": "execute_result"
    }
   ],
   "source": [
    "#binary\n",
    "0b1111"
   ]
  },
  {
   "cell_type": "markdown",
   "id": "24a5f69c-e16c-4c2a-bb0b-7987fea45ca6",
   "metadata": {},
   "source": [
    "**OCTAL**\n",
    "- octa means 8\n",
    "- so it requires 8 digits\n",
    "- generally we have 1 2 3 4 5 6 7 8 9\n",
    "- so it will represent with only 0,1,2,3,4,5,6,7\n",
    "- representation id 0o123,0o012345,0o7654321\n",
    "- wrong representation is 0o108,0o987"
   ]
  },
  {
   "cell_type": "markdown",
   "id": "fcdb3c69-6aad-49cd-90b8-98638d0f4114",
   "metadata": {},
   "source": [
    "**HEXA**\n",
    "- hexa means 16\n",
    "- so it requires 16 digits\n",
    "- generally we have 0,1,2,3,4,5,6,7,8,9 A(10), B(11), C(12),D(13), E(14), F(15)\n",
    "- So it will represnt with inly 0-9 A-F\n",
    "- The corect representation is 0XF9,0X0123abc,0xab\n",
    "- Wrong representation is is 0xGH,0xASCDEFG\r\n",
    "CDEFG"
   ]
  },
  {
   "cell_type": "code",
   "execution_count": 8,
   "id": "d5aa7ea7-2992-4205-9972-52804809573b",
   "metadata": {},
   "outputs": [
    {
     "data": {
      "text/plain": [
       "2748"
      ]
     },
     "execution_count": 8,
     "metadata": {},
     "output_type": "execute_result"
    }
   ],
   "source": [
    "0xabc"
   ]
  },
  {
   "cell_type": "code",
   "execution_count": 9,
   "id": "54adbbe0-3f70-4964-bfbc-dd95f9d0bf3c",
   "metadata": {},
   "outputs": [
    {
     "data": {
      "text/plain": [
       "4671"
      ]
     },
     "execution_count": 9,
     "metadata": {},
     "output_type": "execute_result"
    }
   ],
   "source": [
    "0x123f"
   ]
  },
  {
   "cell_type": "markdown",
   "id": "7a788585-8de5-465e-8304-cd3b9c02cd4c",
   "metadata": {},
   "source": [
    "**float**"
   ]
  },
  {
   "cell_type": "code",
   "execution_count": 10,
   "id": "06a38185-6d8b-4887-8c83-099e7c503bf8",
   "metadata": {},
   "outputs": [
    {
     "data": {
      "text/plain": [
       "float"
      ]
     },
     "execution_count": 10,
     "metadata": {},
     "output_type": "execute_result"
    }
   ],
   "source": [
    "n1=1005.00\n",
    "type(n1)\n"
   ]
  },
  {
   "cell_type": "code",
   "execution_count": 2,
   "id": "65f1dd96-026f-4354-ab22-8cf8e2d7004d",
   "metadata": {},
   "outputs": [
    {
     "data": {
      "text/plain": [
       "(10.0, 100.0, 1000.0, 10000.0)"
      ]
     },
     "execution_count": 2,
     "metadata": {},
     "output_type": "execute_result"
    }
   ],
   "source": [
    "1e1,1e2,1e3,1e4\n",
    "# kep=k*10^p"
   ]
  },
  {
   "cell_type": "code",
   "execution_count": 3,
   "id": "ec6b9f16-b3bf-45d4-9b3b-3c1aff5a0ee9",
   "metadata": {},
   "outputs": [
    {
     "data": {
      "text/plain": [
       "24000.0"
      ]
     },
     "execution_count": 3,
     "metadata": {},
     "output_type": "execute_result"
    }
   ],
   "source": [
    "24e3\n",
    "# 24*10^3"
   ]
  },
  {
   "cell_type": "code",
   "execution_count": 4,
   "id": "d613f2ac-2e6e-44f3-9ac0-37e145180bf3",
   "metadata": {},
   "outputs": [
    {
     "data": {
      "text/plain": [
       "(10.0, 100.0, 1000.0, 10000.0)"
      ]
     },
     "execution_count": 4,
     "metadata": {},
     "output_type": "execute_result"
    }
   ],
   "source": [
    "1e+1,1e+2,1e+3,1e+4"
   ]
  },
  {
   "cell_type": "code",
   "execution_count": 7,
   "id": "4701035b-e7b1-45f3-b821-dd8b5aa6e0e6",
   "metadata": {},
   "outputs": [
    {
     "data": {
      "text/plain": [
       "(0.1, 0.01, 0.001, 0.0001)"
      ]
     },
     "execution_count": 7,
     "metadata": {},
     "output_type": "execute_result"
    }
   ],
   "source": [
    "1e-1,1e-2,1e-3,1e-4"
   ]
  },
  {
   "cell_type": "markdown",
   "id": "b7c236f0-522b-4b01-a92d-081385c6a0c4",
   "metadata": {},
   "source": [
    "Z+ means multiply -z means divide"
   ]
  },
  {
   "cell_type": "code",
   "execution_count": 5,
   "id": "5e5a67b0-0fce-4f29-8c26-95f742776d3a",
   "metadata": {},
   "outputs": [
    {
     "data": {
      "text/plain": [
       "0.024"
      ]
     },
     "execution_count": 5,
     "metadata": {},
     "output_type": "execute_result"
    }
   ],
   "source": [
    "24e-3 # 24/1000= 0.024\n",
    "0.024"
   ]
  },
  {
   "cell_type": "code",
   "execution_count": 11,
   "id": "1ae365e1-c295-40c9-901e-4631b32506f6",
   "metadata": {},
   "outputs": [
    {
     "data": {
      "text/plain": [
       "7.746197e-15"
      ]
     },
     "execution_count": 11,
     "metadata": {},
     "output_type": "execute_result"
    }
   ],
   "source": [
    "7.746197e-15\n",
    "# 7.7 (1000000000000000)"
   ]
  },
  {
   "cell_type": "markdown",
   "id": "a930df95-0d2c-4c9e-9574-1b7d7676abe9",
   "metadata": {},
   "source": [
    "# STRINGS\n",
    "- strings are used to reprsent the english characterr\n",
    "- strings are represented in singleQuotes,doublequotes or in tripleQuotes\n",
    "- strings are immutable "
   ]
  },
  {
   "cell_type": "code",
   "execution_count": 16,
   "id": "1485b69b-f087-4298-8a78-94b8702826cd",
   "metadata": {},
   "outputs": [
    {
     "data": {
      "text/plain": [
       "'shumyna'"
      ]
     },
     "execution_count": 16,
     "metadata": {},
     "output_type": "execute_result"
    }
   ],
   "source": [
    "name='shumyna'\n",
    "name"
   ]
  },
  {
   "cell_type": "code",
   "execution_count": 17,
   "id": "a8f7920d-c8fb-4dee-bbb5-2c45d15eaf96",
   "metadata": {},
   "outputs": [
    {
     "data": {
      "text/plain": [
       "str"
      ]
     },
     "execution_count": 17,
     "metadata": {},
     "output_type": "execute_result"
    }
   ],
   "source": [
    "name='shumyna'\n",
    "type(name)"
   ]
  },
  {
   "cell_type": "code",
   "execution_count": 20,
   "id": "9ece1983-478c-4d44-b51f-79c46bcdfaac",
   "metadata": {},
   "outputs": [
    {
     "data": {
      "text/plain": [
       "str"
      ]
     },
     "execution_count": 20,
     "metadata": {},
     "output_type": "execute_result"
    }
   ],
   "source": [
    "name=\"shumyna\"\n",
    "type(name)\n"
   ]
  },
  {
   "cell_type": "code",
   "execution_count": 21,
   "id": "92af6c14-c627-4092-bd63-1c556da1ffde",
   "metadata": {},
   "outputs": [
    {
     "data": {
      "text/plain": [
       "str"
      ]
     },
     "execution_count": 21,
     "metadata": {},
     "output_type": "execute_result"
    }
   ],
   "source": [
    "name='110'\n",
    "type(name)"
   ]
  },
  {
   "cell_type": "markdown",
   "id": "992a8e07-d54b-4580-8eea-43284bc78280",
   "metadata": {},
   "source": [
    "- output is always in single quotes\n",
    "- when we print quotes are not visible \n"
   ]
  },
  {
   "cell_type": "code",
   "execution_count": 22,
   "id": "d7d855f2-8e00-4893-ad6a-3356caa80511",
   "metadata": {},
   "outputs": [
    {
     "data": {
      "text/plain": [
       "\"i like 'python'\""
      ]
     },
     "execution_count": 22,
     "metadata": {},
     "output_type": "execute_result"
    }
   ],
   "source": [
    "name=\"i like 'python'\"\n",
    "name"
   ]
  },
  {
   "cell_type": "code",
   "execution_count": 1,
   "id": "c1c68616-41ec-48cb-b427-d68a2da17c5f",
   "metadata": {},
   "outputs": [
    {
     "ename": "SyntaxError",
     "evalue": "invalid syntax (745124556.py, line 1)",
     "output_type": "error",
     "traceback": [
      "\u001b[1;36m  Cell \u001b[1;32mIn[1], line 1\u001b[1;36m\u001b[0m\n\u001b[1;33m    name=\"i like \"python\"\"\u001b[0m\n\u001b[1;37m                  ^\u001b[0m\n\u001b[1;31mSyntaxError\u001b[0m\u001b[1;31m:\u001b[0m invalid syntax\n"
     ]
    }
   ],
   "source": [
    "name=\"i like \"python\"\"\n",
    "name"
   ]
  },
  {
   "cell_type": "code",
   "execution_count": 25,
   "id": "049d40a4-689b-4e19-aa84-e5a1230ada46",
   "metadata": {},
   "outputs": [
    {
     "name": "stdout",
     "output_type": "stream",
     "text": [
      "i like 'python'\n"
     ]
    }
   ],
   "source": [
    "name=\"i like 'python'\"\n",
    "print(name)"
   ]
  },
  {
   "cell_type": "code",
   "execution_count": 26,
   "id": "3b70e1ed-ed49-4595-a1b6-71d833db6b4f",
   "metadata": {},
   "outputs": [
    {
     "data": {
      "text/plain": [
       "'i like \"python\"'"
      ]
     },
     "execution_count": 26,
     "metadata": {},
     "output_type": "execute_result"
    }
   ],
   "source": [
    "name='i like \"python\"'\n",
    "name"
   ]
  },
  {
   "cell_type": "markdown",
   "id": "6ab7b319-35ec-4a44-b72e-f05335a08ecf",
   "metadata": {},
   "source": [
    "entire string in double quote the highilated word in single quote and vise versa"
   ]
  },
  {
   "cell_type": "markdown",
   "id": "9863a822-a247-4a07-b205-fe3b74dcc2b7",
   "metadata": {},
   "source": [
    "## RED COLOUR MEANS STRINGS\n",
    "## GREEN COLOUR MEANS KEYWORDS\n",
    "## BLACK COLOUR MEANS VARIABLES"
   ]
  },
  {
   "cell_type": "markdown",
   "id": "4401db05-ec8f-4f33-b910-bf73b6693c4d",
   "metadata": {},
   "source": [
    "## TRIPLE QUTOES \n",
    "- not used for coding\n",
    "- provides the information to user\n",
    "- in order to provide the information in jupyter note we use markdown,\n",
    "- but in vs code and pcharm there is no markdown option\n",
    "- thats why the world uses to write the information in triple quotes\n",
    "- this entire process is called **docstring**"
   ]
  },
  {
   "cell_type": "markdown",
   "id": "05bcce03-df9d-4ff0-8b30-f8f8650d180b",
   "metadata": {},
   "source": [
    "# BOOLEAN "
   ]
  },
  {
   "cell_type": "code",
   "execution_count": 30,
   "id": "05db9fed-538f-46e5-bd87-6c0f4c068365",
   "metadata": {},
   "outputs": [
    {
     "data": {
      "text/plain": [
       "bool"
      ]
     },
     "execution_count": 30,
     "metadata": {},
     "output_type": "execute_result"
    }
   ],
   "source": [
    "value= True\n",
    "type(value)"
   ]
  },
  {
   "cell_type": "code",
   "execution_count": 31,
   "id": "f4ff004f-3eb2-4386-975c-fba90ad9ef2f",
   "metadata": {},
   "outputs": [],
   "source": [
    "true=\"True\""
   ]
  },
  {
   "cell_type": "code",
   "execution_count": 6,
   "id": "430344c8-7732-4c7f-baf8-899f1de9eaae",
   "metadata": {},
   "outputs": [],
   "source": [
    "true=\"True\"\n",
    "false=False\n",
    "# true and false are variables\n",
    "# type true is String\n",
    "# type false is boolean"
   ]
  },
  {
   "cell_type": "code",
   "execution_count": null,
   "id": "01491a83-903c-4a19-bf30-2a12531949b7",
   "metadata": {},
   "outputs": [],
   "source": []
  }
 ],
 "metadata": {
  "kernelspec": {
   "display_name": "Python 3 (ipykernel)",
   "language": "python",
   "name": "python3"
  },
  "language_info": {
   "codemirror_mode": {
    "name": "ipython",
    "version": 3
   },
   "file_extension": ".py",
   "mimetype": "text/x-python",
   "name": "python",
   "nbconvert_exporter": "python",
   "pygments_lexer": "ipython3",
   "version": "3.11.7"
  }
 },
 "nbformat": 4,
 "nbformat_minor": 5
}
